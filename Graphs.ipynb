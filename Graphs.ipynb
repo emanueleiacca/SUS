{
 "cells": [
  {
   "cell_type": "code",
   "execution_count": 2,
   "id": "fcf8eb95",
   "metadata": {},
   "outputs": [
    {
     "name": "stdout",
     "output_type": "stream",
     "text": [
      "Collecting networkx\n",
      "  Downloading networkx-3.5-py3-none-any.whl.metadata (6.3 kB)\n",
      "Downloading networkx-3.5-py3-none-any.whl (2.0 MB)\n",
      "   ---------------------------------------- 0.0/2.0 MB ? eta -:--:--\n",
      "   ---------------------------------------- 0.0/2.0 MB ? eta -:--:--\n",
      "    --------------------------------------- 0.0/2.0 MB 435.7 kB/s eta 0:00:05\n",
      "   -- ------------------------------------- 0.1/2.0 MB 939.4 kB/s eta 0:00:03\n",
      "   --------- ------------------------------ 0.5/2.0 MB 3.2 MB/s eta 0:00:01\n",
      "   ---------------- ----------------------- 0.8/2.0 MB 4.5 MB/s eta 0:00:01\n",
      "   ----------------------------- ---------- 1.5/2.0 MB 6.0 MB/s eta 0:00:01\n",
      "   ---------------------------------------  2.0/2.0 MB 6.8 MB/s eta 0:00:01\n",
      "   ---------------------------------------- 2.0/2.0 MB 6.5 MB/s eta 0:00:00\n",
      "Installing collected packages: networkx\n",
      "Successfully installed networkx-3.5\n"
     ]
    },
    {
     "name": "stderr",
     "output_type": "stream",
     "text": [
      "\n",
      "[notice] A new release of pip is available: 24.0 -> 25.1.1\n",
      "[notice] To update, run: python.exe -m pip install --upgrade pip\n"
     ]
    }
   ],
   "source": [
    "!pip install networkx"
   ]
  },
  {
   "cell_type": "code",
   "execution_count": 7,
   "id": "7307118d",
   "metadata": {},
   "outputs": [],
   "source": [
    "import pandas as pd\n",
    "import matplotlib.pyplot as plt\n"
   ]
  },
  {
   "cell_type": "code",
   "execution_count": 4,
   "id": "1b7eb7ba",
   "metadata": {},
   "outputs": [],
   "source": [
    "train_df = pd.read_csv(\"Dataset/train.csv\", sep=\" \", engine='python')\n",
    "test_df = pd.read_csv(\"Dataset/test.csv\", sep=\" \", engine='python')"
   ]
  },
  {
   "cell_type": "code",
   "execution_count": 13,
   "id": "e1b5c406",
   "metadata": {},
   "outputs": [
    {
     "name": "stdout",
     "output_type": "stream",
     "text": [
      "Graph built: 18844 nodes, 54752 edges\n"
     ]
    }
   ],
   "source": [
    "import networkx as nx\n",
    "\n",
    "# Initialize directed graph\n",
    "G = nx.DiGraph()\n",
    "\n",
    "# Add edges (From Account → To Account) with attributes\n",
    "for _, row in train_df.iterrows():\n",
    "    G.add_edge(\n",
    "        row['From Account'],\n",
    "        row['To Account'],\n",
    "        amount=row['Amount Paid'],\n",
    "        payment_type=row['Payment Type']\n",
    "    )\n",
    "\n",
    "print(f\"Graph built: {G.number_of_nodes()} nodes, {G.number_of_edges()} edges\")"
   ]
  },
  {
   "cell_type": "code",
   "execution_count": null,
   "id": "21c755c9",
   "metadata": {},
   "outputs": [
    {
     "ename": "TypeError",
     "evalue": "'dict' object is not callable",
     "output_type": "error",
     "traceback": [
      "\u001b[31m---------------------------------------------------------------------------\u001b[39m",
      "\u001b[31mTypeError\u001b[39m                                 Traceback (most recent call last)",
      "\u001b[36mCell\u001b[39m\u001b[36m \u001b[39m\u001b[32mIn[15]\u001b[39m\u001b[32m, line 1\u001b[39m\n\u001b[32m----> \u001b[39m\u001b[32m1\u001b[39m \u001b[43mG\u001b[49m\u001b[43m.\u001b[49m\u001b[43mgraph\u001b[49m\u001b[43m(\u001b[49m\u001b[43m)\u001b[49m\n",
      "\u001b[31mTypeError\u001b[39m: 'dict' object is not callable"
     ]
    }
   ],
   "source": [
    "G."
   ]
  }
 ],
 "metadata": {
  "kernelspec": {
   "display_name": ".venv",
   "language": "python",
   "name": "python3"
  },
  "language_info": {
   "codemirror_mode": {
    "name": "ipython",
    "version": 3
   },
   "file_extension": ".py",
   "mimetype": "text/x-python",
   "name": "python",
   "nbconvert_exporter": "python",
   "pygments_lexer": "ipython3",
   "version": "3.11.9"
  }
 },
 "nbformat": 4,
 "nbformat_minor": 5
}
