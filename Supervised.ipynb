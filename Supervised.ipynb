{
 "cells": [
  {
   "cell_type": "code",
   "execution_count": 285,
   "id": "98153818",
   "metadata": {},
   "outputs": [],
   "source": [
    "import pandas as pd\n",
    "from sklearn.model_selection import train_test_split\n",
    "from lightgbm import LGBMClassifier\n",
    "from sklearn.metrics import classification_report, roc_auc_score\n",
    "\n",
    "# Load the processed dataset\n",
    "df = pd.read_csv('Dataset/train_processed.csv')\n",
    "test_df = pd.read_csv('Dataset/test_processed.csv')\n",
    "\n",
    "bool_cols = df.select_dtypes(include='bool').columns\n",
    "df[bool_cols] = df[bool_cols].astype(int)\n",
    "bool_cols_test = test_df.select_dtypes(include='bool').columns\n",
    "test_df[bool_cols_test] = test_df[bool_cols_test].astype(int)"
   ]
  },
  {
   "cell_type": "code",
   "execution_count": 286,
   "id": "e2116917",
   "metadata": {},
   "outputs": [
    {
     "name": "stderr",
     "output_type": "stream",
     "text": [
      "C:\\Users\\emanu\\AppData\\Local\\Temp\\ipykernel_23904\\1452891232.py:13: FutureWarning: A value is trying to be set on a copy of a DataFrame or Series through chained assignment using an inplace method.\n",
      "The behavior will change in pandas 3.0. This inplace method will never work because the intermediate object on which we are setting values always behaves as a copy.\n",
      "\n",
      "For example, when doing 'df[col].method(value, inplace=True)', try using 'df.method({col: value}, inplace=True)' or df[col] = df[col].method(value) instead, to perform the operation inplace on the original object.\n",
      "\n",
      "\n",
      "  df['pair_frequency'].fillna(1, inplace=True)\n",
      "C:\\Users\\emanu\\AppData\\Local\\Temp\\ipykernel_23904\\1452891232.py:14: FutureWarning: A value is trying to be set on a copy of a DataFrame or Series through chained assignment using an inplace method.\n",
      "The behavior will change in pandas 3.0. This inplace method will never work because the intermediate object on which we are setting values always behaves as a copy.\n",
      "\n",
      "For example, when doing 'df[col].method(value, inplace=True)', try using 'df.method({col: value}, inplace=True)' or df[col] = df[col].method(value) instead, to perform the operation inplace on the original object.\n",
      "\n",
      "\n",
      "  df['reverse_pair_frequency'].fillna(0, inplace=True)\n"
     ]
    }
   ],
   "source": [
    "# Compute pair frequency (A → B)\n",
    "account_pairs = df.groupby(['From Account', 'To Account']).size().reset_index(name='pair_frequency')\n",
    "\n",
    "# Compute reverse pair frequency (B → A)\n",
    "reverse_pairs = account_pairs.copy()\n",
    "reverse_pairs.columns = ['To Account', 'From Account', 'reverse_pair_frequency']  # flip column names\n",
    "\n",
    "# Merge both into the original dataframe\n",
    "df = df.merge(account_pairs, on=['From Account', 'To Account'], how='left')\n",
    "df = df.merge(reverse_pairs, on=['From Account', 'To Account'], how='left')  # correct merge\n",
    "\n",
    "# Fill missing frequencies\n",
    "df['pair_frequency'].fillna(1, inplace=True)\n",
    "df['reverse_pair_frequency'].fillna(0, inplace=True)\n",
    "\n",
    "# Flag circular transactions\n",
    "df['is_circular'] = (df['reverse_pair_frequency'] > 0).astype(int)"
   ]
  },
  {
   "cell_type": "code",
   "execution_count": 287,
   "id": "93e3cee0",
   "metadata": {},
   "outputs": [
    {
     "name": "stderr",
     "output_type": "stream",
     "text": [
      "C:\\Users\\emanu\\AppData\\Local\\Temp\\ipykernel_23904\\3936049671.py:13: FutureWarning: A value is trying to be set on a copy of a DataFrame or Series through chained assignment using an inplace method.\n",
      "The behavior will change in pandas 3.0. This inplace method will never work because the intermediate object on which we are setting values always behaves as a copy.\n",
      "\n",
      "For example, when doing 'df[col].method(value, inplace=True)', try using 'df.method({col: value}, inplace=True)' or df[col] = df[col].method(value) instead, to perform the operation inplace on the original object.\n",
      "\n",
      "\n",
      "  test_df['pair_frequency'].fillna(1, inplace=True)\n",
      "C:\\Users\\emanu\\AppData\\Local\\Temp\\ipykernel_23904\\3936049671.py:14: FutureWarning: A value is trying to be set on a copy of a DataFrame or Series through chained assignment using an inplace method.\n",
      "The behavior will change in pandas 3.0. This inplace method will never work because the intermediate object on which we are setting values always behaves as a copy.\n",
      "\n",
      "For example, when doing 'df[col].method(value, inplace=True)', try using 'df.method({col: value}, inplace=True)' or df[col] = df[col].method(value) instead, to perform the operation inplace on the original object.\n",
      "\n",
      "\n",
      "  test_df['reverse_pair_frequency'].fillna(0, inplace=True)\n"
     ]
    }
   ],
   "source": [
    "# Compute pair frequency (A → B)\n",
    "account_pairs = test_df.groupby(['From Account', 'To Account']).size().reset_index(name='pair_frequency')\n",
    "\n",
    "# Compute reverse pair frequency (B → A)\n",
    "reverse_pairs = account_pairs.copy()\n",
    "reverse_pairs.columns = ['To Account', 'From Account', 'reverse_pair_frequency']  # flip column names\n",
    "\n",
    "# Merge both into the original dataframe\n",
    "test_df = test_df.merge(account_pairs, on=['From Account', 'To Account'], how='left')\n",
    "test_df = test_df.merge(reverse_pairs, on=['From Account', 'To Account'], how='left')  # correct merge\n",
    "\n",
    "# Fill missing frequencies\n",
    "test_df['pair_frequency'].fillna(1, inplace=True)\n",
    "test_df['reverse_pair_frequency'].fillna(0, inplace=True)\n",
    "\n",
    "# Flag circular transactions\n",
    "test_df['is_circular'] = (test_df['reverse_pair_frequency'] > 0).astype(int)"
   ]
  },
  {
   "cell_type": "code",
   "execution_count": 288,
   "id": "c5482776",
   "metadata": {},
   "outputs": [],
   "source": [
    "import  networkx as nx\n",
    "# Initialize a directed graph\n",
    "G = nx.DiGraph()\n",
    "\n",
    "# Add edges with attributes\n",
    "for idx, row in df.iterrows():\n",
    "    G.add_edge(\n",
    "        row['From Account'],\n",
    "        row['To Account'],\n",
    "        amount_log=row['Amount Paid_log'],\n",
    "        pair_frequency=row['pair_frequency'],\n",
    "        reverse_pair_frequency=row['reverse_pair_frequency'],\n",
    "        is_circular=row['is_circular']\n",
    "    )\n"
   ]
  },
  {
   "cell_type": "code",
   "execution_count": 289,
   "id": "59f40ef9",
   "metadata": {},
   "outputs": [],
   "source": [
    "import  networkx as nx\n",
    "# Initialize a directed graph\n",
    "G_test = nx.DiGraph()\n",
    "\n",
    "# Add edges with attributes\n",
    "for idx, row in test_df.iterrows():\n",
    "    G_test.add_edge(\n",
    "        row['From Account'],\n",
    "        row['To Account'],\n",
    "        amount_log=row['Amount Paid_log'],\n",
    "        pair_frequency=row['pair_frequency'],\n",
    "        reverse_pair_frequency=row['reverse_pair_frequency'],\n",
    "        is_circular=row['is_circular']\n",
    "    )"
   ]
  },
  {
   "cell_type": "code",
   "execution_count": 290,
   "id": "4dad4456",
   "metadata": {},
   "outputs": [],
   "source": [
    "#in_degree_centrality = nx.in_degree_centrality(G)\n",
    "#out_degree_centrality = nx.out_degree_centrality(G)\n",
    "betweenness_centrality = nx.betweenness_centrality(G, k=min(1000, len(G.nodes())))"
   ]
  },
  {
   "cell_type": "code",
   "execution_count": 291,
   "id": "c909a6cd",
   "metadata": {},
   "outputs": [],
   "source": [
    "#in_degree_centrality_test = nx.in_degree_centrality(G_test)\n",
    "#out_degree_centrality_test = nx.out_degree_centrality(G_test)\n",
    "betweenness_centrality_test = nx.betweenness_centrality(G_test, k=min(1000, len(G_test.nodes())))"
   ]
  },
  {
   "cell_type": "code",
   "execution_count": 292,
   "id": "1a92b4c3",
   "metadata": {},
   "outputs": [],
   "source": [
    "#df['from_out_degree_centrality'] = df['From Account'].map(out_degree_centrality).fillna(0)\n",
    "df['from_betweenness_centrality'] = df['From Account'].map(betweenness_centrality).fillna(0)\n",
    "#df['to_in_degree_centrality'] = df['To Account'].map(in_degree_centrality).fillna(0)\n",
    "df['to_betweenness_centrality'] = df['To Account'].map(betweenness_centrality).fillna(0)"
   ]
  },
  {
   "cell_type": "code",
   "execution_count": 293,
   "id": "8d28c3f1",
   "metadata": {},
   "outputs": [],
   "source": [
    "#test_df['from_out_degree_centrality'] = test_df['From Account'].map(out_degree_centrality_test).fillna(0)\n",
    "test_df['from_betweenness_centrality'] = test_df['From Account'].map(betweenness_centrality_test).fillna(0)\n",
    "#test_df['to_in_degree_centrality'] = test_df['To Account'].map(in_degree_centrality_test).fillna(0)\n",
    "test_df['to_betweenness_centrality'] = test_df['To Account'].map(betweenness_centrality_test).fillna(0)"
   ]
  },
  {
   "cell_type": "code",
   "execution_count": 294,
   "id": "b01c1751",
   "metadata": {},
   "outputs": [
    {
     "name": "stdout",
     "output_type": "stream",
     "text": [
      "Requirement already satisfied: node2vec in c:\\users\\emanu\\sus\\.venv\\lib\\site-packages (0.5.0)\n",
      "Requirement already satisfied: gensim<5.0.0,>=4.3.0 in c:\\users\\emanu\\sus\\.venv\\lib\\site-packages (from node2vec) (4.3.1)\n",
      "Requirement already satisfied: joblib<2.0.0,>=1.4.0 in c:\\users\\emanu\\sus\\.venv\\lib\\site-packages (from node2vec) (1.5.1)\n",
      "Collecting networkx<4.0.0,>=3.1.0 (from node2vec)\n",
      "  Using cached networkx-3.5-py3-none-any.whl.metadata (6.3 kB)\n",
      "Collecting numpy<2.0.0,>=1.24.0 (from node2vec)\n",
      "  Using cached numpy-1.26.4-cp311-cp311-win_amd64.whl.metadata (61 kB)\n",
      "Requirement already satisfied: tqdm<5.0.0,>=4.66.1 in c:\\users\\emanu\\sus\\.venv\\lib\\site-packages (from node2vec) (4.67.1)\n",
      "Requirement already satisfied: scipy>=1.7.0 in c:\\users\\emanu\\sus\\.venv\\lib\\site-packages (from gensim<5.0.0,>=4.3.0->node2vec) (1.13.1)\n",
      "Requirement already satisfied: smart-open>=1.8.1 in c:\\users\\emanu\\sus\\.venv\\lib\\site-packages (from gensim<5.0.0,>=4.3.0->node2vec) (7.1.0)\n",
      "Requirement already satisfied: colorama in c:\\users\\emanu\\sus\\.venv\\lib\\site-packages (from tqdm<5.0.0,>=4.66.1->node2vec) (0.4.6)\n",
      "Requirement already satisfied: wrapt in c:\\users\\emanu\\sus\\.venv\\lib\\site-packages (from smart-open>=1.8.1->gensim<5.0.0,>=4.3.0->node2vec) (1.17.2)\n",
      "Using cached networkx-3.5-py3-none-any.whl (2.0 MB)\n",
      "Using cached numpy-1.26.4-cp311-cp311-win_amd64.whl (15.8 MB)\n",
      "Installing collected packages: numpy, networkx\n",
      "  Attempting uninstall: numpy\n",
      "    Found existing installation: numpy 1.23.5\n",
      "    Uninstalling numpy-1.23.5:\n",
      "      Successfully uninstalled numpy-1.23.5\n",
      "  Attempting uninstall: networkx\n",
      "    Found existing installation: networkx 2.6.3\n",
      "    Uninstalling networkx-2.6.3:\n",
      "      Successfully uninstalled networkx-2.6.3\n",
      "Successfully installed networkx-3.5 numpy-1.26.4\n"
     ]
    },
    {
     "name": "stderr",
     "output_type": "stream",
     "text": [
      "ERROR: pip's dependency resolver does not currently take into account all the packages that are installed. This behaviour is the source of the following dependency conflicts.\n",
      "karateclub 1.3.3 requires networkx<2.7, but you have networkx 3.5 which is incompatible.\n",
      "karateclub 1.3.3 requires numpy<1.23.0, but you have numpy 1.26.4 which is incompatible.\n",
      "\n",
      "[notice] A new release of pip is available: 24.0 -> 25.1.1\n",
      "[notice] To update, run: python.exe -m pip install --upgrade pip\n"
     ]
    }
   ],
   "source": [
    "!pip install node2vec"
   ]
  },
  {
   "cell_type": "code",
   "execution_count": 295,
   "id": "e96adc5a",
   "metadata": {},
   "outputs": [],
   "source": [
    "df = df.drop(columns=['From Account', 'To Account'], errors='ignore')\n",
    "\n",
    "# Separate features and target\n",
    "X = df.drop(columns=['Is Laundering'])\n",
    "y = df['Is Laundering']\n",
    "\n",
    "# Train-test split\n",
    "X_train, X_val, y_train, y_val = train_test_split(\n",
    "    X, y, test_size=0.2, random_state=42, stratify=y\n",
    ")\n"
   ]
  },
  {
   "cell_type": "code",
   "execution_count": 296,
   "id": "fbb2dba7",
   "metadata": {},
   "outputs": [],
   "source": [
    "#!pip install optuna"
   ]
  },
  {
   "cell_type": "code",
   "execution_count": 297,
   "id": "7c8ff0df",
   "metadata": {},
   "outputs": [],
   "source": [
    "test_df = test_df.drop(columns=['From Account', 'To Account'], errors='ignore')"
   ]
  },
  {
   "cell_type": "code",
   "execution_count": 298,
   "id": "e33c15e0",
   "metadata": {},
   "outputs": [],
   "source": [
    "from sklearn.metrics import roc_auc_score, confusion_matrix\n",
    "\n",
    "def calculate_balanced_accuracy(y_true, y_pred):\n",
    "    tn, fp, fn, tp = confusion_matrix(y_true, y_pred).ravel()\n",
    "    tpr = tp / (tp + fn) if (tp + fn) > 0 else 0\n",
    "    tnr = tn / (tn + fp) if (tn + fp) > 0 else 0\n",
    "    return (tpr + tnr) / 2\n",
    "\n",
    "def calculate_fraud_capture_rate(y_true, y_prob, N=485):\n",
    "    sorted_indices = np.argsort(y_prob)[::-1]\n",
    "    top_N_indices = sorted_indices[:N]\n",
    "    frauds_in_top_N = np.sum(y_true.iloc[top_N_indices] if hasattr(y_true, 'iloc') else y_true[top_N_indices])\n",
    "    total_frauds = np.sum(y_true)\n",
    "    return frauds_in_top_N / total_frauds if total_frauds > 0 else 0\n",
    "\n",
    "def calculate_composite_score(y_true, y_pred, y_prob, N=485):\n",
    "    auc_score = roc_auc_score(y_true, y_prob)\n",
    "    balanced_acc = calculate_balanced_accuracy(y_true, y_pred)\n",
    "    fraud_capture = calculate_fraud_capture_rate(y_true, y_prob, N)\n",
    "    return (auc_score + balanced_acc + fraud_capture) / 3\n"
   ]
  },
  {
   "cell_type": "markdown",
   "id": "fad37746",
   "metadata": {},
   "source": [
    "### LGBM"
   ]
  },
  {
   "cell_type": "code",
   "execution_count": 299,
   "id": "bfb6ad4a",
   "metadata": {},
   "outputs": [],
   "source": [
    "import lightgbm as lgb\n",
    "from sklearn.model_selection import StratifiedKFold\n",
    "from sklearn.metrics import roc_auc_score, confusion_matrix\n",
    "import numpy as np\n",
    "\n",
    "def objective(trial):\n",
    "    scale_pos_weight = len(y_train[y_train == 0]) / len(y_train[y_train == 1])\n",
    "    \n",
    "    # 🔧 Threshold being tuned by Optuna\n",
    "    threshold = trial.suggest_float(\"threshold\", 0.05, 0.5)\n",
    "\n",
    "    params = {\n",
    "        'n_estimators': trial.suggest_int('n_estimators', 100, 300),\n",
    "        'learning_rate': trial.suggest_loguniform('learning_rate', 0.001, 0.2),\n",
    "        'max_depth': trial.suggest_int('max_depth', 5, 15),\n",
    "        'num_leaves': trial.suggest_int('num_leaves', 20, 40),\n",
    "        'min_child_samples': trial.suggest_int('min_child_samples', 10, 50),\n",
    "        'subsample': trial.suggest_float('subsample', 0.7, 1.0),\n",
    "        'subsample_freq': trial.suggest_int('subsample_freq', 1, 5),\n",
    "        'colsample_bytree': trial.suggest_float('colsample_bytree', 0.6, 1.0),\n",
    "        'reg_alpha': trial.suggest_float('reg_alpha', 0.0, 1.0),\n",
    "        'reg_lambda': trial.suggest_float('reg_lambda', 0.0, 1.0),\n",
    "        'max_bin': trial.suggest_int('max_bin', 200, 300),\n",
    "        'scale_pos_weight': scale_pos_weight,\n",
    "        'force_col_wise': True,\n",
    "        'verbosity': -1\n",
    "    }\n",
    "\n",
    "    kf = StratifiedKFold(n_splits=5, shuffle=True, random_state=42)\n",
    "\n",
    "    auc_scores = [] \n",
    "    balanced_accuracies = []\n",
    "    fraud_capture_rates = []\n",
    "    scores = []\n",
    "\n",
    "    for train_idx, val_idx in kf.split(X_train, y_train):\n",
    "        X_fold_train, X_fold_val = X_train.iloc[train_idx], X_train.iloc[val_idx]\n",
    "        y_fold_train, y_fold_val = y_train.iloc[train_idx], y_train.iloc[val_idx]\n",
    "\n",
    "        model = lgb.LGBMClassifier(**params, random_state=42)\n",
    "        model.fit(X_fold_train, y_fold_train)\n",
    "\n",
    "        y_prob = model.predict_proba(X_fold_val)[:, 1]\n",
    "        y_pred = (y_prob >= threshold).astype(int)\n",
    "\n",
    "        auc_score = roc_auc_score(y_fold_val, y_prob)\n",
    "        balanced_acc = calculate_balanced_accuracy(y_fold_val, y_pred)\n",
    "        fraud_capture = calculate_fraud_capture_rate(y_fold_val, y_prob, N=485)\n",
    "        score = calculate_composite_score(y_fold_val, y_pred, y_prob, N=485)\n",
    "\n",
    "        auc_scores.append(auc_score)\n",
    "        balanced_accuracies.append(balanced_acc)    \n",
    "        fraud_capture_rates.append(fraud_capture)\n",
    "        scores.append(score)\n",
    "\n",
    "        print(f\"AUC: {np.mean(auc_scores)}, Balanced Accuracy: {np.mean(balanced_accuracies)}, Fraud Capture Rate: {np.mean(fraud_capture_rates)}, Composite Score: {np.mean(scores)}\")\n",
    "\n",
    "    return np.mean(scores)\n"
   ]
  },
  {
   "cell_type": "code",
   "execution_count": 300,
   "id": "898bd768",
   "metadata": {},
   "outputs": [
    {
     "name": "stderr",
     "output_type": "stream",
     "text": [
      "[I 2025-06-16 06:26:09,975] A new study created in memory with name: no-name-762f8d1d-6020-492b-94b2-7c00ef5d1e85\n",
      "C:\\Users\\emanu\\AppData\\Local\\Temp\\ipykernel_23904\\3458708873.py:14: FutureWarning: suggest_loguniform has been deprecated in v3.0.0. This feature will be removed in v6.0.0. See https://github.com/optuna/optuna/releases/tag/v3.0.0. Use suggest_float(..., log=True) instead.\n",
      "  'learning_rate': trial.suggest_loguniform('learning_rate', 0.001, 0.2),\n"
     ]
    },
    {
     "name": "stdout",
     "output_type": "stream",
     "text": [
      "AUC: 0.9910975584153844, Balanced Accuracy: 0.9908256880733946, Fraud Capture Rate: 0.981651376146789, Composite Score: 0.9878582075451893\n",
      "AUC: 0.9955487792076922, Balanced Accuracy: 0.9953842366445471, Fraud Capture Rate: 0.9908256880733946, Composite Score: 0.9939195679752112\n",
      "AUC: 0.9970241973213513, Balanced Accuracy: 0.9954076729145466, Fraud Capture Rate: 0.9938837920489297, Composite Score: 0.9954385540949424\n",
      "AUC: 0.9977681479910134, Balanced Accuracy: 0.99655575468591, Fraud Capture Rate: 0.9954128440366973, Composite Score: 0.9965789155712068\n"
     ]
    },
    {
     "name": "stderr",
     "output_type": "stream",
     "text": [
      "[I 2025-06-16 06:26:11,445] Trial 0 finished with value: 0.9972631324569654 and parameters: {'threshold': 0.21854305348131314, 'n_estimators': 291, 'learning_rate': 0.0483437145318464, 'max_depth': 11, 'num_leaves': 23, 'min_child_samples': 16, 'subsample': 0.7174250836504598, 'subsample_freq': 5, 'colsample_bytree': 0.8404460046972835, 'reg_alpha': 0.7080725777960455, 'reg_lambda': 0.020584494295802447, 'max_bin': 297}. Best is trial 0 with value: 0.9972631324569654.\n"
     ]
    },
    {
     "name": "stdout",
     "output_type": "stream",
     "text": [
      "AUC: 0.9982145183928107, Balanced Accuracy: 0.997244603748728, Fraud Capture Rate: 0.9963302752293579, Composite Score: 0.9972631324569654\n",
      "AUC: 0.9853342220729326, Balanced Accuracy: 0.5, Fraud Capture Rate: 0.981651376146789, Composite Score: 0.8223285327399071\n"
     ]
    },
    {
     "name": "stderr",
     "output_type": "stream",
     "text": [
      "C:\\Users\\emanu\\AppData\\Local\\Temp\\ipykernel_23904\\3458708873.py:14: FutureWarning: suggest_loguniform has been deprecated in v3.0.0. This feature will be removed in v6.0.0. See https://github.com/optuna/optuna/releases/tag/v3.0.0. Use suggest_float(..., log=True) instead.\n",
      "  'learning_rate': trial.suggest_loguniform('learning_rate', 0.001, 0.2),\n"
     ]
    },
    {
     "name": "stdout",
     "output_type": "stream",
     "text": [
      "AUC: 0.992617698268207, Balanced Accuracy: 0.5, Fraud Capture Rate: 0.9908256880733946, Composite Score: 0.8278144621138671\n",
      "AUC: 0.9948782137670871, Balanced Accuracy: 0.5, Fraud Capture Rate: 0.9908534890186266, Composite Score: 0.8285772342619045\n",
      "AUC: 0.9961560596533017, Balanced Accuracy: 0.5, Fraud Capture Rate: 0.99314011676397, Composite Score: 0.8297653921390905\n",
      "AUC: 0.9969233913463137, Balanced Accuracy: 0.5, Fraud Capture Rate: 0.994512093411176, Composite Score: 0.8304784949191631\n"
     ]
    },
    {
     "name": "stderr",
     "output_type": "stream",
     "text": [
      "[I 2025-06-16 06:26:12,432] Trial 1 finished with value: 0.8304784949191631 and parameters: {'threshold': 0.4245991883601898, 'n_estimators': 142, 'learning_rate': 0.002620503255096255, 'max_depth': 7, 'num_leaves': 26, 'min_child_samples': 31, 'subsample': 0.8295835055926347, 'subsample_freq': 2, 'colsample_bytree': 0.8447411578889518, 'reg_alpha': 0.13949386065204183, 'reg_lambda': 0.29214464853521815, 'max_bin': 237}. Best is trial 0 with value: 0.9972631324569654.\n",
      "C:\\Users\\emanu\\AppData\\Local\\Temp\\ipykernel_23904\\3458708873.py:14: FutureWarning: suggest_loguniform has been deprecated in v3.0.0. This feature will be removed in v6.0.0. See https://github.com/optuna/optuna/releases/tag/v3.0.0. Use suggest_float(..., log=True) instead.\n",
      "  'learning_rate': trial.suggest_loguniform('learning_rate', 0.001, 0.2),\n"
     ]
    },
    {
     "name": "stdout",
     "output_type": "stream",
     "text": [
      "AUC: 0.9872031994625574, Balanced Accuracy: 0.9905968551214495, Fraud Capture Rate: 0.981651376146789, Composite Score: 0.9864838102435987\n",
      "AUC: 0.9935807943551695, Balanced Accuracy: 0.9927968411507964, Fraud Capture Rate: 0.9908256880733946, Composite Score: 0.9924011078597867\n",
      "AUC: 0.9955748919373487, Balanced Accuracy: 0.9936636709906127, Fraud Capture Rate: 0.9908534890186266, Composite Score: 0.9933640173155293\n",
      "AUC: 0.9966801286842061, Balanced Accuracy: 0.9952048421547344, Fraud Capture Rate: 0.99314011676397, Composite Score: 0.9950083625343035\n"
     ]
    },
    {
     "name": "stderr",
     "output_type": "stream",
     "text": [
      "[I 2025-06-16 06:26:14,172] Trial 2 finished with value: 0.9957035210219051 and parameters: {'threshold': 0.25523149289766617, 'n_estimators': 257, 'learning_rate': 0.0028804169778805498, 'max_depth': 10, 'num_leaves': 32, 'min_child_samples': 11, 'subsample': 0.8822634555704315, 'subsample_freq': 1, 'colsample_bytree': 0.6260206371941118, 'reg_alpha': 0.9488855372533332, 'reg_lambda': 0.9656320330745594, 'max_bin': 281}. Best is trial 0 with value: 0.9972631324569654.\n"
     ]
    },
    {
     "name": "stdout",
     "output_type": "stream",
     "text": [
      "AUC: 0.9973436868398426, Balanced Accuracy: 0.9952547828146965, Fraud Capture Rate: 0.994512093411176, Composite Score: 0.9957035210219051\n",
      "AUC: 0.9909028404677429, Balanced Accuracy: 0.9905396468834631, Fraud Capture Rate: 0.981651376146789, Composite Score: 0.9876979544993317\n"
     ]
    },
    {
     "name": "stderr",
     "output_type": "stream",
     "text": [
      "C:\\Users\\emanu\\AppData\\Local\\Temp\\ipykernel_23904\\3458708873.py:14: FutureWarning: suggest_loguniform has been deprecated in v3.0.0. This feature will be removed in v6.0.0. See https://github.com/optuna/optuna/releases/tag/v3.0.0. Use suggest_float(..., log=True) instead.\n",
      "  'learning_rate': trial.suggest_loguniform('learning_rate', 0.001, 0.2),\n"
     ]
    },
    {
     "name": "stdout",
     "output_type": "stream",
     "text": [
      "AUC: 0.9954514202338715, Balanced Accuracy: 0.9949837495202303, Fraud Capture Rate: 0.9908256880733946, Composite Score: 0.9937536192758321\n",
      "AUC: 0.9969246157119555, Balanced Accuracy: 0.9951216099035687, Fraud Capture Rate: 0.9938837920489297, Composite Score: 0.9953100058881512\n",
      "AUC: 0.9976934617839666, Balanced Accuracy: 0.9962839926433762, Fraud Capture Rate: 0.9954128440366973, Composite Score: 0.9964634328213466\n",
      "AUC: 0.9981547694271733, Balanced Accuracy: 0.9970157511578408, Fraud Capture Rate: 0.9963302752293579, Composite Score: 0.997166931938124\n"
     ]
    },
    {
     "name": "stderr",
     "output_type": "stream",
     "text": [
      "[I 2025-06-16 06:26:15,072] Trial 3 finished with value: 0.997166931938124 and parameters: {'threshold': 0.1870761961280168, 'n_estimators': 119, 'learning_rate': 0.037535371452331254, 'max_depth': 9, 'num_leaves': 22, 'min_child_samples': 30, 'subsample': 0.7103165563345655, 'subsample_freq': 5, 'colsample_bytree': 0.7035119926400067, 'reg_alpha': 0.662522284353982, 'reg_lambda': 0.31171107608941095, 'max_bin': 252}. Best is trial 0 with value: 0.9972631324569654.\n",
      "C:\\Users\\emanu\\AppData\\Local\\Temp\\ipykernel_23904\\3458708873.py:14: FutureWarning: suggest_loguniform has been deprecated in v3.0.0. This feature will be removed in v6.0.0. See https://github.com/optuna/optuna/releases/tag/v3.0.0. Use suggest_float(..., log=True) instead.\n",
      "  'learning_rate': trial.suggest_loguniform('learning_rate', 0.001, 0.2),\n"
     ]
    },
    {
     "name": "stdout",
     "output_type": "stream",
     "text": [
      "AUC: 0.9948061218063108, Balanced Accuracy: 0.9908256880733946, Fraud Capture Rate: 0.981651376146789, Composite Score: 0.9890943953421648\n",
      "AUC: 0.9974030609031554, Balanced Accuracy: 0.9954128440366973, Fraud Capture Rate: 0.9908256880733946, Composite Score: 0.9945471976710825\n",
      "AUC: 0.9982621188996691, Balanced Accuracy: 0.9954267445093133, Fraud Capture Rate: 0.9938837920489297, Composite Score: 0.995857551819304\n",
      "AUC: 0.9986965891747518, Balanced Accuracy: 0.9965557546859098, Fraud Capture Rate: 0.9954128440366973, Composite Score: 0.9968883959657863\n"
     ]
    },
    {
     "name": "stderr",
     "output_type": "stream",
     "text": [
      "[I 2025-06-16 06:26:15,939] Trial 4 finished with value: 0.9975107167726289 and parameters: {'threshold': 0.2960196257044759, 'n_estimators': 137, 'learning_rate': 0.17023282716867383, 'max_depth': 13, 'num_leaves': 39, 'min_child_samples': 46, 'subsample': 0.8793699936433255, 'subsample_freq': 5, 'colsample_bytree': 0.6353970008207678, 'reg_alpha': 0.1959828624191452, 'reg_lambda': 0.045227288910538066, 'max_bin': 232}. Best is trial 4 with value: 0.9975107167726289.\n"
     ]
    },
    {
     "name": "stdout",
     "output_type": "stream",
     "text": [
      "AUC: 0.9989572713398015, Balanced Accuracy: 0.9972446037487279, Fraud Capture Rate: 0.9963302752293579, Composite Score: 0.9975107167726289\n"
     ]
    },
    {
     "name": "stderr",
     "output_type": "stream",
     "text": [
      "C:\\Users\\emanu\\AppData\\Local\\Temp\\ipykernel_23904\\3458708873.py:14: FutureWarning: suggest_loguniform has been deprecated in v3.0.0. This feature will be removed in v6.0.0. See https://github.com/optuna/optuna/releases/tag/v3.0.0. Use suggest_float(..., log=True) instead.\n",
      "  'learning_rate': trial.suggest_loguniform('learning_rate', 0.001, 0.2),\n"
     ]
    },
    {
     "name": "stdout",
     "output_type": "stream",
     "text": [
      "AUC: 0.9918144983519829, Balanced Accuracy: 0.9908256880733946, Fraud Capture Rate: 0.981651376146789, Composite Score: 0.9880971875240555\n",
      "AUC: 0.9959072491759914, Balanced Accuracy: 0.9953270218602469, Fraud Capture Rate: 0.9908256880733946, Composite Score: 0.9940199863698777\n",
      "AUC: 0.997258669468727, Balanced Accuracy: 0.995369529725013, Fraud Capture Rate: 0.9938837920489297, Composite Score: 0.99550399708089\n",
      "AUC: 0.9979440021015452, Balanced Accuracy: 0.9965271472937598, Fraud Capture Rate: 0.9954128440366973, Composite Score: 0.9966279978106675\n"
     ]
    },
    {
     "name": "stderr",
     "output_type": "stream",
     "text": [
      "[I 2025-06-16 06:26:16,987] Trial 5 finished with value: 0.9973023982485341 and parameters: {'threshold': 0.2249047803602669, 'n_estimators': 154, 'learning_rate': 0.08071418522169696, 'max_depth': 8, 'num_leaves': 25, 'min_child_samples': 32, 'subsample': 0.7422772674924287, 'subsample_freq': 5, 'colsample_bytree': 0.6298202574719083, 'reg_alpha': 0.9868869366005173, 'reg_lambda': 0.7722447692966574, 'max_bin': 220}. Best is trial 4 with value: 0.9975107167726289.\n"
     ]
    },
    {
     "name": "stdout",
     "output_type": "stream",
     "text": [
      "AUC: 0.998355201681236, Balanced Accuracy: 0.9972217178350078, Fraud Capture Rate: 0.9963302752293579, Composite Score: 0.9973023982485341\n"
     ]
    },
    {
     "name": "stderr",
     "output_type": "stream",
     "text": [
      "C:\\Users\\emanu\\AppData\\Local\\Temp\\ipykernel_23904\\3458708873.py:14: FutureWarning: suggest_loguniform has been deprecated in v3.0.0. This feature will be removed in v6.0.0. See https://github.com/optuna/optuna/releases/tag/v3.0.0. Use suggest_float(..., log=True) instead.\n",
      "  'learning_rate': trial.suggest_loguniform('learning_rate', 0.001, 0.2),\n"
     ]
    },
    {
     "name": "stdout",
     "output_type": "stream",
     "text": [
      "AUC: 0.9915951126319988, Balanced Accuracy: 0.9908256880733946, Fraud Capture Rate: 0.981651376146789, Composite Score: 0.9880240589507275\n",
      "AUC: 0.9957975563159994, Balanced Accuracy: 0.9952125922916464, Fraud Capture Rate: 0.9908256880733946, Composite Score: 0.9939452788936801\n",
      "AUC: 0.9971962903397221, Balanced Accuracy: 0.9952932433459462, Fraud Capture Rate: 0.9938837920489297, Composite Score: 0.995457775244866\n",
      "AUC: 0.9978972177547916, Balanced Accuracy: 0.9964699325094596, Fraud Capture Rate: 0.9954128440366973, Composite Score: 0.9965933314336495\n"
     ]
    },
    {
     "name": "stderr",
     "output_type": "stream",
     "text": [
      "[I 2025-06-16 06:26:18,461] Trial 6 finished with value: 0.9972746651469195 and parameters: {'threshold': 0.052484952705621084, 'n_estimators': 263, 'learning_rate': 0.04231554618260076, 'max_depth': 13, 'num_leaves': 36, 'min_child_samples': 13, 'subsample': 0.8075397185632818, 'subsample_freq': 1, 'colsample_bytree': 0.9452413703502374, 'reg_alpha': 0.6232981268275579, 'reg_lambda': 0.3308980248526492, 'max_bin': 206}. Best is trial 4 with value: 0.9975107167726289.\n"
     ]
    },
    {
     "name": "stdout",
     "output_type": "stream",
     "text": [
      "AUC: 0.9983177742038333, Balanced Accuracy: 0.9971759460075678, Fraud Capture Rate: 0.9963302752293579, Composite Score: 0.9972746651469195\n",
      "AUC: 0.9911993785820754, Balanced Accuracy: 0.9908256880733946, Fraud Capture Rate: 0.981651376146789, Composite Score: 0.987892147600753\n"
     ]
    },
    {
     "name": "stderr",
     "output_type": "stream",
     "text": [
      "C:\\Users\\emanu\\AppData\\Local\\Temp\\ipykernel_23904\\3458708873.py:14: FutureWarning: suggest_loguniform has been deprecated in v3.0.0. This feature will be removed in v6.0.0. See https://github.com/optuna/optuna/releases/tag/v3.0.0. Use suggest_float(..., log=True) instead.\n",
      "  'learning_rate': trial.suggest_loguniform('learning_rate', 0.001, 0.2),\n"
     ]
    },
    {
     "name": "stdout",
     "output_type": "stream",
     "text": [
      "AUC: 0.9955996892910377, Balanced Accuracy: 0.9953556292523971, Fraud Capture Rate: 0.9908256880733946, Composite Score: 0.9939270022056097\n",
      "AUC: 0.9970619516958682, Balanced Accuracy: 0.9953886013197799, Fraud Capture Rate: 0.9938837920489297, Composite Score: 0.9954447816881925\n",
      "AUC: 0.9977964637719011, Balanced Accuracy: 0.9965414509898349, Fraud Capture Rate: 0.9954128440366973, Composite Score: 0.9965835862661444\n",
      "AUC: 0.9982371710175209, Balanced Accuracy: 0.997233160791868, Fraud Capture Rate: 0.9963302752293579, Composite Score: 0.9972668690129154\n"
     ]
    },
    {
     "name": "stderr",
     "output_type": "stream",
     "text": [
      "[I 2025-06-16 06:26:19,425] Trial 7 finished with value: 0.9972668690129154 and parameters: {'threshold': 0.189942044772048, 'n_estimators': 165, 'learning_rate': 0.04773596444669527, 'max_depth': 12, 'num_leaves': 38, 'min_child_samples': 29, 'subsample': 0.7358782737814905, 'subsample_freq': 4, 'colsample_bytree': 0.9043140194467589, 'reg_alpha': 0.5612771975694962, 'reg_lambda': 0.770967179954561, 'max_bin': 249}. Best is trial 4 with value: 0.9975107167726289.\n",
      "C:\\Users\\emanu\\AppData\\Local\\Temp\\ipykernel_23904\\3458708873.py:14: FutureWarning: suggest_loguniform has been deprecated in v3.0.0. This feature will be removed in v6.0.0. See https://github.com/optuna/optuna/releases/tag/v3.0.0. Use suggest_float(..., log=True) instead.\n",
      "  'learning_rate': trial.suggest_loguniform('learning_rate', 0.001, 0.2),\n"
     ]
    },
    {
     "name": "stdout",
     "output_type": "stream",
     "text": [
      "AUC: 0.9894831314424872, Balanced Accuracy: 0.5, Fraud Capture Rate: 0.981651376146789, Composite Score: 0.8237115025297587\n",
      "AUC: 0.9946523626711755, Balanced Accuracy: 0.5, Fraud Capture Rate: 0.9908256880733946, Composite Score: 0.8284926835815233\n",
      "AUC: 0.9958433422534125, Balanced Accuracy: 0.5, Fraud Capture Rate: 0.9908534890186266, Composite Score: 0.8288989437573463\n",
      "AUC: 0.9968592306755373, Balanced Accuracy: 0.5, Fraud Capture Rate: 0.99314011676397, Composite Score: 0.8299997824798357\n"
     ]
    },
    {
     "name": "stderr",
     "output_type": "stream",
     "text": [
      "[I 2025-06-16 06:26:20,670] Trial 8 finished with value: 0.8306664232992815 and parameters: {'threshold': 0.28522977322189735, 'n_estimators': 185, 'learning_rate': 0.0011441689901040717, 'max_depth': 6, 'num_leaves': 20, 'min_child_samples': 36, 'subsample': 0.794306794322898, 'subsample_freq': 3, 'colsample_bytree': 0.9630265895704372, 'reg_alpha': 0.24929222914887494, 'reg_lambda': 0.41038292303562973, 'max_bin': 276}. Best is trial 4 with value: 0.9975107167726289.\n"
     ]
    },
    {
     "name": "stdout",
     "output_type": "stream",
     "text": [
      "AUC: 0.9974871764866687, Balanced Accuracy: 0.5, Fraud Capture Rate: 0.994512093411176, Composite Score: 0.8306664232992815\n",
      "AUC: 0.9850492305754414, Balanced Accuracy: 0.9904824386454769, Fraud Capture Rate: 0.981651376146789, Composite Score: 0.9857276817892359\n"
     ]
    },
    {
     "name": "stderr",
     "output_type": "stream",
     "text": [
      "C:\\Users\\emanu\\AppData\\Local\\Temp\\ipykernel_23904\\3458708873.py:14: FutureWarning: suggest_loguniform has been deprecated in v3.0.0. This feature will be removed in v6.0.0. See https://github.com/optuna/optuna/releases/tag/v3.0.0. Use suggest_float(..., log=True) instead.\n",
      "  'learning_rate': trial.suggest_loguniform('learning_rate', 0.001, 0.2),\n"
     ]
    },
    {
     "name": "stdout",
     "output_type": "stream",
     "text": [
      "AUC: 0.992470001175434, Balanced Accuracy: 0.9948979306169369, Fraud Capture Rate: 0.9908256880733946, Composite Score: 0.9927312066219218\n",
      "AUC: 0.9944907276887883, Balanced Accuracy: 0.995064397301373, Fraud Capture Rate: 0.9908534890186266, Composite Score: 0.9934695380029294\n",
      "AUC: 0.9958662252961817, Balanced Accuracy: 0.9962410831917294, Fraud Capture Rate: 0.99314011676397, Composite Score: 0.9950824750839604\n"
     ]
    },
    {
     "name": "stderr",
     "output_type": "stream",
     "text": [
      "[I 2025-06-16 06:26:21,737] Trial 9 finished with value: 0.9960620963969612 and parameters: {'threshold': 0.1529591744712301, 'n_estimators': 115, 'learning_rate': 0.0046422313960206695, 'max_depth': 6, 'num_leaves': 39, 'min_child_samples': 43, 'subsample': 0.8900211269531271, 'subsample_freq': 5, 'colsample_bytree': 0.9214688307596458, 'reg_alpha': 0.18657005888603584, 'reg_lambda': 0.8925589984899778, 'max_bin': 254}. Best is trial 4 with value: 0.9975107167726289.\n"
     ]
    },
    {
     "name": "stdout",
     "output_type": "stream",
     "text": [
      "AUC: 0.9966927721831842, Balanced Accuracy: 0.9969814235965234, Fraud Capture Rate: 0.994512093411176, Composite Score: 0.9960620963969612\n"
     ]
    },
    {
     "name": "stderr",
     "output_type": "stream",
     "text": [
      "C:\\Users\\emanu\\AppData\\Local\\Temp\\ipykernel_23904\\3458708873.py:14: FutureWarning: suggest_loguniform has been deprecated in v3.0.0. This feature will be removed in v6.0.0. See https://github.com/optuna/optuna/releases/tag/v3.0.0. Use suggest_float(..., log=True) instead.\n",
      "  'learning_rate': trial.suggest_loguniform('learning_rate', 0.001, 0.2),\n"
     ]
    },
    {
     "name": "stdout",
     "output_type": "stream",
     "text": [
      "AUC: 0.9913925219910567, Balanced Accuracy: 0.9908256880733946, Fraud Capture Rate: 0.981651376146789, Composite Score: 0.9879565287370801\n",
      "AUC: 0.9956962609955283, Balanced Accuracy: 0.9953842366445471, Fraud Capture Rate: 0.9908256880733946, Composite Score: 0.9939687285711566\n",
      "AUC: 0.9971249458071213, Balanced Accuracy: 0.9954076729145466, Fraud Capture Rate: 0.9938837920489297, Composite Score: 0.9954721369235324\n",
      "AUC: 0.997843709355341, Balanced Accuracy: 0.99655575468591, Fraud Capture Rate: 0.9954128440366973, Composite Score: 0.9966041026926493\n"
     ]
    },
    {
     "name": "stderr",
     "output_type": "stream",
     "text": [
      "[I 2025-06-16 06:26:23,465] Trial 10 finished with value: 0.9972832821541194 and parameters: {'threshold': 0.399756706624172, 'n_estimators': 212, 'learning_rate': 0.17018997474271183, 'max_depth': 15, 'num_leaves': 33, 'min_child_samples': 47, 'subsample': 0.9820731864230898, 'subsample_freq': 3, 'colsample_bytree': 0.7339180704892945, 'reg_alpha': 0.012311169564937496, 'reg_lambda': 0.02696260722128842, 'max_bin': 228}. Best is trial 4 with value: 0.9975107167726289.\n"
     ]
    },
    {
     "name": "stdout",
     "output_type": "stream",
     "text": [
      "AUC: 0.9982749674842728, Balanced Accuracy: 0.997244603748728, Fraud Capture Rate: 0.9963302752293579, Composite Score: 0.9972832821541194\n"
     ]
    },
    {
     "name": "stderr",
     "output_type": "stream",
     "text": [
      "C:\\Users\\emanu\\AppData\\Local\\Temp\\ipykernel_23904\\3458708873.py:14: FutureWarning: suggest_loguniform has been deprecated in v3.0.0. This feature will be removed in v6.0.0. See https://github.com/optuna/optuna/releases/tag/v3.0.0. Use suggest_float(..., log=True) instead.\n",
      "  'learning_rate': trial.suggest_loguniform('learning_rate', 0.001, 0.2),\n"
     ]
    },
    {
     "name": "stdout",
     "output_type": "stream",
     "text": [
      "AUC: 0.9950512249910776, Balanced Accuracy: 0.9908256880733946, Fraud Capture Rate: 0.981651376146789, Composite Score: 0.9891760964037538\n",
      "AUC: 0.9975256124955387, Balanced Accuracy: 0.9954128440366973, Fraud Capture Rate: 0.9908256880733946, Composite Score: 0.994588048201877\n",
      "AUC: 0.9983410459111101, Balanced Accuracy: 0.9954267445093133, Fraud Capture Rate: 0.9938837920489297, Composite Score: 0.9958838608231178\n",
      "AUC: 0.9987557844333326, Balanced Accuracy: 0.996570058381985, Fraud Capture Rate: 0.9954128440366973, Composite Score: 0.9969128956173383\n"
     ]
    },
    {
     "name": "stderr",
     "output_type": "stream",
     "text": [
      "[I 2025-06-16 06:26:24,711] Trial 11 finished with value: 0.9975303164938707 and parameters: {'threshold': 0.327834374582025, 'n_estimators': 158, 'learning_rate': 0.19635361923287997, 'max_depth': 8, 'num_leaves': 28, 'min_child_samples': 50, 'subsample': 0.9454356046044508, 'subsample_freq': 4, 'colsample_bytree': 0.6290740943872529, 'reg_alpha': 0.37357683613790205, 'reg_lambda': 0.6560803826877069, 'max_bin': 208}. Best is trial 11 with value: 0.9975303164938707.\n"
     ]
    },
    {
     "name": "stdout",
     "output_type": "stream",
     "text": [
      "AUC: 0.9990046275466661, Balanced Accuracy: 0.997256046705588, Fraud Capture Rate: 0.9963302752293579, Composite Score: 0.9975303164938707\n"
     ]
    },
    {
     "name": "stderr",
     "output_type": "stream",
     "text": [
      "C:\\Users\\emanu\\AppData\\Local\\Temp\\ipykernel_23904\\3458708873.py:14: FutureWarning: suggest_loguniform has been deprecated in v3.0.0. This feature will be removed in v6.0.0. See https://github.com/optuna/optuna/releases/tag/v3.0.0. Use suggest_float(..., log=True) instead.\n",
      "  'learning_rate': trial.suggest_loguniform('learning_rate', 0.001, 0.2),\n"
     ]
    },
    {
     "name": "stdout",
     "output_type": "stream",
     "text": [
      "AUC: 0.9939989083198623, Balanced Accuracy: 0.9908256880733946, Fraud Capture Rate: 0.981651376146789, Composite Score: 0.9888253241800152\n",
      "AUC: 0.9969994541599312, Balanced Accuracy: 0.9953842366445471, Fraud Capture Rate: 0.9908256880733946, Composite Score: 0.9944031262926242\n",
      "AUC: 0.9979878463934923, Balanced Accuracy: 0.9954076729145466, Fraud Capture Rate: 0.9938837920489297, Composite Score: 0.9957597704523228\n",
      "AUC: 0.9984908847951192, Balanced Accuracy: 0.99655575468591, Fraud Capture Rate: 0.9954128440366973, Composite Score: 0.9968198278392421\n"
     ]
    },
    {
     "name": "stderr",
     "output_type": "stream",
     "text": [
      "[I 2025-06-16 06:26:25,781] Trial 12 finished with value: 0.9974558622713936 and parameters: {'threshold': 0.3414996963792947, 'n_estimators': 201, 'learning_rate': 0.19173850483768612, 'max_depth': 14, 'num_leaves': 28, 'min_child_samples': 50, 'subsample': 0.9591194464439801, 'subsample_freq': 4, 'colsample_bytree': 0.7020072831048864, 'reg_alpha': 0.3699009034932717, 'reg_lambda': 0.5741333605823703, 'max_bin': 202}. Best is trial 11 with value: 0.9975303164938707.\n"
     ]
    },
    {
     "name": "stdout",
     "output_type": "stream",
     "text": [
      "AUC: 0.9987927078360954, Balanced Accuracy: 0.997244603748728, Fraud Capture Rate: 0.9963302752293579, Composite Score: 0.9974558622713936\n"
     ]
    },
    {
     "name": "stderr",
     "output_type": "stream",
     "text": [
      "C:\\Users\\emanu\\AppData\\Local\\Temp\\ipykernel_23904\\3458708873.py:14: FutureWarning: suggest_loguniform has been deprecated in v3.0.0. This feature will be removed in v6.0.0. See https://github.com/optuna/optuna/releases/tag/v3.0.0. Use suggest_float(..., log=True) instead.\n",
      "  'learning_rate': trial.suggest_loguniform('learning_rate', 0.001, 0.2),\n"
     ]
    },
    {
     "name": "stdout",
     "output_type": "stream",
     "text": [
      "AUC: 0.9875044611928705, Balanced Accuracy: 0.9906540633594356, Fraud Capture Rate: 0.981651376146789, Composite Score: 0.9866033002330318\n",
      "AUC: 0.9937303849515207, Balanced Accuracy: 0.9928540526619396, Fraud Capture Rate: 0.9908256880733946, Composite Score: 0.9924700418956183\n",
      "AUC: 0.9956714981951663, Balanced Accuracy: 0.9937018119980415, Fraud Capture Rate: 0.9908534890186266, Composite Score: 0.9934089330706115\n",
      "AUC: 0.9967515431087639, Balanced Accuracy: 0.9940827805778673, Fraud Capture Rate: 0.99314011676397, Composite Score: 0.994658146816867\n"
     ]
    },
    {
     "name": "stderr",
     "output_type": "stream",
     "text": [
      "[I 2025-06-16 06:26:26,790] Trial 13 finished with value: 0.9954196034802563 and parameters: {'threshold': 0.4730000686425577, 'n_estimators': 104, 'learning_rate': 0.013578764376950932, 'max_depth': 10, 'num_leaves': 30, 'min_child_samples': 40, 'subsample': 0.9299753301699426, 'subsample_freq': 4, 'colsample_bytree': 0.618976180103186, 'reg_alpha': 0.4026120916080416, 'reg_lambda': 0.5795660494660648, 'max_bin': 218}. Best is trial 11 with value: 0.9975303164938707.\n"
     ]
    },
    {
     "name": "stdout",
     "output_type": "stream",
     "text": [
      "AUC: 0.99740102643325, Balanced Accuracy: 0.9943456905963428, Fraud Capture Rate: 0.994512093411176, Composite Score: 0.9954196034802563\n"
     ]
    },
    {
     "name": "stderr",
     "output_type": "stream",
     "text": [
      "C:\\Users\\emanu\\AppData\\Local\\Temp\\ipykernel_23904\\3458708873.py:14: FutureWarning: suggest_loguniform has been deprecated in v3.0.0. This feature will be removed in v6.0.0. See https://github.com/optuna/optuna/releases/tag/v3.0.0. Use suggest_float(..., log=True) instead.\n",
      "  'learning_rate': trial.suggest_loguniform('learning_rate', 0.001, 0.2),\n"
     ]
    },
    {
     "name": "stdout",
     "output_type": "stream",
     "text": [
      "AUC: 0.9873407091722126, Balanced Accuracy: 0.9905396468834631, Fraud Capture Rate: 0.981651376146789, Composite Score: 0.9865105774008215\n",
      "AUC: 0.9936563109572326, Balanced Accuracy: 0.9949837495202303, Fraud Capture Rate: 0.9908256880733946, Composite Score: 0.9931552495169524\n",
      "AUC: 0.9957216345813634, Balanced Accuracy: 0.9951216099035687, Fraud Capture Rate: 0.9938837920489297, Composite Score: 0.9949090121779539\n",
      "AUC: 0.9967875849952035, Balanced Accuracy: 0.9962839926433762, Fraud Capture Rate: 0.9954128440366973, Composite Score: 0.9961614738917589\n"
     ]
    },
    {
     "name": "stderr",
     "output_type": "stream",
     "text": [
      "[I 2025-06-16 06:26:27,975] Trial 14 finished with value: 0.9969253647944537 and parameters: {'threshold': 0.3339525276731994, 'n_estimators': 139, 'learning_rate': 0.016252258115974486, 'max_depth': 12, 'num_leaves': 35, 'min_child_samples': 44, 'subsample': 0.9120369019197927, 'subsample_freq': 3, 'colsample_bytree': 0.7650089461904243, 'reg_alpha': 0.3694121418271444, 'reg_lambda': 0.1703688081984176, 'max_bin': 235}. Best is trial 11 with value: 0.9975303164938707.\n"
     ]
    },
    {
     "name": "stdout",
     "output_type": "stream",
     "text": [
      "AUC: 0.9974300679961627, Balanced Accuracy: 0.9970157511578408, Fraud Capture Rate: 0.9963302752293579, Composite Score: 0.9969253647944537\n"
     ]
    },
    {
     "name": "stderr",
     "output_type": "stream",
     "text": [
      "C:\\Users\\emanu\\AppData\\Local\\Temp\\ipykernel_23904\\3458708873.py:14: FutureWarning: suggest_loguniform has been deprecated in v3.0.0. This feature will be removed in v6.0.0. See https://github.com/optuna/optuna/releases/tag/v3.0.0. Use suggest_float(..., log=True) instead.\n",
      "  'learning_rate': trial.suggest_loguniform('learning_rate', 0.001, 0.2),\n"
     ]
    },
    {
     "name": "stdout",
     "output_type": "stream",
     "text": [
      "AUC: 0.995629080679361, Balanced Accuracy: 0.9908256880733946, Fraud Capture Rate: 0.981651376146789, Composite Score: 0.9893687149665148\n",
      "AUC: 0.9978145403396805, Balanced Accuracy: 0.9954128440366973, Fraud Capture Rate: 0.9908256880733946, Composite Score: 0.9946843574832573\n",
      "AUC: 0.9985326242050657, Balanced Accuracy: 0.9954267445093133, Fraud Capture Rate: 0.9938837920489297, Composite Score: 0.9959477202544362\n",
      "AUC: 0.9988994681537993, Balanced Accuracy: 0.996570058381985, Fraud Capture Rate: 0.9954128440366973, Composite Score: 0.9969607901908272\n"
     ]
    },
    {
     "name": "stderr",
     "output_type": "stream",
     "text": [
      "[I 2025-06-16 06:26:29,314] Trial 15 finished with value: 0.9975686321526617 and parameters: {'threshold': 0.34571538694740256, 'n_estimators': 177, 'learning_rate': 0.10491157944574221, 'max_depth': 8, 'num_leaves': 29, 'min_child_samples': 50, 'subsample': 0.8585647648499438, 'subsample_freq': 4, 'colsample_bytree': 0.6836425951096828, 'reg_alpha': 0.08210490446393415, 'reg_lambda': 0.6814135430580033, 'max_bin': 215}. Best is trial 15 with value: 0.9975686321526617.\n"
     ]
    },
    {
     "name": "stdout",
     "output_type": "stream",
     "text": [
      "AUC: 0.9991195745230395, Balanced Accuracy: 0.997256046705588, Fraud Capture Rate: 0.9963302752293579, Composite Score: 0.9975686321526617\n"
     ]
    },
    {
     "name": "stderr",
     "output_type": "stream",
     "text": [
      "C:\\Users\\emanu\\AppData\\Local\\Temp\\ipykernel_23904\\3458708873.py:14: FutureWarning: suggest_loguniform has been deprecated in v3.0.0. This feature will be removed in v6.0.0. See https://github.com/optuna/optuna/releases/tag/v3.0.0. Use suggest_float(..., log=True) instead.\n",
      "  'learning_rate': trial.suggest_loguniform('learning_rate', 0.001, 0.2),\n"
     ]
    },
    {
     "name": "stdout",
     "output_type": "stream",
     "text": [
      "AUC: 0.9943715491361031, Balanced Accuracy: 0.9908256880733946, Fraud Capture Rate: 0.981651376146789, Composite Score: 0.9889495377854289\n",
      "AUC: 0.9971857745680516, Balanced Accuracy: 0.9954128440366973, Fraud Capture Rate: 0.9908256880733946, Composite Score: 0.9944747688927145\n",
      "AUC: 0.9981117132426375, Balanced Accuracy: 0.9954267445093133, Fraud Capture Rate: 0.9938837920489297, Composite Score: 0.9958074166002935\n",
      "AUC: 0.9985837849319781, Balanced Accuracy: 0.996570058381985, Fraud Capture Rate: 0.9954128440366973, Composite Score: 0.9968555624502201\n"
     ]
    },
    {
     "name": "stderr",
     "output_type": "stream",
     "text": [
      "[I 2025-06-16 06:26:30,988] Trial 16 finished with value: 0.9974844499601762 and parameters: {'threshold': 0.3784562782567642, 'n_estimators': 222, 'learning_rate': 0.09482888638694509, 'max_depth': 5, 'num_leaves': 29, 'min_child_samples': 24, 'subsample': 0.996273294760887, 'subsample_freq': 4, 'colsample_bytree': 0.691346484168823, 'reg_alpha': 0.0029543004673830142, 'reg_lambda': 0.6974188811654113, 'max_bin': 213}. Best is trial 15 with value: 0.9975686321526617.\n"
     ]
    },
    {
     "name": "stdout",
     "output_type": "stream",
     "text": [
      "AUC: 0.9988670279455825, Balanced Accuracy: 0.997256046705588, Fraud Capture Rate: 0.9963302752293579, Composite Score: 0.9974844499601762\n"
     ]
    },
    {
     "name": "stderr",
     "output_type": "stream",
     "text": [
      "C:\\Users\\emanu\\AppData\\Local\\Temp\\ipykernel_23904\\3458708873.py:14: FutureWarning: suggest_loguniform has been deprecated in v3.0.0. This feature will be removed in v6.0.0. See https://github.com/optuna/optuna/releases/tag/v3.0.0. Use suggest_float(..., log=True) instead.\n",
      "  'learning_rate': trial.suggest_loguniform('learning_rate', 0.001, 0.2),\n"
     ]
    },
    {
     "name": "stdout",
     "output_type": "stream",
     "text": [
      "AUC: 0.9878036235383033, Balanced Accuracy: 0.9905396468834631, Fraud Capture Rate: 0.981651376146789, Composite Score: 0.9866648821895185\n",
      "AUC: 0.9938737245114042, Balanced Accuracy: 0.9949837495202303, Fraud Capture Rate: 0.9908256880733946, Composite Score: 0.9932277207016764\n",
      "AUC: 0.9958131764854642, Balanced Accuracy: 0.9951216099035687, Fraud Capture Rate: 0.9938837920489297, Composite Score: 0.9949395261459876\n",
      "AUC: 0.9968588420952927, Balanced Accuracy: 0.9962839926433762, Fraud Capture Rate: 0.9954128440366973, Composite Score: 0.9961852262584554\n"
     ]
    },
    {
     "name": "stderr",
     "output_type": "stream",
     "text": [
      "[I 2025-06-16 06:26:32,323] Trial 17 finished with value: 0.9969442279853036 and parameters: {'threshold': 0.4960747382646199, 'n_estimators': 180, 'learning_rate': 0.016631039227317495, 'max_depth': 9, 'num_leaves': 27, 'min_child_samples': 50, 'subsample': 0.850719255090403, 'subsample_freq': 3, 'colsample_bytree': 0.6658907426305392, 'reg_alpha': 0.7882937674472155, 'reg_lambda': 0.6628126665727366, 'max_bin': 205}. Best is trial 15 with value: 0.9975686321526617.\n"
     ]
    },
    {
     "name": "stdout",
     "output_type": "stream",
     "text": [
      "AUC: 0.997486657568712, Balanced Accuracy: 0.9970157511578408, Fraud Capture Rate: 0.9963302752293579, Composite Score: 0.9969442279853036\n"
     ]
    },
    {
     "name": "stderr",
     "output_type": "stream",
     "text": [
      "C:\\Users\\emanu\\AppData\\Local\\Temp\\ipykernel_23904\\3458708873.py:14: FutureWarning: suggest_loguniform has been deprecated in v3.0.0. This feature will be removed in v6.0.0. See https://github.com/optuna/optuna/releases/tag/v3.0.0. Use suggest_float(..., log=True) instead.\n",
      "  'learning_rate': trial.suggest_loguniform('learning_rate', 0.001, 0.2),\n"
     ]
    },
    {
     "name": "stdout",
     "output_type": "stream",
     "text": [
      "AUC: 0.991103856570025, Balanced Accuracy: 0.9908256880733946, Fraud Capture Rate: 0.981651376146789, Composite Score: 0.9878603069300694\n",
      "AUC: 0.9955519282850125, Balanced Accuracy: 0.9954128440366973, Fraud Capture Rate: 0.9908256880733946, Composite Score: 0.9939301534650347\n",
      "AUC: 0.997010345917881, Balanced Accuracy: 0.9954267445093133, Fraud Capture Rate: 0.9938837920489297, Composite Score: 0.9954402941587079\n",
      "AUC: 0.9977577594384107, Balanced Accuracy: 0.996570058381985, Fraud Capture Rate: 0.9954128440366973, Composite Score: 0.996580220619031\n"
     ]
    },
    {
     "name": "stderr",
     "output_type": "stream",
     "text": [
      "[I 2025-06-16 06:26:33,843] Trial 18 finished with value: 0.9972641764952247 and parameters: {'threshold': 0.43973625164215635, 'n_estimators': 232, 'learning_rate': 0.08908194965597656, 'max_depth': 8, 'num_leaves': 32, 'min_child_samples': 40, 'subsample': 0.9411704743828452, 'subsample_freq': 2, 'colsample_bytree': 0.7747482296223265, 'reg_alpha': 0.48043542977695475, 'reg_lambda': 0.4729355848554333, 'max_bin': 218}. Best is trial 15 with value: 0.9975686321526617.\n"
     ]
    },
    {
     "name": "stdout",
     "output_type": "stream",
     "text": [
      "AUC: 0.9982062075507286, Balanced Accuracy: 0.997256046705588, Fraud Capture Rate: 0.9963302752293579, Composite Score: 0.9972641764952247\n"
     ]
    },
    {
     "name": "stderr",
     "output_type": "stream",
     "text": [
      "C:\\Users\\emanu\\AppData\\Local\\Temp\\ipykernel_23904\\3458708873.py:14: FutureWarning: suggest_loguniform has been deprecated in v3.0.0. This feature will be removed in v6.0.0. See https://github.com/optuna/optuna/releases/tag/v3.0.0. Use suggest_float(..., log=True) instead.\n",
      "  'learning_rate': trial.suggest_loguniform('learning_rate', 0.001, 0.2),\n"
     ]
    },
    {
     "name": "stdout",
     "output_type": "stream",
     "text": [
      "AUC: 0.98677072617723, Balanced Accuracy: 0.9905396468834631, Fraud Capture Rate: 0.981651376146789, Composite Score: 0.9863205830691607\n",
      "AUC: 0.9933614369060895, Balanced Accuracy: 0.9949837495202303, Fraud Capture Rate: 0.9908256880733946, Composite Score: 0.9930569581665714\n",
      "AUC: 0.9954205048656526, Balanced Accuracy: 0.9951216099035687, Fraud Capture Rate: 0.9908534890186266, Composite Score: 0.9937985345959492\n",
      "AUC: 0.9965635581788299, Balanced Accuracy: 0.9962839926433762, Fraud Capture Rate: 0.99314011676397, Composite Score: 0.9953292225287254\n"
     ]
    },
    {
     "name": "stderr",
     "output_type": "stream",
     "text": [
      "[I 2025-06-16 06:26:35,277] Trial 19 finished with value: 0.9962592169477584 and parameters: {'threshold': 0.346455398480797, 'n_estimators': 177, 'learning_rate': 0.008041798013694463, 'max_depth': 7, 'num_leaves': 24, 'min_child_samples': 22, 'subsample': 0.7722123283330765, 'subsample_freq': 4, 'colsample_bytree': 0.6661033618197552, 'reg_alpha': 0.2815531632433655, 'reg_lambda': 0.8895564194661054, 'max_bin': 244}. Best is trial 15 with value: 0.9975686321526617.\n"
     ]
    },
    {
     "name": "stdout",
     "output_type": "stream",
     "text": [
      "AUC: 0.9972498062742584, Balanced Accuracy: 0.9970157511578408, Fraud Capture Rate: 0.994512093411176, Composite Score: 0.9962592169477584\n"
     ]
    },
    {
     "name": "stderr",
     "output_type": "stream",
     "text": [
      "C:\\Users\\emanu\\AppData\\Local\\Temp\\ipykernel_23904\\3458708873.py:14: FutureWarning: suggest_loguniform has been deprecated in v3.0.0. This feature will be removed in v6.0.0. See https://github.com/optuna/optuna/releases/tag/v3.0.0. Use suggest_float(..., log=True) instead.\n",
      "  'learning_rate': trial.suggest_loguniform('learning_rate', 0.001, 0.2),\n"
     ]
    },
    {
     "name": "stdout",
     "output_type": "stream",
     "text": [
      "AUC: 0.9878004744609828, Balanced Accuracy: 0.990711271597422, Fraud Capture Rate: 0.981651376146789, Composite Score: 0.9867210407350647\n",
      "AUC: 0.9939002372304915, Balanced Accuracy: 0.99512677666151, Fraud Capture Rate: 0.9908256880733946, Composite Score: 0.9932842339884653\n",
      "AUC: 0.9959199679925234, Balanced Accuracy: 0.9952169613310883, Fraud Capture Rate: 0.9938837920489297, Composite Score: 0.9950069071241804\n",
      "AUC: 0.9969399759943925, Balanced Accuracy: 0.9963984173022411, Fraud Capture Rate: 0.9954128440366973, Composite Score: 0.9962504124444436\n"
     ]
    },
    {
     "name": "stderr",
     "output_type": "stream",
     "text": [
      "[I 2025-06-16 06:26:37,089] Trial 20 finished with value: 0.9970003299555549 and parameters: {'threshold': 0.30199537124542264, 'n_estimators': 246, 'learning_rate': 0.02575179157846235, 'max_depth': 5, 'num_leaves': 31, 'min_child_samples': 38, 'subsample': 0.8460958443107082, 'subsample_freq': 2, 'colsample_bytree': 0.6035134901899931, 'reg_alpha': 0.11212135119359135, 'reg_lambda': 0.5660980335096725, 'max_bin': 264}. Best is trial 15 with value: 0.9975686321526617.\n"
     ]
    },
    {
     "name": "stdout",
     "output_type": "stream",
     "text": [
      "AUC: 0.997551980795514, Balanced Accuracy: 0.9971187338417928, Fraud Capture Rate: 0.9963302752293579, Composite Score: 0.9970003299555549\n"
     ]
    },
    {
     "name": "stderr",
     "output_type": "stream",
     "text": [
      "C:\\Users\\emanu\\AppData\\Local\\Temp\\ipykernel_23904\\3458708873.py:14: FutureWarning: suggest_loguniform has been deprecated in v3.0.0. This feature will be removed in v6.0.0. See https://github.com/optuna/optuna/releases/tag/v3.0.0. Use suggest_float(..., log=True) instead.\n",
      "  'learning_rate': trial.suggest_loguniform('learning_rate', 0.001, 0.2),\n"
     ]
    },
    {
     "name": "stdout",
     "output_type": "stream",
     "text": [
      "AUC: 0.9963208279973967, Balanced Accuracy: 0.9908256880733946, Fraud Capture Rate: 0.981651376146789, Composite Score: 0.9895992974058601\n",
      "AUC: 0.9981604139986984, Balanced Accuracy: 0.9953842366445471, Fraud Capture Rate: 0.9908256880733946, Composite Score: 0.9947901129055465\n",
      "AUC: 0.9987652871820218, Balanced Accuracy: 0.9954076729145466, Fraud Capture Rate: 0.9938837920489297, Composite Score: 0.9960189173818326\n",
      "AUC: 0.9990739653865164, Balanced Accuracy: 0.99655575468591, Fraud Capture Rate: 0.9954128440366973, Composite Score: 0.9970141880363744\n"
     ]
    },
    {
     "name": "stderr",
     "output_type": "stream",
     "text": [
      "[I 2025-06-16 06:26:38,110] Trial 21 finished with value: 0.9976113504290997 and parameters: {'threshold': 0.30900379832224323, 'n_estimators': 133, 'learning_rate': 0.13062755598379153, 'max_depth': 9, 'num_leaves': 34, 'min_child_samples': 46, 'subsample': 0.8875617522138504, 'subsample_freq': 5, 'colsample_bytree': 0.6562330159014521, 'reg_alpha': 0.2715489856254806, 'reg_lambda': 0.17467332761565313, 'max_bin': 227}. Best is trial 21 with value: 0.9976113504290997.\n"
     ]
    },
    {
     "name": "stdout",
     "output_type": "stream",
     "text": [
      "AUC: 0.9992591723092131, Balanced Accuracy: 0.997244603748728, Fraud Capture Rate: 0.9963302752293579, Composite Score: 0.9976113504290997\n"
     ]
    },
    {
     "name": "stderr",
     "output_type": "stream",
     "text": [
      "C:\\Users\\emanu\\AppData\\Local\\Temp\\ipykernel_23904\\3458708873.py:14: FutureWarning: suggest_loguniform has been deprecated in v3.0.0. This feature will be removed in v6.0.0. See https://github.com/optuna/optuna/releases/tag/v3.0.0. Use suggest_float(..., log=True) instead.\n",
      "  'learning_rate': trial.suggest_loguniform('learning_rate', 0.001, 0.2),\n"
     ]
    },
    {
     "name": "stdout",
     "output_type": "stream",
     "text": [
      "AUC: 0.996369113849642, Balanced Accuracy: 0.9908256880733946, Fraud Capture Rate: 0.981651376146789, Composite Score: 0.9896153926899419\n",
      "AUC: 0.9981845569248209, Balanced Accuracy: 0.9954128440366973, Fraud Capture Rate: 0.9908256880733946, Composite Score: 0.994807696344971\n",
      "AUC: 0.9987789551722241, Balanced Accuracy: 0.9954267445093133, Fraud Capture Rate: 0.9938837920489297, Composite Score: 0.9960298305768225\n",
      "AUC: 0.9990842163791681, Balanced Accuracy: 0.996570058381985, Fraud Capture Rate: 0.9954128440366973, Composite Score: 0.9970223729326169\n"
     ]
    },
    {
     "name": "stderr",
     "output_type": "stream",
     "text": [
      "[I 2025-06-16 06:26:39,209] Trial 22 finished with value: 0.9976178983460935 and parameters: {'threshold': 0.3646481734917875, 'n_estimators': 158, 'learning_rate': 0.11159794701236428, 'max_depth': 9, 'num_leaves': 34, 'min_child_samples': 50, 'subsample': 0.9217487445987466, 'subsample_freq': 4, 'colsample_bytree': 0.6646314370224325, 'reg_alpha': 0.08700135011983062, 'reg_lambda': 0.17113458675633125, 'max_bin': 225}. Best is trial 22 with value: 0.9976178983460935.\n"
     ]
    },
    {
     "name": "stdout",
     "output_type": "stream",
     "text": [
      "AUC: 0.9992673731033346, Balanced Accuracy: 0.997256046705588, Fraud Capture Rate: 0.9963302752293579, Composite Score: 0.9976178983460935\n"
     ]
    },
    {
     "name": "stderr",
     "output_type": "stream",
     "text": [
      "C:\\Users\\emanu\\AppData\\Local\\Temp\\ipykernel_23904\\3458708873.py:14: FutureWarning: suggest_loguniform has been deprecated in v3.0.0. This feature will be removed in v6.0.0. See https://github.com/optuna/optuna/releases/tag/v3.0.0. Use suggest_float(..., log=True) instead.\n",
      "  'learning_rate': trial.suggest_loguniform('learning_rate', 0.001, 0.2),\n"
     ]
    },
    {
     "name": "stdout",
     "output_type": "stream",
     "text": [
      "AUC: 0.9929660109587891, Balanced Accuracy: 0.9908256880733946, Fraud Capture Rate: 0.981651376146789, Composite Score: 0.9884810250596576\n",
      "AUC: 0.9964830054793945, Balanced Accuracy: 0.9954128440366973, Fraud Capture Rate: 0.9908256880733946, Composite Score: 0.9942405125298288\n",
      "AUC: 0.9976421602480605, Balanced Accuracy: 0.9954267445093133, Fraud Capture Rate: 0.9938837920489297, Composite Score: 0.9956508989354346\n",
      "AUC: 0.9982316201860454, Balanced Accuracy: 0.996570058381985, Fraud Capture Rate: 0.9954128440366973, Composite Score: 0.996738174201576\n"
     ]
    },
    {
     "name": "stderr",
     "output_type": "stream",
     "text": [
      "[I 2025-06-16 06:26:40,303] Trial 23 finished with value: 0.9973905393612608 and parameters: {'threshold': 0.38700767854174145, 'n_estimators': 125, 'learning_rate': 0.09200251786175291, 'max_depth': 9, 'num_leaves': 34, 'min_child_samples': 46, 'subsample': 0.9050066542729259, 'subsample_freq': 5, 'colsample_bytree': 0.6671816305431838, 'reg_alpha': 0.06770192332988434, 'reg_lambda': 0.16417403485615334, 'max_bin': 226}. Best is trial 22 with value: 0.9976178983460935.\n"
     ]
    },
    {
     "name": "stdout",
     "output_type": "stream",
     "text": [
      "AUC: 0.9985852961488362, Balanced Accuracy: 0.997256046705588, Fraud Capture Rate: 0.9963302752293579, Composite Score: 0.9973905393612608\n"
     ]
    },
    {
     "name": "stderr",
     "output_type": "stream",
     "text": [
      "C:\\Users\\emanu\\AppData\\Local\\Temp\\ipykernel_23904\\3458708873.py:14: FutureWarning: suggest_loguniform has been deprecated in v3.0.0. This feature will be removed in v6.0.0. See https://github.com/optuna/optuna/releases/tag/v3.0.0. Use suggest_float(..., log=True) instead.\n",
      "  'learning_rate': trial.suggest_loguniform('learning_rate', 0.001, 0.2),\n"
     ]
    },
    {
     "name": "stdout",
     "output_type": "stream",
     "text": [
      "AUC: 0.9936021245774989, Balanced Accuracy: 0.9908256880733946, Fraud Capture Rate: 0.981651376146789, Composite Score: 0.9886930629325609\n",
      "AUC: 0.9968010622887494, Balanced Accuracy: 0.9954128440366973, Fraud Capture Rate: 0.9908256880733946, Composite Score: 0.9943465314662805\n",
      "AUC: 0.9978587059524542, Balanced Accuracy: 0.9954267445093133, Fraud Capture Rate: 0.9938837920489297, Composite Score: 0.9957230808368992\n",
      "AUC: 0.9983940294643406, Balanced Accuracy: 0.996570058381985, Fraud Capture Rate: 0.9954128440366973, Composite Score: 0.9967923106276744\n"
     ]
    },
    {
     "name": "stderr",
     "output_type": "stream",
     "text": [
      "[I 2025-06-16 06:26:41,474] Trial 24 finished with value: 0.9974338485021395 and parameters: {'threshold': 0.36352882788005536, 'n_estimators': 193, 'learning_rate': 0.11264319075996836, 'max_depth': 11, 'num_leaves': 37, 'min_child_samples': 43, 'subsample': 0.8606762776842255, 'subsample_freq': 4, 'colsample_bytree': 0.7412428971599068, 'reg_alpha': 0.2767000735857411, 'reg_lambda': 0.1715007466979212, 'max_bin': 241}. Best is trial 22 with value: 0.9976178983460935.\n"
     ]
    },
    {
     "name": "stdout",
     "output_type": "stream",
     "text": [
      "AUC: 0.9987152235714725, Balanced Accuracy: 0.997256046705588, Fraud Capture Rate: 0.9963302752293579, Composite Score: 0.9974338485021395\n"
     ]
    },
    {
     "name": "stderr",
     "output_type": "stream",
     "text": [
      "C:\\Users\\emanu\\AppData\\Local\\Temp\\ipykernel_23904\\3458708873.py:14: FutureWarning: suggest_loguniform has been deprecated in v3.0.0. This feature will be removed in v6.0.0. See https://github.com/optuna/optuna/releases/tag/v3.0.0. Use suggest_float(..., log=True) instead.\n",
      "  'learning_rate': trial.suggest_loguniform('learning_rate', 0.001, 0.2),\n"
     ]
    },
    {
     "name": "stdout",
     "output_type": "stream",
     "text": [
      "AUC: 0.9898841139546113, Balanced Accuracy: 0.9908256880733946, Fraud Capture Rate: 0.981651376146789, Composite Score: 0.987453726058265\n",
      "AUC: 0.9949420569773056, Balanced Accuracy: 0.9953842366445471, Fraud Capture Rate: 0.9908256880733946, Composite Score: 0.993717327231749\n",
      "AUC: 0.9966075793650297, Balanced Accuracy: 0.9954076729145466, Fraud Capture Rate: 0.9938837920489297, Composite Score: 0.9952996814428352\n",
      "AUC: 0.9974556845237723, Balanced Accuracy: 0.99655575468591, Fraud Capture Rate: 0.9954128440366973, Composite Score: 0.9964747610821264\n"
     ]
    },
    {
     "name": "stderr",
     "output_type": "stream",
     "text": [
      "[I 2025-06-16 06:26:42,668] Trial 25 finished with value: 0.997179808865701 and parameters: {'threshold': 0.25948235629184424, 'n_estimators': 164, 'learning_rate': 0.060669237540933965, 'max_depth': 7, 'num_leaves': 34, 'min_child_samples': 47, 'subsample': 0.9186320069337526, 'subsample_freq': 5, 'colsample_bytree': 0.8074966479377126, 'reg_alpha': 0.10777931277664257, 'reg_lambda': 0.24167599876277548, 'max_bin': 224}. Best is trial 22 with value: 0.9976178983460935.\n"
     ]
    },
    {
     "name": "stdout",
     "output_type": "stream",
     "text": [
      "AUC: 0.9979645476190179, Balanced Accuracy: 0.997244603748728, Fraud Capture Rate: 0.9963302752293579, Composite Score: 0.997179808865701\n"
     ]
    },
    {
     "name": "stderr",
     "output_type": "stream",
     "text": [
      "C:\\Users\\emanu\\AppData\\Local\\Temp\\ipykernel_23904\\3458708873.py:14: FutureWarning: suggest_loguniform has been deprecated in v3.0.0. This feature will be removed in v6.0.0. See https://github.com/optuna/optuna/releases/tag/v3.0.0. Use suggest_float(..., log=True) instead.\n",
      "  'learning_rate': trial.suggest_loguniform('learning_rate', 0.001, 0.2),\n"
     ]
    },
    {
     "name": "stdout",
     "output_type": "stream",
     "text": [
      "AUC: 0.996706065122919, Balanced Accuracy: 0.9908256880733946, Fraud Capture Rate: 0.981651376146789, Composite Score: 0.9897277097810342\n",
      "AUC: 0.9983530325614596, Balanced Accuracy: 0.9954128440366973, Fraud Capture Rate: 0.9908256880733946, Composite Score: 0.9948638548905171\n",
      "AUC: 0.998895780094807, Balanced Accuracy: 0.9954267445093133, Fraud Capture Rate: 0.9938837920489297, Composite Score: 0.9960687722176833\n",
      "AUC: 0.9991718350711052, Balanced Accuracy: 0.996570058381985, Fraud Capture Rate: 0.9954128440366973, Composite Score: 0.9970515791632625\n"
     ]
    },
    {
     "name": "stderr",
     "output_type": "stream",
     "text": [
      "[I 2025-06-16 06:26:43,699] Trial 26 finished with value: 0.9976412633306101 and parameters: {'threshold': 0.4180523821308157, 'n_estimators': 148, 'learning_rate': 0.12416397375928477, 'max_depth': 9, 'num_leaves': 30, 'min_child_samples': 42, 'subsample': 0.833042023799981, 'subsample_freq': 4, 'colsample_bytree': 0.7341117482498905, 'reg_alpha': 0.2005056485887226, 'reg_lambda': 0.4207102871512506, 'max_bin': 212}. Best is trial 26 with value: 0.9976412633306101.\n"
     ]
    },
    {
     "name": "stdout",
     "output_type": "stream",
     "text": [
      "AUC: 0.9993374680568842, Balanced Accuracy: 0.997256046705588, Fraud Capture Rate: 0.9963302752293579, Composite Score: 0.9976412633306101\n"
     ]
    },
    {
     "name": "stderr",
     "output_type": "stream",
     "text": [
      "C:\\Users\\emanu\\AppData\\Local\\Temp\\ipykernel_23904\\3458708873.py:14: FutureWarning: suggest_loguniform has been deprecated in v3.0.0. This feature will be removed in v6.0.0. See https://github.com/optuna/optuna/releases/tag/v3.0.0. Use suggest_float(..., log=True) instead.\n",
      "  'learning_rate': trial.suggest_loguniform('learning_rate', 0.001, 0.2),\n"
     ]
    },
    {
     "name": "stdout",
     "output_type": "stream",
     "text": [
      "AUC: 0.988950937375349, Balanced Accuracy: 0.9905396468834631, Fraud Capture Rate: 0.981651376146789, Composite Score: 0.9870473201352005\n",
      "AUC: 0.9944577841179817, Balanced Accuracy: 0.9949837495202303, Fraud Capture Rate: 0.9908256880733946, Composite Score: 0.9934224072372022\n",
      "AUC: 0.9961429074783362, Balanced Accuracy: 0.9951216099035687, Fraud Capture Rate: 0.9908534890186266, Composite Score: 0.9940393354668439\n",
      "AUC: 0.9971061403399467, Balanced Accuracy: 0.9962839926433762, Fraud Capture Rate: 0.99314011676397, Composite Score: 0.9955100832490976\n"
     ]
    },
    {
     "name": "stderr",
     "output_type": "stream",
     "text": [
      "[I 2025-06-16 06:26:44,600] Trial 27 finished with value: 0.9964042522803247 and parameters: {'threshold': 0.4443882281165954, 'n_estimators': 101, 'learning_rate': 0.026827205436196943, 'max_depth': 11, 'num_leaves': 36, 'min_child_samples': 35, 'subsample': 0.8109664959498779, 'subsample_freq': 3, 'colsample_bytree': 0.7286156507255409, 'reg_alpha': 0.24569042523736911, 'reg_lambda': 0.40206441199172027, 'max_bin': 200}. Best is trial 26 with value: 0.9976412633306101.\n"
     ]
    },
    {
     "name": "stdout",
     "output_type": "stream",
     "text": [
      "AUC: 0.9976849122719574, Balanced Accuracy: 0.9970157511578408, Fraud Capture Rate: 0.994512093411176, Composite Score: 0.9964042522803247\n"
     ]
    },
    {
     "name": "stderr",
     "output_type": "stream",
     "text": [
      "C:\\Users\\emanu\\AppData\\Local\\Temp\\ipykernel_23904\\3458708873.py:14: FutureWarning: suggest_loguniform has been deprecated in v3.0.0. This feature will be removed in v6.0.0. See https://github.com/optuna/optuna/releases/tag/v3.0.0. Use suggest_float(..., log=True) instead.\n",
      "  'learning_rate': trial.suggest_loguniform('learning_rate', 0.001, 0.2),\n"
     ]
    },
    {
     "name": "stdout",
     "output_type": "stream",
     "text": [
      "AUC: 0.9891561522473915, Balanced Accuracy: 0.9908256880733946, Fraud Capture Rate: 0.981651376146789, Composite Score: 0.9872110721558583\n",
      "AUC: 0.9945780761236958, Balanced Accuracy: 0.9954128440366973, Fraud Capture Rate: 0.9908256880733946, Composite Score: 0.9936055360779292\n",
      "AUC: 0.996357643580985, Balanced Accuracy: 0.9954267445093133, Fraud Capture Rate: 0.9938837920489297, Composite Score: 0.995222726713076\n",
      "AUC: 0.9972682326857387, Balanced Accuracy: 0.996570058381985, Fraud Capture Rate: 0.9954128440366973, Composite Score: 0.996417045034807\n",
      "AUC: 0.997814586148591, Balanced Accuracy: 0.997256046705588, Fraud Capture Rate: 0.9963302752293579, Composite Score: 0.9971336360278457\n"
     ]
    },
    {
     "name": "stderr",
     "output_type": "stream",
     "text": [
      "[I 2025-06-16 06:26:45,676] Trial 28 finished with value: 0.9971336360278457 and parameters: {'threshold': 0.4059497002429614, 'n_estimators': 131, 'learning_rate': 0.06925026884482147, 'max_depth': 10, 'num_leaves': 33, 'min_child_samples': 40, 'subsample': 0.9628160833474195, 'subsample_freq': 4, 'colsample_bytree': 0.8003883024265871, 'reg_alpha': 0.31748600377885305, 'reg_lambda': 0.0976869957264973, 'max_bin': 212}. Best is trial 26 with value: 0.9976412633306101.\n",
      "C:\\Users\\emanu\\AppData\\Local\\Temp\\ipykernel_23904\\3458708873.py:14: FutureWarning: suggest_loguniform has been deprecated in v3.0.0. This feature will be removed in v6.0.0. See https://github.com/optuna/optuna/releases/tag/v3.0.0. Use suggest_float(..., log=True) instead.\n",
      "  'learning_rate': trial.suggest_loguniform('learning_rate', 0.001, 0.2),\n"
     ]
    },
    {
     "name": "stdout",
     "output_type": "stream",
     "text": [
      "AUC: 0.9967480528205236, Balanced Accuracy: 0.9908256880733946, Fraud Capture Rate: 0.981651376146789, Composite Score: 0.9897417056802357\n",
      "AUC: 0.9983740264102619, Balanced Accuracy: 0.9954128440366973, Fraud Capture Rate: 0.9908256880733946, Composite Score: 0.9948708528401178\n",
      "AUC: 0.9989059616750552, Balanced Accuracy: 0.9954267445093133, Fraud Capture Rate: 0.9938837920489297, Composite Score: 0.996072166077766\n",
      "AUC: 0.9991794712562914, Balanced Accuracy: 0.996570058381985, Fraud Capture Rate: 0.9954128440366973, Composite Score: 0.9970541245583245\n"
     ]
    },
    {
     "name": "stderr",
     "output_type": "stream",
     "text": [
      "[I 2025-06-16 06:26:46,697] Trial 29 finished with value: 0.9976432996466595 and parameters: {'threshold': 0.47035236108226064, 'n_estimators': 149, 'learning_rate': 0.11712570986073118, 'max_depth': 10, 'num_leaves': 31, 'min_child_samples': 43, 'subsample': 0.7708187394233096, 'subsample_freq': 5, 'colsample_bytree': 0.8494618593704473, 'reg_alpha': 0.18396654220854464, 'reg_lambda': 0.10440040123828889, 'max_bin': 296}. Best is trial 29 with value: 0.9976432996466595.\n"
     ]
    },
    {
     "name": "stdout",
     "output_type": "stream",
     "text": [
      "AUC: 0.9993435770050331, Balanced Accuracy: 0.997256046705588, Fraud Capture Rate: 0.9963302752293579, Composite Score: 0.9976432996466595\n"
     ]
    },
    {
     "name": "stderr",
     "output_type": "stream",
     "text": [
      "C:\\Users\\emanu\\AppData\\Local\\Temp\\ipykernel_23904\\3458708873.py:14: FutureWarning: suggest_loguniform has been deprecated in v3.0.0. This feature will be removed in v6.0.0. See https://github.com/optuna/optuna/releases/tag/v3.0.0. Use suggest_float(..., log=True) instead.\n",
      "  'learning_rate': trial.suggest_loguniform('learning_rate', 0.001, 0.2),\n"
     ]
    },
    {
     "name": "stdout",
     "output_type": "stream",
     "text": [
      "AUC: 0.9894238238196208, Balanced Accuracy: 0.9907684798354082, Fraud Capture Rate: 0.981651376146789, Composite Score: 0.987281226600606\n",
      "AUC: 0.9947119119098105, Balanced Accuracy: 0.9950981659962028, Fraud Capture Rate: 0.9908256880733946, Composite Score: 0.9935452553264692\n",
      "AUC: 0.9964640318736847, Balanced Accuracy: 0.9952169591489838, Fraud Capture Rate: 0.9938837920489297, Composite Score: 0.9951882610238659\n"
     ]
    },
    {
     "name": "stderr",
     "output_type": "stream",
     "text": [
      "[I 2025-06-16 06:26:47,774] Trial 30 finished with value: 0.9971091422953663 and parameters: {'threshold': 0.47148649665564973, 'n_estimators': 150, 'learning_rate': 0.028247757056422615, 'max_depth': 11, 'num_leaves': 31, 'min_child_samples': 25, 'subsample': 0.7380317637801378, 'subsample_freq': 5, 'colsample_bytree': 0.8693337088433563, 'reg_alpha': 0.4691550321834367, 'reg_lambda': 0.24606828135220837, 'max_bin': 286}. Best is trial 29 with value: 0.9976432996466595.\n"
     ]
    },
    {
     "name": "stdout",
     "output_type": "stream",
     "text": [
      "AUC: 0.9973480239052636, Balanced Accuracy: 0.9963984156656627, Fraud Capture Rate: 0.9954128440366973, Composite Score: 0.9963864278692077\n",
      "AUC: 0.9978784191242109, Balanced Accuracy: 0.9971187325325301, Fraud Capture Rate: 0.9963302752293579, Composite Score: 0.9971091422953663\n"
     ]
    },
    {
     "name": "stderr",
     "output_type": "stream",
     "text": [
      "C:\\Users\\emanu\\AppData\\Local\\Temp\\ipykernel_23904\\3458708873.py:14: FutureWarning: suggest_loguniform has been deprecated in v3.0.0. This feature will be removed in v6.0.0. See https://github.com/optuna/optuna/releases/tag/v3.0.0. Use suggest_float(..., log=True) instead.\n",
      "  'learning_rate': trial.suggest_loguniform('learning_rate', 0.001, 0.2),\n"
     ]
    },
    {
     "name": "stdout",
     "output_type": "stream",
     "text": [
      "AUC: 0.9956668696072052, Balanced Accuracy: 0.9908256880733946, Fraud Capture Rate: 0.981651376146789, Composite Score: 0.9893813112757962\n",
      "AUC: 0.9978334348036026, Balanced Accuracy: 0.9954128440366973, Fraud Capture Rate: 0.9908256880733946, Composite Score: 0.994690655637898\n",
      "AUC: 0.9985504218583744, Balanced Accuracy: 0.9954076729145466, Fraud Capture Rate: 0.9938837920489297, Composite Score: 0.9959472956072836\n",
      "AUC: 0.9989128163937808, Balanced Accuracy: 0.99655575468591, Fraud Capture Rate: 0.9954128440366973, Composite Score: 0.9969604717054626\n",
      "AUC: 0.9991302531150247, Balanced Accuracy: 0.997244603748728, Fraud Capture Rate: 0.9963302752293579, Composite Score: 0.9975683773643702\n"
     ]
    },
    {
     "name": "stderr",
     "output_type": "stream",
     "text": [
      "[I 2025-06-16 06:26:49,003] Trial 31 finished with value: 0.9975683773643702 and parameters: {'threshold': 0.4215906396473782, 'n_estimators': 147, 'learning_rate': 0.11915035984592454, 'max_depth': 9, 'num_leaves': 31, 'min_child_samples': 43, 'subsample': 0.7721046621693215, 'subsample_freq': 5, 'colsample_bytree': 0.8400241478300405, 'reg_alpha': 0.1779708510741692, 'reg_lambda': 0.09195133751249018, 'max_bin': 291}. Best is trial 29 with value: 0.9976432996466595.\n",
      "C:\\Users\\emanu\\AppData\\Local\\Temp\\ipykernel_23904\\3458708873.py:14: FutureWarning: suggest_loguniform has been deprecated in v3.0.0. This feature will be removed in v6.0.0. See https://github.com/optuna/optuna/releases/tag/v3.0.0. Use suggest_float(..., log=True) instead.\n",
      "  'learning_rate': trial.suggest_loguniform('learning_rate', 0.001, 0.2),\n"
     ]
    },
    {
     "name": "stdout",
     "output_type": "stream",
     "text": [
      "AUC: 0.9966667016564147, Balanced Accuracy: 0.9908256880733946, Fraud Capture Rate: 0.981651376146789, Composite Score: 0.9897145886255329\n",
      "AUC: 0.9983333508282073, Balanced Accuracy: 0.9954128440366973, Fraud Capture Rate: 0.9908256880733946, Composite Score: 0.9948572943127665\n",
      "AUC: 0.9988597730255853, Balanced Accuracy: 0.9954267445093133, Fraud Capture Rate: 0.9938837920489297, Composite Score: 0.9960567698612762\n",
      "AUC: 0.999144829769189, Balanced Accuracy: 0.996570058381985, Fraud Capture Rate: 0.9954128440366973, Composite Score: 0.9970425773959571\n"
     ]
    },
    {
     "name": "stderr",
     "output_type": "stream",
     "text": [
      "[I 2025-06-16 06:26:49,930] Trial 32 finished with value: 0.9976340619167658 and parameters: {'threshold': 0.4618969456598197, 'n_estimators': 128, 'learning_rate': 0.1447004699380844, 'max_depth': 10, 'num_leaves': 34, 'min_child_samples': 47, 'subsample': 0.8221719972091592, 'subsample_freq': 5, 'colsample_bytree': 0.9989784048089946, 'reg_alpha': 0.18296034296418942, 'reg_lambda': 0.2349863877622353, 'max_bin': 263}. Best is trial 29 with value: 0.9976432996466595.\n"
     ]
    },
    {
     "name": "stdout",
     "output_type": "stream",
     "text": [
      "AUC: 0.9993158638153512, Balanced Accuracy: 0.997256046705588, Fraud Capture Rate: 0.9963302752293579, Composite Score: 0.9976340619167658\n"
     ]
    },
    {
     "name": "stderr",
     "output_type": "stream",
     "text": [
      "C:\\Users\\emanu\\AppData\\Local\\Temp\\ipykernel_23904\\3458708873.py:14: FutureWarning: suggest_loguniform has been deprecated in v3.0.0. This feature will be removed in v6.0.0. See https://github.com/optuna/optuna/releases/tag/v3.0.0. Use suggest_float(..., log=True) instead.\n",
      "  'learning_rate': trial.suggest_loguniform('learning_rate', 0.001, 0.2),\n"
     ]
    },
    {
     "name": "stdout",
     "output_type": "stream",
     "text": [
      "AUC: 0.9880959628828754, Balanced Accuracy: 0.9908256880733946, Fraud Capture Rate: 0.981651376146789, Composite Score: 0.9868576757010197\n",
      "AUC: 0.9940479814414377, Balanced Accuracy: 0.9953842366445471, Fraud Capture Rate: 0.9908256880733946, Composite Score: 0.9934193020531263\n",
      "AUC: 0.9960229719646444, Balanced Accuracy: 0.9954076729145466, Fraud Capture Rate: 0.9938837920489297, Composite Score: 0.9951048123093735\n",
      "AUC: 0.9970172289734833, Balanced Accuracy: 0.99655575468591, Fraud Capture Rate: 0.9954128440366973, Composite Score: 0.9963286092320301\n"
     ]
    },
    {
     "name": "stderr",
     "output_type": "stream",
     "text": [
      "[I 2025-06-16 06:26:51,046] Trial 33 finished with value: 0.9970628873856242 and parameters: {'threshold': 0.46085602789990554, 'n_estimators': 167, 'learning_rate': 0.062350016729904985, 'max_depth': 10, 'num_leaves': 32, 'min_child_samples': 41, 'subsample': 0.8295531867261043, 'subsample_freq': 5, 'colsample_bytree': 0.9868539542901733, 'reg_alpha': 0.1588355137064109, 'reg_lambda': 0.38255736142549523, 'max_bin': 298}. Best is trial 29 with value: 0.9976432996466595.\n"
     ]
    },
    {
     "name": "stdout",
     "output_type": "stream",
     "text": [
      "AUC: 0.9976137831787867, Balanced Accuracy: 0.997244603748728, Fraud Capture Rate: 0.9963302752293579, Composite Score: 0.9970628873856242\n"
     ]
    },
    {
     "name": "stderr",
     "output_type": "stream",
     "text": [
      "C:\\Users\\emanu\\AppData\\Local\\Temp\\ipykernel_23904\\3458708873.py:14: FutureWarning: suggest_loguniform has been deprecated in v3.0.0. This feature will be removed in v6.0.0. See https://github.com/optuna/optuna/releases/tag/v3.0.0. Use suggest_float(..., log=True) instead.\n",
      "  'learning_rate': trial.suggest_loguniform('learning_rate', 0.001, 0.2),\n"
     ]
    },
    {
     "name": "stdout",
     "output_type": "stream",
     "text": [
      "AUC: 0.9966194654966094, Balanced Accuracy: 0.9908256880733946, Fraud Capture Rate: 0.981651376146789, Composite Score: 0.989698843238931\n",
      "AUC: 0.9983097327483047, Balanced Accuracy: 0.9954128440366973, Fraud Capture Rate: 0.9908256880733946, Composite Score: 0.9948494216194654\n",
      "AUC: 0.9988363990010769, Balanced Accuracy: 0.9954076729145466, Fraud Capture Rate: 0.9938837920489297, Composite Score: 0.9960426213215178\n",
      "AUC: 0.9991272992508077, Balanced Accuracy: 0.99655575468591, Fraud Capture Rate: 0.9954128440366973, Composite Score: 0.9970319659911383\n"
     ]
    },
    {
     "name": "stderr",
     "output_type": "stream",
     "text": [
      "[I 2025-06-16 06:26:52,139] Trial 34 finished with value: 0.9976255727929108 and parameters: {'threshold': 0.49088212901265543, 'n_estimators': 122, 'learning_rate': 0.13772652515179692, 'max_depth': 11, 'num_leaves': 30, 'min_child_samples': 36, 'subsample': 0.771922429054674, 'subsample_freq': 4, 'colsample_bytree': 0.9978136239127489, 'reg_alpha': 0.04885583783464269, 'reg_lambda': 0.24123679993774508, 'max_bin': 268}. Best is trial 29 with value: 0.9976432996466595.\n"
     ]
    },
    {
     "name": "stdout",
     "output_type": "stream",
     "text": [
      "AUC: 0.9993018394006462, Balanced Accuracy: 0.997244603748728, Fraud Capture Rate: 0.9963302752293579, Composite Score: 0.9976255727929108\n"
     ]
    },
    {
     "name": "stderr",
     "output_type": "stream",
     "text": [
      "C:\\Users\\emanu\\AppData\\Local\\Temp\\ipykernel_23904\\3458708873.py:14: FutureWarning: suggest_loguniform has been deprecated in v3.0.0. This feature will be removed in v6.0.0. See https://github.com/optuna/optuna/releases/tag/v3.0.0. Use suggest_float(..., log=True) instead.\n",
      "  'learning_rate': trial.suggest_loguniform('learning_rate', 0.001, 0.2),\n"
     ]
    },
    {
     "name": "stdout",
     "output_type": "stream",
     "text": [
      "AUC: 0.9936971217433292, Balanced Accuracy: 0.9908256880733946, Fraud Capture Rate: 0.981651376146789, Composite Score: 0.9887247286545042\n",
      "AUC: 0.9968485608716646, Balanced Accuracy: 0.9954128440366973, Fraud Capture Rate: 0.9908256880733946, Composite Score: 0.9943623643272521\n",
      "AUC: 0.9978713000796309, Balanced Accuracy: 0.9953886013197799, Fraud Capture Rate: 0.9938837920489297, Composite Score: 0.9957145644827801\n",
      "AUC: 0.9984034750597232, Balanced Accuracy: 0.9965414509898349, Fraud Capture Rate: 0.9954128440366973, Composite Score: 0.996785923362085\n"
     ]
    },
    {
     "name": "stderr",
     "output_type": "stream",
     "text": [
      "[I 2025-06-16 06:26:53,023] Trial 35 finished with value: 0.9974287386896681 and parameters: {'threshold': 0.49875729295432264, 'n_estimators': 113, 'learning_rate': 0.1444052957222094, 'max_depth': 12, 'num_leaves': 30, 'min_child_samples': 34, 'subsample': 0.7784870228141583, 'subsample_freq': 5, 'colsample_bytree': 0.994532987501512, 'reg_alpha': 0.03685949405864386, 'reg_lambda': 0.25410957339867357, 'max_bin': 271}. Best is trial 29 with value: 0.9976432996466595.\n"
     ]
    },
    {
     "name": "stdout",
     "output_type": "stream",
     "text": [
      "AUC: 0.9987227800477786, Balanced Accuracy: 0.997233160791868, Fraud Capture Rate: 0.9963302752293579, Composite Score: 0.9974287386896681\n"
     ]
    },
    {
     "name": "stderr",
     "output_type": "stream",
     "text": [
      "C:\\Users\\emanu\\AppData\\Local\\Temp\\ipykernel_23904\\3458708873.py:14: FutureWarning: suggest_loguniform has been deprecated in v3.0.0. This feature will be removed in v6.0.0. See https://github.com/optuna/optuna/releases/tag/v3.0.0. Use suggest_float(..., log=True) instead.\n",
      "  'learning_rate': trial.suggest_loguniform('learning_rate', 0.001, 0.2),\n"
     ]
    },
    {
     "name": "stdout",
     "output_type": "stream",
     "text": [
      "AUC: 0.9886963869586209, Balanced Accuracy: 0.9908256880733946, Fraud Capture Rate: 0.981651376146789, Composite Score: 0.9870578170596015\n",
      "AUC: 0.9943481934793105, Balanced Accuracy: 0.9953842366445471, Fraud Capture Rate: 0.9908256880733946, Composite Score: 0.9935193727324173\n",
      "AUC: 0.9962172184666621, Balanced Accuracy: 0.9954076729145466, Fraud Capture Rate: 0.9938837920489297, Composite Score: 0.9951695611433794\n",
      "AUC: 0.9971629138499966, Balanced Accuracy: 0.99655575468591, Fraud Capture Rate: 0.9954128440366973, Composite Score: 0.9963771708575345\n"
     ]
    },
    {
     "name": "stderr",
     "output_type": "stream",
     "text": [
      "[I 2025-06-16 06:26:53,968] Trial 36 finished with value: 0.9971017366860278 and parameters: {'threshold': 0.4323722079611357, 'n_estimators': 120, 'learning_rate': 0.055366993227564394, 'max_depth': 11, 'num_leaves': 26, 'min_child_samples': 37, 'subsample': 0.8230881591997424, 'subsample_freq': 4, 'colsample_bytree': 0.8824329280981299, 'reg_alpha': 0.7896505582136191, 'reg_lambda': 0.3432409004882734, 'max_bin': 263}. Best is trial 29 with value: 0.9976432996466595.\n"
     ]
    },
    {
     "name": "stdout",
     "output_type": "stream",
     "text": [
      "AUC: 0.9977303310799972, Balanced Accuracy: 0.997244603748728, Fraud Capture Rate: 0.9963302752293579, Composite Score: 0.9971017366860278\n"
     ]
    },
    {
     "name": "stderr",
     "output_type": "stream",
     "text": [
      "C:\\Users\\emanu\\AppData\\Local\\Temp\\ipykernel_23904\\3458708873.py:14: FutureWarning: suggest_loguniform has been deprecated in v3.0.0. This feature will be removed in v6.0.0. See https://github.com/optuna/optuna/releases/tag/v3.0.0. Use suggest_float(..., log=True) instead.\n",
      "  'learning_rate': trial.suggest_loguniform('learning_rate', 0.001, 0.2),\n"
     ]
    },
    {
     "name": "stdout",
     "output_type": "stream",
     "text": [
      "AUC: 0.9956973106879684, Balanced Accuracy: 0.9908256880733946, Fraud Capture Rate: 0.981651376146789, Composite Score: 0.9893914583027174\n",
      "AUC: 0.9978486553439843, Balanced Accuracy: 0.9953556292523971, Fraud Capture Rate: 0.9908256880733946, Composite Score: 0.994676657556592\n",
      "AUC: 0.998538723240381, Balanced Accuracy: 0.9953504581302464, Fraud Capture Rate: 0.9938837920489297, Composite Score: 0.9959243244731857\n",
      "AUC: 0.9989040424302857, Balanced Accuracy: 0.9965128435976848, Fraud Capture Rate: 0.9954128440366973, Composite Score: 0.9969432433548893\n"
     ]
    },
    {
     "name": "stderr",
     "output_type": "stream",
     "text": [
      "[I 2025-06-16 06:26:55,347] Trial 37 finished with value: 0.9975545946839114 and parameters: {'threshold': 0.47215707194749074, 'n_estimators': 287, 'learning_rate': 0.14770258692638313, 'max_depth': 12, 'num_leaves': 29, 'min_child_samples': 32, 'subsample': 0.7561922131838259, 'subsample_freq': 5, 'colsample_bytree': 0.9592809728518649, 'reg_alpha': 0.20771656891091594, 'reg_lambda': 0.45855041476658376, 'max_bin': 258}. Best is trial 29 with value: 0.9976432996466595.\n"
     ]
    },
    {
     "name": "stdout",
     "output_type": "stream",
     "text": [
      "AUC: 0.9991232339442286, Balanced Accuracy: 0.9972102748781477, Fraud Capture Rate: 0.9963302752293579, Composite Score: 0.9975545946839114\n"
     ]
    },
    {
     "name": "stderr",
     "output_type": "stream",
     "text": [
      "C:\\Users\\emanu\\AppData\\Local\\Temp\\ipykernel_23904\\3458708873.py:14: FutureWarning: suggest_loguniform has been deprecated in v3.0.0. This feature will be removed in v6.0.0. See https://github.com/optuna/optuna/releases/tag/v3.0.0. Use suggest_float(..., log=True) instead.\n",
      "  'learning_rate': trial.suggest_loguniform('learning_rate', 0.001, 0.2),\n"
     ]
    },
    {
     "name": "stdout",
     "output_type": "stream",
     "text": [
      "AUC: 0.9883148237566393, Balanced Accuracy: 0.9908256880733946, Fraud Capture Rate: 0.981651376146789, Composite Score: 0.9869306293256076\n",
      "AUC: 0.9941574118783196, Balanced Accuracy: 0.9953556292523971, Fraud Capture Rate: 0.9908256880733946, Composite Score: 0.9934462430680371\n",
      "AUC: 0.9960986996393805, Balanced Accuracy: 0.9953886013197799, Fraud Capture Rate: 0.9938837920489297, Composite Score: 0.9951236976693633\n",
      "AUC: 0.9970740247295353, Balanced Accuracy: 0.9965414509898349, Fraud Capture Rate: 0.9954128440366973, Composite Score: 0.9963427732520225\n"
     ]
    },
    {
     "name": "stderr",
     "output_type": "stream",
     "text": [
      "[I 2025-06-16 06:26:56,393] Trial 38 finished with value: 0.9970742186016179 and parameters: {'threshold': 0.49868954246237485, 'n_estimators': 140, 'learning_rate': 0.033361474928316016, 'max_depth': 13, 'num_leaves': 27, 'min_child_samples': 38, 'subsample': 0.7184081107461264, 'subsample_freq': 5, 'colsample_bytree': 0.9292263189964364, 'reg_alpha': 0.1277211269571994, 'reg_lambda': 0.09541082354453181, 'max_bin': 274}. Best is trial 29 with value: 0.9976432996466595.\n"
     ]
    },
    {
     "name": "stdout",
     "output_type": "stream",
     "text": [
      "AUC: 0.9976592197836283, Balanced Accuracy: 0.997233160791868, Fraud Capture Rate: 0.9963302752293579, Composite Score: 0.9970742186016179\n"
     ]
    },
    {
     "name": "stderr",
     "output_type": "stream",
     "text": [
      "C:\\Users\\emanu\\AppData\\Local\\Temp\\ipykernel_23904\\3458708873.py:14: FutureWarning: suggest_loguniform has been deprecated in v3.0.0. This feature will be removed in v6.0.0. See https://github.com/optuna/optuna/releases/tag/v3.0.0. Use suggest_float(..., log=True) instead.\n",
      "  'learning_rate': trial.suggest_loguniform('learning_rate', 0.001, 0.2),\n"
     ]
    },
    {
     "name": "stdout",
     "output_type": "stream",
     "text": [
      "AUC: 0.9886627968005375, Balanced Accuracy: 0.9908256880733946, Fraud Capture Rate: 0.981651376146789, Composite Score: 0.9870466203402404\n",
      "AUC: 0.9943313984002687, Balanced Accuracy: 0.9954128440366973, Fraud Capture Rate: 0.9908256880733946, Composite Score: 0.9935233101701202\n",
      "AUC: 0.9962164244353554, Balanced Accuracy: 0.9954267445093133, Fraud Capture Rate: 0.9938837920489297, Composite Score: 0.9951756536645329\n",
      "AUC: 0.9971623183265166, Balanced Accuracy: 0.996570058381985, Fraud Capture Rate: 0.9954128440366973, Composite Score: 0.9963817402483996\n"
     ]
    },
    {
     "name": "stderr",
     "output_type": "stream",
     "text": [
      "[I 2025-06-16 06:26:57,321] Trial 39 finished with value: 0.9971053921987197 and parameters: {'threshold': 0.45118265758265436, 'n_estimators': 110, 'learning_rate': 0.07132806988000488, 'max_depth': 10, 'num_leaves': 32, 'min_child_samples': 44, 'subsample': 0.7944784043725632, 'subsample_freq': 4, 'colsample_bytree': 0.8283826855157987, 'reg_alpha': 0.31953405178752303, 'reg_lambda': 0.2841317785892843, 'max_bin': 291}. Best is trial 29 with value: 0.9976432996466595.\n"
     ]
    },
    {
     "name": "stdout",
     "output_type": "stream",
     "text": [
      "AUC: 0.9977298546612132, Balanced Accuracy: 0.997256046705588, Fraud Capture Rate: 0.9963302752293579, Composite Score: 0.9971053921987197\n"
     ]
    },
    {
     "name": "stderr",
     "output_type": "stream",
     "text": [
      "C:\\Users\\emanu\\AppData\\Local\\Temp\\ipykernel_23904\\3458708873.py:14: FutureWarning: suggest_loguniform has been deprecated in v3.0.0. This feature will be removed in v6.0.0. See https://github.com/optuna/optuna/releases/tag/v3.0.0. Use suggest_float(..., log=True) instead.\n",
      "  'learning_rate': trial.suggest_loguniform('learning_rate', 0.001, 0.2),\n"
     ]
    },
    {
     "name": "stdout",
     "output_type": "stream",
     "text": [
      "AUC: 0.9870877332941448, Balanced Accuracy: 0.9905396468834631, Fraud Capture Rate: 0.981651376146789, Composite Score: 0.9864262521081323\n",
      "AUC: 0.9935438666470724, Balanced Accuracy: 0.9949837495202303, Fraud Capture Rate: 0.9908256880733946, Composite Score: 0.9931177680802323\n",
      "AUC: 0.9956924435353635, Balanced Accuracy: 0.9951216099035687, Fraud Capture Rate: 0.9938837920489297, Composite Score: 0.9948992818292872\n",
      "AUC: 0.9967693326515226, Balanced Accuracy: 0.9962839926433762, Fraud Capture Rate: 0.9954128440366973, Composite Score: 0.9961553897771986\n"
     ]
    },
    {
     "name": "stderr",
     "output_type": "stream",
     "text": [
      "[I 2025-06-16 06:26:58,298] Trial 40 finished with value: 0.9969166831838521 and parameters: {'threshold': 0.05173536248958144, 'n_estimators': 126, 'learning_rate': 0.0461685479366381, 'max_depth': 11, 'num_leaves': 36, 'min_child_samples': 34, 'subsample': 0.8025987870351563, 'subsample_freq': 1, 'colsample_bytree': 0.9686898555289731, 'reg_alpha': 0.14993842768533563, 'reg_lambda': 0.3249579300289245, 'max_bin': 280}. Best is trial 29 with value: 0.9976432996466595.\n"
     ]
    },
    {
     "name": "stdout",
     "output_type": "stream",
     "text": [
      "AUC: 0.997415466121218, Balanced Accuracy: 0.997004308200981, Fraud Capture Rate: 0.9963302752293579, Composite Score: 0.9969166831838521\n"
     ]
    },
    {
     "name": "stderr",
     "output_type": "stream",
     "text": [
      "C:\\Users\\emanu\\AppData\\Local\\Temp\\ipykernel_23904\\3458708873.py:14: FutureWarning: suggest_loguniform has been deprecated in v3.0.0. This feature will be removed in v6.0.0. See https://github.com/optuna/optuna/releases/tag/v3.0.0. Use suggest_float(..., log=True) instead.\n",
      "  'learning_rate': trial.suggest_loguniform('learning_rate', 0.001, 0.2),\n"
     ]
    },
    {
     "name": "stdout",
     "output_type": "stream",
     "text": [
      "AUC: 0.99543698696282, Balanced Accuracy: 0.9908256880733946, Fraud Capture Rate: 0.981651376146789, Composite Score: 0.9893046837276679\n",
      "AUC: 0.9977184934814101, Balanced Accuracy: 0.9953842366445471, Fraud Capture Rate: 0.9908256880733946, Composite Score: 0.9946428060664505\n",
      "AUC: 0.9984755280915886, Balanced Accuracy: 0.9954076729145466, Fraud Capture Rate: 0.9938837920489297, Composite Score: 0.9959223310183548\n"
     ]
    },
    {
     "name": "stderr",
     "output_type": "stream",
     "text": [
      "[I 2025-06-16 06:26:59,383] Trial 41 finished with value: 0.9975533986110129 and parameters: {'threshold': 0.41651742505044287, 'n_estimators': 152, 'learning_rate': 0.1342531576468223, 'max_depth': 9, 'num_leaves': 33, 'min_child_samples': 48, 'subsample': 0.7557894205814144, 'subsample_freq': 3, 'colsample_bytree': 0.7692424142305044, 'reg_alpha': 0.06064338222745837, 'reg_lambda': 0.20295465905874385, 'max_bin': 270}. Best is trial 29 with value: 0.9976432996466595.\n"
     ]
    },
    {
     "name": "stdout",
     "output_type": "stream",
     "text": [
      "AUC: 0.9988566460686914, Balanced Accuracy: 0.99655575468591, Fraud Capture Rate: 0.9954128440366973, Composite Score: 0.9969417482637661\n",
      "AUC: 0.9990853168549532, Balanced Accuracy: 0.997244603748728, Fraud Capture Rate: 0.9963302752293579, Composite Score: 0.9975533986110129\n"
     ]
    },
    {
     "name": "stderr",
     "output_type": "stream",
     "text": [
      "C:\\Users\\emanu\\AppData\\Local\\Temp\\ipykernel_23904\\3458708873.py:14: FutureWarning: suggest_loguniform has been deprecated in v3.0.0. This feature will be removed in v6.0.0. See https://github.com/optuna/optuna/releases/tag/v3.0.0. Use suggest_float(..., log=True) instead.\n",
      "  'learning_rate': trial.suggest_loguniform('learning_rate', 0.001, 0.2),\n"
     ]
    },
    {
     "name": "stdout",
     "output_type": "stream",
     "text": [
      "AUC: 0.9951430730795877, Balanced Accuracy: 0.9908256880733946, Fraud Capture Rate: 0.981651376146789, Composite Score: 0.9892067124332571\n",
      "AUC: 0.9975715365397939, Balanced Accuracy: 0.9954128440366973, Fraud Capture Rate: 0.9908256880733946, Composite Score: 0.9946033562166285\n",
      "AUC: 0.9983723554531504, Balanced Accuracy: 0.9954267445093133, Fraud Capture Rate: 0.9938837920489297, Composite Score: 0.9958942973371312\n",
      "AUC: 0.9987792665898628, Balanced Accuracy: 0.996570058381985, Fraud Capture Rate: 0.9954128440366973, Composite Score: 0.9969207230028484\n",
      "AUC: 0.9990234132718904, Balanced Accuracy: 0.997256046705588, Fraud Capture Rate: 0.9963302752293579, Composite Score: 0.9975365784022788\n"
     ]
    },
    {
     "name": "stderr",
     "output_type": "stream",
     "text": [
      "[I 2025-06-16 06:27:00,378] Trial 42 finished with value: 0.9975365784022788 and parameters: {'threshold': 0.38289593906772684, 'n_estimators': 144, 'learning_rate': 0.08413552541054858, 'max_depth': 10, 'num_leaves': 40, 'min_child_samples': 41, 'subsample': 0.7012796945790509, 'subsample_freq': 4, 'colsample_bytree': 0.9966867631583048, 'reg_alpha': 0.2155471460125694, 'reg_lambda': 0.12148937803494424, 'max_bin': 248}. Best is trial 29 with value: 0.9976432996466595.\n",
      "C:\\Users\\emanu\\AppData\\Local\\Temp\\ipykernel_23904\\3458708873.py:14: FutureWarning: suggest_loguniform has been deprecated in v3.0.0. This feature will be removed in v6.0.0. See https://github.com/optuna/optuna/releases/tag/v3.0.0. Use suggest_float(..., log=True) instead.\n",
      "  'learning_rate': trial.suggest_loguniform('learning_rate', 0.001, 0.2),\n"
     ]
    },
    {
     "name": "stdout",
     "output_type": "stream",
     "text": [
      "AUC: 0.9955277853588899, Balanced Accuracy: 0.9908256880733946, Fraud Capture Rate: 0.981651376146789, Composite Score: 0.9893349498596912\n",
      "AUC: 0.997763892679445, Balanced Accuracy: 0.9954128440366973, Fraud Capture Rate: 0.9908256880733946, Composite Score: 0.9946674749298456\n",
      "AUC: 0.9984992058545106, Balanced Accuracy: 0.9954267445093133, Fraud Capture Rate: 0.9938837920489297, Composite Score: 0.9959365808042513\n",
      "AUC: 0.9975354484046561, Balanced Accuracy: 0.9929607157278432, Fraud Capture Rate: 0.99314011676397, Composite Score: 0.9945454269654899\n",
      "AUC: 0.9980283587237249, Balanced Accuracy: 0.9943685725822746, Fraud Capture Rate: 0.994512093411176, Composite Score: 0.9956363415723919\n"
     ]
    },
    {
     "name": "stderr",
     "output_type": "stream",
     "text": [
      "[I 2025-06-16 06:27:01,522] Trial 43 finished with value: 0.9956363415723919 and parameters: {'threshold': 0.48301836740900334, 'n_estimators': 162, 'learning_rate': 0.16388404822268718, 'max_depth': 9, 'num_leaves': 35, 'min_child_samples': 45, 'subsample': 0.8380379622017161, 'subsample_freq': 4, 'colsample_bytree': 0.8985218958448681, 'reg_alpha': 0.09367302075842955, 'reg_lambda': 0.04875324503887857, 'max_bin': 264}. Best is trial 29 with value: 0.9976432996466595.\n",
      "C:\\Users\\emanu\\AppData\\Local\\Temp\\ipykernel_23904\\3458708873.py:14: FutureWarning: suggest_loguniform has been deprecated in v3.0.0. This feature will be removed in v6.0.0. See https://github.com/optuna/optuna/releases/tag/v3.0.0. Use suggest_float(..., log=True) instead.\n",
      "  'learning_rate': trial.suggest_loguniform('learning_rate', 0.001, 0.2),\n"
     ]
    },
    {
     "name": "stdout",
     "output_type": "stream",
     "text": [
      "AUC: 0.9865172254529422, Balanced Accuracy: 0.5, Fraud Capture Rate: 0.981651376146789, Composite Score: 0.8227228671999104\n",
      "AUC: 0.9932294851999182, Balanced Accuracy: 0.5, Fraud Capture Rate: 0.9908256880733946, Composite Score: 0.8280183910911042\n",
      "AUC: 0.9954610102590126, Balanced Accuracy: 0.5, Fraud Capture Rate: 0.9938837920489297, Composite Score: 0.8297816007693141\n",
      "AUC: 0.9965931570222458, Balanced Accuracy: 0.5, Fraud Capture Rate: 0.9954128440366973, Composite Score: 0.8306686670196477\n"
     ]
    },
    {
     "name": "stderr",
     "output_type": "stream",
     "text": [
      "[I 2025-06-16 06:27:02,605] Trial 44 finished with value: 0.8312014615798775 and parameters: {'threshold': 0.45482334557463605, 'n_estimators': 132, 'learning_rate': 0.0020022202504394564, 'max_depth': 8, 'num_leaves': 31, 'min_child_samples': 48, 'subsample': 0.8183463944338498, 'subsample_freq': 5, 'colsample_bytree': 0.7177113599740463, 'reg_alpha': 0.04153401003327323, 'reg_lambda': 0.01835426576899711, 'max_bin': 256}. Best is trial 29 with value: 0.9976432996466595.\n"
     ]
    },
    {
     "name": "stdout",
     "output_type": "stream",
     "text": [
      "AUC: 0.9972741095102744, Balanced Accuracy: 0.5, Fraud Capture Rate: 0.9963302752293579, Composite Score: 0.8312014615798775\n"
     ]
    },
    {
     "name": "stderr",
     "output_type": "stream",
     "text": [
      "C:\\Users\\emanu\\AppData\\Local\\Temp\\ipykernel_23904\\3458708873.py:14: FutureWarning: suggest_loguniform has been deprecated in v3.0.0. This feature will be removed in v6.0.0. See https://github.com/optuna/optuna/releases/tag/v3.0.0. Use suggest_float(..., log=True) instead.\n",
      "  'learning_rate': trial.suggest_loguniform('learning_rate', 0.001, 0.2),\n"
     ]
    },
    {
     "name": "stdout",
     "output_type": "stream",
     "text": [
      "AUC: 0.9948680536602775, Balanced Accuracy: 0.9908256880733946, Fraud Capture Rate: 0.981651376146789, Composite Score: 0.9891150392934871\n",
      "AUC: 0.9974340268301387, Balanced Accuracy: 0.9954128440366973, Fraud Capture Rate: 0.9908256880733946, Composite Score: 0.9945575196467435\n",
      "AUC: 0.9982834563635281, Balanced Accuracy: 0.9954267445093133, Fraud Capture Rate: 0.9938837920489297, Composite Score: 0.9958646643072572\n",
      "AUC: 0.9987125922726461, Balanced Accuracy: 0.996570058381985, Fraud Capture Rate: 0.9954128440366973, Composite Score: 0.9968984982304429\n"
     ]
    },
    {
     "name": "stderr",
     "output_type": "stream",
     "text": [
      "[I 2025-06-16 06:27:03,782] Trial 45 finished with value: 0.9975187985843543 and parameters: {'threshold': 0.426448522851308, 'n_estimators': 170, 'learning_rate': 0.1171185526642401, 'max_depth': 10, 'num_leaves': 30, 'min_child_samples': 29, 'subsample': 0.8717735671450388, 'subsample_freq': 4, 'colsample_bytree': 0.9420515144007642, 'reg_alpha': 0.1526984271623015, 'reg_lambda': 0.22122045940145824, 'max_bin': 283}. Best is trial 29 with value: 0.9976432996466595.\n"
     ]
    },
    {
     "name": "stdout",
     "output_type": "stream",
     "text": [
      "AUC: 0.9989700738181169, Balanced Accuracy: 0.997256046705588, Fraud Capture Rate: 0.9963302752293579, Composite Score: 0.9975187985843543\n"
     ]
    },
    {
     "name": "stderr",
     "output_type": "stream",
     "text": [
      "C:\\Users\\emanu\\AppData\\Local\\Temp\\ipykernel_23904\\3458708873.py:14: FutureWarning: suggest_loguniform has been deprecated in v3.0.0. This feature will be removed in v6.0.0. See https://github.com/optuna/optuna/releases/tag/v3.0.0. Use suggest_float(..., log=True) instead.\n",
      "  'learning_rate': trial.suggest_loguniform('learning_rate', 0.001, 0.2),\n"
     ]
    },
    {
     "name": "stdout",
     "output_type": "stream",
     "text": [
      "AUC: 0.9909049398526231, Balanced Accuracy: 0.9907684798354082, Fraud Capture Rate: 0.981651376146789, Composite Score: 0.9877749319449401\n",
      "AUC: 0.9954524699263115, Balanced Accuracy: 0.9952412029569534, Fraud Capture Rate: 0.9908256880733946, Composite Score: 0.9938397869855532\n",
      "AUC: 0.9969000022993159, Balanced Accuracy: 0.9952932455280507, Fraud Capture Rate: 0.9938837920489297, Composite Score: 0.9953590132920987\n",
      "AUC: 0.9976750017244869, Balanced Accuracy: 0.9964413267538879, Fraud Capture Rate: 0.9954128440366973, Composite Score: 0.9965097241716907\n"
     ]
    },
    {
     "name": "stderr",
     "output_type": "stream",
     "text": [
      "[I 2025-06-16 06:27:04,655] Trial 46 finished with value: 0.9972077793373526 and parameters: {'threshold': 0.11479400014345628, 'n_estimators': 124, 'learning_rate': 0.18921450749945531, 'max_depth': 11, 'num_leaves': 35, 'min_child_samples': 42, 'subsample': 0.7840175653527166, 'subsample_freq': 5, 'colsample_bytree': 0.9777383904382905, 'reg_alpha': 0.22122286203659924, 'reg_lambda': 0.29204422621071413, 'max_bin': 233}. Best is trial 29 with value: 0.9976432996466595.\n"
     ]
    },
    {
     "name": "stdout",
     "output_type": "stream",
     "text": [
      "AUC: 0.9981400013795895, Balanced Accuracy: 0.9971530614031103, Fraud Capture Rate: 0.9963302752293579, Composite Score: 0.9972077793373526\n"
     ]
    },
    {
     "name": "stderr",
     "output_type": "stream",
     "text": [
      "C:\\Users\\emanu\\AppData\\Local\\Temp\\ipykernel_23904\\3458708873.py:14: FutureWarning: suggest_loguniform has been deprecated in v3.0.0. This feature will be removed in v6.0.0. See https://github.com/optuna/optuna/releases/tag/v3.0.0. Use suggest_float(..., log=True) instead.\n",
      "  'learning_rate': trial.suggest_loguniform('learning_rate', 0.001, 0.2),\n"
     ]
    },
    {
     "name": "stdout",
     "output_type": "stream",
     "text": [
      "AUC: 0.9901339407553587, Balanced Accuracy: 0.9908256880733946, Fraud Capture Rate: 0.981651376146789, Composite Score: 0.987537001658514\n",
      "AUC: 0.9950669703776793, Balanced Accuracy: 0.9954128440366973, Fraud Capture Rate: 0.9908256880733946, Composite Score: 0.9937685008292569\n",
      "AUC: 0.9966984836031857, Balanced Accuracy: 0.9954267445093133, Fraud Capture Rate: 0.9938837920489297, Composite Score: 0.9953363400538094\n",
      "AUC: 0.9975238627023892, Balanced Accuracy: 0.996570058381985, Fraud Capture Rate: 0.9954128440366973, Composite Score: 0.996502255040357\n",
      "AUC: 0.9980190901619114, Balanced Accuracy: 0.997256046705588, Fraud Capture Rate: 0.9963302752293579, Composite Score: 0.9972018040322856\n"
     ]
    },
    {
     "name": "stderr",
     "output_type": "stream",
     "text": [
      "[I 2025-06-16 06:27:05,757] Trial 47 finished with value: 0.9972018040322856 and parameters: {'threshold': 0.4098914636818499, 'n_estimators': 154, 'learning_rate': 0.07832894385220099, 'max_depth': 13, 'num_leaves': 22, 'min_child_samples': 48, 'subsample': 0.7586142001457354, 'subsample_freq': 3, 'colsample_bytree': 0.8557347051378549, 'reg_alpha': 0.4220515677710587, 'reg_lambda': 0.13497378390269144, 'max_bin': 261}. Best is trial 29 with value: 0.9976432996466595.\n",
      "C:\\Users\\emanu\\AppData\\Local\\Temp\\ipykernel_23904\\3458708873.py:14: FutureWarning: suggest_loguniform has been deprecated in v3.0.0. This feature will be removed in v6.0.0. See https://github.com/optuna/optuna/releases/tag/v3.0.0. Use suggest_float(..., log=True) instead.\n",
      "  'learning_rate': trial.suggest_loguniform('learning_rate', 0.001, 0.2),\n"
     ]
    },
    {
     "name": "stdout",
     "output_type": "stream",
     "text": [
      "AUC: 0.9913967207608171, Balanced Accuracy: 0.9908256880733946, Fraud Capture Rate: 0.981651376146789, Composite Score: 0.9879579283270002\n",
      "AUC: 0.9956983603804086, Balanced Accuracy: 0.9953842366445471, Fraud Capture Rate: 0.9908256880733946, Composite Score: 0.9939694283661167\n",
      "AUC: 0.9971259986407729, Balanced Accuracy: 0.9954076729145466, Fraud Capture Rate: 0.9938837920489297, Composite Score: 0.9954724878680831\n",
      "AUC: 0.9978444989805797, Balanced Accuracy: 0.99655575468591, Fraud Capture Rate: 0.9954128440366973, Composite Score: 0.9966043659010623\n",
      "AUC: 0.9982755991844637, Balanced Accuracy: 0.997244603748728, Fraud Capture Rate: 0.9963302752293579, Composite Score: 0.9972834927208499\n"
     ]
    },
    {
     "name": "stderr",
     "output_type": "stream",
     "text": [
      "[I 2025-06-16 06:27:06,875] Trial 48 finished with value: 0.9972834927208499 and parameters: {'threshold': 0.36156474593486915, 'n_estimators': 194, 'learning_rate': 0.03735763055265818, 'max_depth': 9, 'num_leaves': 37, 'min_child_samples': 16, 'subsample': 0.7185447094803018, 'subsample_freq': 4, 'colsample_bytree': 0.9140141519954941, 'reg_alpha': 0.5819963477994207, 'reg_lambda': 0.3560513482570773, 'max_bin': 239}. Best is trial 29 with value: 0.9976432996466595.\n",
      "C:\\Users\\emanu\\AppData\\Local\\Temp\\ipykernel_23904\\3458708873.py:14: FutureWarning: suggest_loguniform has been deprecated in v3.0.0. This feature will be removed in v6.0.0. See https://github.com/optuna/optuna/releases/tag/v3.0.0. Use suggest_float(..., log=True) instead.\n",
      "  'learning_rate': trial.suggest_loguniform('learning_rate', 0.001, 0.2),\n"
     ]
    },
    {
     "name": "stdout",
     "output_type": "stream",
     "text": [
      "AUC: 0.9934142296307182, Balanced Accuracy: 0.9908256880733946, Fraud Capture Rate: 0.981651376146789, Composite Score: 0.9886304312836339\n",
      "AUC: 0.9967071148153591, Balanced Accuracy: 0.9953842366445471, Fraud Capture Rate: 0.9908256880733946, Composite Score: 0.9943056798444335\n",
      "AUC: 0.9977686805583169, Balanced Accuracy: 0.9954076729145466, Fraud Capture Rate: 0.9938837920489297, Composite Score: 0.9956867151739309\n",
      "AUC: 0.9983265104187377, Balanced Accuracy: 0.9965414509898349, Fraud Capture Rate: 0.9954128440366973, Composite Score: 0.9967602684817565\n"
     ]
    },
    {
     "name": "stderr",
     "output_type": "stream",
     "text": [
      "[I 2025-06-16 06:27:07,718] Trial 49 finished with value: 0.9974082147854052 and parameters: {'threshold': 0.398248483997963, 'n_estimators': 140, 'learning_rate': 0.19956541865610614, 'max_depth': 8, 'num_leaves': 33, 'min_child_samples': 38, 'subsample': 0.7876637928809842, 'subsample_freq': 5, 'colsample_bytree': 0.7558558252407594, 'reg_alpha': 0.33007796536303924, 'reg_lambda': 0.5254810758337607, 'max_bin': 268}. Best is trial 29 with value: 0.9976432996466595.\n"
     ]
    },
    {
     "name": "stdout",
     "output_type": "stream",
     "text": [
      "AUC: 0.9986612083349901, Balanced Accuracy: 0.997233160791868, Fraud Capture Rate: 0.9963302752293579, Composite Score: 0.9974082147854052\n",
      "Best Hyperparameters: {'threshold': 0.47035236108226064, 'n_estimators': 149, 'learning_rate': 0.11712570986073118, 'max_depth': 10, 'num_leaves': 31, 'min_child_samples': 43, 'subsample': 0.7708187394233096, 'subsample_freq': 5, 'colsample_bytree': 0.8494618593704473, 'reg_alpha': 0.18396654220854464, 'reg_lambda': 0.10440040123828889, 'max_bin': 296}\n",
      "Best Composite Score: 0.9976\n"
     ]
    }
   ],
   "source": [
    "import optuna\n",
    "\n",
    "study = optuna.create_study(direction='maximize', sampler=optuna.samplers.TPESampler(seed=42))\n",
    "study.optimize(objective, n_trials=50)\n",
    "\n",
    "print(\"Best Hyperparameters:\", study.best_params)\n",
    "print(\"Best Composite Score:\", round(study.best_value, 4))\n"
   ]
  },
  {
   "cell_type": "code",
   "execution_count": 301,
   "id": "d7450783",
   "metadata": {},
   "outputs": [],
   "source": [
    "import lightgbm as lgb\n",
    "import pandas as pd\n",
    "import numpy as np\n",
    "\n",
    "# ✅ Best hyperparameters from Optuna\n",
    "best_params_lgb = {\n",
    "    'n_estimators': 171,\n",
    "    'learning_rate': 0.12792961140536083,\n",
    "    'max_depth': 10,\n",
    "    'num_leaves': 34,\n",
    "    'min_child_samples': 50,\n",
    "    'subsample': 0.9208777758688815,\n",
    "    'subsample_freq': 4,\n",
    "    'colsample_bytree': 0.7677410569512204,\n",
    "    'reg_alpha': 0.28067157957490324,\n",
    "    'reg_lambda': 0.0859139708073734,\n",
    "    'max_bin': 232,\n",
    "    'scale_pos_weight': len(y_train[y_train == 0]) / len(y_train[y_train == 1]),  # Handling class imbalance\n",
    "    'force_col_wise': True,\n",
    "    'verbosity': -1\n",
    "}\n",
    "\n",
    "# 🔁 Train final model with the best parameters\n",
    "final_lgb = lgb.LGBMClassifier(**best_params_lgb, random_state=42)\n",
    "final_lgb.fit(X_train, y_train)\n",
    "\n",
    "# 📊 Predict probabilities on test set\n",
    "test_probs_lgb = final_lgb.predict_proba(test_df)[:, 1]\n",
    "\n",
    "# 🔎 Apply the optimized threshold\n",
    "best_threshold = 0.44286465058062224\n",
    "test_preds = (test_probs_lgb >= best_threshold).astype(int)\n",
    "\n",
    "# 💾 Save predictions in the required format\n",
    "submission = pd.DataFrame({\n",
    "    0: test_probs_lgb,\n",
    "    1: test_preds\n",
    "})\n",
    "submission.to_csv(\"submission.txt\", sep=\" \", header=False, index=False)\n"
   ]
  },
  {
   "cell_type": "code",
   "execution_count": 302,
   "id": "6639bad9",
   "metadata": {},
   "outputs": [],
   "source": [
    "with open(\"submission_lightgbm.txt\", \"w\") as f:\n",
    "    for prob, pred in zip(test_probs_lgb, test_preds):\n",
    "        f.write(f\"{prob} {pred}\\n\")\n"
   ]
  },
  {
   "cell_type": "markdown",
   "id": "88b2456f",
   "metadata": {},
   "source": [
    "### XGB"
   ]
  },
  {
   "cell_type": "code",
   "execution_count": 303,
   "id": "460df03d",
   "metadata": {},
   "outputs": [],
   "source": [
    "import xgboost as xgb\n",
    "\n",
    "def objective(trial):\n",
    "    scale_pos_weight = len(y_train[y_train == 0]) / len(y_train[y_train == 1])\n",
    "    \n",
    "    # Tune threshold as part of objective\n",
    "    threshold = trial.suggest_float(\"threshold\", 0.05, 0.5)\n",
    "\n",
    "    params = {\n",
    "        'n_estimators': trial.suggest_int('n_estimators', 100, 300),\n",
    "        'learning_rate': trial.suggest_loguniform('learning_rate', 0.001, 0.2),\n",
    "        'max_depth': trial.suggest_int('max_depth', 5, 15),\n",
    "        'min_child_weight': trial.suggest_int('min_child_weight', 1, 10),\n",
    "        'gamma': trial.suggest_float('gamma', 0.0, 5.0),\n",
    "        'subsample': trial.suggest_float('subsample', 0.6, 1.0),\n",
    "        'colsample_bytree': trial.suggest_float('colsample_bytree', 0.6, 1.0),\n",
    "        'reg_alpha': trial.suggest_float('reg_alpha', 0.0, 1.0),\n",
    "        'reg_lambda': trial.suggest_float('reg_lambda', 0.0, 1.0),\n",
    "        'scale_pos_weight': scale_pos_weight,\n",
    "        'objective': 'binary:logistic',\n",
    "        'eval_metric': 'logloss',\n",
    "        'use_label_encoder': False,\n",
    "        'verbosity': 0\n",
    "    }\n",
    "\n",
    "    kf = StratifiedKFold(n_splits=5, shuffle=True, random_state=42)\n",
    "    \n",
    "    auc_scores = [] \n",
    "    balanced_accuracies = []\n",
    "    fraud_capture_rates = []\n",
    "    scores = []\n",
    "\n",
    "    for train_idx, val_idx in kf.split(X_train, y_train):\n",
    "        X_fold_train, X_fold_val = X_train.iloc[train_idx], X_train.iloc[val_idx]\n",
    "        y_fold_train, y_fold_val = y_train.iloc[train_idx], y_train.iloc[val_idx]\n",
    "\n",
    "        model = xgb.XGBClassifier(**params)\n",
    "        model.fit(X_fold_train, y_fold_train)\n",
    "\n",
    "        y_prob = model.predict_proba(X_fold_val)[:, 1]\n",
    "        y_pred = (y_prob >= threshold).astype(int)\n",
    "\n",
    "        auc_score = roc_auc_score(y_fold_val, y_prob)\n",
    "        balanced_acc = calculate_balanced_accuracy(y_fold_val, y_pred)\n",
    "        fraud_capture = calculate_fraud_capture_rate(y_fold_val, y_prob, N=485)\n",
    "        score = calculate_composite_score(y_fold_val, y_pred, y_prob, N=485)\n",
    "\n",
    "        auc_scores.append(auc_score)\n",
    "        balanced_accuracies.append(balanced_acc)    \n",
    "        fraud_capture_rates.append(fraud_capture)\n",
    "        scores.append(score)\n",
    "\n",
    "        print(f\"AUC: {np.mean(auc_scores)}, Balanced Accuracy: {np.mean(balanced_accuracies)}, Fraud Capture Rate: {np.mean(fraud_capture_rates)}, Composite Score: {np.mean(scores)}\")\n",
    "\n",
    "    return np.mean(scores)\n"
   ]
  },
  {
   "cell_type": "code",
   "execution_count": 304,
   "id": "ad2919bb",
   "metadata": {},
   "outputs": [
    {
     "name": "stderr",
     "output_type": "stream",
     "text": [
      "[I 2025-06-16 06:27:08,125] A new study created in memory with name: no-name-0b7cc941-59c3-4e43-b351-7a8e45b7a11b\n",
      "C:\\Users\\emanu\\AppData\\Local\\Temp\\ipykernel_23904\\342457772.py:11: FutureWarning: suggest_loguniform has been deprecated in v3.0.0. This feature will be removed in v6.0.0. See https://github.com/optuna/optuna/releases/tag/v3.0.0. Use suggest_float(..., log=True) instead.\n",
      "  'learning_rate': trial.suggest_loguniform('learning_rate', 0.001, 0.2),\n"
     ]
    },
    {
     "name": "stdout",
     "output_type": "stream",
     "text": [
      "AUC: 0.9911279994961476, Balanced Accuracy: 0.9908256880733946, Fraud Capture Rate: 0.981651376146789, Composite Score: 0.9878683545721104\n",
      "AUC: 0.9955639997480739, Balanced Accuracy: 0.9953556292523971, Fraud Capture Rate: 0.9908256880733946, Composite Score: 0.9939151056912885\n",
      "AUC: 0.9969587514817423, Balanced Accuracy: 0.9953886013197799, Fraud Capture Rate: 0.9938837920489297, Composite Score: 0.9954103816168173\n",
      "AUC: 0.9977190636113067, Balanced Accuracy: 0.9965414509898349, Fraud Capture Rate: 0.9954128440366973, Composite Score: 0.9965577862126129\n"
     ]
    },
    {
     "name": "stderr",
     "output_type": "stream",
     "text": [
      "[I 2025-06-16 06:27:10,424] Trial 0 finished with value: 0.9972462289700903 and parameters: {'threshold': 0.21854305348131314, 'n_estimators': 291, 'learning_rate': 0.0483437145318464, 'max_depth': 11, 'min_child_weight': 2, 'gamma': 0.7799726016810132, 'subsample': 0.6232334448672797, 'colsample_bytree': 0.9464704583099741, 'reg_alpha': 0.6011150117432088, 'reg_lambda': 0.7080725777960455}. Best is trial 0 with value: 0.9972462289700903.\n"
     ]
    },
    {
     "name": "stdout",
     "output_type": "stream",
     "text": [
      "AUC: 0.9981752508890454, Balanced Accuracy: 0.997233160791868, Fraud Capture Rate: 0.9963302752293579, Composite Score: 0.9972462289700903\n"
     ]
    },
    {
     "name": "stderr",
     "output_type": "stream",
     "text": [
      "C:\\Users\\emanu\\AppData\\Local\\Temp\\ipykernel_23904\\342457772.py:11: FutureWarning: suggest_loguniform has been deprecated in v3.0.0. This feature will be removed in v6.0.0. See https://github.com/optuna/optuna/releases/tag/v3.0.0. Use suggest_float(..., log=True) instead.\n",
      "  'learning_rate': trial.suggest_loguniform('learning_rate', 0.001, 0.2),\n"
     ]
    },
    {
     "name": "stdout",
     "output_type": "stream",
     "text": [
      "AUC: 0.9903806184787857, Balanced Accuracy: 0.9905396468834631, Fraud Capture Rate: 0.981651376146789, Composite Score: 0.9875238805030127\n",
      "AUC: 0.9951903092393928, Balanced Accuracy: 0.9949551421280801, Fraud Capture Rate: 0.9908256880733946, Composite Score: 0.9936570464802892\n",
      "AUC: 0.9967772419483096, Balanced Accuracy: 0.9951025383088018, Fraud Capture Rate: 0.9938837920489297, Composite Score: 0.9952545241020138\n",
      "AUC: 0.9975829314612322, Balanced Accuracy: 0.996255385251226, Fraud Capture Rate: 0.9954128440366973, Composite Score: 0.9964170535830519\n"
     ]
    },
    {
     "name": "stderr",
     "output_type": "stream",
     "text": [
      "[I 2025-06-16 06:27:12,343] Trial 1 finished with value: 0.9971336428664415 and parameters: {'threshold': 0.0592630224331111, 'n_estimators': 294, 'learning_rate': 0.0823143373099555, 'max_depth': 7, 'min_child_weight': 2, 'gamma': 0.9170225492671691, 'subsample': 0.7216968971838151, 'colsample_bytree': 0.8099025726528951, 'reg_alpha': 0.43194501864211576, 'reg_lambda': 0.2912291401980419}. Best is trial 0 with value: 0.9972462289700903.\n"
     ]
    },
    {
     "name": "stdout",
     "output_type": "stream",
     "text": [
      "AUC: 0.9980663451689857, Balanced Accuracy: 0.997004308200981, Fraud Capture Rate: 0.9963302752293579, Composite Score: 0.9971336428664415\n"
     ]
    },
    {
     "name": "stderr",
     "output_type": "stream",
     "text": [
      "C:\\Users\\emanu\\AppData\\Local\\Temp\\ipykernel_23904\\342457772.py:11: FutureWarning: suggest_loguniform has been deprecated in v3.0.0. This feature will be removed in v6.0.0. See https://github.com/optuna/optuna/releases/tag/v3.0.0. Use suggest_float(..., log=True) instead.\n",
      "  'learning_rate': trial.suggest_loguniform('learning_rate', 0.001, 0.2),\n"
     ]
    },
    {
     "name": "stdout",
     "output_type": "stream",
     "text": [
      "AUC: 0.9893676652740746, Balanced Accuracy: 0.9552421640459345, Fraud Capture Rate: 0.981651376146789, Composite Score: 0.975420401822266\n",
      "AUC: 0.99466718833615, Balanced Accuracy: 0.9642042151045556, Fraud Capture Rate: 0.9908256880733946, Composite Score: 0.9832323638380333\n",
      "AUC: 0.9964222530666484, Balanced Accuracy: 0.9670199211045284, Fraud Capture Rate: 0.9938837920489297, Composite Score: 0.9857753220733687\n",
      "AUC: 0.9973109683215563, Balanced Accuracy: 0.9678270188693621, Fraud Capture Rate: 0.9954128440366973, Composite Score: 0.9868502770758718\n"
     ]
    },
    {
     "name": "stderr",
     "output_type": "stream",
     "text": [
      "[I 2025-06-16 06:27:13,742] Trial 2 finished with value: 0.9874578697516307 and parameters: {'threshold': 0.3253338026250708, 'n_estimators': 128, 'learning_rate': 0.0047014692435609715, 'max_depth': 9, 'min_child_weight': 5, 'gamma': 3.925879806965068, 'subsample': 0.6798695128633439, 'colsample_bytree': 0.8056937753654446, 'reg_alpha': 0.5924145688620425, 'reg_lambda': 0.046450412719997725}. Best is trial 0 with value: 0.9972462289700903.\n"
     ]
    },
    {
     "name": "stdout",
     "output_type": "stream",
     "text": [
      "AUC: 0.9978464860658731, Balanced Accuracy: 0.9681968479596618, Fraud Capture Rate: 0.9963302752293579, Composite Score: 0.9874578697516307\n"
     ]
    },
    {
     "name": "stderr",
     "output_type": "stream",
     "text": [
      "C:\\Users\\emanu\\AppData\\Local\\Temp\\ipykernel_23904\\342457772.py:11: FutureWarning: suggest_loguniform has been deprecated in v3.0.0. This feature will be removed in v6.0.0. See https://github.com/optuna/optuna/releases/tag/v3.0.0. Use suggest_float(..., log=True) instead.\n",
      "  'learning_rate': trial.suggest_loguniform('learning_rate', 0.001, 0.2),\n"
     ]
    },
    {
     "name": "stdout",
     "output_type": "stream",
     "text": [
      "AUC: 0.9891818697121744, Balanced Accuracy: 0.5, Fraud Capture Rate: 0.981651376146789, Composite Score: 0.8236110819529877\n",
      "AUC: 0.9945898945872818, Balanced Accuracy: 0.5, Fraud Capture Rate: 0.9908256880733946, Composite Score: 0.8284718608868921\n",
      "AUC: 0.9963887552266976, Balanced Accuracy: 0.5, Fraud Capture Rate: 0.9938837920489297, Composite Score: 0.8300908490918757\n",
      "AUC: 0.9972868852103987, Balanced Accuracy: 0.5, Fraud Capture Rate: 0.9954128440366973, Composite Score: 0.8308999097490319\n"
     ]
    },
    {
     "name": "stderr",
     "output_type": "stream",
     "text": [
      "[I 2025-06-16 06:27:15,842] Trial 3 finished with value: 0.8313850687383109 and parameters: {'threshold': 0.32339518335564726, 'n_estimators': 134, 'learning_rate': 0.001411515549344833, 'max_depth': 15, 'min_child_weight': 10, 'gamma': 4.041986740582305, 'subsample': 0.7218455076693483, 'colsample_bytree': 0.6390688456025535, 'reg_alpha': 0.6842330265121569, 'reg_lambda': 0.4401524937396013}. Best is trial 0 with value: 0.9972462289700903.\n"
     ]
    },
    {
     "name": "stdout",
     "output_type": "stream",
     "text": [
      "AUC: 0.9978249309855748, Balanced Accuracy: 0.5, Fraud Capture Rate: 0.9963302752293579, Composite Score: 0.8313850687383109\n"
     ]
    },
    {
     "name": "stderr",
     "output_type": "stream",
     "text": [
      "C:\\Users\\emanu\\AppData\\Local\\Temp\\ipykernel_23904\\342457772.py:11: FutureWarning: suggest_loguniform has been deprecated in v3.0.0. This feature will be removed in v6.0.0. See https://github.com/optuna/optuna/releases/tag/v3.0.0. Use suggest_float(..., log=True) instead.\n",
      "  'learning_rate': trial.suggest_loguniform('learning_rate', 0.001, 0.2),\n"
     ]
    },
    {
     "name": "stdout",
     "output_type": "stream",
     "text": [
      "AUC: 0.9892112611004975, Balanced Accuracy: 0.5, Fraud Capture Rate: 0.981651376146789, Composite Score: 0.8236208790824288\n",
      "AUC: 0.9945967882654023, Balanced Accuracy: 0.5, Fraud Capture Rate: 0.9908256880733946, Composite Score: 0.828474158779599\n",
      "AUC: 0.9963288543461727, Balanced Accuracy: 0.5, Fraud Capture Rate: 0.9938837920489297, Composite Score: 0.8300708821317008\n",
      "AUC: 0.9972440400876159, Balanced Accuracy: 0.5, Fraud Capture Rate: 0.9954128440366973, Composite Score: 0.8308856280414377\n"
     ]
    },
    {
     "name": "stderr",
     "output_type": "stream",
     "text": [
      "[I 2025-06-16 06:27:18,336] Trial 4 finished with value: 0.8313751690998169 and parameters: {'threshold': 0.10491720568015048, 'n_estimators': 199, 'learning_rate': 0.0011998556988857205, 'max_depth': 15, 'min_child_weight': 3, 'gamma': 3.31261142176991, 'subsample': 0.7246844304357644, 'colsample_bytree': 0.8080272084711243, 'reg_alpha': 0.5467102793432796, 'reg_lambda': 0.18485445552552704}. Best is trial 0 with value: 0.9972462289700903.\n"
     ]
    },
    {
     "name": "stdout",
     "output_type": "stream",
     "text": [
      "AUC: 0.9977952320700927, Balanced Accuracy: 0.5, Fraud Capture Rate: 0.9963302752293579, Composite Score: 0.8313751690998169\n"
     ]
    },
    {
     "name": "stderr",
     "output_type": "stream",
     "text": [
      "C:\\Users\\emanu\\AppData\\Local\\Temp\\ipykernel_23904\\342457772.py:11: FutureWarning: suggest_loguniform has been deprecated in v3.0.0. This feature will be removed in v6.0.0. See https://github.com/optuna/optuna/releases/tag/v3.0.0. Use suggest_float(..., log=True) instead.\n",
      "  'learning_rate': trial.suggest_loguniform('learning_rate', 0.001, 0.2),\n"
     ]
    },
    {
     "name": "stdout",
     "output_type": "stream",
     "text": [
      "AUC: 0.9910797136439022, Balanced Accuracy: 0.9906540633594356, Fraud Capture Rate: 0.981651376146789, Composite Score: 0.9877950510500423\n",
      "AUC: 0.9955398568219511, Balanced Accuracy: 0.9952698168954175, Fraud Capture Rate: 0.9908256880733946, Composite Score: 0.9938784539302543\n",
      "AUC: 0.997015821770311, Balanced Accuracy: 0.9953313930817935, Fraud Capture Rate: 0.9938837920489297, Composite Score: 0.995410335633678\n",
      "AUC: 0.9977618663277332, Balanced Accuracy: 0.9964985448113451, Fraud Capture Rate: 0.9954128440366973, Composite Score: 0.9965577517252585\n"
     ]
    },
    {
     "name": "stderr",
     "output_type": "stream",
     "text": [
      "[I 2025-06-16 06:27:19,827] Trial 5 finished with value: 0.9972462013802069 and parameters: {'threshold': 0.48631308249405136, 'n_estimators': 255, 'learning_rate': 0.1451494001648588, 'max_depth': 14, 'min_child_weight': 6, 'gamma': 4.609371175115584, 'subsample': 0.6353970008207678, 'colsample_bytree': 0.6783931449676581, 'reg_alpha': 0.045227288910538066, 'reg_lambda': 0.32533033076326434}. Best is trial 0 with value: 0.9972462289700903.\n"
     ]
    },
    {
     "name": "stdout",
     "output_type": "stream",
     "text": [
      "AUC: 0.9982094930621865, Balanced Accuracy: 0.9971988358490762, Fraud Capture Rate: 0.9963302752293579, Composite Score: 0.9972462013802069\n"
     ]
    },
    {
     "name": "stderr",
     "output_type": "stream",
     "text": [
      "C:\\Users\\emanu\\AppData\\Local\\Temp\\ipykernel_23904\\342457772.py:11: FutureWarning: suggest_loguniform has been deprecated in v3.0.0. This feature will be removed in v6.0.0. See https://github.com/optuna/optuna/releases/tag/v3.0.0. Use suggest_float(..., log=True) instead.\n",
      "  'learning_rate': trial.suggest_loguniform('learning_rate', 0.001, 0.2),\n"
     ]
    },
    {
     "name": "stdout",
     "output_type": "stream",
     "text": [
      "AUC: 0.9923199252618982, Balanced Accuracy: 0.9905968551214495, Fraud Capture Rate: 0.981651376146789, Composite Score: 0.9881893855100455\n",
      "AUC: 0.9961599626309491, Balanced Accuracy: 0.9950409610313735, Fraud Capture Rate: 0.9908256880733946, Composite Score: 0.9940088705785723\n",
      "AUC: 0.9973962837974701, Balanced Accuracy: 0.9951788225057642, Fraud Capture Rate: 0.9938837920489297, Composite Score: 0.9954862994507213\n",
      "AUC: 0.9980472128481026, Balanced Accuracy: 0.9963698131832481, Fraud Capture Rate: 0.9954128440366973, Composite Score: 0.9966099566893493\n"
     ]
    },
    {
     "name": "stderr",
     "output_type": "stream",
     "text": [
      "[I 2025-06-16 06:27:21,026] Trial 6 finished with value: 0.9972879653514795 and parameters: {'threshold': 0.2249047803602669, 'n_estimators': 154, 'learning_rate': 0.08071418522169696, 'max_depth': 8, 'min_child_weight': 3, 'gamma': 2.7134804157912424, 'subsample': 0.6563696899899051, 'colsample_bytree': 0.9208787923016158, 'reg_alpha': 0.07455064367977082, 'reg_lambda': 0.9868869366005173}. Best is trial 6 with value: 0.9972879653514795.\n"
     ]
    },
    {
     "name": "stdout",
     "output_type": "stream",
     "text": [
      "AUC: 0.9984377702784821, Balanced Accuracy: 0.9970958505465985, Fraud Capture Rate: 0.9963302752293579, Composite Score: 0.9972879653514795\n"
     ]
    },
    {
     "name": "stderr",
     "output_type": "stream",
     "text": [
      "C:\\Users\\emanu\\AppData\\Local\\Temp\\ipykernel_23904\\342457772.py:11: FutureWarning: suggest_loguniform has been deprecated in v3.0.0. This feature will be removed in v6.0.0. See https://github.com/optuna/optuna/releases/tag/v3.0.0. Use suggest_float(..., log=True) instead.\n",
      "  'learning_rate': trial.suggest_loguniform('learning_rate', 0.001, 0.2),\n"
     ]
    },
    {
     "name": "stdout",
     "output_type": "stream",
     "text": [
      "AUC: 0.9883148237566393, Balanced Accuracy: 0.5, Fraud Capture Rate: 0.981651376146789, Composite Score: 0.8233220666344762\n",
      "AUC: 0.9941558514751114, Balanced Accuracy: 0.5, Fraud Capture Rate: 0.9908256880733946, Composite Score: 0.828327179849502\n",
      "AUC: 0.9960976593705748, Balanced Accuracy: 0.5, Fraud Capture Rate: 0.9938837920489297, Composite Score: 0.8299938171398349\n",
      "AUC: 0.9970706438559175, Balanced Accuracy: 0.5, Fraud Capture Rate: 0.9954128440366973, Composite Score: 0.8308278292975383\n"
     ]
    },
    {
     "name": "stderr",
     "output_type": "stream",
     "text": [
      "[I 2025-06-16 06:27:23,187] Trial 7 finished with value: 0.8313277511333844 and parameters: {'threshold': 0.39751014618349584, 'n_estimators': 139, 'learning_rate': 0.0010296901472345186, 'max_depth': 13, 'min_child_weight': 8, 'gamma': 3.6450358402049368, 'subsample': 0.9085081386743783, 'colsample_bytree': 0.6296178606936361, 'reg_alpha': 0.3584657285442726, 'reg_lambda': 0.11586905952512971}. Best is trial 6 with value: 0.9972879653514795.\n"
     ]
    },
    {
     "name": "stdout",
     "output_type": "stream",
     "text": [
      "AUC: 0.9976529781707955, Balanced Accuracy: 0.5, Fraud Capture Rate: 0.9963302752293579, Composite Score: 0.8313277511333844\n"
     ]
    },
    {
     "name": "stderr",
     "output_type": "stream",
     "text": [
      "C:\\Users\\emanu\\AppData\\Local\\Temp\\ipykernel_23904\\342457772.py:11: FutureWarning: suggest_loguniform has been deprecated in v3.0.0. This feature will be removed in v6.0.0. See https://github.com/optuna/optuna/releases/tag/v3.0.0. Use suggest_float(..., log=True) instead.\n",
      "  'learning_rate': trial.suggest_loguniform('learning_rate', 0.001, 0.2),\n"
     ]
    },
    {
     "name": "stdout",
     "output_type": "stream",
     "text": [
      "AUC: 0.9921152352360758, Balanced Accuracy: 0.9905396468834631, Fraud Capture Rate: 0.981651376146789, Composite Score: 0.988102086088776\n",
      "AUC: 0.9960222484786523, Balanced Accuracy: 0.99492653473593, Fraud Capture Rate: 0.9908256880733946, Composite Score: 0.993924823762659\n",
      "AUC: 0.9973429643084075, Balanced Accuracy: 0.995083466714035, Fraud Capture Rate: 0.9938837920489297, Composite Score: 0.9954367410237909\n",
      "AUC: 0.9980069631641043, Balanced Accuracy: 0.9962410815551509, Fraud Capture Rate: 0.9954128440366973, Composite Score: 0.9965536295853176\n"
     ]
    },
    {
     "name": "stderr",
     "output_type": "stream",
     "text": [
      "[I 2025-06-16 06:27:24,950] Trial 8 finished with value: 0.9972390893493006 and parameters: {'threshold': 0.4383965416440171, 'n_estimators': 225, 'learning_rate': 0.005773062784917182, 'max_depth': 5, 'min_child_weight': 4, 'gamma': 1.6259166101337352, 'subsample': 0.8918424713352255, 'colsample_bytree': 0.8550229885420852, 'reg_alpha': 0.8872127425763265, 'reg_lambda': 0.4722149251619493}. Best is trial 6 with value: 0.9972879653514795.\n"
     ]
    },
    {
     "name": "stdout",
     "output_type": "stream",
     "text": [
      "AUC: 0.9984055705312833, Balanced Accuracy: 0.9969814222872607, Fraud Capture Rate: 0.9963302752293579, Composite Score: 0.9972390893493006\n"
     ]
    },
    {
     "name": "stderr",
     "output_type": "stream",
     "text": [
      "C:\\Users\\emanu\\AppData\\Local\\Temp\\ipykernel_23904\\342457772.py:11: FutureWarning: suggest_loguniform has been deprecated in v3.0.0. This feature will be removed in v6.0.0. See https://github.com/optuna/optuna/releases/tag/v3.0.0. Use suggest_float(..., log=True) instead.\n",
      "  'learning_rate': trial.suggest_loguniform('learning_rate', 0.001, 0.2),\n"
     ]
    },
    {
     "name": "stdout",
     "output_type": "stream",
     "text": [
      "AUC: 0.9912749564377638, Balanced Accuracy: 0.9904824386454769, Fraud Capture Rate: 0.981651376146789, Composite Score: 0.9878029237433433\n",
      "AUC: 0.9956374782188818, Balanced Accuracy: 0.9948979306169369, Fraud Capture Rate: 0.9908256880733946, Composite Score: 0.9937870323030711\n",
      "AUC: 0.997083676751746, Balanced Accuracy: 0.995064397301373, Fraud Capture Rate: 0.9938837920489297, Composite Score: 0.9953439553673497\n",
      "AUC: 0.9978127575638095, Balanced Accuracy: 0.9962267794956544, Fraud Capture Rate: 0.9954128440366973, Composite Score: 0.9964841270320538\n"
     ]
    },
    {
     "name": "stderr",
     "output_type": "stream",
     "text": [
      "[I 2025-06-16 06:27:26,874] Trial 9 finished with value: 0.9971834873066896 and parameters: {'threshold': 0.10381741067223577, 'n_estimators': 243, 'learning_rate': 0.056310478413508225, 'max_depth': 11, 'min_child_weight': 8, 'gamma': 2.4689779818219537, 'subsample': 0.8090931317527976, 'colsample_bytree': 0.7710164073434198, 'reg_alpha': 0.02541912674409519, 'reg_lambda': 0.10789142699330445}. Best is trial 6 with value: 0.9972879653514795.\n"
     ]
    },
    {
     "name": "stdout",
     "output_type": "stream",
     "text": [
      "AUC: 0.9982502060510476, Balanced Accuracy: 0.9969699806396635, Fraud Capture Rate: 0.9963302752293579, Composite Score: 0.9971834873066896\n"
     ]
    },
    {
     "name": "stderr",
     "output_type": "stream",
     "text": [
      "C:\\Users\\emanu\\AppData\\Local\\Temp\\ipykernel_23904\\342457772.py:11: FutureWarning: suggest_loguniform has been deprecated in v3.0.0. This feature will be removed in v6.0.0. See https://github.com/optuna/optuna/releases/tag/v3.0.0. Use suggest_float(..., log=True) instead.\n",
      "  'learning_rate': trial.suggest_loguniform('learning_rate', 0.001, 0.2),\n"
     ]
    },
    {
     "name": "stdout",
     "output_type": "stream",
     "text": [
      "AUC: 0.9877695085339996, Balanced Accuracy: 0.9908256880733946, Fraud Capture Rate: 0.981651376146789, Composite Score: 0.9867488575847277\n",
      "AUC: 0.9938847542669997, Balanced Accuracy: 0.9950981627230459, Fraud Capture Rate: 0.9908256880733946, Composite Score: 0.9932695350211467\n",
      "AUC: 0.9952901659432111, Balanced Accuracy: 0.9951788137773455, Fraud Capture Rate: 0.9908534890186266, Composite Score: 0.9937741562463945\n",
      "AUC: 0.9964676244574083, Balanced Accuracy: 0.996369806636934, Fraud Capture Rate: 0.99314011676397, Composite Score: 0.9953258492861041\n"
     ]
    },
    {
     "name": "stderr",
     "output_type": "stream",
     "text": [
      "[I 2025-06-16 06:27:28,511] Trial 10 finished with value: 0.9962606794288833 and parameters: {'threshold': 0.22252552246472265, 'n_estimators': 173, 'learning_rate': 0.021362660056941773, 'max_depth': 8, 'min_child_weight': 1, 'gamma': 2.519439225888092, 'subsample': 0.983908298378168, 'colsample_bytree': 0.9891850220534211, 'reg_alpha': 0.21024792357797295, 'reg_lambda': 0.9923626654603374}. Best is trial 6 with value: 0.9972879653514795.\n"
     ]
    },
    {
     "name": "stdout",
     "output_type": "stream",
     "text": [
      "AUC: 0.9971740995659267, Balanced Accuracy: 0.9970958453095472, Fraud Capture Rate: 0.994512093411176, Composite Score: 0.9962606794288833\n"
     ]
    },
    {
     "name": "stderr",
     "output_type": "stream",
     "text": [
      "C:\\Users\\emanu\\AppData\\Local\\Temp\\ipykernel_23904\\342457772.py:11: FutureWarning: suggest_loguniform has been deprecated in v3.0.0. This feature will be removed in v6.0.0. See https://github.com/optuna/optuna/releases/tag/v3.0.0. Use suggest_float(..., log=True) instead.\n",
      "  'learning_rate': trial.suggest_loguniform('learning_rate', 0.001, 0.2),\n"
     ]
    },
    {
     "name": "stdout",
     "output_type": "stream",
     "text": [
      "AUC: 0.9947242457959817, Balanced Accuracy: 0.9907684798354082, Fraud Capture Rate: 0.981651376146789, Composite Score: 0.9890480339260597\n",
      "AUC: 0.9973621228979909, Balanced Accuracy: 0.9950695586040527, Fraud Capture Rate: 0.9908256880733946, Composite Score: 0.9944191231918127\n",
      "AUC: 0.9981408559474662, Balanced Accuracy: 0.9951788159594502, Fraud Capture Rate: 0.9938837920489297, Composite Score: 0.9957344879852821\n",
      "AUC: 0.9986056419605996, Balanced Accuracy: 0.9963698082735126, Fraud Capture Rate: 0.9954128440366973, Composite Score: 0.9967960980902698\n"
     ]
    },
    {
     "name": "stderr",
     "output_type": "stream",
     "text": [
      "[I 2025-06-16 06:27:30,080] Trial 11 finished with value: 0.997436878472216 and parameters: {'threshold': 0.2057307677429261, 'n_estimators': 173, 'learning_rate': 0.027598275232318743, 'max_depth': 11, 'min_child_weight': 1, 'gamma': 0.35832321204179385, 'subsample': 0.6027514361354958, 'colsample_bytree': 0.9734604804632643, 'reg_alpha': 0.7889041398298331, 'reg_lambda': 0.8609524767901904}. Best is trial 11 with value: 0.997436878472216.\n"
     ]
    },
    {
     "name": "stdout",
     "output_type": "stream",
     "text": [
      "AUC: 0.9988845135684798, Balanced Accuracy: 0.9970958466188101, Fraud Capture Rate: 0.9963302752293579, Composite Score: 0.997436878472216\n"
     ]
    },
    {
     "name": "stderr",
     "output_type": "stream",
     "text": [
      "C:\\Users\\emanu\\AppData\\Local\\Temp\\ipykernel_23904\\342457772.py:11: FutureWarning: suggest_loguniform has been deprecated in v3.0.0. This feature will be removed in v6.0.0. See https://github.com/optuna/optuna/releases/tag/v3.0.0. Use suggest_float(..., log=True) instead.\n",
      "  'learning_rate': trial.suggest_loguniform('learning_rate', 0.001, 0.2),\n"
     ]
    },
    {
     "name": "stdout",
     "output_type": "stream",
     "text": [
      "AUC: 0.9919299645203956, Balanced Accuracy: 0.9905396468834631, Fraud Capture Rate: 0.981651376146789, Composite Score: 0.9880403291835492\n",
      "AUC: 0.9959649822601978, Balanced Accuracy: 0.9949551421280801, Fraud Capture Rate: 0.9908256880733946, Composite Score: 0.9939152708205574\n",
      "AUC: 0.9972805138906438, Balanced Accuracy: 0.9950643951192683, Fraud Capture Rate: 0.9938837920489297, Composite Score: 0.9954095670196139\n",
      "AUC: 0.9979603854179828, Balanced Accuracy: 0.9962267778590759, Fraud Capture Rate: 0.9954128440366973, Composite Score: 0.996533335771252\n"
     ]
    },
    {
     "name": "stderr",
     "output_type": "stream",
     "text": [
      "[I 2025-06-16 06:27:31,613] Trial 12 finished with value: 0.9972228542980484 and parameters: {'threshold': 0.20005418358146018, 'n_estimators': 169, 'learning_rate': 0.022384913491071714, 'max_depth': 10, 'min_child_weight': 1, 'gamma': 0.16792942467236038, 'subsample': 0.6012516783879314, 'colsample_bytree': 0.9335739873794394, 'reg_alpha': 0.9798283106270043, 'reg_lambda': 0.9956316996382866}. Best is trial 11 with value: 0.997436878472216.\n"
     ]
    },
    {
     "name": "stdout",
     "output_type": "stream",
     "text": [
      "AUC: 0.9983683083343863, Balanced Accuracy: 0.9969699793304005, Fraud Capture Rate: 0.9963302752293579, Composite Score: 0.9972228542980484\n"
     ]
    },
    {
     "name": "stderr",
     "output_type": "stream",
     "text": [
      "C:\\Users\\emanu\\AppData\\Local\\Temp\\ipykernel_23904\\342457772.py:11: FutureWarning: suggest_loguniform has been deprecated in v3.0.0. This feature will be removed in v6.0.0. See https://github.com/optuna/optuna/releases/tag/v3.0.0. Use suggest_float(..., log=True) instead.\n",
      "  'learning_rate': trial.suggest_loguniform('learning_rate', 0.001, 0.2),\n"
     ]
    },
    {
     "name": "stdout",
     "output_type": "stream",
     "text": [
      "AUC: 0.9910534713328993, Balanced Accuracy: 0.5, Fraud Capture Rate: 0.981651376146789, Composite Score: 0.8242349491598961\n",
      "AUC: 0.9954960477366886, Balanced Accuracy: 0.5, Fraud Capture Rate: 0.9908256880733946, Composite Score: 0.8287739119366944\n",
      "AUC: 0.9966412464700568, Balanced Accuracy: 0.5, Fraud Capture Rate: 0.9908534890186266, Composite Score: 0.8291649118295612\n",
      "AUC: 0.9974697519628839, Balanced Accuracy: 0.5, Fraud Capture Rate: 0.99314011676397, Composite Score: 0.830203289575618\n"
     ]
    },
    {
     "name": "stderr",
     "output_type": "stream",
     "text": [
      "[I 2025-06-16 06:27:32,761] Trial 13 finished with value: 0.830829298327161 and parameters: {'threshold': 0.1711552147070809, 'n_estimators': 102, 'learning_rate': 0.009968698695620408, 'max_depth': 6, 'min_child_weight': 3, 'gamma': 2.3070241974344388, 'subsample': 0.8067227349957993, 'colsample_bytree': 0.9045436922164887, 'reg_alpha': 0.7865772531258772, 'reg_lambda': 0.772908428276927}. Best is trial 11 with value: 0.997436878472216.\n"
     ]
    },
    {
     "name": "stdout",
     "output_type": "stream",
     "text": [
      "AUC: 0.9979758015703071, Balanced Accuracy: 0.5, Fraud Capture Rate: 0.994512093411176, Composite Score: 0.830829298327161\n"
     ]
    },
    {
     "name": "stderr",
     "output_type": "stream",
     "text": [
      "C:\\Users\\emanu\\AppData\\Local\\Temp\\ipykernel_23904\\342457772.py:11: FutureWarning: suggest_loguniform has been deprecated in v3.0.0. This feature will be removed in v6.0.0. See https://github.com/optuna/optuna/releases/tag/v3.0.0. Use suggest_float(..., log=True) instead.\n",
      "  'learning_rate': trial.suggest_loguniform('learning_rate', 0.001, 0.2),\n"
     ]
    },
    {
     "name": "stdout",
     "output_type": "stream",
     "text": [
      "AUC: 0.99270043877144, Balanced Accuracy: 0.9905396468834631, Fraud Capture Rate: 0.981651376146789, Composite Score: 0.9882971539338974\n",
      "AUC: 0.99635021938572, Balanced Accuracy: 0.9950409643045305, Fraud Capture Rate: 0.9908256880733946, Composite Score: 0.9940722905878816\n",
      "AUC: 0.9975439270100933, Balanced Accuracy: 0.9951788246878688, Fraud Capture Rate: 0.9938837920489297, Composite Score: 0.9955355145822972\n",
      "AUC: 0.99815794525757, Balanced Accuracy: 0.9963841185159016, Fraud Capture Rate: 0.9954128440366973, Composite Score: 0.9966516359367229\n"
     ]
    },
    {
     "name": "stderr",
     "output_type": "stream",
     "text": [
      "[I 2025-06-16 06:27:34,107] Trial 14 finished with value: 0.9973213087493782 and parameters: {'threshold': 0.299445495415823, 'n_estimators': 171, 'learning_rate': 0.13285043895279025, 'max_depth': 12, 'min_child_weight': 4, 'gamma': 1.924745509172272, 'subsample': 0.6719261859138944, 'colsample_bytree': 0.9877079408194873, 'reg_alpha': 0.2533575137423856, 'reg_lambda': 0.7976407391928559}. Best is trial 11 with value: 0.997436878472216.\n"
     ]
    },
    {
     "name": "stdout",
     "output_type": "stream",
     "text": [
      "AUC: 0.998526356206056, Balanced Accuracy: 0.9971072948127212, Fraud Capture Rate: 0.9963302752293579, Composite Score: 0.9973213087493782\n"
     ]
    },
    {
     "name": "stderr",
     "output_type": "stream",
     "text": [
      "C:\\Users\\emanu\\AppData\\Local\\Temp\\ipykernel_23904\\342457772.py:11: FutureWarning: suggest_loguniform has been deprecated in v3.0.0. This feature will be removed in v6.0.0. See https://github.com/optuna/optuna/releases/tag/v3.0.0. Use suggest_float(..., log=True) instead.\n",
      "  'learning_rate': trial.suggest_loguniform('learning_rate', 0.001, 0.2),\n"
     ]
    },
    {
     "name": "stdout",
     "output_type": "stream",
     "text": [
      "AUC: 0.9932331576847984, Balanced Accuracy: 0.9905396468834631, Fraud Capture Rate: 0.981651376146789, Composite Score: 0.9884747269050168\n",
      "AUC: 0.9966165788423992, Balanced Accuracy: 0.9949551421280801, Fraud Capture Rate: 0.9908256880733946, Composite Score: 0.9941324696812912\n",
      "AUC: 0.9976360245610308, Balanced Accuracy: 0.9951025383088018, Fraud Capture Rate: 0.9938837920489297, Composite Score: 0.9955407849729206\n",
      "AUC: 0.9982270184207731, Balanced Accuracy: 0.9963269037316014, Fraud Capture Rate: 0.9954128440366973, Composite Score: 0.9966555887296905\n"
     ]
    },
    {
     "name": "stderr",
     "output_type": "stream",
     "text": [
      "[I 2025-06-16 06:27:35,372] Trial 15 finished with value: 0.9973244709837523 and parameters: {'threshold': 0.2919598197206697, 'n_estimators': 199, 'learning_rate': 0.1967109661350357, 'max_depth': 12, 'min_child_weight': 6, 'gamma': 1.5343458276014903, 'subsample': 0.6880963821995274, 'colsample_bytree': 0.9918585998724917, 'reg_alpha': 0.3013245456725768, 'reg_lambda': 0.7509972360125259}. Best is trial 11 with value: 0.997436878472216.\n"
     ]
    },
    {
     "name": "stdout",
     "output_type": "stream",
     "text": [
      "AUC: 0.9985816147366184, Balanced Accuracy: 0.9970615229852811, Fraud Capture Rate: 0.9963302752293579, Composite Score: 0.9973244709837523\n"
     ]
    },
    {
     "name": "stderr",
     "output_type": "stream",
     "text": [
      "C:\\Users\\emanu\\AppData\\Local\\Temp\\ipykernel_23904\\342457772.py:11: FutureWarning: suggest_loguniform has been deprecated in v3.0.0. This feature will be removed in v6.0.0. See https://github.com/optuna/optuna/releases/tag/v3.0.0. Use suggest_float(..., log=True) instead.\n",
      "  'learning_rate': trial.suggest_loguniform('learning_rate', 0.001, 0.2),\n"
     ]
    },
    {
     "name": "stdout",
     "output_type": "stream",
     "text": [
      "AUC: 0.9925671278315453, Balanced Accuracy: 0.9905396468834631, Fraud Capture Rate: 0.981651376146789, Composite Score: 0.9882527169539325\n",
      "AUC: 0.9962835639157727, Balanced Accuracy: 0.9949837495202303, Fraud Capture Rate: 0.9908256880733946, Composite Score: 0.9940310005031324\n",
      "AUC: 0.9975078121805719, Balanced Accuracy: 0.9951406814983353, Fraud Capture Rate: 0.9938837920489297, Composite Score: 0.995510761909279\n",
      "AUC: 0.998130859135429, Balanced Accuracy: 0.9963555111237515, Fraud Capture Rate: 0.9954128440366973, Composite Score: 0.9966330714319592\n"
     ]
    },
    {
     "name": "stderr",
     "output_type": "stream",
     "text": [
      "[I 2025-06-16 06:27:37,228] Trial 16 finished with value: 0.997302642826614 and parameters: {'threshold': 0.3748754662523162, 'n_estimators': 206, 'learning_rate': 0.033824115730833326, 'max_depth': 13, 'min_child_weight': 7, 'gamma': 0.11847705752916093, 'subsample': 0.7608518849934501, 'colsample_bytree': 0.875869770084707, 'reg_alpha': 0.7958774436019825, 'reg_lambda': 0.6274198266149678}. Best is trial 11 with value: 0.997436878472216.\n"
     ]
    },
    {
     "name": "stdout",
     "output_type": "stream",
     "text": [
      "AUC: 0.9985046873083432, Balanced Accuracy: 0.9970729659421412, Fraud Capture Rate: 0.9963302752293579, Composite Score: 0.997302642826614\n"
     ]
    },
    {
     "name": "stderr",
     "output_type": "stream",
     "text": [
      "C:\\Users\\emanu\\AppData\\Local\\Temp\\ipykernel_23904\\342457772.py:11: FutureWarning: suggest_loguniform has been deprecated in v3.0.0. This feature will be removed in v6.0.0. See https://github.com/optuna/optuna/releases/tag/v3.0.0. Use suggest_float(..., log=True) instead.\n",
      "  'learning_rate': trial.suggest_loguniform('learning_rate', 0.001, 0.2),\n"
     ]
    },
    {
     "name": "stdout",
     "output_type": "stream",
     "text": [
      "AUC: 0.994033548170386, Balanced Accuracy: 0.9904824386454769, Fraud Capture Rate: 0.981651376146789, Composite Score: 0.988722454320884\n",
      "AUC: 0.997016774085193, Balanced Accuracy: 0.9949551454012371, Fraud Capture Rate: 0.9908256880733946, Composite Score: 0.9942658691866082\n",
      "AUC: 0.9979792811467613, Balanced Accuracy: 0.9950834688961397, Fraud Capture Rate: 0.9938837920489297, Composite Score: 0.9956488473639435\n",
      "AUC: 0.9984844608600709, Balanced Accuracy: 0.9962839942799546, Fraud Capture Rate: 0.9954128440366973, Composite Score: 0.9967270997255743\n"
     ]
    },
    {
     "name": "stderr",
     "output_type": "stream",
     "text": [
      "[I 2025-06-16 06:27:38,582] Trial 17 finished with value: 0.997377865461506 and parameters: {'threshold': 0.16301958062314897, 'n_estimators': 194, 'learning_rate': 0.1986453787413741, 'max_depth': 10, 'min_child_weight': 6, 'gamma': 1.1144382362738259, 'subsample': 0.6038558805090332, 'colsample_bytree': 0.73964158693172, 'reg_alpha': 0.36270409556642386, 'reg_lambda': 0.867583789547256}. Best is trial 11 with value: 0.997436878472216.\n"
     ]
    },
    {
     "name": "stdout",
     "output_type": "stream",
     "text": [
      "AUC: 0.9987875686880567, Balanced Accuracy: 0.9970157524671036, Fraud Capture Rate: 0.9963302752293579, Composite Score: 0.997377865461506\n"
     ]
    },
    {
     "name": "stderr",
     "output_type": "stream",
     "text": [
      "C:\\Users\\emanu\\AppData\\Local\\Temp\\ipykernel_23904\\342457772.py:11: FutureWarning: suggest_loguniform has been deprecated in v3.0.0. This feature will be removed in v6.0.0. See https://github.com/optuna/optuna/releases/tag/v3.0.0. Use suggest_float(..., log=True) instead.\n",
      "  'learning_rate': trial.suggest_loguniform('learning_rate', 0.001, 0.2),\n"
     ]
    },
    {
     "name": "stdout",
     "output_type": "stream",
     "text": [
      "AUC: 0.989943946423698, Balanced Accuracy: 0.9895671068376966, Fraud Capture Rate: 0.981651376146789, Composite Score: 0.9870541431360612\n",
      "AUC: 0.9949672920022244, Balanced Accuracy: 0.993639257732843, Fraud Capture Rate: 0.9908256880733946, Composite Score: 0.9931440792694873\n",
      "AUC: 0.9966393132345205, Balanced Accuracy: 0.9952827152860598, Fraud Capture Rate: 0.9938837920489297, Composite Score: 0.9952686068565034\n",
      "AUC: 0.9974794849258903, Balanced Accuracy: 0.9960186218862179, Fraud Capture Rate: 0.9954128440366973, Composite Score: 0.9963036502829352\n"
     ]
    },
    {
     "name": "stderr",
     "output_type": "stream",
     "text": [
      "[I 2025-06-16 06:27:41,047] Trial 18 finished with value: 0.996985705442048 and parameters: {'threshold': 0.15276479468992593, 'n_estimators': 220, 'learning_rate': 0.00970970577352779, 'max_depth': 10, 'min_child_weight': 10, 'gamma': 1.041110310646892, 'subsample': 0.6016521502154454, 'colsample_bytree': 0.7344320559734576, 'reg_alpha': 0.4536605357502874, 'reg_lambda': 0.871869268096988}. Best is trial 11 with value: 0.997436878472216.\n"
     ]
    },
    {
     "name": "stdout",
     "output_type": "stream",
     "text": [
      "AUC: 0.9979835879407123, Balanced Accuracy: 0.9966432531560736, Fraud Capture Rate: 0.9963302752293579, Composite Score: 0.996985705442048\n"
     ]
    },
    {
     "name": "stderr",
     "output_type": "stream",
     "text": [
      "C:\\Users\\emanu\\AppData\\Local\\Temp\\ipykernel_23904\\342457772.py:11: FutureWarning: suggest_loguniform has been deprecated in v3.0.0. This feature will be removed in v6.0.0. See https://github.com/optuna/optuna/releases/tag/v3.0.0. Use suggest_float(..., log=True) instead.\n",
      "  'learning_rate': trial.suggest_loguniform('learning_rate', 0.001, 0.2),\n"
     ]
    },
    {
     "name": "stdout",
     "output_type": "stream",
     "text": [
      "AUC: 0.9870751369848634, Balanced Accuracy: 0.5, Fraud Capture Rate: 0.981651376146789, Composite Score: 0.8229088377105508\n",
      "AUC: 0.9935136423099061, Balanced Accuracy: 0.5, Fraud Capture Rate: 0.9908256880733946, Composite Score: 0.8281131101277669\n",
      "AUC: 0.9956514886011435, Balanced Accuracy: 0.5, Fraud Capture Rate: 0.9938837920489297, Composite Score: 0.8298450935500243\n",
      "AUC: 0.9967352355772399, Balanced Accuracy: 0.5, Fraud Capture Rate: 0.9954128440366973, Composite Score: 0.830716026537979\n"
     ]
    },
    {
     "name": "stderr",
     "output_type": "stream",
     "text": [
      "[I 2025-06-16 06:27:42,370] Trial 19 finished with value: 0.8312385169794982 and parameters: {'threshold': 0.25765119112767376, 'n_estimators': 101, 'learning_rate': 0.0036898381390255575, 'max_depth': 9, 'min_child_weight': 8, 'gamma': 0.5220502993747881, 'subsample': 0.8608396114335962, 'colsample_bytree': 0.7111840499385248, 'reg_alpha': 0.7118222781196203, 'reg_lambda': 0.6298542309753594}. Best is trial 11 with value: 0.997436878472216.\n"
     ]
    },
    {
     "name": "stdout",
     "output_type": "stream",
     "text": [
      "AUC: 0.9973852757091366, Balanced Accuracy: 0.5, Fraud Capture Rate: 0.9963302752293579, Composite Score: 0.8312385169794982\n"
     ]
    },
    {
     "name": "stderr",
     "output_type": "stream",
     "text": [
      "C:\\Users\\emanu\\AppData\\Local\\Temp\\ipykernel_23904\\342457772.py:11: FutureWarning: suggest_loguniform has been deprecated in v3.0.0. This feature will be removed in v6.0.0. See https://github.com/optuna/optuna/releases/tag/v3.0.0. Use suggest_float(..., log=True) instead.\n",
      "  'learning_rate': trial.suggest_loguniform('learning_rate', 0.001, 0.2),\n"
     ]
    },
    {
     "name": "stdout",
     "output_type": "stream",
     "text": [
      "AUC: 0.9900846052106733, Balanced Accuracy: 0.9902536056935318, Fraud Capture Rate: 0.981651376146789, Composite Score: 0.9873298623503314\n",
      "AUC: 0.9950423026053367, Balanced Accuracy: 0.9946118697880635, Fraud Capture Rate: 0.9908256880733946, Composite Score: 0.9934932868222649\n",
      "AUC: 0.9966882800344564, Balanced Accuracy: 0.9948164752978238, Fraud Capture Rate: 0.9938837920489297, Composite Score: 0.9951295157937367\n",
      "AUC: 0.9975162100258423, Balanced Accuracy: 0.9959979269047673, Fraud Capture Rate: 0.9954128440366973, Composite Score: 0.996308993655769\n"
     ]
    },
    {
     "name": "stderr",
     "output_type": "stream",
     "text": [
      "[I 2025-06-16 06:27:44,742] Trial 20 finished with value: 0.9970357519677551 and parameters: {'threshold': 0.12862317455479477, 'n_estimators': 181, 'learning_rate': 0.018198989485870523, 'max_depth': 11, 'min_child_weight': 5, 'gamma': 1.2825715313371528, 'subsample': 0.761266431634961, 'colsample_bytree': 0.7329470581498951, 'reg_alpha': 0.15924411538980587, 'reg_lambda': 0.8974311752976362}. Best is trial 11 with value: 0.997436878472216.\n"
     ]
    },
    {
     "name": "stdout",
     "output_type": "stream",
     "text": [
      "AUC: 0.9980129680206739, Balanced Accuracy: 0.9967640126532338, Fraud Capture Rate: 0.9963302752293579, Composite Score: 0.9970357519677551\n"
     ]
    },
    {
     "name": "stderr",
     "output_type": "stream",
     "text": [
      "C:\\Users\\emanu\\AppData\\Local\\Temp\\ipykernel_23904\\342457772.py:11: FutureWarning: suggest_loguniform has been deprecated in v3.0.0. This feature will be removed in v6.0.0. See https://github.com/optuna/optuna/releases/tag/v3.0.0. Use suggest_float(..., log=True) instead.\n",
      "  'learning_rate': trial.suggest_loguniform('learning_rate', 0.001, 0.2),\n"
     ]
    },
    {
     "name": "stdout",
     "output_type": "stream",
     "text": [
      "AUC: 0.9935748325740559, Balanced Accuracy: 0.9905396468834631, Fraud Capture Rate: 0.981651376146789, Composite Score: 0.9885886185347693\n",
      "AUC: 0.9967874162870279, Balanced Accuracy: 0.9949551421280801, Fraud Capture Rate: 0.9908256880733946, Composite Score: 0.9941894154961675\n",
      "AUC: 0.9977618792820461, Balanced Accuracy: 0.995083466714035, Fraud Capture Rate: 0.9938837920489297, Composite Score: 0.9955763793483369\n",
      "AUC: 0.9983214094615346, Balanced Accuracy: 0.9963126000355262, Fraud Capture Rate: 0.9954128440366973, Composite Score: 0.9966822845112526\n"
     ]
    },
    {
     "name": "stderr",
     "output_type": "stream",
     "text": [
      "[I 2025-06-16 06:27:46,111] Trial 21 finished with value: 0.9973458276090021 and parameters: {'threshold': 0.26983170854089683, 'n_estimators': 195, 'learning_rate': 0.18802342720230183, 'max_depth': 12, 'min_child_weight': 6, 'gamma': 1.8782885944114862, 'subsample': 0.6860718050770163, 'colsample_bytree': 0.9642447835765052, 'reg_alpha': 0.34609189005450725, 'reg_lambda': 0.6297033077028017}. Best is trial 11 with value: 0.997436878472216.\n"
     ]
    },
    {
     "name": "stdout",
     "output_type": "stream",
     "text": [
      "AUC: 0.9986571275692278, Balanced Accuracy: 0.997050080028421, Fraud Capture Rate: 0.9963302752293579, Composite Score: 0.9973458276090021\n"
     ]
    },
    {
     "name": "stderr",
     "output_type": "stream",
     "text": [
      "C:\\Users\\emanu\\AppData\\Local\\Temp\\ipykernel_23904\\342457772.py:11: FutureWarning: suggest_loguniform has been deprecated in v3.0.0. This feature will be removed in v6.0.0. See https://github.com/optuna/optuna/releases/tag/v3.0.0. Use suggest_float(..., log=True) instead.\n",
      "  'learning_rate': trial.suggest_loguniform('learning_rate', 0.001, 0.2),\n"
     ]
    },
    {
     "name": "stdout",
     "output_type": "stream",
     "text": [
      "AUC: 0.9927203829278022, Balanced Accuracy: 0.9904824386454769, Fraud Capture Rate: 0.981651376146789, Composite Score: 0.988284732573356\n",
      "AUC: 0.9963601914639011, Balanced Accuracy: 0.994926538009087, Fraud Capture Rate: 0.9908256880733946, Composite Score: 0.9940374725154608\n",
      "AUC: 0.9975564699187783, Balanced Accuracy: 0.995064397301373, Fraud Capture Rate: 0.9938837920489297, Composite Score: 0.9955015530896936\n",
      "AUC: 0.9981673524390837, Balanced Accuracy: 0.9962553868878046, Fraud Capture Rate: 0.9954128440366973, Composite Score: 0.9966118611211952\n"
     ]
    },
    {
     "name": "stderr",
     "output_type": "stream",
     "text": [
      "[I 2025-06-16 06:27:47,861] Trial 22 finished with value: 0.9972856745780028 and parameters: {'threshold': 0.1755948041185861, 'n_estimators': 188, 'learning_rate': 0.10306661316557816, 'max_depth': 12, 'min_child_weight': 7, 'gamma': 0.5365790663871395, 'subsample': 0.6391731391932116, 'colsample_bytree': 0.8687423538830512, 'reg_alpha': 0.36944779124711347, 'reg_lambda': 0.5969447676616269}. Best is trial 11 with value: 0.997436878472216.\n"
     ]
    },
    {
     "name": "stdout",
     "output_type": "stream",
     "text": [
      "AUC: 0.998533881951267, Balanced Accuracy: 0.9969928665533836, Fraud Capture Rate: 0.9963302752293579, Composite Score: 0.9972856745780028\n"
     ]
    },
    {
     "name": "stderr",
     "output_type": "stream",
     "text": [
      "C:\\Users\\emanu\\AppData\\Local\\Temp\\ipykernel_23904\\342457772.py:11: FutureWarning: suggest_loguniform has been deprecated in v3.0.0. This feature will be removed in v6.0.0. See https://github.com/optuna/optuna/releases/tag/v3.0.0. Use suggest_float(..., log=True) instead.\n",
      "  'learning_rate': trial.suggest_loguniform('learning_rate', 0.001, 0.2),\n"
     ]
    },
    {
     "name": "stdout",
     "output_type": "stream",
     "text": [
      "AUC: 0.9943300862847186, Balanced Accuracy: 0.9905396468834631, Fraud Capture Rate: 0.981651376146789, Composite Score: 0.9888403697716569\n",
      "AUC: 0.9971650431423593, Balanced Accuracy: 0.9949551421280801, Fraud Capture Rate: 0.9908256880733946, Composite Score: 0.9943152911146114\n",
      "AUC: 0.9980590555901054, Balanced Accuracy: 0.995083466714035, Fraud Capture Rate: 0.9938837920489297, Composite Score: 0.9956754381176901\n",
      "AUC: 0.9985442916925791, Balanced Accuracy: 0.9962696889473011, Fraud Capture Rate: 0.9954128440366973, Composite Score: 0.9967422748921926\n",
      "AUC: 0.9988354333540632, Balanced Accuracy: 0.9970157511578408, Fraud Capture Rate: 0.9963302752293579, Composite Score: 0.9973938199137541\n"
     ]
    },
    {
     "name": "stderr",
     "output_type": "stream",
     "text": [
      "[I 2025-06-16 06:27:49,020] Trial 23 finished with value: 0.9973938199137541 and parameters: {'threshold': 0.25958042834875267, 'n_estimators': 152, 'learning_rate': 0.17075181570896938, 'max_depth': 9, 'min_child_weight': 7, 'gamma': 1.935600192206689, 'subsample': 0.6017105275652845, 'colsample_bytree': 0.9542186828607782, 'reg_alpha': 0.5006114995610088, 'reg_lambda': 0.8497378059504503}. Best is trial 11 with value: 0.997436878472216.\n",
      "C:\\Users\\emanu\\AppData\\Local\\Temp\\ipykernel_23904\\342457772.py:11: FutureWarning: suggest_loguniform has been deprecated in v3.0.0. This feature will be removed in v6.0.0. See https://github.com/optuna/optuna/releases/tag/v3.0.0. Use suggest_float(..., log=True) instead.\n",
      "  'learning_rate': trial.suggest_loguniform('learning_rate', 0.001, 0.2),\n"
     ]
    },
    {
     "name": "stdout",
     "output_type": "stream",
     "text": [
      "AUC: 0.9936346650431424, Balanced Accuracy: 0.9896243150756828, Fraud Capture Rate: 0.981651376146789, Composite Score: 0.988303452088538\n",
      "AUC: 0.9968173325215712, Balanced Accuracy: 0.994096972734088, Fraud Capture Rate: 0.9908256880733946, Composite Score: 0.9939133311096846\n",
      "AUC: 0.9978692060180668, Balanced Accuracy: 0.9944541390004068, Fraud Capture Rate: 0.9938837920489297, Composite Score: 0.9954023790224679\n",
      "AUC: 0.9984019045135502, Balanced Accuracy: 0.9956689598974042, Fraud Capture Rate: 0.9954128440366973, Composite Score: 0.9964945694825507\n"
     ]
    },
    {
     "name": "stderr",
     "output_type": "stream",
     "text": [
      "[I 2025-06-16 06:27:50,909] Trial 24 finished with value: 0.9971727696723205 and parameters: {'threshold': 0.05063191694405192, 'n_estimators': 156, 'learning_rate': 0.036108459262006794, 'max_depth': 9, 'min_child_weight': 9, 'gamma': 1.2916285876683464, 'subsample': 0.6088017347852452, 'colsample_bytree': 0.8456283640893654, 'reg_alpha': 0.49148854282938514, 'reg_lambda': 0.8633947773534624}. Best is trial 11 with value: 0.997436878472216.\n"
     ]
    },
    {
     "name": "stdout",
     "output_type": "stream",
     "text": [
      "AUC: 0.9987215236108401, Balanced Accuracy: 0.9964665101767631, Fraud Capture Rate: 0.9963302752293579, Composite Score: 0.9971727696723205\n"
     ]
    },
    {
     "name": "stderr",
     "output_type": "stream",
     "text": [
      "C:\\Users\\emanu\\AppData\\Local\\Temp\\ipykernel_23904\\342457772.py:11: FutureWarning: suggest_loguniform has been deprecated in v3.0.0. This feature will be removed in v6.0.0. See https://github.com/optuna/optuna/releases/tag/v3.0.0. Use suggest_float(..., log=True) instead.\n",
      "  'learning_rate': trial.suggest_loguniform('learning_rate', 0.001, 0.2),\n"
     ]
    },
    {
     "name": "stdout",
     "output_type": "stream",
     "text": [
      "AUC: 0.9905800600424075, Balanced Accuracy: 0.9905396468834631, Fraud Capture Rate: 0.981651376146789, Composite Score: 0.9875903610242198\n",
      "AUC: 0.9952900300212038, Balanced Accuracy: 0.9949837495202303, Fraud Capture Rate: 0.9908256880733946, Composite Score: 0.993699822538276\n",
      "AUC: 0.9968388678817582, Balanced Accuracy: 0.9951216099035687, Fraud Capture Rate: 0.9938837920489297, Composite Score: 0.9952814232780853\n",
      "AUC: 0.9976291509113187, Balanced Accuracy: 0.9963126000355264, Fraud Capture Rate: 0.9954128440366973, Composite Score: 0.9964515316611806\n"
     ]
    },
    {
     "name": "stderr",
     "output_type": "stream",
     "text": [
      "[I 2025-06-16 06:27:52,401] Trial 25 finished with value: 0.9971574110099912 and parameters: {'threshold': 0.24833684820603807, 'n_estimators': 153, 'learning_rate': 0.06170344460837499, 'max_depth': 10, 'min_child_weight': 7, 'gamma': 2.945876616098814, 'subsample': 0.6477639824328913, 'colsample_bytree': 0.9000566384500864, 'reg_alpha': 0.6770293167418614, 'reg_lambda': 0.9056915091509518}. Best is trial 11 with value: 0.997436878472216.\n"
     ]
    },
    {
     "name": "stdout",
     "output_type": "stream",
     "text": [
      "AUC: 0.9981033207290549, Balanced Accuracy: 0.997038637071561, Fraud Capture Rate: 0.9963302752293579, Composite Score: 0.9971574110099912\n"
     ]
    },
    {
     "name": "stderr",
     "output_type": "stream",
     "text": [
      "C:\\Users\\emanu\\AppData\\Local\\Temp\\ipykernel_23904\\342457772.py:11: FutureWarning: suggest_loguniform has been deprecated in v3.0.0. This feature will be removed in v6.0.0. See https://github.com/optuna/optuna/releases/tag/v3.0.0. Use suggest_float(..., log=True) instead.\n",
      "  'learning_rate': trial.suggest_loguniform('learning_rate', 0.001, 0.2),\n"
     ]
    },
    {
     "name": "stdout",
     "output_type": "stream",
     "text": [
      "AUC: 0.9931098188230849, Balanced Accuracy: 0.9905396468834631, Fraud Capture Rate: 0.981651376146789, Composite Score: 0.9884336139511123\n",
      "AUC: 0.9965549094115425, Balanced Accuracy: 0.9950123569123803, Fraud Capture Rate: 0.9908256880733946, Composite Score: 0.9941309847991058\n",
      "AUC: 0.9976803870273082, Balanced Accuracy: 0.9951406814983352, Fraud Capture Rate: 0.9938837920489297, Composite Score: 0.9955682868581911\n",
      "AUC: 0.9982602902704811, Balanced Accuracy: 0.9963269037316013, Fraud Capture Rate: 0.9954128440366973, Composite Score: 0.99666667934626\n"
     ]
    },
    {
     "name": "stderr",
     "output_type": "stream",
     "text": [
      "[I 2025-06-16 06:27:53,615] Trial 26 finished with value: 0.997333343477008 and parameters: {'threshold': 0.18597305437478026, 'n_estimators': 125, 'learning_rate': 0.13805331501221105, 'max_depth': 8, 'min_child_weight': 5, 'gamma': 0.48008619289112064, 'subsample': 0.6386381670682653, 'colsample_bytree': 0.7696716887971278, 'reg_alpha': 0.9682755977107205, 'reg_lambda': 0.7049211433340474}. Best is trial 11 with value: 0.997436878472216.\n"
     ]
    },
    {
     "name": "stdout",
     "output_type": "stream",
     "text": [
      "AUC: 0.998608232216385, Balanced Accuracy: 0.9970615229852811, Fraud Capture Rate: 0.9963302752293579, Composite Score: 0.997333343477008\n"
     ]
    },
    {
     "name": "stderr",
     "output_type": "stream",
     "text": [
      "C:\\Users\\emanu\\AppData\\Local\\Temp\\ipykernel_23904\\342457772.py:11: FutureWarning: suggest_loguniform has been deprecated in v3.0.0. This feature will be removed in v6.0.0. See https://github.com/optuna/optuna/releases/tag/v3.0.0. Use suggest_float(..., log=True) instead.\n",
      "  'learning_rate': trial.suggest_loguniform('learning_rate', 0.001, 0.2),\n"
     ]
    },
    {
     "name": "stdout",
     "output_type": "stream",
     "text": [
      "AUC: 0.9894763084416267, Balanced Accuracy: 0.9904252304074905, Fraud Capture Rate: 0.981651376146789, Composite Score: 0.9871843049986354\n",
      "AUC: 0.9947381542208134, Balanced Accuracy: 0.9948979338900938, Fraud Capture Rate: 0.9908256880733946, Composite Score: 0.9934872587281005\n",
      "AUC: 0.9964279529042056, Balanced Accuracy: 0.9950262562939441, Fraud Capture Rate: 0.9938837920489297, Composite Score: 0.9951126670823598\n",
      "AUC: 0.9973209646781542, Balanced Accuracy: 0.9961981737400828, Fraud Capture Rate: 0.9954128440366973, Composite Score: 0.9963106608183114\n"
     ]
    },
    {
     "name": "stderr",
     "output_type": "stream",
     "text": [
      "[I 2025-06-16 06:27:55,430] Trial 27 finished with value: 0.9970447143356959 and parameters: {'threshold': 0.13773676337944346, 'n_estimators': 218, 'learning_rate': 0.03394737075465177, 'max_depth': 7, 'min_child_weight': 4, 'gamma': 1.7281017018391895, 'subsample': 0.9691557573464815, 'colsample_bytree': 0.9590248414562386, 'reg_alpha': 0.8538116981236032, 'reg_lambda': 0.8072694852444328}. Best is trial 11 with value: 0.997436878472216.\n"
     ]
    },
    {
     "name": "stdout",
     "output_type": "stream",
     "text": [
      "AUC: 0.9978567717425234, Balanced Accuracy: 0.9969470960352063, Fraud Capture Rate: 0.9963302752293579, Composite Score: 0.9970447143356959\n"
     ]
    },
    {
     "name": "stderr",
     "output_type": "stream",
     "text": [
      "C:\\Users\\emanu\\AppData\\Local\\Temp\\ipykernel_23904\\342457772.py:11: FutureWarning: suggest_loguniform has been deprecated in v3.0.0. This feature will be removed in v6.0.0. See https://github.com/optuna/optuna/releases/tag/v3.0.0. Use suggest_float(..., log=True) instead.\n",
      "  'learning_rate': trial.suggest_loguniform('learning_rate', 0.001, 0.2),\n"
     ]
    },
    {
     "name": "stdout",
     "output_type": "stream",
     "text": [
      "AUC: 0.9898851636470514, Balanced Accuracy: 0.9904252304074905, Fraud Capture Rate: 0.981651376146789, Composite Score: 0.9873205900671103\n",
      "AUC: 0.9949425818235257, Balanced Accuracy: 0.9948693264979437, Fraud Capture Rate: 0.9908256880733946, Composite Score: 0.9935458654649547\n",
      "AUC: 0.9966110500689261, Balanced Accuracy: 0.9950453278887109, Fraud Capture Rate: 0.9938837920489297, Composite Score: 0.9951800566688557\n",
      "AUC: 0.9974582875516946, Balanced Accuracy: 0.9962124774361578, Fraud Capture Rate: 0.9954128440366973, Composite Score: 0.9963612030081833\n"
     ]
    },
    {
     "name": "stderr",
     "output_type": "stream",
     "text": [
      "[I 2025-06-16 06:27:57,817] Trial 28 finished with value: 0.9970851480875933 and parameters: {'threshold': 0.09751981693660201, 'n_estimators': 243, 'learning_rate': 0.12503796400912948, 'max_depth': 9, 'min_child_weight': 9, 'gamma': 2.1585391945684247, 'subsample': 0.7072795630017988, 'colsample_bytree': 0.6885738304899753, 'reg_alpha': 0.4257985191994612, 'reg_lambda': 0.526660324939598}. Best is trial 11 with value: 0.997436878472216.\n"
     ]
    },
    {
     "name": "stdout",
     "output_type": "stream",
     "text": [
      "AUC: 0.9979666300413557, Balanced Accuracy: 0.9969585389920661, Fraud Capture Rate: 0.9963302752293579, Composite Score: 0.9970851480875933\n"
     ]
    },
    {
     "name": "stderr",
     "output_type": "stream",
     "text": [
      "C:\\Users\\emanu\\AppData\\Local\\Temp\\ipykernel_23904\\342457772.py:11: FutureWarning: suggest_loguniform has been deprecated in v3.0.0. This feature will be removed in v6.0.0. See https://github.com/optuna/optuna/releases/tag/v3.0.0. Use suggest_float(..., log=True) instead.\n",
      "  'learning_rate': trial.suggest_loguniform('learning_rate', 0.001, 0.2),\n"
     ]
    },
    {
     "name": "stdout",
     "output_type": "stream",
     "text": [
      "AUC: 0.992318350723238, Balanced Accuracy: 0.9905396468834631, Fraud Capture Rate: 0.981651376146789, Composite Score: 0.9881697912511633\n",
      "AUC: 0.996159175361619, Balanced Accuracy: 0.99492653473593, Fraud Capture Rate: 0.9908256880733946, Composite Score: 0.9939704660569812\n",
      "AUC: 0.9974096292019895, Balanced Accuracy: 0.9950643951192683, Fraud Capture Rate: 0.9938837920489297, Composite Score: 0.9954526054567293\n",
      "AUC: 0.9980572219014922, Balanced Accuracy: 0.996241081555151, Fraud Capture Rate: 0.9954128440366973, Composite Score: 0.9965703824977802\n"
     ]
    },
    {
     "name": "stderr",
     "output_type": "stream",
     "text": [
      "[I 2025-06-16 06:27:59,062] Trial 29 finished with value: 0.9972524916792708 and parameters: {'threshold': 0.23053370789569383, 'n_estimators': 119, 'learning_rate': 0.04639473167136609, 'max_depth': 11, 'min_child_weight': 7, 'gamma': 0.8053148589642324, 'subsample': 0.623920771564403, 'colsample_bytree': 0.9517272059536032, 'reg_alpha': 0.15301797696764685, 'reg_lambda': 0.6979258059845881}. Best is trial 11 with value: 0.997436878472216.\n"
     ]
    },
    {
     "name": "stdout",
     "output_type": "stream",
     "text": [
      "AUC: 0.9984457775211937, Balanced Accuracy: 0.9969814222872607, Fraud Capture Rate: 0.9963302752293579, Composite Score: 0.9972524916792708\n"
     ]
    },
    {
     "name": "stderr",
     "output_type": "stream",
     "text": [
      "C:\\Users\\emanu\\AppData\\Local\\Temp\\ipykernel_23904\\342457772.py:11: FutureWarning: suggest_loguniform has been deprecated in v3.0.0. This feature will be removed in v6.0.0. See https://github.com/optuna/optuna/releases/tag/v3.0.0. Use suggest_float(..., log=True) instead.\n",
      "  'learning_rate': trial.suggest_loguniform('learning_rate', 0.001, 0.2),\n"
     ]
    },
    {
     "name": "stdout",
     "output_type": "stream",
     "text": [
      "AUC: 0.9902483572313312, Balanced Accuracy: 0.5, Fraud Capture Rate: 0.981651376146789, Composite Score: 0.8239665777927067\n",
      "AUC: 0.9951111752555974, Balanced Accuracy: 0.5, Fraud Capture Rate: 0.9908256880733946, Composite Score: 0.8286456211096639\n",
      "AUC: 0.9966221928599093, Balanced Accuracy: 0.5, Fraud Capture Rate: 0.9938837920489297, Composite Score: 0.8301686616362796\n",
      "AUC: 0.997466644644932, Balanced Accuracy: 0.5, Fraud Capture Rate: 0.9954128440366973, Composite Score: 0.830959829560543\n"
     ]
    },
    {
     "name": "stderr",
     "output_type": "stream",
     "text": [
      "[I 2025-06-16 06:28:01,955] Trial 30 finished with value: 0.8314345303151012 and parameters: {'threshold': 0.20137129802763043, 'n_estimators': 268, 'learning_rate': 0.0021618622054145817, 'max_depth': 10, 'min_child_weight': 2, 'gamma': 1.1985354318776855, 'subsample': 0.759966045211154, 'colsample_bytree': 0.8378453945376204, 'reg_alpha': 0.6073825185471942, 'reg_lambda': 0.9351638527394597}. Best is trial 11 with value: 0.997436878472216.\n"
     ]
    },
    {
     "name": "stdout",
     "output_type": "stream",
     "text": [
      "AUC: 0.9979733157159455, Balanced Accuracy: 0.5, Fraud Capture Rate: 0.9963302752293579, Composite Score: 0.8314345303151012\n"
     ]
    },
    {
     "name": "stderr",
     "output_type": "stream",
     "text": [
      "C:\\Users\\emanu\\AppData\\Local\\Temp\\ipykernel_23904\\342457772.py:11: FutureWarning: suggest_loguniform has been deprecated in v3.0.0. This feature will be removed in v6.0.0. See https://github.com/optuna/optuna/releases/tag/v3.0.0. Use suggest_float(..., log=True) instead.\n",
      "  'learning_rate': trial.suggest_loguniform('learning_rate', 0.001, 0.2),\n"
     ]
    },
    {
     "name": "stdout",
     "output_type": "stream",
     "text": [
      "AUC: 0.9940025822434027, Balanced Accuracy: 0.9905396468834631, Fraud Capture Rate: 0.981651376146789, Composite Score: 0.988731201757885\n",
      "AUC: 0.9970012911217013, Balanced Accuracy: 0.9949551421280801, Fraud Capture Rate: 0.9908256880733946, Composite Score: 0.9942607071077254\n",
      "AUC: 0.9979615039113278, Balanced Accuracy: 0.995083466714035, Fraud Capture Rate: 0.9938837920489297, Composite Score: 0.9956429208914308\n",
      "AUC: 0.9984711279334958, Balanced Accuracy: 0.9963126000355262, Fraud Capture Rate: 0.9954128440366973, Composite Score: 0.9967321906685731\n"
     ]
    },
    {
     "name": "stderr",
     "output_type": "stream",
     "text": [
      "[I 2025-06-16 06:28:04,422] Trial 31 finished with value: 0.9973857525348585 and parameters: {'threshold': 0.27199161885329787, 'n_estimators': 187, 'learning_rate': 0.19236056534240847, 'max_depth': 13, 'min_child_weight': 6, 'gamma': 2.0537437149699898, 'subsample': 0.6626287001002197, 'colsample_bytree': 0.9649509771109135, 'reg_alpha': 0.312645401889707, 'reg_lambda': 0.8359713740832029}. Best is trial 11 with value: 0.997436878472216.\n"
     ]
    },
    {
     "name": "stdout",
     "output_type": "stream",
     "text": [
      "AUC: 0.9987769023467965, Balanced Accuracy: 0.997050080028421, Fraud Capture Rate: 0.9963302752293579, Composite Score: 0.9973857525348585\n"
     ]
    },
    {
     "name": "stderr",
     "output_type": "stream",
     "text": [
      "C:\\Users\\emanu\\AppData\\Local\\Temp\\ipykernel_23904\\342457772.py:11: FutureWarning: suggest_loguniform has been deprecated in v3.0.0. This feature will be removed in v6.0.0. See https://github.com/optuna/optuna/releases/tag/v3.0.0. Use suggest_float(..., log=True) instead.\n",
      "  'learning_rate': trial.suggest_loguniform('learning_rate', 0.001, 0.2),\n"
     ]
    },
    {
     "name": "stdout",
     "output_type": "stream",
     "text": [
      "AUC: 0.9931680767535112, Balanced Accuracy: 0.990711271597422, Fraud Capture Rate: 0.981651376146789, Composite Score: 0.9885102414992407\n",
      "AUC: 0.9965840383767556, Balanced Accuracy: 0.9950695618772096, Fraud Capture Rate: 0.9908256880733946, Composite Score: 0.9941597627757865\n",
      "AUC: 0.997653340997473, Balanced Accuracy: 0.995178818141555, Fraud Capture Rate: 0.9938837920489297, Composite Score: 0.9955719837293192\n",
      "AUC: 0.9982400057481048, Balanced Accuracy: 0.9963841136061662, Fraud Capture Rate: 0.9954128440366973, Composite Score: 0.9966789877969894\n"
     ]
    },
    {
     "name": "stderr",
     "output_type": "stream",
     "text": [
      "[I 2025-06-16 06:28:07,942] Trial 32 finished with value: 0.9973431902375914 and parameters: {'threshold': 0.34439201720999946, 'n_estimators': 162, 'learning_rate': 0.08914179718365554, 'max_depth': 13, 'min_child_weight': 6, 'gamma': 2.074576745670536, 'subsample': 0.6227102072518388, 'colsample_bytree': 0.9683253690551644, 'reg_alpha': 0.2801597636713307, 'reg_lambda': 0.8408534822599075}. Best is trial 11 with value: 0.997436878472216.\n"
     ]
    },
    {
     "name": "stdout",
     "output_type": "stream",
     "text": [
      "AUC: 0.9985920045984837, Balanced Accuracy: 0.997107290884933, Fraud Capture Rate: 0.9963302752293579, Composite Score: 0.9973431902375914\n"
     ]
    },
    {
     "name": "stderr",
     "output_type": "stream",
     "text": [
      "C:\\Users\\emanu\\AppData\\Local\\Temp\\ipykernel_23904\\342457772.py:11: FutureWarning: suggest_loguniform has been deprecated in v3.0.0. This feature will be removed in v6.0.0. See https://github.com/optuna/optuna/releases/tag/v3.0.0. Use suggest_float(..., log=True) instead.\n",
      "  'learning_rate': trial.suggest_loguniform('learning_rate', 0.001, 0.2),\n"
     ]
    },
    {
     "name": "stdout",
     "output_type": "stream",
     "text": [
      "AUC: 0.993830957529444, Balanced Accuracy: 0.9905396468834631, Fraud Capture Rate: 0.981651376146789, Composite Score: 0.9886739935198987\n",
      "AUC: 0.996915478764722, Balanced Accuracy: 0.9949837495202303, Fraud Capture Rate: 0.9908256880733946, Composite Score: 0.9942416387861155\n",
      "AUC: 0.9978009623053324, Balanced Accuracy: 0.9951216099035687, Fraud Capture Rate: 0.9908534890186266, Composite Score: 0.9945920204091759\n",
      "AUC: 0.9983507217289993, Balanced Accuracy: 0.9963269037316014, Fraud Capture Rate: 0.99314011676397, Composite Score: 0.9959392474081902\n"
     ]
    },
    {
     "name": "stderr",
     "output_type": "stream",
     "text": [
      "[I 2025-06-16 06:28:11,330] Trial 33 finished with value: 0.9967513979265522 and parameters: {'threshold': 0.29448828542463346, 'n_estimators': 183, 'learning_rate': 0.18908327544843279, 'max_depth': 14, 'min_child_weight': 5, 'gamma': 1.457421683550634, 'subsample': 0.6570213212204248, 'colsample_bytree': 0.9227104532167961, 'reg_alpha': 0.5455979871326315, 'reg_lambda': 0.7324757645467599}. Best is trial 11 with value: 0.997436878472216.\n"
     ]
    },
    {
     "name": "stdout",
     "output_type": "stream",
     "text": [
      "AUC: 0.9986805773831995, Balanced Accuracy: 0.9970615229852811, Fraud Capture Rate: 0.994512093411176, Composite Score: 0.9967513979265522\n"
     ]
    },
    {
     "name": "stderr",
     "output_type": "stream",
     "text": [
      "C:\\Users\\emanu\\AppData\\Local\\Temp\\ipykernel_23904\\342457772.py:11: FutureWarning: suggest_loguniform has been deprecated in v3.0.0. This feature will be removed in v6.0.0. See https://github.com/optuna/optuna/releases/tag/v3.0.0. Use suggest_float(..., log=True) instead.\n",
      "  'learning_rate': trial.suggest_loguniform('learning_rate', 0.001, 0.2),\n"
     ]
    },
    {
     "name": "stdout",
     "output_type": "stream",
     "text": [
      "AUC: 0.9888995024457833, Balanced Accuracy: 0.9905968551214495, Fraud Capture Rate: 0.981651376146789, Composite Score: 0.9870492445713407\n",
      "AUC: 0.9944497512228916, Balanced Accuracy: 0.9950409610313735, Fraud Capture Rate: 0.9908256880733946, Composite Score: 0.99343880010922\n",
      "AUC: 0.9962866574103919, Balanced Accuracy: 0.9951597509109975, Fraud Capture Rate: 0.9938837920489297, Composite Score: 0.9951100667901064\n",
      "AUC: 0.9972149930577939, Balanced Accuracy: 0.996355509487173, Fraud Capture Rate: 0.9954128440366973, Composite Score: 0.9963277821938881\n"
     ]
    },
    {
     "name": "stderr",
     "output_type": "stream",
     "text": [
      "[I 2025-06-16 06:28:14,855] Trial 34 finished with value: 0.9970622257551105 and parameters: {'threshold': 0.25891058163708336, 'n_estimators': 150, 'learning_rate': 0.07495898578469314, 'max_depth': 11, 'min_child_weight': 7, 'gamma': 0.9717380043602301, 'subsample': 0.6010481352624353, 'colsample_bytree': 0.7682748394588697, 'reg_alpha': 0.4193526423780509, 'reg_lambda': 0.9481812317817747}. Best is trial 11 with value: 0.997436878472216.\n"
     ]
    },
    {
     "name": "stdout",
     "output_type": "stream",
     "text": [
      "AUC: 0.9977719944462351, Balanced Accuracy: 0.9970844075897384, Fraud Capture Rate: 0.9963302752293579, Composite Score: 0.9970622257551105\n"
     ]
    },
    {
     "name": "stderr",
     "output_type": "stream",
     "text": [
      "C:\\Users\\emanu\\AppData\\Local\\Temp\\ipykernel_23904\\342457772.py:11: FutureWarning: suggest_loguniform has been deprecated in v3.0.0. This feature will be removed in v6.0.0. See https://github.com/optuna/optuna/releases/tag/v3.0.0. Use suggest_float(..., log=True) instead.\n",
      "  'learning_rate': trial.suggest_loguniform('learning_rate', 0.001, 0.2),\n"
     ]
    },
    {
     "name": "stdout",
     "output_type": "stream",
     "text": [
      "AUC: 0.993540192723532, Balanced Accuracy: 0.9905968551214495, Fraud Capture Rate: 0.981651376146789, Composite Score: 0.9885961413305902\n",
      "AUC: 0.9967700963617661, Balanced Accuracy: 0.9950695684235237, Fraud Capture Rate: 0.9908256880733946, Composite Score: 0.994221784286228\n",
      "AUC: 0.99783390092591, Balanced Accuracy: 0.9951597509109975, Fraud Capture Rate: 0.9938837920489297, Composite Score: 0.9956258146286122\n",
      "AUC: 0.9983754256944325, Balanced Accuracy: 0.9963698131832481, Fraud Capture Rate: 0.9954128440366973, Composite Score: 0.9967193609714592\n"
     ]
    },
    {
     "name": "stderr",
     "output_type": "stream",
     "text": [
      "[I 2025-06-16 06:28:17,890] Trial 35 finished with value: 0.9973754887771673 and parameters: {'threshold': 0.3118637722751388, 'n_estimators': 178, 'learning_rate': 0.12351574521567703, 'max_depth': 14, 'min_child_weight': 6, 'gamma': 0.41787962934205863, 'subsample': 0.667699565248603, 'colsample_bytree': 0.897292361065058, 'reg_alpha': 0.22190265773996531, 'reg_lambda': 0.8357607964391949}. Best is trial 11 with value: 0.997436878472216.\n"
     ]
    },
    {
     "name": "stdout",
     "output_type": "stream",
     "text": [
      "AUC: 0.9987003405555459, Balanced Accuracy: 0.9970958505465985, Fraud Capture Rate: 0.9963302752293579, Composite Score: 0.9973754887771673\n"
     ]
    },
    {
     "name": "stderr",
     "output_type": "stream",
     "text": [
      "C:\\Users\\emanu\\AppData\\Local\\Temp\\ipykernel_23904\\342457772.py:11: FutureWarning: suggest_loguniform has been deprecated in v3.0.0. This feature will be removed in v6.0.0. See https://github.com/optuna/optuna/releases/tag/v3.0.0. Use suggest_float(..., log=True) instead.\n",
      "  'learning_rate': trial.suggest_loguniform('learning_rate', 0.001, 0.2),\n"
     ]
    },
    {
     "name": "stdout",
     "output_type": "stream",
     "text": [
      "AUC: 0.9920931916948335, Balanced Accuracy: 0.9905396468834631, Fraud Capture Rate: 0.981651376146789, Composite Score: 0.9880947382416951\n",
      "AUC: 0.9960465958474167, Balanced Accuracy: 0.9949551421280801, Fraud Capture Rate: 0.9908256880733946, Composite Score: 0.9939424753496304\n",
      "AUC: 0.9973349229487898, Balanced Accuracy: 0.9951025383088018, Fraud Capture Rate: 0.9938837920489297, Composite Score: 0.9954404177688404\n",
      "AUC: 0.9980011922115923, Balanced Accuracy: 0.9963126000355262, Fraud Capture Rate: 0.9954128440366973, Composite Score: 0.9965755454279386\n"
     ]
    },
    {
     "name": "stderr",
     "output_type": "stream",
     "text": [
      "[I 2025-06-16 06:28:20,437] Trial 36 finished with value: 0.9972604363423508 and parameters: {'threshold': 0.3348001885396061, 'n_estimators': 210, 'learning_rate': 0.10550606995246105, 'max_depth': 7, 'min_child_weight': 8, 'gamma': 2.983307044363135, 'subsample': 0.6977340262162446, 'colsample_bytree': 0.9374308092996111, 'reg_alpha': 0.5924991803588646, 'reg_lambda': 0.5557471959467853}. Best is trial 11 with value: 0.997436878472216.\n"
     ]
    },
    {
     "name": "stdout",
     "output_type": "stream",
     "text": [
      "AUC: 0.9984009537692738, Balanced Accuracy: 0.997050080028421, Fraud Capture Rate: 0.9963302752293579, Composite Score: 0.9972604363423508\n"
     ]
    },
    {
     "name": "stderr",
     "output_type": "stream",
     "text": [
      "C:\\Users\\emanu\\AppData\\Local\\Temp\\ipykernel_23904\\342457772.py:11: FutureWarning: suggest_loguniform has been deprecated in v3.0.0. This feature will be removed in v6.0.0. See https://github.com/optuna/optuna/releases/tag/v3.0.0. Use suggest_float(..., log=True) instead.\n",
      "  'learning_rate': trial.suggest_loguniform('learning_rate', 0.001, 0.2),\n"
     ]
    },
    {
     "name": "stdout",
     "output_type": "stream",
     "text": [
      "AUC: 0.9920790208468918, Balanced Accuracy: 0.9905396468834631, Fraud Capture Rate: 0.981651376146789, Composite Score: 0.9880900146257147\n",
      "AUC: 0.9960395104234459, Balanced Accuracy: 0.9949551421280801, Fraud Capture Rate: 0.9908256880733946, Composite Score: 0.9939401135416401\n",
      "AUC: 0.9973191031322176, Balanced Accuracy: 0.9951216099035686, Fraud Capture Rate: 0.9938837920489297, Composite Score: 0.9954415016949053\n",
      "AUC: 0.9979893273491632, Balanced Accuracy: 0.9963269037316014, Fraud Capture Rate: 0.9954128440366973, Composite Score: 0.9965763583724873\n"
     ]
    },
    {
     "name": "stderr",
     "output_type": "stream",
     "text": [
      "[I 2025-06-16 06:28:23,045] Trial 37 finished with value: 0.9972610866979899 and parameters: {'threshold': 0.237623525797601, 'n_estimators': 137, 'learning_rate': 0.06742991963569231, 'max_depth': 9, 'min_child_weight': 5, 'gamma': 0.7786100565158645, 'subsample': 0.6253416799281856, 'colsample_bytree': 0.9948480596691156, 'reg_alpha': 0.48488165295962155, 'reg_lambda': 0.36365998941910493}. Best is trial 11 with value: 0.997436878472216.\n"
     ]
    },
    {
     "name": "stdout",
     "output_type": "stream",
     "text": [
      "AUC: 0.9983914618793307, Balanced Accuracy: 0.9970615229852811, Fraud Capture Rate: 0.9963302752293579, Composite Score: 0.9972610866979899\n"
     ]
    },
    {
     "name": "stderr",
     "output_type": "stream",
     "text": [
      "C:\\Users\\emanu\\AppData\\Local\\Temp\\ipykernel_23904\\342457772.py:11: FutureWarning: suggest_loguniform has been deprecated in v3.0.0. This feature will be removed in v6.0.0. See https://github.com/optuna/optuna/releases/tag/v3.0.0. Use suggest_float(..., log=True) instead.\n",
      "  'learning_rate': trial.suggest_loguniform('learning_rate', 0.001, 0.2),\n"
     ]
    },
    {
     "name": "stdout",
     "output_type": "stream",
     "text": [
      "AUC: 0.9888407196691369, Balanced Accuracy: 0.9905396468834631, Fraud Capture Rate: 0.981651376146789, Composite Score: 0.9870105808997963\n",
      "AUC: 0.9944203598345684, Balanced Accuracy: 0.9950409643045305, Fraud Capture Rate: 0.9908256880733946, Composite Score: 0.9934290040708311\n",
      "AUC: 0.996276425570759, Balanced Accuracy: 0.9951597530931021, Fraud Capture Rate: 0.9938837920489297, Composite Score: 0.9951066569042636\n",
      "AUC: 0.9972073191780693, Balanced Accuracy: 0.9963269037316014, Fraud Capture Rate: 0.9954128440366973, Composite Score: 0.9963156889821226\n"
     ]
    },
    {
     "name": "stderr",
     "output_type": "stream",
     "text": [
      "[I 2025-06-16 06:28:26,677] Trial 38 finished with value: 0.9970487368667447 and parameters: {'threshold': 0.1981669479496748, 'n_estimators': 191, 'learning_rate': 0.16720451811107948, 'max_depth': 8, 'min_child_weight': 9, 'gamma': 4.716897574927792, 'subsample': 0.7336996836972831, 'colsample_bytree': 0.6512448143113432, 'reg_alpha': 0.31629372976049575, 'reg_lambda': 0.6871008746922895}. Best is trial 11 with value: 0.997436878472216.\n"
     ]
    },
    {
     "name": "stdout",
     "output_type": "stream",
     "text": [
      "AUC: 0.9977658553424554, Balanced Accuracy: 0.997050080028421, Fraud Capture Rate: 0.9963302752293579, Composite Score: 0.9970487368667447\n"
     ]
    },
    {
     "name": "stderr",
     "output_type": "stream",
     "text": [
      "C:\\Users\\emanu\\AppData\\Local\\Temp\\ipykernel_23904\\342457772.py:11: FutureWarning: suggest_loguniform has been deprecated in v3.0.0. This feature will be removed in v6.0.0. See https://github.com/optuna/optuna/releases/tag/v3.0.0. Use suggest_float(..., log=True) instead.\n",
      "  'learning_rate': trial.suggest_loguniform('learning_rate', 0.001, 0.2),\n"
     ]
    },
    {
     "name": "stdout",
     "output_type": "stream",
     "text": [
      "AUC: 0.9909747443998909, Balanced Accuracy: 0.9899103562656142, Fraud Capture Rate: 0.981651376146789, Composite Score: 0.9875121589374314\n",
      "AUC: 0.9954873721999453, Balanced Accuracy: 0.9943544228976543, Fraud Capture Rate: 0.9908256880733946, Composite Score: 0.9935558277236647\n",
      "AUC: 0.9969895009290193, Balanced Accuracy: 0.9960646375788688, Fraud Capture Rate: 0.9938837920489297, Composite Score: 0.9956459768522725\n",
      "AUC: 0.9977421256967645, Balanced Accuracy: 0.9967767079587253, Fraud Capture Rate: 0.9954128440366973, Composite Score: 0.9966438925640623\n"
     ]
    },
    {
     "name": "stderr",
     "output_type": "stream",
     "text": [
      "[I 2025-06-16 06:28:30,438] Trial 39 finished with value: 0.9972769708617163 and parameters: {'threshold': 0.08161565472384397, 'n_estimators': 143, 'learning_rate': 0.04197347112006502, 'max_depth': 15, 'min_child_weight': 4, 'gamma': 2.812239493269992, 'subsample': 0.6474846858173883, 'colsample_bytree': 0.606001168576059, 'reg_alpha': 0.6586024091113929, 'reg_lambda': 0.9311578676073369}. Best is trial 11 with value: 0.997436878472216.\n"
     ]
    },
    {
     "name": "stdout",
     "output_type": "stream",
     "text": [
      "AUC: 0.9981937005574115, Balanced Accuracy: 0.9973069367983797, Fraud Capture Rate: 0.9963302752293579, Composite Score: 0.9972769708617163\n"
     ]
    },
    {
     "name": "stderr",
     "output_type": "stream",
     "text": [
      "C:\\Users\\emanu\\AppData\\Local\\Temp\\ipykernel_23904\\342457772.py:11: FutureWarning: suggest_loguniform has been deprecated in v3.0.0. This feature will be removed in v6.0.0. See https://github.com/optuna/optuna/releases/tag/v3.0.0. Use suggest_float(..., log=True) instead.\n",
      "  'learning_rate': trial.suggest_loguniform('learning_rate', 0.001, 0.2),\n"
     ]
    },
    {
     "name": "stdout",
     "output_type": "stream",
     "text": [
      "AUC: 0.9904498981798333, Balanced Accuracy: 0.9905396468834631, Fraud Capture Rate: 0.981651376146789, Composite Score: 0.9875469737366952\n",
      "AUC: 0.9952181873426811, Balanced Accuracy: 0.9949837495202303, Fraud Capture Rate: 0.9908256880733946, Composite Score: 0.9936758749787686\n",
      "AUC: 0.9968076170636304, Balanced Accuracy: 0.9951216099035687, Fraud Capture Rate: 0.9938837920489297, Composite Score: 0.9952710063387097\n",
      "AUC: 0.9976057127977228, Balanced Accuracy: 0.9962839926433762, Fraud Capture Rate: 0.9954128440366973, Composite Score: 0.9964341831592655\n"
     ]
    },
    {
     "name": "stderr",
     "output_type": "stream",
     "text": [
      "[I 2025-06-16 06:28:35,313] Trial 40 finished with value: 0.997143532208459 and parameters: {'threshold': 0.3644683927970769, 'n_estimators': 232, 'learning_rate': 0.010886800144910848, 'max_depth': 10, 'min_child_weight': 2, 'gamma': 4.327720995860398, 'subsample': 0.616495150724146, 'colsample_bytree': 0.7841501908724006, 'reg_alpha': 0.3975472111807059, 'reg_lambda': 0.4188608369734572}. Best is trial 11 with value: 0.997436878472216.\n"
     ]
    },
    {
     "name": "stdout",
     "output_type": "stream",
     "text": [
      "AUC: 0.9980845702381782, Balanced Accuracy: 0.9970157511578408, Fraud Capture Rate: 0.9963302752293579, Composite Score: 0.997143532208459\n"
     ]
    },
    {
     "name": "stderr",
     "output_type": "stream",
     "text": [
      "C:\\Users\\emanu\\AppData\\Local\\Temp\\ipykernel_23904\\342457772.py:11: FutureWarning: suggest_loguniform has been deprecated in v3.0.0. This feature will be removed in v6.0.0. See https://github.com/optuna/optuna/releases/tag/v3.0.0. Use suggest_float(..., log=True) instead.\n",
      "  'learning_rate': trial.suggest_loguniform('learning_rate', 0.001, 0.2),\n"
     ]
    },
    {
     "name": "stdout",
     "output_type": "stream",
     "text": [
      "AUC: 0.994807171498751, Balanced Accuracy: 0.9905968551214495, Fraud Capture Rate: 0.981651376146789, Composite Score: 0.9890184675889965\n",
      "AUC: 0.9974035857493755, Balanced Accuracy: 0.9950981758156738, Fraud Capture Rate: 0.9908256880733946, Composite Score: 0.9944424832128146\n",
      "AUC: 0.9982537998904369, Balanced Accuracy: 0.9951788225057642, Fraud Capture Rate: 0.9938837920489297, Composite Score: 0.9957721381483768\n",
      "AUC: 0.9986903499178277, Balanced Accuracy: 0.9963841168793232, Fraud Capture Rate: 0.9954128440366973, Composite Score: 0.9968291036112826\n"
     ]
    },
    {
     "name": "stderr",
     "output_type": "stream",
     "text": [
      "[I 2025-06-16 06:28:38,296] Trial 41 finished with value: 0.9974632828890261 and parameters: {'threshold': 0.31307056336795847, 'n_estimators': 178, 'learning_rate': 0.11822929101440706, 'max_depth': 14, 'min_child_weight': 6, 'gamma': 0.3549711252470789, 'subsample': 0.664864650758815, 'colsample_bytree': 0.9000304616249366, 'reg_alpha': 0.13243647978425693, 'reg_lambda': 0.826386408348063}. Best is trial 41 with value: 0.9974632828890261.\n"
     ]
    },
    {
     "name": "stdout",
     "output_type": "stream",
     "text": [
      "AUC: 0.9989522799342622, Balanced Accuracy: 0.9971072935034584, Fraud Capture Rate: 0.9963302752293579, Composite Score: 0.9974632828890261\n"
     ]
    },
    {
     "name": "stderr",
     "output_type": "stream",
     "text": [
      "C:\\Users\\emanu\\AppData\\Local\\Temp\\ipykernel_23904\\342457772.py:11: FutureWarning: suggest_loguniform has been deprecated in v3.0.0. This feature will be removed in v6.0.0. See https://github.com/optuna/optuna/releases/tag/v3.0.0. Use suggest_float(..., log=True) instead.\n",
      "  'learning_rate': trial.suggest_loguniform('learning_rate', 0.001, 0.2),\n"
     ]
    },
    {
     "name": "stdout",
     "output_type": "stream",
     "text": [
      "AUC: 0.9941553124934395, Balanced Accuracy: 0.9905968551214495, Fraud Capture Rate: 0.981651376146789, Composite Score: 0.9888011812538927\n",
      "AUC: 0.9970776562467197, Balanced Accuracy: 0.995155390599974, Fraud Capture Rate: 0.9908256880733946, Composite Score: 0.9943529116400295\n",
      "AUC: 0.9980424084118974, Balanced Accuracy: 0.9952360372900645, Fraud Capture Rate: 0.9938837920489297, Composite Score: 0.9957207459169638\n",
      "AUC: 0.998531806308923, Balanced Accuracy: 0.9964270279675483, Fraud Capture Rate: 0.9954128440366973, Composite Score: 0.9967905594377229\n"
     ]
    },
    {
     "name": "stderr",
     "output_type": "stream",
     "text": [
      "[I 2025-06-16 06:28:41,720] Trial 42 finished with value: 0.9974324475501783 and parameters: {'threshold': 0.28761195864325184, 'n_estimators': 164, 'learning_rate': 0.10507256788977258, 'max_depth': 14, 'min_child_weight': 6, 'gamma': 0.03600468944254964, 'subsample': 0.6679993664199004, 'colsample_bytree': 0.8256512436622496, 'reg_alpha': 0.0977964102186673, 'reg_lambda': 0.8420815274560132}. Best is trial 41 with value: 0.9974632828890261.\n"
     ]
    },
    {
     "name": "stdout",
     "output_type": "stream",
     "text": [
      "AUC: 0.9988254450471384, Balanced Accuracy: 0.9971416223740388, Fraud Capture Rate: 0.9963302752293579, Composite Score: 0.9974324475501783\n"
     ]
    },
    {
     "name": "stderr",
     "output_type": "stream",
     "text": [
      "C:\\Users\\emanu\\AppData\\Local\\Temp\\ipykernel_23904\\342457772.py:11: FutureWarning: suggest_loguniform has been deprecated in v3.0.0. This feature will be removed in v6.0.0. See https://github.com/optuna/optuna/releases/tag/v3.0.0. Use suggest_float(..., log=True) instead.\n",
      "  'learning_rate': trial.suggest_loguniform('learning_rate', 0.001, 0.2),\n"
     ]
    },
    {
     "name": "stdout",
     "output_type": "stream",
     "text": [
      "AUC: 0.9926185627611109, Balanced Accuracy: 0.9905396468834631, Fraud Capture Rate: 0.981651376146789, Composite Score: 0.9882698619304544\n",
      "AUC: 0.9963092813805554, Balanced Accuracy: 0.9950695716966806, Fraud Capture Rate: 0.9908256880733946, Composite Score: 0.9940681803835436\n",
      "AUC: 0.99752357013202, Balanced Accuracy: 0.9951788246878689, Fraud Capture Rate: 0.9938837920489297, Composite Score: 0.9955287289562729\n",
      "AUC: 0.998142677599015, Balanced Accuracy: 0.9963841185159017, Fraud Capture Rate: 0.9954128440366973, Composite Score: 0.9966465467172047\n"
     ]
    },
    {
     "name": "stderr",
     "output_type": "stream",
     "text": [
      "[I 2025-06-16 06:28:44,718] Trial 43 finished with value: 0.9973172373737637 and parameters: {'threshold': 0.27981000123735045, 'n_estimators': 164, 'learning_rate': 0.09290115683061177, 'max_depth': 14, 'min_child_weight': 7, 'gamma': 0.043269147479872004, 'subsample': 0.7398990577386019, 'colsample_bytree': 0.8244590695283476, 'reg_alpha': 0.07503748433198923, 'reg_lambda': 0.24406985995166708}. Best is trial 41 with value: 0.9974632828890261.\n"
     ]
    },
    {
     "name": "stdout",
     "output_type": "stream",
     "text": [
      "AUC: 0.998514142079212, Balanced Accuracy: 0.9971072948127213, Fraud Capture Rate: 0.9963302752293579, Composite Score: 0.9973172373737637\n"
     ]
    },
    {
     "name": "stderr",
     "output_type": "stream",
     "text": [
      "C:\\Users\\emanu\\AppData\\Local\\Temp\\ipykernel_23904\\342457772.py:11: FutureWarning: suggest_loguniform has been deprecated in v3.0.0. This feature will be removed in v6.0.0. See https://github.com/optuna/optuna/releases/tag/v3.0.0. Use suggest_float(..., log=True) instead.\n",
      "  'learning_rate': trial.suggest_loguniform('learning_rate', 0.001, 0.2),\n"
     ]
    },
    {
     "name": "stdout",
     "output_type": "stream",
     "text": [
      "AUC: 0.9929859551151513, Balanced Accuracy: 0.990711271597422, Fraud Capture Rate: 0.981651376146789, Composite Score: 0.9884495342864542\n",
      "AUC: 0.9964929775575757, Balanced Accuracy: 0.9952984210144107, Fraud Capture Rate: 0.9908256880733946, Composite Score: 0.9942056955484604\n",
      "AUC: 0.997646381006302, Balanced Accuracy: 0.9953504624944557, Fraud Capture Rate: 0.9938837920489297, Composite Score: 0.9956268785165624\n",
      "AUC: 0.9982347857547265, Balanced Accuracy: 0.9965128468708417, Fraud Capture Rate: 0.9954128440366973, Composite Score: 0.9967201588874218\n"
     ]
    },
    {
     "name": "stderr",
     "output_type": "stream",
     "text": [
      "[I 2025-06-16 06:28:46,814] Trial 44 finished with value: 0.9973761271099374 and parameters: {'threshold': 0.42615636707644605, 'n_estimators': 146, 'learning_rate': 0.14753847375303225, 'max_depth': 13, 'min_child_weight': 5, 'gamma': 0.33754142843117374, 'subsample': 0.7090216855962848, 'colsample_bytree': 0.8818058248945975, 'reg_alpha': 0.09949729700020095, 'reg_lambda': 0.7911183419897135}. Best is trial 41 with value: 0.9974632828890261.\n"
     ]
    },
    {
     "name": "stdout",
     "output_type": "stream",
     "text": [
      "AUC: 0.9985878286037811, Balanced Accuracy: 0.9972102774966733, Fraud Capture Rate: 0.9963302752293579, Composite Score: 0.9973761271099374\n"
     ]
    },
    {
     "name": "stderr",
     "output_type": "stream",
     "text": [
      "C:\\Users\\emanu\\AppData\\Local\\Temp\\ipykernel_23904\\342457772.py:11: FutureWarning: suggest_loguniform has been deprecated in v3.0.0. This feature will be removed in v6.0.0. See https://github.com/optuna/optuna/releases/tag/v3.0.0. Use suggest_float(..., log=True) instead.\n",
      "  'learning_rate': trial.suggest_loguniform('learning_rate', 0.001, 0.2),\n"
     ]
    },
    {
     "name": "stdout",
     "output_type": "stream",
     "text": [
      "AUC: 0.9928746877164991, Balanced Accuracy: 0.9906540633594356, Fraud Capture Rate: 0.981651376146789, Composite Score: 0.9883933757409079\n",
      "AUC: 0.9964373438582496, Balanced Accuracy: 0.9950409577582164, Fraud Capture Rate: 0.9908256880733946, Composite Score: 0.9941013298966201\n",
      "AUC: 0.9975995826979002, Balanced Accuracy: 0.9951597487288927, Fraud Capture Rate: 0.9938837920489297, Composite Score: 0.9955477078252408\n",
      "AUC: 0.9981996870234251, Balanced Accuracy: 0.9963698115466695, Fraud Capture Rate: 0.9954128440366973, Composite Score: 0.9966607808689306\n"
     ]
    },
    {
     "name": "stderr",
     "output_type": "stream",
     "text": [
      "[I 2025-06-16 06:28:49,582] Trial 45 finished with value: 0.9973286246951446 and parameters: {'threshold': 0.315175448891709, 'n_estimators': 160, 'learning_rate': 0.05799218728894264, 'max_depth': 15, 'min_child_weight': 6, 'gamma': 0.7243760085463633, 'subsample': 0.6649228701535111, 'colsample_bytree': 0.916811445976379, 'reg_alpha': 0.13664448891512823, 'reg_lambda': 0.8183952949154596}. Best is trial 41 with value: 0.9974632828890261.\n"
     ]
    },
    {
     "name": "stdout",
     "output_type": "stream",
     "text": [
      "AUC: 0.9985597496187401, Balanced Accuracy: 0.9970958492373356, Fraud Capture Rate: 0.9963302752293579, Composite Score: 0.9973286246951446\n"
     ]
    },
    {
     "name": "stderr",
     "output_type": "stream",
     "text": [
      "C:\\Users\\emanu\\AppData\\Local\\Temp\\ipykernel_23904\\342457772.py:11: FutureWarning: suggest_loguniform has been deprecated in v3.0.0. This feature will be removed in v6.0.0. See https://github.com/optuna/optuna/releases/tag/v3.0.0. Use suggest_float(..., log=True) instead.\n",
      "  'learning_rate': trial.suggest_loguniform('learning_rate', 0.001, 0.2),\n"
     ]
    },
    {
     "name": "stdout",
     "output_type": "stream",
     "text": [
      "AUC: 0.9933281548506288, Balanced Accuracy: 0.9904252304074905, Fraud Capture Rate: 0.981651376146789, Composite Score: 0.9884682538016362\n",
      "AUC: 0.9966640774253144, Balanced Accuracy: 0.9948979338900938, Fraud Capture Rate: 0.9908256880733946, Composite Score: 0.994129233129601\n",
      "AUC: 0.9977438032839071, Balanced Accuracy: 0.9950453278887109, Fraud Capture Rate: 0.9938837920489297, Composite Score: 0.9955576410738493\n",
      "AUC: 0.9983078524629303, Balanced Accuracy: 0.996226781132233, Fraud Capture Rate: 0.9954128440366973, Composite Score: 0.9966491592106201\n"
     ]
    },
    {
     "name": "stderr",
     "output_type": "stream",
     "text": [
      "[I 2025-06-16 06:28:52,087] Trial 46 finished with value: 0.9973155130495428 and parameters: {'threshold': 0.2759655186596455, 'n_estimators': 170, 'learning_rate': 0.027201265414200104, 'max_depth': 14, 'min_child_weight': 8, 'gamma': 3.4205006722990055, 'subsample': 0.6874158862933744, 'colsample_bytree': 0.973002544866048, 'reg_alpha': 0.21851926352893908, 'reg_lambda': 0.7489292924725602}. Best is trial 41 with value: 0.9974632828890261.\n"
     ]
    },
    {
     "name": "stdout",
     "output_type": "stream",
     "text": [
      "AUC: 0.9986462819703442, Balanced Accuracy: 0.9969699819489263, Fraud Capture Rate: 0.9963302752293579, Composite Score: 0.9973155130495428\n"
     ]
    },
    {
     "name": "stderr",
     "output_type": "stream",
     "text": [
      "C:\\Users\\emanu\\AppData\\Local\\Temp\\ipykernel_23904\\342457772.py:11: FutureWarning: suggest_loguniform has been deprecated in v3.0.0. This feature will be removed in v6.0.0. See https://github.com/optuna/optuna/releases/tag/v3.0.0. Use suggest_float(..., log=True) instead.\n",
      "  'learning_rate': trial.suggest_loguniform('learning_rate', 0.001, 0.2),\n"
     ]
    },
    {
     "name": "stdout",
     "output_type": "stream",
     "text": [
      "AUC: 0.9903060903155376, Balanced Accuracy: 0.9908256880733946, Fraud Capture Rate: 0.981651376146789, Composite Score: 0.9875943848452403\n",
      "AUC: 0.9951530451577688, Balanced Accuracy: 0.9952984144680967, Fraud Capture Rate: 0.9908256880733946, Composite Score: 0.9937590492330866\n",
      "AUC: 0.9967007325432226, Balanced Accuracy: 0.9953504581302464, Fraud Capture Rate: 0.9938837920489297, Composite Score: 0.9953116609074661\n",
      "AUC: 0.9975255494074169, Balanced Accuracy: 0.9964985399016097, Fraud Capture Rate: 0.9954128440366973, Composite Score: 0.9964789777819079\n"
     ]
    },
    {
     "name": "stderr",
     "output_type": "stream",
     "text": [
      "[I 2025-06-16 06:28:54,118] Trial 47 finished with value: 0.9971831822255263 and parameters: {'threshold': 0.21475191386479608, 'n_estimators': 114, 'learning_rate': 0.07799311898369, 'max_depth': 13, 'min_child_weight': 3, 'gamma': 0.14451008605670682, 'subsample': 0.8282560099367486, 'colsample_bytree': 0.9415773994410156, 'reg_alpha': 0.021350821312438734, 'reg_lambda': 0.679712759439192}. Best is trial 41 with value: 0.9974632828890261.\n"
     ]
    },
    {
     "name": "stdout",
     "output_type": "stream",
     "text": [
      "AUC: 0.9980204395259336, Balanced Accuracy: 0.9971988319212878, Fraud Capture Rate: 0.9963302752293579, Composite Score: 0.9971831822255263\n"
     ]
    },
    {
     "name": "stderr",
     "output_type": "stream",
     "text": [
      "C:\\Users\\emanu\\AppData\\Local\\Temp\\ipykernel_23904\\342457772.py:11: FutureWarning: suggest_loguniform has been deprecated in v3.0.0. This feature will be removed in v6.0.0. See https://github.com/optuna/optuna/releases/tag/v3.0.0. Use suggest_float(..., log=True) instead.\n",
      "  'learning_rate': trial.suggest_loguniform('learning_rate', 0.001, 0.2),\n"
     ]
    },
    {
     "name": "stdout",
     "output_type": "stream",
     "text": [
      "AUC: 0.9929765078831901, Balanced Accuracy: 0.9905968551214495, Fraud Capture Rate: 0.981651376146789, Composite Score: 0.9884082463838095\n",
      "AUC: 0.9964882539415951, Balanced Accuracy: 0.9950409610313735, Fraud Capture Rate: 0.9908256880733946, Composite Score: 0.9941183010154544\n",
      "AUC: 0.9975665987936461, Balanced Accuracy: 0.9951597509109975, Fraud Capture Rate: 0.9938837920489297, Composite Score: 0.9955367139178577\n",
      "AUC: 0.9981749490952345, Balanced Accuracy: 0.9963698131832481, Fraud Capture Rate: 0.9954128440366973, Composite Score: 0.9966525354383933\n"
     ]
    },
    {
     "name": "stderr",
     "output_type": "stream",
     "text": [
      "[I 2025-06-16 06:28:56,832] Trial 48 finished with value: 0.9973220283507146 and parameters: {'threshold': 0.34045841850773495, 'n_estimators': 177, 'learning_rate': 0.11616641779112095, 'max_depth': 15, 'min_child_weight': 6, 'gamma': 0.2975995135198167, 'subsample': 0.6748894120405963, 'colsample_bytree': 0.9771253299836238, 'reg_alpha': 0.1154473754115805, 'reg_lambda': 0.959359130362083}. Best is trial 41 with value: 0.9974632828890261.\n"
     ]
    },
    {
     "name": "stdout",
     "output_type": "stream",
     "text": [
      "AUC: 0.9985399592761877, Balanced Accuracy: 0.9970958505465985, Fraud Capture Rate: 0.9963302752293579, Composite Score: 0.9973220283507146\n"
     ]
    },
    {
     "name": "stderr",
     "output_type": "stream",
     "text": [
      "C:\\Users\\emanu\\AppData\\Local\\Temp\\ipykernel_23904\\342457772.py:11: FutureWarning: suggest_loguniform has been deprecated in v3.0.0. This feature will be removed in v6.0.0. See https://github.com/optuna/optuna/releases/tag/v3.0.0. Use suggest_float(..., log=True) instead.\n",
      "  'learning_rate': trial.suggest_loguniform('learning_rate', 0.001, 0.2),\n"
     ]
    },
    {
     "name": "stdout",
     "output_type": "stream",
     "text": [
      "AUC: 0.9924443138160519, Balanced Accuracy: 0.990711271597422, Fraud Capture Rate: 0.981651376146789, Composite Score: 0.9882689871867543\n",
      "AUC: 0.996222156908026, Balanced Accuracy: 0.9952412062301105, Fraud Capture Rate: 0.9908256880733946, Composite Score: 0.9940963504038436\n",
      "AUC: 0.9974424278584793, Balanced Accuracy: 0.9952932477101554, Fraud Capture Rate: 0.9938837920489297, Composite Score: 0.9955398225391882\n",
      "AUC: 0.9980818208938594, Balanced Accuracy: 0.9964699357826166, Fraud Capture Rate: 0.9954128440366973, Composite Score: 0.9966548669043911\n"
     ]
    },
    {
     "name": "stderr",
     "output_type": "stream",
     "text": [
      "[I 2025-06-16 06:28:59,356] Trial 49 finished with value: 0.9973238935235129 and parameters: {'threshold': 0.3697889950333949, 'n_estimators': 204, 'learning_rate': 0.16000132648131124, 'max_depth': 13, 'min_child_weight': 4, 'gamma': 2.393649439733381, 'subsample': 0.631467877958743, 'colsample_bytree': 0.9183612418104717, 'reg_alpha': 0.20145218184243102, 'reg_lambda': 0.8953029173492731}. Best is trial 41 with value: 0.9974632828890261.\n"
     ]
    },
    {
     "name": "stdout",
     "output_type": "stream",
     "text": [
      "AUC: 0.9984654567150877, Balanced Accuracy: 0.9971759486260933, Fraud Capture Rate: 0.9963302752293579, Composite Score: 0.9973238935235129\n",
      "✅ Best XGBoost Parameters: {'threshold': 0.31307056336795847, 'n_estimators': 178, 'learning_rate': 0.11822929101440706, 'max_depth': 14, 'min_child_weight': 6, 'gamma': 0.3549711252470789, 'subsample': 0.664864650758815, 'colsample_bytree': 0.9000304616249366, 'reg_alpha': 0.13243647978425693, 'reg_lambda': 0.826386408348063}\n",
      "🎯 Best Composite Score: 0.9975\n"
     ]
    }
   ],
   "source": [
    "import optuna\n",
    "\n",
    "study = optuna.create_study(direction='maximize', sampler=optuna.samplers.TPESampler(seed=42))\n",
    "study.optimize(objective, n_trials=50)\n",
    "\n",
    "print(\"✅ Best XGBoost Parameters:\", study.best_params)\n",
    "print(\"🎯 Best Composite Score:\", round(study.best_value, 4))\n"
   ]
  },
  {
   "cell_type": "code",
   "execution_count": 305,
   "id": "992d4979",
   "metadata": {},
   "outputs": [],
   "source": [
    "import xgboost as xgb\n",
    "import pandas as pd\n",
    "import numpy as np\n",
    "\n",
    "# ✅ Best XGBoost hyperparameters from Optuna\n",
    "best_params_xgb = {\n",
    "    'n_estimators': 286,\n",
    "    'learning_rate': 0.03441730150512816,\n",
    "    'max_depth': 12,\n",
    "    'min_child_weight': 4,\n",
    "    'gamma': 0.06655413271247834,\n",
    "    'subsample': 0.6364784353029371,\n",
    "    'colsample_bytree': 0.960836926077814,\n",
    "    'reg_alpha': 0.8384948295032638,\n",
    "    'reg_lambda': 0.629887207892041,\n",
    "    'scale_pos_weight': len(y_train[y_train == 0]) / len(y_train[y_train == 1]),  # Handling class imbalance\n",
    "    'objective': 'binary:logistic',\n",
    "    'eval_metric': 'logloss',\n",
    "    'use_label_encoder': False,\n",
    "    'verbosity': 0\n",
    "}\n",
    "\n",
    "# 🔁 Train the final XGBoost model on the full training set\n",
    "final_xgb = xgb.XGBClassifier(**best_params_xgb, random_state=42)\n",
    "final_xgb.fit(X_train, y_train)\n",
    "\n",
    "# 📊 Predict probabilities on test set\n",
    "test_probs_xgb = final_xgb.predict_proba(test_df)[:, 1]\n",
    "\n",
    "# 🔎 Apply optimized classification threshold\n",
    "best_threshold = 0.3595320880199634\n",
    "test_preds = (test_probs_xgb >= best_threshold).astype(int)\n",
    "\n",
    "# 💾 Save predictions to submission file\n",
    "submission = pd.DataFrame({\n",
    "    0: test_probs_xgb,\n",
    "    1: test_preds\n",
    "})\n",
    "submission.to_csv(\"submission.txt\", sep=\" \", header=False, index=False)\n",
    "\n"
   ]
  },
  {
   "cell_type": "code",
   "execution_count": 306,
   "id": "90602524",
   "metadata": {},
   "outputs": [],
   "source": [
    "with open(\"submission_xgb.txt\", \"w\") as f:\n",
    "    for prob, pred in zip(test_probs_xgb, test_preds):\n",
    "        f.write(f\"{prob} {pred}\\n\")\n"
   ]
  },
  {
   "cell_type": "code",
   "execution_count": 307,
   "id": "3ce80a3c",
   "metadata": {},
   "outputs": [],
   "source": [
    "# Simple average ensemble\n",
    "blended_probs = 0.35 * test_probs_lgb + 0.65 * test_probs_xgb"
   ]
  },
  {
   "cell_type": "code",
   "execution_count": 308,
   "id": "366dd139",
   "metadata": {},
   "outputs": [],
   "source": [
    "with open(\"submission_ens.txt\", \"w\") as f:\n",
    "    for prob, pred in zip(blended_probs, test_preds):\n",
    "        f.write(f\"{prob} {pred}\\n\")\n"
   ]
  },
  {
   "cell_type": "code",
   "execution_count": 309,
   "id": "40420ea8",
   "metadata": {},
   "outputs": [
    {
     "name": "stdout",
     "output_type": "stream",
     "text": [
      "Indices where LGBM and XGBoost predictions mismatch: [11286 14461 15892 16898 17488]\n",
      "Index: 11286, LGBM Prob: 0.6649797088567638, XGBoost Prob: 0.13041166961193085, LGBM Pred: 1, XGBoost Pred: 0\n",
      "Index: 14461, LGBM Prob: 0.21828313666491841, XGBoost Prob: 0.7525576949119568, LGBM Pred: 0, XGBoost Pred: 1\n",
      "Index: 15892, LGBM Prob: 0.1438838850416516, XGBoost Prob: 0.748516857624054, LGBM Pred: 0, XGBoost Pred: 1\n",
      "Index: 16898, LGBM Prob: 0.47988928041974177, XGBoost Prob: 0.16566811501979828, LGBM Pred: 1, XGBoost Pred: 0\n",
      "Index: 17488, LGBM Prob: 0.33708798914442784, XGBoost Prob: 0.4972667694091797, LGBM Pred: 0, XGBoost Pred: 1\n"
     ]
    }
   ],
   "source": [
    "# check if 0 and 1 in lgb and xgb predictions match\n",
    "lgb_preds = (test_probs_lgb >= best_threshold).astype(int)\n",
    "xgb_preds = (test_probs_xgb >= best_threshold).astype(int)\n",
    "# show when they don't match\n",
    "mismatch_indices = np.where(lgb_preds != xgb_preds)[0]\n",
    "print(\"Indices where LGBM and XGBoost predictions mismatch:\", mismatch_indices)\n",
    "# for those get more info\n",
    "for idx in mismatch_indices:\n",
    "    print(f\"Index: {idx}, LGBM Prob: {test_probs_lgb[idx]}, XGBoost Prob: {test_probs_xgb[idx]}, LGBM Pred: {lgb_preds[idx]}, XGBoost Pred: {xgb_preds[idx]}\")"
   ]
  },
  {
   "cell_type": "code",
   "execution_count": 310,
   "id": "c80196a8",
   "metadata": {},
   "outputs": [],
   "source": [
    "# which one did I use on the submission?\n",
    "# I used the XGBoost predictions for the final submission\n",
    "# Save the final blended predictions\n",
    "submission = pd.DataFrame({\n",
    "    0: blended_probs,\n",
    "    1: (blended_probs >= best_threshold).astype(int)\n",
    "})\n",
    "\n",
    "submission.to_csv(\"submission_final.txt\", sep=\" \", header=False, index=False)"
   ]
  },
  {
   "cell_type": "code",
   "execution_count": 311,
   "id": "8d976641",
   "metadata": {},
   "outputs": [
    {
     "name": "stdout",
     "output_type": "stream",
     "text": [
      "Same-account transactions: 40 out of 23743 (0.1685%)\n"
     ]
    },
    {
     "data": {
      "text/plain": [
       "array([6.07359200e-04, 5.97210359e-04, 9.49800903e-05, 7.54981269e-05,\n",
       "       2.26995266e-04, 7.13328341e-05, 3.77053041e-04, 5.81680185e-05,\n",
       "       5.95065390e-04, 1.65088917e-04, 6.02999262e-04, 7.27311202e-05,\n",
       "       6.59180268e-05, 9.34322722e-05, 1.13515587e-03, 1.04932997e-04,\n",
       "       3.89213893e-04, 7.27775641e-05, 1.07238620e-04, 6.19921390e-05,\n",
       "       2.70240539e-03, 8.48505224e-05, 8.48505224e-05, 7.89238663e-05,\n",
       "       6.20597582e-05, 8.82540021e-05, 7.80190057e-05, 3.45947462e-03,\n",
       "       3.18787582e-04, 8.15105546e-05, 5.44862995e-04, 3.45270261e-03,\n",
       "       8.51612117e-05, 8.17038311e-05, 7.27401813e-05, 1.12644266e-03,\n",
       "       5.82439770e-05, 2.20672875e-04, 5.03998341e-05, 1.04932997e-04])"
      ]
     },
     "execution_count": 311,
     "metadata": {},
     "output_type": "execute_result"
    }
   ],
   "source": [
    "test_df = pd.read_csv('Dataset/test_processed.csv')\n",
    "same_account_df = test_df[test_df['From Account'] == test_df['To Account']]\n",
    "\n",
    "# Count how many such transactions exist\n",
    "count_same = same_account_df.shape[0]\n",
    "total = test_df.shape[0]\n",
    "\n",
    "print(f\"Same-account transactions: {count_same} out of {total} ({(count_same / total) * 100:.4f}%)\")\n",
    "# save index for those\n",
    "same_account_indices = same_account_df.index.tolist()\n",
    "# see how we predicted them\n",
    "same_account_probs = blended_probs[same_account_indices]\n",
    "same_account_probs"
   ]
  },
  {
   "cell_type": "markdown",
   "id": "2586d493",
   "metadata": {},
   "source": [
    "All corrected"
   ]
  }
 ],
 "metadata": {
  "kernelspec": {
   "display_name": ".venv",
   "language": "python",
   "name": "python3"
  },
  "language_info": {
   "codemirror_mode": {
    "name": "ipython",
    "version": 3
   },
   "file_extension": ".py",
   "mimetype": "text/x-python",
   "name": "python",
   "nbconvert_exporter": "python",
   "pygments_lexer": "ipython3",
   "version": "3.11.9"
  }
 },
 "nbformat": 4,
 "nbformat_minor": 5
}
