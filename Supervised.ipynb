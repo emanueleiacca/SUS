{
 "cells": [
  {
   "cell_type": "code",
   "execution_count": 235,
   "id": "98153818",
   "metadata": {},
   "outputs": [],
   "source": [
    "import pandas as pd\n",
    "from sklearn.model_selection import train_test_split\n",
    "from lightgbm import LGBMClassifier\n",
    "from sklearn.metrics import classification_report, roc_auc_score\n",
    "\n",
    "# Load the processed dataset\n",
    "df = pd.read_csv('Dataset/train_processed.csv')\n",
    "test_df = pd.read_csv('Dataset/test_processed.csv')\n",
    "\n",
    "bool_cols = df.select_dtypes(include='bool').columns\n",
    "df[bool_cols] = df[bool_cols].astype(int)\n",
    "bool_cols_test = test_df.select_dtypes(include='bool').columns\n",
    "test_df[bool_cols_test] = test_df[bool_cols_test].astype(int)"
   ]
  },
  {
   "cell_type": "code",
   "execution_count": 236,
   "id": "e2116917",
   "metadata": {},
   "outputs": [
    {
     "name": "stderr",
     "output_type": "stream",
     "text": [
      "C:\\Users\\emanu\\AppData\\Local\\Temp\\ipykernel_23904\\1452891232.py:13: FutureWarning: A value is trying to be set on a copy of a DataFrame or Series through chained assignment using an inplace method.\n",
      "The behavior will change in pandas 3.0. This inplace method will never work because the intermediate object on which we are setting values always behaves as a copy.\n",
      "\n",
      "For example, when doing 'df[col].method(value, inplace=True)', try using 'df.method({col: value}, inplace=True)' or df[col] = df[col].method(value) instead, to perform the operation inplace on the original object.\n",
      "\n",
      "\n",
      "  df['pair_frequency'].fillna(1, inplace=True)\n",
      "C:\\Users\\emanu\\AppData\\Local\\Temp\\ipykernel_23904\\1452891232.py:14: FutureWarning: A value is trying to be set on a copy of a DataFrame or Series through chained assignment using an inplace method.\n",
      "The behavior will change in pandas 3.0. This inplace method will never work because the intermediate object on which we are setting values always behaves as a copy.\n",
      "\n",
      "For example, when doing 'df[col].method(value, inplace=True)', try using 'df.method({col: value}, inplace=True)' or df[col] = df[col].method(value) instead, to perform the operation inplace on the original object.\n",
      "\n",
      "\n",
      "  df['reverse_pair_frequency'].fillna(0, inplace=True)\n"
     ]
    }
   ],
   "source": [
    "# Compute pair frequency (A → B)\n",
    "account_pairs = df.groupby(['From Account', 'To Account']).size().reset_index(name='pair_frequency')\n",
    "\n",
    "# Compute reverse pair frequency (B → A)\n",
    "reverse_pairs = account_pairs.copy()\n",
    "reverse_pairs.columns = ['To Account', 'From Account', 'reverse_pair_frequency']  # flip column names\n",
    "\n",
    "# Merge both into the original dataframe\n",
    "df = df.merge(account_pairs, on=['From Account', 'To Account'], how='left')\n",
    "df = df.merge(reverse_pairs, on=['From Account', 'To Account'], how='left')  # correct merge\n",
    "\n",
    "# Fill missing frequencies\n",
    "df['pair_frequency'].fillna(1, inplace=True)\n",
    "df['reverse_pair_frequency'].fillna(0, inplace=True)\n",
    "\n",
    "# Flag circular transactions\n",
    "df['is_circular'] = (df['reverse_pair_frequency'] > 0).astype(int)"
   ]
  },
  {
   "cell_type": "code",
   "execution_count": 237,
   "id": "93e3cee0",
   "metadata": {},
   "outputs": [
    {
     "name": "stderr",
     "output_type": "stream",
     "text": [
      "C:\\Users\\emanu\\AppData\\Local\\Temp\\ipykernel_23904\\3936049671.py:13: FutureWarning: A value is trying to be set on a copy of a DataFrame or Series through chained assignment using an inplace method.\n",
      "The behavior will change in pandas 3.0. This inplace method will never work because the intermediate object on which we are setting values always behaves as a copy.\n",
      "\n",
      "For example, when doing 'df[col].method(value, inplace=True)', try using 'df.method({col: value}, inplace=True)' or df[col] = df[col].method(value) instead, to perform the operation inplace on the original object.\n",
      "\n",
      "\n",
      "  test_df['pair_frequency'].fillna(1, inplace=True)\n",
      "C:\\Users\\emanu\\AppData\\Local\\Temp\\ipykernel_23904\\3936049671.py:14: FutureWarning: A value is trying to be set on a copy of a DataFrame or Series through chained assignment using an inplace method.\n",
      "The behavior will change in pandas 3.0. This inplace method will never work because the intermediate object on which we are setting values always behaves as a copy.\n",
      "\n",
      "For example, when doing 'df[col].method(value, inplace=True)', try using 'df.method({col: value}, inplace=True)' or df[col] = df[col].method(value) instead, to perform the operation inplace on the original object.\n",
      "\n",
      "\n",
      "  test_df['reverse_pair_frequency'].fillna(0, inplace=True)\n"
     ]
    }
   ],
   "source": [
    "# Compute pair frequency (A → B)\n",
    "account_pairs = test_df.groupby(['From Account', 'To Account']).size().reset_index(name='pair_frequency')\n",
    "\n",
    "# Compute reverse pair frequency (B → A)\n",
    "reverse_pairs = account_pairs.copy()\n",
    "reverse_pairs.columns = ['To Account', 'From Account', 'reverse_pair_frequency']  # flip column names\n",
    "\n",
    "# Merge both into the original dataframe\n",
    "test_df = test_df.merge(account_pairs, on=['From Account', 'To Account'], how='left')\n",
    "test_df = test_df.merge(reverse_pairs, on=['From Account', 'To Account'], how='left')  # correct merge\n",
    "\n",
    "# Fill missing frequencies\n",
    "test_df['pair_frequency'].fillna(1, inplace=True)\n",
    "test_df['reverse_pair_frequency'].fillna(0, inplace=True)\n",
    "\n",
    "# Flag circular transactions\n",
    "test_df['is_circular'] = (test_df['reverse_pair_frequency'] > 0).astype(int)"
   ]
  },
  {
   "cell_type": "code",
   "execution_count": 238,
   "id": "c5482776",
   "metadata": {},
   "outputs": [],
   "source": [
    "import  networkx as nx\n",
    "# Initialize a directed graph\n",
    "G = nx.DiGraph()\n",
    "\n",
    "# Add edges with attributes\n",
    "for idx, row in df.iterrows():\n",
    "    G.add_edge(\n",
    "        row['From Account'],\n",
    "        row['To Account'],\n",
    "        amount_log=row['Amount Paid_log'],\n",
    "        pair_frequency=row['pair_frequency'],\n",
    "        reverse_pair_frequency=row['reverse_pair_frequency'],\n",
    "        is_circular=row['is_circular']\n",
    "    )\n"
   ]
  },
  {
   "cell_type": "code",
   "execution_count": 239,
   "id": "59f40ef9",
   "metadata": {},
   "outputs": [],
   "source": [
    "import  networkx as nx\n",
    "# Initialize a directed graph\n",
    "G_test = nx.DiGraph()\n",
    "\n",
    "# Add edges with attributes\n",
    "for idx, row in test_df.iterrows():\n",
    "    G_test.add_edge(\n",
    "        row['From Account'],\n",
    "        row['To Account'],\n",
    "        amount_log=row['Amount Paid_log'],\n",
    "        pair_frequency=row['pair_frequency'],\n",
    "        reverse_pair_frequency=row['reverse_pair_frequency'],\n",
    "        is_circular=row['is_circular']\n",
    "    )"
   ]
  },
  {
   "cell_type": "code",
   "execution_count": null,
   "id": "4dad4456",
   "metadata": {},
   "outputs": [],
   "source": [
    "#in_degree_centrality = nx.in_degree_centrality(G)\n",
    "#out_degree_centrality = nx.out_degree_centrality(G)\n",
    "betweenness_centrality = nx.betweenness_centrality(G, k=min(1000, len(G.nodes())))"
   ]
  },
  {
   "cell_type": "code",
   "execution_count": null,
   "id": "c909a6cd",
   "metadata": {},
   "outputs": [],
   "source": [
    "#in_degree_centrality_test = nx.in_degree_centrality(G_test)\n",
    "#out_degree_centrality_test = nx.out_degree_centrality(G_test)\n",
    "betweenness_centrality_test = nx.betweenness_centrality(G_test, k=min(1000, len(G_test.nodes())))"
   ]
  },
  {
   "cell_type": "code",
   "execution_count": 242,
   "id": "1a92b4c3",
   "metadata": {},
   "outputs": [],
   "source": [
    "#df['from_out_degree_centrality'] = df['From Account'].map(out_degree_centrality).fillna(0)\n",
    "df['from_betweenness_centrality'] = df['From Account'].map(betweenness_centrality).fillna(0)\n",
    "#df['to_in_degree_centrality'] = df['To Account'].map(in_degree_centrality).fillna(0)\n",
    "df['to_betweenness_centrality'] = df['To Account'].map(betweenness_centrality).fillna(0)"
   ]
  },
  {
   "cell_type": "code",
   "execution_count": 243,
   "id": "8d28c3f1",
   "metadata": {},
   "outputs": [],
   "source": [
    "#test_df['from_out_degree_centrality'] = test_df['From Account'].map(out_degree_centrality_test).fillna(0)\n",
    "test_df['from_betweenness_centrality'] = test_df['From Account'].map(betweenness_centrality_test).fillna(0)\n",
    "#test_df['to_in_degree_centrality'] = test_df['To Account'].map(in_degree_centrality_test).fillna(0)\n",
    "test_df['to_betweenness_centrality'] = test_df['To Account'].map(betweenness_centrality_test).fillna(0)"
   ]
  },
  {
   "cell_type": "code",
   "execution_count": null,
   "id": "e96adc5a",
   "metadata": {},
   "outputs": [],
   "source": [
    "df = df.drop(columns=['From Account', 'To Account'], errors='ignore')\n",
    "\n",
    "# Separate features and target\n",
    "X = df.drop(columns=['Is Laundering'])\n",
    "y = df['Is Laundering']\n",
    "\n",
    "# Train-test split\n",
    "X_train, X_val, y_train, y_val = train_test_split(\n",
    "    X, y, test_size=0.2, random_state=42, stratify=y\n",
    ")\n"
   ]
  },
  {
   "cell_type": "code",
   "execution_count": 245,
   "id": "fbb2dba7",
   "metadata": {},
   "outputs": [],
   "source": [
    "#!pip install optuna"
   ]
  },
  {
   "cell_type": "code",
   "execution_count": 246,
   "id": "7c8ff0df",
   "metadata": {},
   "outputs": [],
   "source": [
    "test_df = test_df.drop(columns=['From Account', 'To Account'], errors='ignore')"
   ]
  },
  {
   "cell_type": "code",
   "execution_count": 247,
   "id": "e33c15e0",
   "metadata": {},
   "outputs": [],
   "source": [
    "from sklearn.metrics import roc_auc_score, confusion_matrix\n",
    "\n",
    "def calculate_balanced_accuracy(y_true, y_pred):\n",
    "    tn, fp, fn, tp = confusion_matrix(y_true, y_pred).ravel()\n",
    "    tpr = tp / (tp + fn) if (tp + fn) > 0 else 0\n",
    "    tnr = tn / (tn + fp) if (tn + fp) > 0 else 0\n",
    "    return (tpr + tnr) / 2\n",
    "\n",
    "def calculate_fraud_capture_rate(y_true, y_prob, N=485):\n",
    "    sorted_indices = np.argsort(y_prob)[::-1]\n",
    "    top_N_indices = sorted_indices[:N]\n",
    "    frauds_in_top_N = np.sum(y_true.iloc[top_N_indices] if hasattr(y_true, 'iloc') else y_true[top_N_indices])\n",
    "    total_frauds = np.sum(y_true)\n",
    "    return frauds_in_top_N / total_frauds if total_frauds > 0 else 0\n",
    "\n",
    "def calculate_composite_score(y_true, y_pred, y_prob, N=485):\n",
    "    auc_score = roc_auc_score(y_true, y_prob)\n",
    "    balanced_acc = calculate_balanced_accuracy(y_true, y_pred)\n",
    "    fraud_capture = calculate_fraud_capture_rate(y_true, y_prob, N)\n",
    "    return (auc_score + balanced_acc + fraud_capture) / 3\n"
   ]
  },
  {
   "cell_type": "markdown",
   "id": "fad37746",
   "metadata": {},
   "source": [
    "### LGBM"
   ]
  },
  {
   "cell_type": "code",
   "execution_count": 250,
   "id": "bfb6ad4a",
   "metadata": {},
   "outputs": [],
   "source": [
    "import lightgbm as lgb\n",
    "from sklearn.model_selection import StratifiedKFold\n",
    "from sklearn.metrics import roc_auc_score, confusion_matrix\n",
    "import numpy as np\n",
    "\n",
    "def objective(trial):\n",
    "    scale_pos_weight = len(y_train[y_train == 0]) / len(y_train[y_train == 1])\n",
    "    \n",
    "    # 🔧 Threshold being tuned by Optuna\n",
    "    threshold = trial.suggest_float(\"threshold\", 0.05, 0.5)\n",
    "\n",
    "    params = {\n",
    "        'n_estimators': trial.suggest_int('n_estimators', 100, 300),\n",
    "        'learning_rate': trial.suggest_loguniform('learning_rate', 0.001, 0.2),\n",
    "        'max_depth': trial.suggest_int('max_depth', 5, 15),\n",
    "        'num_leaves': trial.suggest_int('num_leaves', 20, 40),\n",
    "        'min_child_samples': trial.suggest_int('min_child_samples', 10, 50),\n",
    "        'subsample': trial.suggest_float('subsample', 0.7, 1.0),\n",
    "        'subsample_freq': trial.suggest_int('subsample_freq', 1, 5),\n",
    "        'colsample_bytree': trial.suggest_float('colsample_bytree', 0.6, 1.0),\n",
    "        'reg_alpha': trial.suggest_float('reg_alpha', 0.0, 1.0),\n",
    "        'reg_lambda': trial.suggest_float('reg_lambda', 0.0, 1.0),\n",
    "        'max_bin': trial.suggest_int('max_bin', 200, 300),\n",
    "        'scale_pos_weight': scale_pos_weight,\n",
    "        'force_col_wise': True,\n",
    "        'verbosity': -1\n",
    "    }\n",
    "\n",
    "    kf = StratifiedKFold(n_splits=5, shuffle=True, random_state=42)\n",
    "\n",
    "    auc_scores = [] \n",
    "    balanced_accuracies = []\n",
    "    fraud_capture_rates = []\n",
    "    scores = []\n",
    "\n",
    "    for train_idx, val_idx in kf.split(X_train, y_train):\n",
    "        X_fold_train, X_fold_val = X_train.iloc[train_idx], X_train.iloc[val_idx]\n",
    "        y_fold_train, y_fold_val = y_train.iloc[train_idx], y_train.iloc[val_idx]\n",
    "\n",
    "        model = lgb.LGBMClassifier(**params, random_state=42)\n",
    "        model.fit(X_fold_train, y_fold_train)\n",
    "\n",
    "        y_prob = model.predict_proba(X_fold_val)[:, 1]\n",
    "        y_pred = (y_prob >= threshold).astype(int)\n",
    "\n",
    "        auc_score = roc_auc_score(y_fold_val, y_prob)\n",
    "        balanced_acc = calculate_balanced_accuracy(y_fold_val, y_pred)\n",
    "        fraud_capture = calculate_fraud_capture_rate(y_fold_val, y_prob, N=485)\n",
    "        score = calculate_composite_score(y_fold_val, y_pred, y_prob, N=485)\n",
    "\n",
    "        auc_scores.append(auc_score)\n",
    "        balanced_accuracies.append(balanced_acc)    \n",
    "        fraud_capture_rates.append(fraud_capture)\n",
    "        scores.append(score)\n",
    "\n",
    "    print(f\"AUC: {np.mean(auc_scores)}, Balanced Accuracy: {np.mean(balanced_accuracies)}, Fraud Capture Rate: {np.mean(fraud_capture_rates)}, Composite Score: {np.mean(scores)}\")\n",
    "\n",
    "    return np.mean(scores)\n"
   ]
  },
  {
   "cell_type": "code",
   "execution_count": 251,
   "id": "898bd768",
   "metadata": {},
   "outputs": [
    {
     "name": "stderr",
     "output_type": "stream",
     "text": [
      "[I 2025-06-16 04:46:00,389] A new study created in memory with name: no-name-5c4881e8-083c-4d74-b7f8-2040968c0fa0\n",
      "C:\\Users\\emanu\\AppData\\Local\\Temp\\ipykernel_23904\\3815611893.py:14: FutureWarning: suggest_loguniform has been deprecated in v3.0.0. This feature will be removed in v6.0.0. See https://github.com/optuna/optuna/releases/tag/v3.0.0. Use suggest_float(..., log=True) instead.\n",
      "  'learning_rate': trial.suggest_loguniform('learning_rate', 0.001, 0.2),\n",
      "[I 2025-06-16 04:46:02,163] Trial 0 finished with value: 0.9973394788306251 and parameters: {'threshold': 0.21854305348131314, 'n_estimators': 291, 'learning_rate': 0.0483437145318464, 'max_depth': 11, 'num_leaves': 23, 'min_child_samples': 16, 'subsample': 0.7174250836504598, 'subsample_freq': 5, 'colsample_bytree': 0.8404460046972835, 'reg_alpha': 0.7080725777960455, 'reg_lambda': 0.020584494295802447, 'max_bin': 297}. Best is trial 0 with value: 0.9973394788306251.\n"
     ]
    },
    {
     "name": "stdout",
     "output_type": "stream",
     "text": [
      "AUC: 0.9984435575137898, Balanced Accuracy: 0.997244603748728, Fraud Capture Rate: 0.9963302752293579, Composite Score: 0.9973394788306251\n"
     ]
    },
    {
     "name": "stderr",
     "output_type": "stream",
     "text": [
      "C:\\Users\\emanu\\AppData\\Local\\Temp\\ipykernel_23904\\3815611893.py:14: FutureWarning: suggest_loguniform has been deprecated in v3.0.0. This feature will be removed in v6.0.0. See https://github.com/optuna/optuna/releases/tag/v3.0.0. Use suggest_float(..., log=True) instead.\n",
      "  'learning_rate': trial.suggest_loguniform('learning_rate', 0.001, 0.2),\n",
      "[I 2025-06-16 04:46:03,414] Trial 1 finished with value: 0.8306976890419859 and parameters: {'threshold': 0.4245991883601898, 'n_estimators': 142, 'learning_rate': 0.002620503255096255, 'max_depth': 7, 'num_leaves': 26, 'min_child_samples': 31, 'subsample': 0.8295835055926347, 'subsample_freq': 2, 'colsample_bytree': 0.8447411578889518, 'reg_alpha': 0.13949386065204183, 'reg_lambda': 0.29214464853521815, 'max_bin': 237}. Best is trial 0 with value: 0.9973394788306251.\n"
     ]
    },
    {
     "name": "stdout",
     "output_type": "stream",
     "text": [
      "AUC: 0.997580973714782, Balanced Accuracy: 0.5, Fraud Capture Rate: 0.994512093411176, Composite Score: 0.8306976890419859\n"
     ]
    },
    {
     "name": "stderr",
     "output_type": "stream",
     "text": [
      "C:\\Users\\emanu\\AppData\\Local\\Temp\\ipykernel_23904\\3815611893.py:14: FutureWarning: suggest_loguniform has been deprecated in v3.0.0. This feature will be removed in v6.0.0. See https://github.com/optuna/optuna/releases/tag/v3.0.0. Use suggest_float(..., log=True) instead.\n",
      "  'learning_rate': trial.suggest_loguniform('learning_rate', 0.001, 0.2),\n",
      "[I 2025-06-16 04:46:05,577] Trial 2 finished with value: 0.9948533773499028 and parameters: {'threshold': 0.25523149289766617, 'n_estimators': 257, 'learning_rate': 0.0028804169778805498, 'max_depth': 10, 'num_leaves': 32, 'min_child_samples': 11, 'subsample': 0.8822634555704315, 'subsample_freq': 1, 'colsample_bytree': 0.6260206371941118, 'reg_alpha': 0.9488855372533332, 'reg_lambda': 0.9656320330745594, 'max_bin': 281}. Best is trial 0 with value: 0.9973394788306251.\n"
     ]
    },
    {
     "name": "stdout",
     "output_type": "stream",
     "text": [
      "AUC: 0.9975205285511084, Balanced Accuracy: 0.992527510087424, Fraud Capture Rate: 0.994512093411176, Composite Score: 0.9948533773499028\n"
     ]
    },
    {
     "name": "stderr",
     "output_type": "stream",
     "text": [
      "C:\\Users\\emanu\\AppData\\Local\\Temp\\ipykernel_23904\\3815611893.py:14: FutureWarning: suggest_loguniform has been deprecated in v3.0.0. This feature will be removed in v6.0.0. See https://github.com/optuna/optuna/releases/tag/v3.0.0. Use suggest_float(..., log=True) instead.\n",
      "  'learning_rate': trial.suggest_loguniform('learning_rate', 0.001, 0.2),\n",
      "[I 2025-06-16 04:46:06,561] Trial 3 finished with value: 0.9971897720764205 and parameters: {'threshold': 0.1870761961280168, 'n_estimators': 119, 'learning_rate': 0.037535371452331254, 'max_depth': 9, 'num_leaves': 22, 'min_child_samples': 30, 'subsample': 0.7103165563345655, 'subsample_freq': 5, 'colsample_bytree': 0.7035119926400067, 'reg_alpha': 0.662522284353982, 'reg_lambda': 0.31171107608941095, 'max_bin': 252}. Best is trial 0 with value: 0.9973394788306251.\n"
     ]
    },
    {
     "name": "stdout",
     "output_type": "stream",
     "text": [
      "AUC: 0.9982232898420627, Balanced Accuracy: 0.9970157511578408, Fraud Capture Rate: 0.9963302752293579, Composite Score: 0.9971897720764205\n"
     ]
    },
    {
     "name": "stderr",
     "output_type": "stream",
     "text": [
      "C:\\Users\\emanu\\AppData\\Local\\Temp\\ipykernel_23904\\3815611893.py:14: FutureWarning: suggest_loguniform has been deprecated in v3.0.0. This feature will be removed in v6.0.0. See https://github.com/optuna/optuna/releases/tag/v3.0.0. Use suggest_float(..., log=True) instead.\n",
      "  'learning_rate': trial.suggest_loguniform('learning_rate', 0.001, 0.2),\n",
      "[I 2025-06-16 04:46:07,513] Trial 4 finished with value: 0.9973086226542248 and parameters: {'threshold': 0.2960196257044759, 'n_estimators': 137, 'learning_rate': 0.17023282716867383, 'max_depth': 13, 'num_leaves': 39, 'min_child_samples': 46, 'subsample': 0.8793699936433255, 'subsample_freq': 5, 'colsample_bytree': 0.6353970008207678, 'reg_alpha': 0.1959828624191452, 'reg_lambda': 0.045227288910538066, 'max_bin': 232}. Best is trial 0 with value: 0.9973394788306251.\n"
     ]
    },
    {
     "name": "stdout",
     "output_type": "stream",
     "text": [
      "AUC: 0.9983395460277285, Balanced Accuracy: 0.997256046705588, Fraud Capture Rate: 0.9963302752293579, Composite Score: 0.9973086226542248\n"
     ]
    },
    {
     "name": "stderr",
     "output_type": "stream",
     "text": [
      "C:\\Users\\emanu\\AppData\\Local\\Temp\\ipykernel_23904\\3815611893.py:14: FutureWarning: suggest_loguniform has been deprecated in v3.0.0. This feature will be removed in v6.0.0. See https://github.com/optuna/optuna/releases/tag/v3.0.0. Use suggest_float(..., log=True) instead.\n",
      "  'learning_rate': trial.suggest_loguniform('learning_rate', 0.001, 0.2),\n",
      "[I 2025-06-16 04:46:08,598] Trial 5 finished with value: 0.9973174811510714 and parameters: {'threshold': 0.2249047803602669, 'n_estimators': 154, 'learning_rate': 0.08071418522169696, 'max_depth': 8, 'num_leaves': 25, 'min_child_samples': 32, 'subsample': 0.7422772674924287, 'subsample_freq': 5, 'colsample_bytree': 0.6298202574719083, 'reg_alpha': 0.9868869366005173, 'reg_lambda': 0.7722447692966574, 'max_bin': 220}. Best is trial 0 with value: 0.9973394788306251.\n"
     ]
    },
    {
     "name": "stdout",
     "output_type": "stream",
     "text": [
      "AUC: 0.9983890074319886, Balanced Accuracy: 0.997233160791868, Fraud Capture Rate: 0.9963302752293579, Composite Score: 0.9973174811510714\n"
     ]
    },
    {
     "name": "stderr",
     "output_type": "stream",
     "text": [
      "C:\\Users\\emanu\\AppData\\Local\\Temp\\ipykernel_23904\\3815611893.py:14: FutureWarning: suggest_loguniform has been deprecated in v3.0.0. This feature will be removed in v6.0.0. See https://github.com/optuna/optuna/releases/tag/v3.0.0. Use suggest_float(..., log=True) instead.\n",
      "  'learning_rate': trial.suggest_loguniform('learning_rate', 0.001, 0.2),\n",
      "[I 2025-06-16 04:46:10,209] Trial 6 finished with value: 0.9974191057760695 and parameters: {'threshold': 0.052484952705621084, 'n_estimators': 263, 'learning_rate': 0.04231554618260076, 'max_depth': 13, 'num_leaves': 36, 'min_child_samples': 13, 'subsample': 0.8075397185632818, 'subsample_freq': 1, 'colsample_bytree': 0.9452413703502374, 'reg_alpha': 0.6232981268275579, 'reg_lambda': 0.3308980248526492, 'max_bin': 206}. Best is trial 6 with value: 0.9974191057760695.\n"
     ]
    },
    {
     "name": "stdout",
     "output_type": "stream",
     "text": [
      "AUC: 0.9987396531344231, Balanced Accuracy: 0.9971873889644277, Fraud Capture Rate: 0.9963302752293579, Composite Score: 0.9974191057760695\n"
     ]
    },
    {
     "name": "stderr",
     "output_type": "stream",
     "text": [
      "C:\\Users\\emanu\\AppData\\Local\\Temp\\ipykernel_23904\\3815611893.py:14: FutureWarning: suggest_loguniform has been deprecated in v3.0.0. This feature will be removed in v6.0.0. See https://github.com/optuna/optuna/releases/tag/v3.0.0. Use suggest_float(..., log=True) instead.\n",
      "  'learning_rate': trial.suggest_loguniform('learning_rate', 0.001, 0.2),\n",
      "[I 2025-06-16 04:46:11,464] Trial 7 finished with value: 0.9971962595096224 and parameters: {'threshold': 0.189942044772048, 'n_estimators': 165, 'learning_rate': 0.04773596444669527, 'max_depth': 12, 'num_leaves': 38, 'min_child_samples': 29, 'subsample': 0.7358782737814905, 'subsample_freq': 4, 'colsample_bytree': 0.9043140194467589, 'reg_alpha': 0.5612771975694962, 'reg_lambda': 0.770967179954561, 'max_bin': 249}. Best is trial 6 with value: 0.9974191057760695.\n"
     ]
    },
    {
     "name": "stdout",
     "output_type": "stream",
     "text": [
      "AUC: 0.9980138995507815, Balanced Accuracy: 0.997244603748728, Fraud Capture Rate: 0.9963302752293579, Composite Score: 0.9971962595096224\n"
     ]
    },
    {
     "name": "stderr",
     "output_type": "stream",
     "text": [
      "C:\\Users\\emanu\\AppData\\Local\\Temp\\ipykernel_23904\\3815611893.py:14: FutureWarning: suggest_loguniform has been deprecated in v3.0.0. This feature will be removed in v6.0.0. See https://github.com/optuna/optuna/releases/tag/v3.0.0. Use suggest_float(..., log=True) instead.\n",
      "  'learning_rate': trial.suggest_loguniform('learning_rate', 0.001, 0.2),\n",
      "[I 2025-06-16 04:46:12,588] Trial 8 finished with value: 0.8306843029742463 and parameters: {'threshold': 0.28522977322189735, 'n_estimators': 185, 'learning_rate': 0.0011441689901040717, 'max_depth': 6, 'num_leaves': 20, 'min_child_samples': 36, 'subsample': 0.794306794322898, 'subsample_freq': 3, 'colsample_bytree': 0.9630265895704372, 'reg_alpha': 0.24929222914887494, 'reg_lambda': 0.41038292303562973, 'max_bin': 276}. Best is trial 6 with value: 0.9974191057760695.\n"
     ]
    },
    {
     "name": "stdout",
     "output_type": "stream",
     "text": [
      "AUC: 0.9975408155115634, Balanced Accuracy: 0.5, Fraud Capture Rate: 0.994512093411176, Composite Score: 0.8306843029742463\n"
     ]
    },
    {
     "name": "stderr",
     "output_type": "stream",
     "text": [
      "C:\\Users\\emanu\\AppData\\Local\\Temp\\ipykernel_23904\\3815611893.py:14: FutureWarning: suggest_loguniform has been deprecated in v3.0.0. This feature will be removed in v6.0.0. See https://github.com/optuna/optuna/releases/tag/v3.0.0. Use suggest_float(..., log=True) instead.\n",
      "  'learning_rate': trial.suggest_loguniform('learning_rate', 0.001, 0.2),\n",
      "[I 2025-06-16 04:46:13,516] Trial 9 finished with value: 0.9961264716872862 and parameters: {'threshold': 0.1529591744712301, 'n_estimators': 115, 'learning_rate': 0.0046422313960206695, 'max_depth': 6, 'num_leaves': 39, 'min_child_samples': 43, 'subsample': 0.8900211269531271, 'subsample_freq': 5, 'colsample_bytree': 0.9214688307596458, 'reg_alpha': 0.18657005888603584, 'reg_lambda': 0.8925589984899778, 'max_bin': 254}. Best is trial 6 with value: 0.9974191057760695.\n"
     ]
    },
    {
     "name": "stdout",
     "output_type": "stream",
     "text": [
      "AUC: 0.9968973410110189, Balanced Accuracy: 0.9969699806396634, Fraud Capture Rate: 0.994512093411176, Composite Score: 0.9961264716872862\n"
     ]
    },
    {
     "name": "stderr",
     "output_type": "stream",
     "text": [
      "C:\\Users\\emanu\\AppData\\Local\\Temp\\ipykernel_23904\\3815611893.py:14: FutureWarning: suggest_loguniform has been deprecated in v3.0.0. This feature will be removed in v6.0.0. See https://github.com/optuna/optuna/releases/tag/v3.0.0. Use suggest_float(..., log=True) instead.\n",
      "  'learning_rate': trial.suggest_loguniform('learning_rate', 0.001, 0.2),\n",
      "[I 2025-06-16 04:46:15,449] Trial 10 finished with value: 0.9969877810927634 and parameters: {'threshold': 0.059251935237602735, 'n_estimators': 238, 'learning_rate': 0.013945622920790912, 'max_depth': 15, 'num_leaves': 33, 'min_child_samples': 21, 'subsample': 0.9879312237836261, 'subsample_freq': 1, 'colsample_bytree': 0.7590929544765699, 'reg_alpha': 0.41979011751915785, 'reg_lambda': 0.5904746895937297, 'max_bin': 200}. Best is trial 6 with value: 0.9974191057760695.\n"
     ]
    },
    {
     "name": "stdout",
     "output_type": "stream",
     "text": [
      "AUC: 0.9978004028915898, Balanced Accuracy: 0.9968326651573427, Fraud Capture Rate: 0.9963302752293579, Composite Score: 0.9969877810927634\n"
     ]
    },
    {
     "name": "stderr",
     "output_type": "stream",
     "text": [
      "C:\\Users\\emanu\\AppData\\Local\\Temp\\ipykernel_23904\\3815611893.py:14: FutureWarning: suggest_loguniform has been deprecated in v3.0.0. This feature will be removed in v6.0.0. See https://github.com/optuna/optuna/releases/tag/v3.0.0. Use suggest_float(..., log=True) instead.\n",
      "  'learning_rate': trial.suggest_loguniform('learning_rate', 0.001, 0.2),\n",
      "[I 2025-06-16 04:46:17,361] Trial 11 finished with value: 0.9971929695283986 and parameters: {'threshold': 0.07061152014203331, 'n_estimators': 300, 'learning_rate': 0.019694366952795934, 'max_depth': 12, 'num_leaves': 29, 'min_child_samples': 10, 'subsample': 0.7807997694361396, 'subsample_freq': 3, 'colsample_bytree': 0.8436612596493299, 'reg_alpha': 0.7399515059400725, 'reg_lambda': 0.060528481248404487, 'max_bin': 292}. Best is trial 6 with value: 0.9974191057760695.\n"
     ]
    },
    {
     "name": "stdout",
     "output_type": "stream",
     "text": [
      "AUC: 0.9982672110685776, Balanced Accuracy: 0.9969814222872607, Fraud Capture Rate: 0.9963302752293579, Composite Score: 0.9971929695283986\n"
     ]
    },
    {
     "name": "stderr",
     "output_type": "stream",
     "text": [
      "C:\\Users\\emanu\\AppData\\Local\\Temp\\ipykernel_23904\\3815611893.py:14: FutureWarning: suggest_loguniform has been deprecated in v3.0.0. This feature will be removed in v6.0.0. See https://github.com/optuna/optuna/releases/tag/v3.0.0. Use suggest_float(..., log=True) instead.\n",
      "  'learning_rate': trial.suggest_loguniform('learning_rate', 0.001, 0.2),\n",
      "[I 2025-06-16 04:46:19,255] Trial 12 finished with value: 0.9968345157553562 and parameters: {'threshold': 0.397365805571032, 'n_estimators': 298, 'learning_rate': 0.01280734943297432, 'max_depth': 14, 'num_leaves': 34, 'min_child_samples': 18, 'subsample': 0.7926062467845699, 'subsample_freq': 2, 'colsample_bytree': 0.9727316464879765, 'reg_alpha': 0.7758924049222458, 'reg_lambda': 0.18451614386025356, 'max_bin': 203}. Best is trial 6 with value: 0.9974191057760695.\n"
     ]
    },
    {
     "name": "stdout",
     "output_type": "stream",
     "text": [
      "AUC: 0.99714607792201, Balanced Accuracy: 0.997027194114701, Fraud Capture Rate: 0.9963302752293579, Composite Score: 0.9968345157553562\n"
     ]
    },
    {
     "name": "stderr",
     "output_type": "stream",
     "text": [
      "C:\\Users\\emanu\\AppData\\Local\\Temp\\ipykernel_23904\\3815611893.py:14: FutureWarning: suggest_loguniform has been deprecated in v3.0.0. This feature will be removed in v6.0.0. See https://github.com/optuna/optuna/releases/tag/v3.0.0. Use suggest_float(..., log=True) instead.\n",
      "  'learning_rate': trial.suggest_loguniform('learning_rate', 0.001, 0.2),\n",
      "[I 2025-06-16 04:46:20,552] Trial 13 finished with value: 0.9974151678324242 and parameters: {'threshold': 0.12088407857092512, 'n_estimators': 252, 'learning_rate': 0.18360492379851223, 'max_depth': 11, 'num_leaves': 36, 'min_child_samples': 19, 'subsample': 0.9450972662302015, 'subsample_freq': 4, 'colsample_bytree': 0.7977779145544659, 'reg_alpha': 0.42558946436382894, 'reg_lambda': 0.5255424110297373, 'max_bin': 267}. Best is trial 6 with value: 0.9974191057760695.\n"
     ]
    },
    {
     "name": "stdout",
     "output_type": "stream",
     "text": [
      "AUC: 0.9987278393034874, Balanced Accuracy: 0.9971873889644277, Fraud Capture Rate: 0.9963302752293579, Composite Score: 0.9974151678324242\n"
     ]
    },
    {
     "name": "stderr",
     "output_type": "stream",
     "text": [
      "C:\\Users\\emanu\\AppData\\Local\\Temp\\ipykernel_23904\\3815611893.py:14: FutureWarning: suggest_loguniform has been deprecated in v3.0.0. This feature will be removed in v6.0.0. See https://github.com/optuna/optuna/releases/tag/v3.0.0. Use suggest_float(..., log=True) instead.\n",
      "  'learning_rate': trial.suggest_loguniform('learning_rate', 0.001, 0.2),\n",
      "[I 2025-06-16 04:46:21,758] Trial 14 finished with value: 0.9974021051562361 and parameters: {'threshold': 0.11288875880659965, 'n_estimators': 228, 'learning_rate': 0.18246951725321595, 'max_depth': 10, 'num_leaves': 36, 'min_child_samples': 22, 'subsample': 0.9794475667206225, 'subsample_freq': 4, 'colsample_bytree': 0.7609185737563394, 'reg_alpha': 0.41221353992215093, 'reg_lambda': 0.5625128570253415, 'max_bin': 269}. Best is trial 6 with value: 0.9974191057760695.\n"
     ]
    },
    {
     "name": "stdout",
     "output_type": "stream",
     "text": [
      "AUC: 0.9986886512749221, Balanced Accuracy: 0.9971873889644277, Fraud Capture Rate: 0.9963302752293579, Composite Score: 0.9974021051562361\n"
     ]
    },
    {
     "name": "stderr",
     "output_type": "stream",
     "text": [
      "C:\\Users\\emanu\\AppData\\Local\\Temp\\ipykernel_23904\\3815611893.py:14: FutureWarning: suggest_loguniform has been deprecated in v3.0.0. This feature will be removed in v6.0.0. See https://github.com/optuna/optuna/releases/tag/v3.0.0. Use suggest_float(..., log=True) instead.\n",
      "  'learning_rate': trial.suggest_loguniform('learning_rate', 0.001, 0.2),\n",
      "[I 2025-06-16 04:46:23,577] Trial 15 finished with value: 0.9973658673830432 and parameters: {'threshold': 0.11349972760389912, 'n_estimators': 262, 'learning_rate': 0.09656280354921278, 'max_depth': 15, 'num_leaves': 36, 'min_child_samples': 14, 'subsample': 0.9416157882466093, 'subsample_freq': 2, 'colsample_bytree': 0.7874055053145005, 'reg_alpha': 0.530352595787787, 'reg_lambda': 0.39187638617313014, 'max_bin': 217}. Best is trial 6 with value: 0.9974191057760695.\n"
     ]
    },
    {
     "name": "stdout",
     "output_type": "stream",
     "text": [
      "AUC: 0.998522723171044, Balanced Accuracy: 0.997244603748728, Fraud Capture Rate: 0.9963302752293579, Composite Score: 0.9973658673830432\n"
     ]
    },
    {
     "name": "stderr",
     "output_type": "stream",
     "text": [
      "C:\\Users\\emanu\\AppData\\Local\\Temp\\ipykernel_23904\\3815611893.py:14: FutureWarning: suggest_loguniform has been deprecated in v3.0.0. This feature will be removed in v6.0.0. See https://github.com/optuna/optuna/releases/tag/v3.0.0. Use suggest_float(..., log=True) instead.\n",
      "  'learning_rate': trial.suggest_loguniform('learning_rate', 0.001, 0.2),\n",
      "[I 2025-06-16 04:46:25,436] Trial 16 finished with value: 0.9972492558710246 and parameters: {'threshold': 0.4867481870538959, 'n_estimators': 214, 'learning_rate': 0.024134668193677336, 'max_depth': 13, 'num_leaves': 29, 'min_child_samples': 24, 'subsample': 0.9250143694637856, 'subsample_freq': 4, 'colsample_bytree': 0.7079499309917164, 'reg_alpha': 0.015273881357550367, 'reg_lambda': 0.48696095538965, 'max_bin': 268}. Best is trial 6 with value: 0.9974191057760695.\n"
     ]
    },
    {
     "name": "stdout",
     "output_type": "stream",
     "text": [
      "AUC: 0.9982529880237461, Balanced Accuracy: 0.9971645043599704, Fraud Capture Rate: 0.9963302752293579, Composite Score: 0.9972492558710246\n"
     ]
    },
    {
     "name": "stderr",
     "output_type": "stream",
     "text": [
      "C:\\Users\\emanu\\AppData\\Local\\Temp\\ipykernel_23904\\3815611893.py:14: FutureWarning: suggest_loguniform has been deprecated in v3.0.0. This feature will be removed in v6.0.0. See https://github.com/optuna/optuna/releases/tag/v3.0.0. Use suggest_float(..., log=True) instead.\n",
      "  'learning_rate': trial.suggest_loguniform('learning_rate', 0.001, 0.2),\n",
      "[I 2025-06-16 04:46:27,240] Trial 17 finished with value: 0.997356485732882 and parameters: {'threshold': 0.11793873887773039, 'n_estimators': 265, 'learning_rate': 0.09157250691122128, 'max_depth': 11, 'num_leaves': 36, 'min_child_samples': 26, 'subsample': 0.8332420058027389, 'subsample_freq': 3, 'colsample_bytree': 0.9000451830589946, 'reg_alpha': 0.38290924532454923, 'reg_lambda': 0.6628126665727366, 'max_bin': 240}. Best is trial 6 with value: 0.9974191057760695.\n"
     ]
    },
    {
     "name": "stdout",
     "output_type": "stream",
     "text": [
      "AUC: 0.9984945782205603, Balanced Accuracy: 0.997244603748728, Fraud Capture Rate: 0.9963302752293579, Composite Score: 0.997356485732882\n"
     ]
    },
    {
     "name": "stderr",
     "output_type": "stream",
     "text": [
      "C:\\Users\\emanu\\AppData\\Local\\Temp\\ipykernel_23904\\3815611893.py:14: FutureWarning: suggest_loguniform has been deprecated in v3.0.0. This feature will be removed in v6.0.0. See https://github.com/optuna/optuna/releases/tag/v3.0.0. Use suggest_float(..., log=True) instead.\n",
      "  'learning_rate': trial.suggest_loguniform('learning_rate', 0.001, 0.2),\n",
      "[I 2025-06-16 04:46:29,018] Trial 18 finished with value: 0.9969365632016247 and parameters: {'threshold': 0.05769719929317504, 'n_estimators': 190, 'learning_rate': 0.008684266142771367, 'max_depth': 13, 'num_leaves': 40, 'min_child_samples': 18, 'subsample': 0.9411704743828452, 'subsample_freq': 1, 'colsample_bytree': 0.7065916059622793, 'reg_alpha': 0.6108831317924108, 'reg_lambda': 0.21289083638344053, 'max_bin': 260}. Best is trial 6 with value: 0.9974191057760695.\n"
     ]
    },
    {
     "name": "stdout",
     "output_type": "stream",
     "text": [
      "AUC: 0.9978984916505691, Balanced Accuracy: 0.9965809227249472, Fraud Capture Rate: 0.9963302752293579, Composite Score: 0.9969365632016247\n"
     ]
    },
    {
     "name": "stderr",
     "output_type": "stream",
     "text": [
      "C:\\Users\\emanu\\AppData\\Local\\Temp\\ipykernel_23904\\3815611893.py:14: FutureWarning: suggest_loguniform has been deprecated in v3.0.0. This feature will be removed in v6.0.0. See https://github.com/optuna/optuna/releases/tag/v3.0.0. Use suggest_float(..., log=True) instead.\n",
      "  'learning_rate': trial.suggest_loguniform('learning_rate', 0.001, 0.2),\n",
      "[I 2025-06-16 04:46:30,048] Trial 19 finished with value: 0.9975816398743913 and parameters: {'threshold': 0.346455398480797, 'n_estimators': 242, 'learning_rate': 0.19868642303605738, 'max_depth': 9, 'num_leaves': 31, 'min_child_samples': 13, 'subsample': 0.9121522207270025, 'subsample_freq': 4, 'colsample_bytree': 0.8698489311347629, 'reg_alpha': 0.8362933585743446, 'reg_lambda': 0.4520321131575954, 'max_bin': 214}. Best is trial 19 with value: 0.9975816398743913.\n"
     ]
    },
    {
     "name": "stdout",
     "output_type": "stream",
     "text": [
      "AUC: 0.9992272541201259, Balanced Accuracy: 0.9971873902736904, Fraud Capture Rate: 0.9963302752293579, Composite Score: 0.9975816398743913\n"
     ]
    },
    {
     "name": "stderr",
     "output_type": "stream",
     "text": [
      "C:\\Users\\emanu\\AppData\\Local\\Temp\\ipykernel_23904\\3815611893.py:14: FutureWarning: suggest_loguniform has been deprecated in v3.0.0. This feature will be removed in v6.0.0. See https://github.com/optuna/optuna/releases/tag/v3.0.0. Use suggest_float(..., log=True) instead.\n",
      "  'learning_rate': trial.suggest_loguniform('learning_rate', 0.001, 0.2),\n",
      "[I 2025-06-16 04:46:31,773] Trial 20 finished with value: 0.9969880162355613 and parameters: {'threshold': 0.33562199529871534, 'n_estimators': 277, 'learning_rate': 0.06795448716496058, 'max_depth': 8, 'num_leaves': 30, 'min_child_samples': 38, 'subsample': 0.8531780048163369, 'subsample_freq': 2, 'colsample_bytree': 0.9315036931038344, 'reg_alpha': 0.8597022329559757, 'reg_lambda': 0.1854086060323945, 'max_bin': 214}. Best is trial 19 with value: 0.9975816398743913.\n"
     ]
    },
    {
     "name": "stdout",
     "output_type": "stream",
     "text": [
      "AUC: 0.9973891697285981, Balanced Accuracy: 0.997244603748728, Fraud Capture Rate: 0.9963302752293579, Composite Score: 0.9969880162355613\n"
     ]
    },
    {
     "name": "stderr",
     "output_type": "stream",
     "text": [
      "C:\\Users\\emanu\\AppData\\Local\\Temp\\ipykernel_23904\\3815611893.py:14: FutureWarning: suggest_loguniform has been deprecated in v3.0.0. This feature will be removed in v6.0.0. See https://github.com/optuna/optuna/releases/tag/v3.0.0. Use suggest_float(..., log=True) instead.\n",
      "  'learning_rate': trial.suggest_loguniform('learning_rate', 0.001, 0.2),\n",
      "[I 2025-06-16 04:46:32,772] Trial 21 finished with value: 0.9973026006018879 and parameters: {'threshold': 0.3592985829338455, 'n_estimators': 239, 'learning_rate': 0.19187838199505386, 'max_depth': 9, 'num_leaves': 32, 'min_child_samples': 13, 'subsample': 0.9087318598366706, 'subsample_freq': 4, 'colsample_bytree': 0.9998487723511209, 'reg_alpha': 0.8771249194554073, 'reg_lambda': 0.45088522178407364, 'max_bin': 227}. Best is trial 19 with value: 0.9975816398743913.\n"
     ]
    },
    {
     "name": "stdout",
     "output_type": "stream",
     "text": [
      "AUC: 0.999287784254846, Balanced Accuracy: 0.9962897423214596, Fraud Capture Rate: 0.9963302752293579, Composite Score: 0.9973026006018879\n"
     ]
    },
    {
     "name": "stderr",
     "output_type": "stream",
     "text": [
      "C:\\Users\\emanu\\AppData\\Local\\Temp\\ipykernel_23904\\3815611893.py:14: FutureWarning: suggest_loguniform has been deprecated in v3.0.0. This feature will be removed in v6.0.0. See https://github.com/optuna/optuna/releases/tag/v3.0.0. Use suggest_float(..., log=True) instead.\n",
      "  'learning_rate': trial.suggest_loguniform('learning_rate', 0.001, 0.2),\n",
      "[I 2025-06-16 04:46:34,307] Trial 22 finished with value: 0.9974705121038667 and parameters: {'threshold': 0.3299828209260594, 'n_estimators': 210, 'learning_rate': 0.11471039918958553, 'max_depth': 11, 'num_leaves': 35, 'min_child_samples': 18, 'subsample': 0.962637454973575, 'subsample_freq': 3, 'colsample_bytree': 0.873608684642096, 'reg_alpha': 0.32003111976649706, 'reg_lambda': 0.32839260981839824, 'max_bin': 212}. Best is trial 19 with value: 0.9975816398743913.\n"
     ]
    },
    {
     "name": "stdout",
     "output_type": "stream",
     "text": [
      "AUC: 0.9988252143766541, Balanced Accuracy: 0.997256046705588, Fraud Capture Rate: 0.9963302752293579, Composite Score: 0.9974705121038667\n"
     ]
    },
    {
     "name": "stderr",
     "output_type": "stream",
     "text": [
      "C:\\Users\\emanu\\AppData\\Local\\Temp\\ipykernel_23904\\3815611893.py:14: FutureWarning: suggest_loguniform has been deprecated in v3.0.0. This feature will be removed in v6.0.0. See https://github.com/optuna/optuna/releases/tag/v3.0.0. Use suggest_float(..., log=True) instead.\n",
      "  'learning_rate': trial.suggest_loguniform('learning_rate', 0.001, 0.2),\n",
      "[I 2025-06-16 04:46:35,910] Trial 23 finished with value: 0.9975937895368769 and parameters: {'threshold': 0.3237673426889575, 'n_estimators': 218, 'learning_rate': 0.12276242922034046, 'max_depth': 12, 'num_leaves': 34, 'min_child_samples': 14, 'subsample': 0.995562324271082, 'subsample_freq': 3, 'colsample_bytree': 0.8718103609302557, 'reg_alpha': 0.28582792426213083, 'reg_lambda': 0.3213291097403035, 'max_bin': 208}. Best is trial 23 with value: 0.9975937895368769.\n"
     ]
    },
    {
     "name": "stdout",
     "output_type": "stream",
     "text": [
      "AUC: 0.9992179325894052, Balanced Accuracy: 0.997233160791868, Fraud Capture Rate: 0.9963302752293579, Composite Score: 0.9975937895368769\n"
     ]
    },
    {
     "name": "stderr",
     "output_type": "stream",
     "text": [
      "C:\\Users\\emanu\\AppData\\Local\\Temp\\ipykernel_23904\\3815611893.py:14: FutureWarning: suggest_loguniform has been deprecated in v3.0.0. This feature will be removed in v6.0.0. See https://github.com/optuna/optuna/releases/tag/v3.0.0. Use suggest_float(..., log=True) instead.\n",
      "  'learning_rate': trial.suggest_loguniform('learning_rate', 0.001, 0.2),\n",
      "[I 2025-06-16 04:46:37,333] Trial 24 finished with value: 0.9975787098283291 and parameters: {'threshold': 0.33383473970036814, 'n_estimators': 207, 'learning_rate': 0.12600547530741904, 'max_depth': 9, 'num_leaves': 27, 'min_child_samples': 16, 'subsample': 0.9666696827503615, 'subsample_freq': 3, 'colsample_bytree': 0.8853348979757798, 'reg_alpha': 0.3071963529816846, 'reg_lambda': 0.2363178923970578, 'max_bin': 211}. Best is trial 23 with value: 0.9975937895368769.\n"
     ]
    },
    {
     "name": "stdout",
     "output_type": "stream",
     "text": [
      "AUC: 0.9991498075500417, Balanced Accuracy: 0.997256046705588, Fraud Capture Rate: 0.9963302752293579, Composite Score: 0.9975787098283291\n"
     ]
    },
    {
     "name": "stderr",
     "output_type": "stream",
     "text": [
      "C:\\Users\\emanu\\AppData\\Local\\Temp\\ipykernel_23904\\3815611893.py:14: FutureWarning: suggest_loguniform has been deprecated in v3.0.0. This feature will be removed in v6.0.0. See https://github.com/optuna/optuna/releases/tag/v3.0.0. Use suggest_float(..., log=True) instead.\n",
      "  'learning_rate': trial.suggest_loguniform('learning_rate', 0.001, 0.2),\n",
      "[I 2025-06-16 04:46:38,561] Trial 25 finished with value: 0.9975909870240038 and parameters: {'threshold': 0.3965322059792872, 'n_estimators': 178, 'learning_rate': 0.1273551088201357, 'max_depth': 9, 'num_leaves': 27, 'min_child_samples': 10, 'subsample': 0.9724857970121328, 'subsample_freq': 3, 'colsample_bytree': 0.8736425269994006, 'reg_alpha': 0.30442548876378184, 'reg_lambda': 0.11401544663262564, 'max_bin': 224}. Best is trial 23 with value: 0.9975937895368769.\n"
     ]
    },
    {
     "name": "stdout",
     "output_type": "stream",
     "text": [
      "AUC: 0.9991980820939255, Balanced Accuracy: 0.9972446037487279, Fraud Capture Rate: 0.9963302752293579, Composite Score: 0.9975909870240038\n"
     ]
    },
    {
     "name": "stderr",
     "output_type": "stream",
     "text": [
      "C:\\Users\\emanu\\AppData\\Local\\Temp\\ipykernel_23904\\3815611893.py:14: FutureWarning: suggest_loguniform has been deprecated in v3.0.0. This feature will be removed in v6.0.0. See https://github.com/optuna/optuna/releases/tag/v3.0.0. Use suggest_float(..., log=True) instead.\n",
      "  'learning_rate': trial.suggest_loguniform('learning_rate', 0.001, 0.2),\n",
      "[I 2025-06-16 04:46:40,086] Trial 26 finished with value: 0.997147498250478 and parameters: {'threshold': 0.4380976949391759, 'n_estimators': 179, 'learning_rate': 0.06240269584702076, 'max_depth': 5, 'num_leaves': 28, 'min_child_samples': 10, 'subsample': 0.9991121733869606, 'subsample_freq': 3, 'colsample_bytree': 0.8648283325149888, 'reg_alpha': 0.5079780680239647, 'reg_lambda': 0.14551223135059366, 'max_bin': 222}. Best is trial 23 with value: 0.9975937895368769.\n"
     ]
    },
    {
     "name": "stdout",
     "output_type": "stream",
     "text": [
      "AUC: 0.9978561728164888, Balanced Accuracy: 0.997256046705588, Fraud Capture Rate: 0.9963302752293579, Composite Score: 0.997147498250478\n"
     ]
    },
    {
     "name": "stderr",
     "output_type": "stream",
     "text": [
      "C:\\Users\\emanu\\AppData\\Local\\Temp\\ipykernel_23904\\3815611893.py:14: FutureWarning: suggest_loguniform has been deprecated in v3.0.0. This feature will be removed in v6.0.0. See https://github.com/optuna/optuna/releases/tag/v3.0.0. Use suggest_float(..., log=True) instead.\n",
      "  'learning_rate': trial.suggest_loguniform('learning_rate', 0.001, 0.2),\n",
      "[I 2025-06-16 04:46:41,635] Trial 27 finished with value: 0.9976169154919379 and parameters: {'threshold': 0.3896435594791264, 'n_estimators': 222, 'learning_rate': 0.11697854766813805, 'max_depth': 8, 'num_leaves': 32, 'min_child_samples': 50, 'subsample': 0.9145673069030011, 'subsample_freq': 4, 'colsample_bytree': 0.8151732911561955, 'reg_alpha': 0.09067792462375793, 'reg_lambda': 0.1321187744850242, 'max_bin': 226}. Best is trial 27 with value: 0.9976169154919379.\n"
     ]
    },
    {
     "name": "stdout",
     "output_type": "stream",
     "text": [
      "AUC: 0.9992644245408677, Balanced Accuracy: 0.997256046705588, Fraud Capture Rate: 0.9963302752293579, Composite Score: 0.9976169154919379\n"
     ]
    },
    {
     "name": "stderr",
     "output_type": "stream",
     "text": [
      "C:\\Users\\emanu\\AppData\\Local\\Temp\\ipykernel_23904\\3815611893.py:14: FutureWarning: suggest_loguniform has been deprecated in v3.0.0. This feature will be removed in v6.0.0. See https://github.com/optuna/optuna/releases/tag/v3.0.0. Use suggest_float(..., log=True) instead.\n",
      "  'learning_rate': trial.suggest_loguniform('learning_rate', 0.001, 0.2),\n",
      "[I 2025-06-16 04:46:43,347] Trial 28 finished with value: 0.9971783308845353 and parameters: {'threshold': 0.3863432565883258, 'n_estimators': 223, 'learning_rate': 0.028164710934873778, 'max_depth': 8, 'num_leaves': 24, 'min_child_samples': 50, 'subsample': 0.9628160833474195, 'subsample_freq': 3, 'colsample_bytree': 0.8361784486713681, 'reg_alpha': 0.029687704021263084, 'reg_lambda': 0.11499750113525839, 'max_bin': 226}. Best is trial 27 with value: 0.9976169154919379.\n"
     ]
    },
    {
     "name": "stdout",
     "output_type": "stream",
     "text": [
      "AUC: 0.9979715566323806, Balanced Accuracy: 0.997233160791868, Fraud Capture Rate: 0.9963302752293579, Composite Score: 0.9971783308845353\n"
     ]
    },
    {
     "name": "stderr",
     "output_type": "stream",
     "text": [
      "C:\\Users\\emanu\\AppData\\Local\\Temp\\ipykernel_23904\\3815611893.py:14: FutureWarning: suggest_loguniform has been deprecated in v3.0.0. This feature will be removed in v6.0.0. See https://github.com/optuna/optuna/releases/tag/v3.0.0. Use suggest_float(..., log=True) instead.\n",
      "  'learning_rate': trial.suggest_loguniform('learning_rate', 0.001, 0.2),\n",
      "[I 2025-06-16 04:46:45,052] Trial 29 finished with value: 0.9970685794061872 and parameters: {'threshold': 0.4742047936159329, 'n_estimators': 197, 'learning_rate': 0.05985347322029144, 'max_depth': 7, 'num_leaves': 31, 'min_child_samples': 42, 'subsample': 0.9946352176365593, 'subsample_freq': 2, 'colsample_bytree': 0.8146373469692526, 'reg_alpha': 0.10256314131573546, 'reg_lambda': 0.01458869701420426, 'max_bin': 242}. Best is trial 27 with value: 0.9976169154919379.\n"
     ]
    },
    {
     "name": "stdout",
     "output_type": "stream",
     "text": [
      "AUC: 0.9976194162836158, Balanced Accuracy: 0.997256046705588, Fraud Capture Rate: 0.9963302752293579, Composite Score: 0.9970685794061872\n"
     ]
    },
    {
     "name": "stderr",
     "output_type": "stream",
     "text": [
      "C:\\Users\\emanu\\AppData\\Local\\Temp\\ipykernel_23904\\3815611893.py:14: FutureWarning: suggest_loguniform has been deprecated in v3.0.0. This feature will be removed in v6.0.0. See https://github.com/optuna/optuna/releases/tag/v3.0.0. Use suggest_float(..., log=True) instead.\n",
      "  'learning_rate': trial.suggest_loguniform('learning_rate', 0.001, 0.2),\n",
      "[I 2025-06-16 04:46:46,211] Trial 30 finished with value: 0.9976719880988112 and parameters: {'threshold': 0.44286465058062224, 'n_estimators': 171, 'learning_rate': 0.12792961140536083, 'max_depth': 10, 'num_leaves': 34, 'min_child_samples': 50, 'subsample': 0.9208777758688815, 'subsample_freq': 4, 'colsample_bytree': 0.7677410569512204, 'reg_alpha': 0.28067157957490324, 'reg_lambda': 0.0859139708073734, 'max_bin': 232}. Best is trial 30 with value: 0.9976719880988112.\n"
     ]
    },
    {
     "name": "stdout",
     "output_type": "stream",
     "text": [
      "AUC: 0.9994296423614877, Balanced Accuracy: 0.997256046705588, Fraud Capture Rate: 0.9963302752293579, Composite Score: 0.9976719880988112\n"
     ]
    },
    {
     "name": "stderr",
     "output_type": "stream",
     "text": [
      "C:\\Users\\emanu\\AppData\\Local\\Temp\\ipykernel_23904\\3815611893.py:14: FutureWarning: suggest_loguniform has been deprecated in v3.0.0. This feature will be removed in v6.0.0. See https://github.com/optuna/optuna/releases/tag/v3.0.0. Use suggest_float(..., log=True) instead.\n",
      "  'learning_rate': trial.suggest_loguniform('learning_rate', 0.001, 0.2),\n",
      "[I 2025-06-16 04:46:47,411] Trial 31 finished with value: 0.9975443819361471 and parameters: {'threshold': 0.4467532246016623, 'n_estimators': 166, 'learning_rate': 0.1128884452540147, 'max_depth': 10, 'num_leaves': 34, 'min_child_samples': 50, 'subsample': 0.9319146027600906, 'subsample_freq': 4, 'colsample_bytree': 0.7630971793597435, 'reg_alpha': 0.2868097990682057, 'reg_lambda': 0.09319118605499564, 'max_bin': 231}. Best is trial 30 with value: 0.9976719880988112.\n"
     ]
    },
    {
     "name": "stdout",
     "output_type": "stream",
     "text": [
      "AUC: 0.999058266830356, Balanced Accuracy: 0.997244603748728, Fraud Capture Rate: 0.9963302752293579, Composite Score: 0.9975443819361471\n"
     ]
    },
    {
     "name": "stderr",
     "output_type": "stream",
     "text": [
      "C:\\Users\\emanu\\AppData\\Local\\Temp\\ipykernel_23904\\3815611893.py:14: FutureWarning: suggest_loguniform has been deprecated in v3.0.0. This feature will be removed in v6.0.0. See https://github.com/optuna/optuna/releases/tag/v3.0.0. Use suggest_float(..., log=True) instead.\n",
      "  'learning_rate': trial.suggest_loguniform('learning_rate', 0.001, 0.2),\n",
      "[I 2025-06-16 04:46:48,738] Trial 32 finished with value: 0.9975716318473553 and parameters: {'threshold': 0.39477418437970596, 'n_estimators': 175, 'learning_rate': 0.12317975726731079, 'max_depth': 12, 'num_leaves': 33, 'min_child_samples': 47, 'subsample': 0.9747419808800235, 'subsample_freq': 4, 'colsample_bytree': 0.7343331573102305, 'reg_alpha': 0.0982789216451238, 'reg_lambda': 0.2695727769998643, 'max_bin': 234}. Best is trial 30 with value: 0.9976719880988112.\n"
     ]
    },
    {
     "name": "stdout",
     "output_type": "stream",
     "text": [
      "AUC: 0.9991285736071205, Balanced Accuracy: 0.997256046705588, Fraud Capture Rate: 0.9963302752293579, Composite Score: 0.9975716318473553\n"
     ]
    },
    {
     "name": "stderr",
     "output_type": "stream",
     "text": [
      "C:\\Users\\emanu\\AppData\\Local\\Temp\\ipykernel_23904\\3815611893.py:14: FutureWarning: suggest_loguniform has been deprecated in v3.0.0. This feature will be removed in v6.0.0. See https://github.com/optuna/optuna/releases/tag/v3.0.0. Use suggest_float(..., log=True) instead.\n",
      "  'learning_rate': trial.suggest_loguniform('learning_rate', 0.001, 0.2),\n",
      "[I 2025-06-16 04:46:49,833] Trial 33 finished with value: 0.9975975780978956 and parameters: {'threshold': 0.42201412229989704, 'n_estimators': 202, 'learning_rate': 0.136700786813147, 'max_depth': 7, 'num_leaves': 27, 'min_child_samples': 42, 'subsample': 0.8987582216224096, 'subsample_freq': 3, 'colsample_bytree': 0.8178715018834065, 'reg_alpha': 0.21365892122265845, 'reg_lambda': 0.014800630642531232, 'max_bin': 224}. Best is trial 30 with value: 0.9976719880988112.\n"
     ]
    },
    {
     "name": "stdout",
     "output_type": "stream",
     "text": [
      "AUC: 0.9992064123587407, Balanced Accuracy: 0.997256046705588, Fraud Capture Rate: 0.9963302752293579, Composite Score: 0.9975975780978956\n"
     ]
    },
    {
     "name": "stderr",
     "output_type": "stream",
     "text": [
      "C:\\Users\\emanu\\AppData\\Local\\Temp\\ipykernel_23904\\3815611893.py:14: FutureWarning: suggest_loguniform has been deprecated in v3.0.0. This feature will be removed in v6.0.0. See https://github.com/optuna/optuna/releases/tag/v3.0.0. Use suggest_float(..., log=True) instead.\n",
      "  'learning_rate': trial.suggest_loguniform('learning_rate', 0.001, 0.2),\n",
      "[I 2025-06-16 04:46:51,267] Trial 34 finished with value: 0.9972298259863196 and parameters: {'threshold': 0.45411747321086454, 'n_estimators': 198, 'learning_rate': 0.07792154922987968, 'max_depth': 7, 'num_leaves': 31, 'min_child_samples': 46, 'subsample': 0.8652761080992885, 'subsample_freq': 3, 'colsample_bytree': 0.8166213191371319, 'reg_alpha': 0.2251784376153858, 'reg_lambda': 0.03368716773181173, 'max_bin': 244}. Best is trial 30 with value: 0.9976719880988112.\n"
     ]
    },
    {
     "name": "stdout",
     "output_type": "stream",
     "text": [
      "AUC: 0.9981031560240133, Balanced Accuracy: 0.997256046705588, Fraud Capture Rate: 0.9963302752293579, Composite Score: 0.9972298259863196\n"
     ]
    },
    {
     "name": "stderr",
     "output_type": "stream",
     "text": [
      "C:\\Users\\emanu\\AppData\\Local\\Temp\\ipykernel_23904\\3815611893.py:14: FutureWarning: suggest_loguniform has been deprecated in v3.0.0. This feature will be removed in v6.0.0. See https://github.com/optuna/optuna/releases/tag/v3.0.0. Use suggest_float(..., log=True) instead.\n",
      "  'learning_rate': trial.suggest_loguniform('learning_rate', 0.001, 0.2),\n",
      "[I 2025-06-16 04:46:52,860] Trial 35 finished with value: 0.9972586986190246 and parameters: {'threshold': 0.37275084925146534, 'n_estimators': 223, 'learning_rate': 0.050201477915616945, 'max_depth': 6, 'num_leaves': 33, 'min_child_samples': 42, 'subsample': 0.8996499099047116, 'subsample_freq': 5, 'colsample_bytree': 0.6711503482770811, 'reg_alpha': 0.10784195553229381, 'reg_lambda': 0.15289723554501589, 'max_bin': 208}. Best is trial 30 with value: 0.9976719880988112.\n"
     ]
    },
    {
     "name": "stdout",
     "output_type": "stream",
     "text": [
      "AUC: 0.9981897739221278, Balanced Accuracy: 0.997256046705588, Fraud Capture Rate: 0.9963302752293579, Composite Score: 0.9972586986190246\n"
     ]
    },
    {
     "name": "stderr",
     "output_type": "stream",
     "text": [
      "C:\\Users\\emanu\\AppData\\Local\\Temp\\ipykernel_23904\\3815611893.py:14: FutureWarning: suggest_loguniform has been deprecated in v3.0.0. This feature will be removed in v6.0.0. See https://github.com/optuna/optuna/releases/tag/v3.0.0. Use suggest_float(..., log=True) instead.\n",
      "  'learning_rate': trial.suggest_loguniform('learning_rate', 0.001, 0.2),\n",
      "[I 2025-06-16 04:46:53,953] Trial 36 finished with value: 0.9970610599768861 and parameters: {'threshold': 0.41992533191647563, 'n_estimators': 138, 'learning_rate': 0.033615850528525504, 'max_depth': 8, 'num_leaves': 25, 'min_child_samples': 48, 'subsample': 0.8756760912506724, 'subsample_freq': 4, 'colsample_bytree': 0.7871714631374699, 'reg_alpha': 0.16284404327680377, 'reg_lambda': 0.018791379471438982, 'max_bin': 236}. Best is trial 30 with value: 0.9976719880988112.\n"
     ]
    },
    {
     "name": "stdout",
     "output_type": "stream",
     "text": [
      "AUC: 0.9977341708595077, Balanced Accuracy: 0.9971187338417928, Fraud Capture Rate: 0.9963302752293579, Composite Score: 0.9970610599768861\n"
     ]
    },
    {
     "name": "stderr",
     "output_type": "stream",
     "text": [
      "C:\\Users\\emanu\\AppData\\Local\\Temp\\ipykernel_23904\\3815611893.py:14: FutureWarning: suggest_loguniform has been deprecated in v3.0.0. This feature will be removed in v6.0.0. See https://github.com/optuna/optuna/releases/tag/v3.0.0. Use suggest_float(..., log=True) instead.\n",
      "  'learning_rate': trial.suggest_loguniform('learning_rate', 0.001, 0.2),\n",
      "[I 2025-06-16 04:46:55,241] Trial 37 finished with value: 0.9974202827236123 and parameters: {'threshold': 0.24813727166856508, 'n_estimators': 150, 'learning_rate': 0.14723419771596746, 'max_depth': 10, 'num_leaves': 38, 'min_child_samples': 38, 'subsample': 0.9176609107151217, 'subsample_freq': 2, 'colsample_bytree': 0.8242652381619606, 'reg_alpha': 0.048012452992819976, 'reg_lambda': 0.2650358381016363, 'max_bin': 219}. Best is trial 30 with value: 0.9976719880988112.\n"
     ]
    },
    {
     "name": "stdout",
     "output_type": "stream",
     "text": [
      "AUC: 0.998685969192751, Balanced Accuracy: 0.997244603748728, Fraud Capture Rate: 0.9963302752293579, Composite Score: 0.9974202827236123\n"
     ]
    },
    {
     "name": "stderr",
     "output_type": "stream",
     "text": [
      "C:\\Users\\emanu\\AppData\\Local\\Temp\\ipykernel_23904\\3815611893.py:14: FutureWarning: suggest_loguniform has been deprecated in v3.0.0. This feature will be removed in v6.0.0. See https://github.com/optuna/optuna/releases/tag/v3.0.0. Use suggest_float(..., log=True) instead.\n",
      "  'learning_rate': trial.suggest_loguniform('learning_rate', 0.001, 0.2),\n",
      "[I 2025-06-16 04:46:56,398] Trial 38 finished with value: 0.9973494683077696 and parameters: {'threshold': 0.3034088933851865, 'n_estimators': 127, 'learning_rate': 0.07957492037647722, 'max_depth': 7, 'num_leaves': 22, 'min_child_samples': 44, 'subsample': 0.8390083012831814, 'subsample_freq': 5, 'colsample_bytree': 0.729148768101647, 'reg_alpha': 0.36924857194788074, 'reg_lambda': 0.09654402608795007, 'max_bin': 229}. Best is trial 30 with value: 0.9976719880988112.\n"
     ]
    },
    {
     "name": "stdout",
     "output_type": "stream",
     "text": [
      "AUC: 0.998462082988363, Balanced Accuracy: 0.997256046705588, Fraud Capture Rate: 0.9963302752293579, Composite Score: 0.9973494683077696\n"
     ]
    },
    {
     "name": "stderr",
     "output_type": "stream",
     "text": [
      "C:\\Users\\emanu\\AppData\\Local\\Temp\\ipykernel_23904\\3815611893.py:14: FutureWarning: suggest_loguniform has been deprecated in v3.0.0. This feature will be removed in v6.0.0. See https://github.com/optuna/optuna/releases/tag/v3.0.0. Use suggest_float(..., log=True) instead.\n",
      "  'learning_rate': trial.suggest_loguniform('learning_rate', 0.001, 0.2),\n",
      "[I 2025-06-16 04:46:57,554] Trial 39 finished with value: 0.8306522892755848 and parameters: {'threshold': 0.42139691609300645, 'n_estimators': 164, 'learning_rate': 0.0011802990775971042, 'max_depth': 5, 'num_leaves': 29, 'min_child_samples': 33, 'subsample': 0.8935926120098184, 'subsample_freq': 4, 'colsample_bytree': 0.8547355535015182, 'reg_alpha': 0.2200680846010277, 'reg_lambda': 0.34805886543346853, 'max_bin': 207}. Best is trial 30 with value: 0.9976719880988112.\n"
     ]
    },
    {
     "name": "stdout",
     "output_type": "stream",
     "text": [
      "AUC: 0.997444774415578, Balanced Accuracy: 0.5, Fraud Capture Rate: 0.994512093411176, Composite Score: 0.8306522892755848\n"
     ]
    },
    {
     "name": "stderr",
     "output_type": "stream",
     "text": [
      "C:\\Users\\emanu\\AppData\\Local\\Temp\\ipykernel_23904\\3815611893.py:14: FutureWarning: suggest_loguniform has been deprecated in v3.0.0. This feature will be removed in v6.0.0. See https://github.com/optuna/optuna/releases/tag/v3.0.0. Use suggest_float(..., log=True) instead.\n",
      "  'learning_rate': trial.suggest_loguniform('learning_rate', 0.001, 0.2),\n",
      "[I 2025-06-16 04:46:59,221] Trial 40 finished with value: 0.9970099496567736 and parameters: {'threshold': 0.3142671484290257, 'n_estimators': 215, 'learning_rate': 0.005758982247354381, 'max_depth': 10, 'num_leaves': 34, 'min_child_samples': 45, 'subsample': 0.864140092718535, 'subsample_freq': 3, 'colsample_bytree': 0.7688910199256646, 'reg_alpha': 0.14151855444507044, 'reg_lambda': 0.06424114926434732, 'max_bin': 221}. Best is trial 30 with value: 0.9976719880988112.\n"
     ]
    },
    {
     "name": "stdout",
     "output_type": "stream",
     "text": [
      "AUC: 0.9976838225831222, Balanced Accuracy: 0.9970157511578408, Fraud Capture Rate: 0.9963302752293579, Composite Score: 0.9970099496567736\n"
     ]
    },
    {
     "name": "stderr",
     "output_type": "stream",
     "text": [
      "C:\\Users\\emanu\\AppData\\Local\\Temp\\ipykernel_23904\\3815611893.py:14: FutureWarning: suggest_loguniform has been deprecated in v3.0.0. This feature will be removed in v6.0.0. See https://github.com/optuna/optuna/releases/tag/v3.0.0. Use suggest_float(..., log=True) instead.\n",
      "  'learning_rate': trial.suggest_loguniform('learning_rate', 0.001, 0.2),\n",
      "[I 2025-06-16 04:47:00,440] Trial 41 finished with value: 0.9973924495396492 and parameters: {'threshold': 0.411551352082249, 'n_estimators': 190, 'learning_rate': 0.1384602364426375, 'max_depth': 9, 'num_leaves': 27, 'min_child_samples': 40, 'subsample': 0.9525074424023628, 'subsample_freq': 3, 'colsample_bytree': 0.8938547005687834, 'reg_alpha': 0.2876968043128164, 'reg_lambda': 0.1389796445826854, 'max_bin': 227}. Best is trial 30 with value: 0.9976719880988112.\n"
     ]
    },
    {
     "name": "stdout",
     "output_type": "stream",
     "text": [
      "AUC: 0.9985910266840017, Balanced Accuracy: 0.997256046705588, Fraud Capture Rate: 0.9963302752293579, Composite Score: 0.9973924495396492\n"
     ]
    },
    {
     "name": "stderr",
     "output_type": "stream",
     "text": [
      "C:\\Users\\emanu\\AppData\\Local\\Temp\\ipykernel_23904\\3815611893.py:14: FutureWarning: suggest_loguniform has been deprecated in v3.0.0. This feature will be removed in v6.0.0. See https://github.com/optuna/optuna/releases/tag/v3.0.0. Use suggest_float(..., log=True) instead.\n",
      "  'learning_rate': trial.suggest_loguniform('learning_rate', 0.001, 0.2),\n",
      "[I 2025-06-16 04:47:01,685] Trial 42 finished with value: 0.9973653523968788 and parameters: {'threshold': 0.4685075378481394, 'n_estimators': 175, 'learning_rate': 0.09869026868343728, 'max_depth': 8, 'num_leaves': 26, 'min_child_samples': 48, 'subsample': 0.9291812557248362, 'subsample_freq': 3, 'colsample_bytree': 0.8370217762774174, 'reg_alpha': 0.4642289801332714, 'reg_lambda': 0.006577175319307328, 'max_bin': 223}. Best is trial 30 with value: 0.9976719880988112.\n"
     ]
    },
    {
     "name": "stdout",
     "output_type": "stream",
     "text": [
      "AUC: 0.9985097352556904, Balanced Accuracy: 0.997256046705588, Fraud Capture Rate: 0.9963302752293579, Composite Score: 0.9973653523968788\n"
     ]
    },
    {
     "name": "stderr",
     "output_type": "stream",
     "text": [
      "C:\\Users\\emanu\\AppData\\Local\\Temp\\ipykernel_23904\\3815611893.py:14: FutureWarning: suggest_loguniform has been deprecated in v3.0.0. This feature will be removed in v6.0.0. See https://github.com/optuna/optuna/releases/tag/v3.0.0. Use suggest_float(..., log=True) instead.\n",
      "  'learning_rate': trial.suggest_loguniform('learning_rate', 0.001, 0.2),\n",
      "[I 2025-06-16 04:47:02,848] Trial 43 finished with value: 0.9972600164846661 and parameters: {'threshold': 0.4990441623213355, 'n_estimators': 202, 'learning_rate': 0.15134940390021936, 'max_depth': 7, 'num_leaves': 27, 'min_child_samples': 50, 'subsample': 0.9537738309457362, 'subsample_freq': 3, 'colsample_bytree': 0.8071024585957662, 'reg_alpha': 0.24479816105745528, 'reg_lambda': 0.21197556614222293, 'max_bin': 246}. Best is trial 30 with value: 0.9976719880988112.\n"
     ]
    },
    {
     "name": "stdout",
     "output_type": "stream",
     "text": [
      "AUC: 0.9981937275190529, Balanced Accuracy: 0.997256046705588, Fraud Capture Rate: 0.9963302752293579, Composite Score: 0.9972600164846661\n"
     ]
    },
    {
     "name": "stderr",
     "output_type": "stream",
     "text": [
      "C:\\Users\\emanu\\AppData\\Local\\Temp\\ipykernel_23904\\3815611893.py:14: FutureWarning: suggest_loguniform has been deprecated in v3.0.0. This feature will be removed in v6.0.0. See https://github.com/optuna/optuna/releases/tag/v3.0.0. Use suggest_float(..., log=True) instead.\n",
      "  'learning_rate': trial.suggest_loguniform('learning_rate', 0.001, 0.2),\n",
      "[I 2025-06-16 04:47:04,202] Trial 44 finished with value: 0.9971645862487712 and parameters: {'threshold': 0.37610926012141777, 'n_estimators': 154, 'learning_rate': 0.05820670812076163, 'max_depth': 9, 'num_leaves': 32, 'min_child_samples': 28, 'subsample': 0.9720633192122913, 'subsample_freq': 4, 'colsample_bytree': 0.8516092904751165, 'reg_alpha': 0.3529244853007401, 'reg_lambda': 0.07858855633985609, 'max_bin': 238}. Best is trial 30 with value: 0.9976719880988112.\n"
     ]
    },
    {
     "name": "stdout",
     "output_type": "stream",
     "text": [
      "AUC: 0.9979074368113678, Balanced Accuracy: 0.997256046705588, Fraud Capture Rate: 0.9963302752293579, Composite Score: 0.9971645862487712\n"
     ]
    },
    {
     "name": "stderr",
     "output_type": "stream",
     "text": [
      "C:\\Users\\emanu\\AppData\\Local\\Temp\\ipykernel_23904\\3815611893.py:14: FutureWarning: suggest_loguniform has been deprecated in v3.0.0. This feature will be removed in v6.0.0. See https://github.com/optuna/optuna/releases/tag/v3.0.0. Use suggest_float(..., log=True) instead.\n",
      "  'learning_rate': trial.suggest_loguniform('learning_rate', 0.001, 0.2),\n",
      "[I 2025-06-16 04:47:06,109] Trial 45 finished with value: 0.9972732470071077 and parameters: {'threshold': 0.36116242849150393, 'n_estimators': 230, 'learning_rate': 0.03895812003154235, 'max_depth': 12, 'num_leaves': 30, 'min_child_samples': 34, 'subsample': 0.9854567195041155, 'subsample_freq': 5, 'colsample_bytree': 0.6056470054581536, 'reg_alpha': 0.26792641940620515, 'reg_lambda': 0.16545952467952413, 'max_bin': 232}. Best is trial 30 with value: 0.9976719880988112.\n"
     ]
    },
    {
     "name": "stdout",
     "output_type": "stream",
     "text": [
      "AUC: 0.998256303690835, Balanced Accuracy: 0.9972331621011307, Fraud Capture Rate: 0.9963302752293579, Composite Score: 0.9972732470071077\n"
     ]
    },
    {
     "name": "stderr",
     "output_type": "stream",
     "text": [
      "C:\\Users\\emanu\\AppData\\Local\\Temp\\ipykernel_23904\\3815611893.py:14: FutureWarning: suggest_loguniform has been deprecated in v3.0.0. This feature will be removed in v6.0.0. See https://github.com/optuna/optuna/releases/tag/v3.0.0. Use suggest_float(..., log=True) instead.\n",
      "  'learning_rate': trial.suggest_loguniform('learning_rate', 0.001, 0.2),\n",
      "[I 2025-06-16 04:47:07,078] Trial 46 finished with value: 0.9973598302991172 and parameters: {'threshold': 0.40418695755838596, 'n_estimators': 106, 'learning_rate': 0.09650631242328617, 'max_depth': 8, 'num_leaves': 25, 'min_child_samples': 40, 'subsample': 0.8782408734674049, 'subsample_freq': 2, 'colsample_bytree': 0.9074765367751397, 'reg_alpha': 0.18079522466684783, 'reg_lambda': 0.2886968717685934, 'max_bin': 217}. Best is trial 30 with value: 0.9976719880988112.\n"
     ]
    },
    {
     "name": "stdout",
     "output_type": "stream",
     "text": [
      "AUC: 0.9984931689624059, Balanced Accuracy: 0.997256046705588, Fraud Capture Rate: 0.9963302752293579, Composite Score: 0.9973598302991172\n"
     ]
    },
    {
     "name": "stderr",
     "output_type": "stream",
     "text": [
      "C:\\Users\\emanu\\AppData\\Local\\Temp\\ipykernel_23904\\3815611893.py:14: FutureWarning: suggest_loguniform has been deprecated in v3.0.0. This feature will be removed in v6.0.0. See https://github.com/optuna/optuna/releases/tag/v3.0.0. Use suggest_float(..., log=True) instead.\n",
      "  'learning_rate': trial.suggest_loguniform('learning_rate', 0.001, 0.2),\n",
      "[I 2025-06-16 04:47:08,269] Trial 47 finished with value: 0.9975224431723275 and parameters: {'threshold': 0.43530776370427304, 'n_estimators': 188, 'learning_rate': 0.1478488839159886, 'max_depth': 11, 'num_leaves': 28, 'min_child_samples': 15, 'subsample': 0.8193766042245468, 'subsample_freq': 4, 'colsample_bytree': 0.7839280227801567, 'reg_alpha': 0.34032150924898885, 'reg_lambda': 0.9985364655754747, 'max_bin': 202}. Best is trial 30 with value: 0.9976719880988112.\n"
     ]
    },
    {
     "name": "stdout",
     "output_type": "stream",
     "text": [
      "AUC: 0.9989810075820366, Balanced Accuracy: 0.997256046705588, Fraud Capture Rate: 0.9963302752293579, Composite Score: 0.9975224431723275\n"
     ]
    },
    {
     "name": "stderr",
     "output_type": "stream",
     "text": [
      "C:\\Users\\emanu\\AppData\\Local\\Temp\\ipykernel_23904\\3815611893.py:14: FutureWarning: suggest_loguniform has been deprecated in v3.0.0. This feature will be removed in v6.0.0. See https://github.com/optuna/optuna/releases/tag/v3.0.0. Use suggest_float(..., log=True) instead.\n",
      "  'learning_rate': trial.suggest_loguniform('learning_rate', 0.001, 0.2),\n",
      "[I 2025-06-16 04:47:09,610] Trial 48 finished with value: 0.9971472250513382 and parameters: {'threshold': 0.25561118921191106, 'n_estimators': 181, 'learning_rate': 0.07329352634033742, 'max_depth': 6, 'num_leaves': 23, 'min_child_samples': 12, 'subsample': 0.9017038661852846, 'subsample_freq': 3, 'colsample_bytree': 0.8262736334632728, 'reg_alpha': 0.07456053925982306, 'reg_lambda': 0.11817962630623305, 'max_bin': 297}. Best is trial 30 with value: 0.9976719880988112.\n"
     ]
    },
    {
     "name": "stdout",
     "output_type": "stream",
     "text": [
      "AUC: 0.9978553532190688, Balanced Accuracy: 0.997256046705588, Fraud Capture Rate: 0.9963302752293579, Composite Score: 0.9971472250513382\n"
     ]
    },
    {
     "name": "stderr",
     "output_type": "stream",
     "text": [
      "C:\\Users\\emanu\\AppData\\Local\\Temp\\ipykernel_23904\\3815611893.py:14: FutureWarning: suggest_loguniform has been deprecated in v3.0.0. This feature will be removed in v6.0.0. See https://github.com/optuna/optuna/releases/tag/v3.0.0. Use suggest_float(..., log=True) instead.\n",
      "  'learning_rate': trial.suggest_loguniform('learning_rate', 0.001, 0.2),\n",
      "[I 2025-06-16 04:47:11,456] Trial 49 finished with value: 0.9971386138038755 and parameters: {'threshold': 0.46044152747864175, 'n_estimators': 248, 'learning_rate': 0.05274715848573031, 'max_depth': 14, 'num_leaves': 37, 'min_child_samples': 35, 'subsample': 0.9235697025414098, 'subsample_freq': 3, 'colsample_bytree': 0.7276805459164446, 'reg_alpha': 0.18866808989245326, 'reg_lambda': 0.24021786628672528, 'max_bin': 225}. Best is trial 30 with value: 0.9976719880988112.\n"
     ]
    },
    {
     "name": "stdout",
     "output_type": "stream",
     "text": [
      "AUC: 0.9978295194766804, Balanced Accuracy: 0.997256046705588, Fraud Capture Rate: 0.9963302752293579, Composite Score: 0.9971386138038755\n",
      "Best Hyperparameters: {'threshold': 0.44286465058062224, 'n_estimators': 171, 'learning_rate': 0.12792961140536083, 'max_depth': 10, 'num_leaves': 34, 'min_child_samples': 50, 'subsample': 0.9208777758688815, 'subsample_freq': 4, 'colsample_bytree': 0.7677410569512204, 'reg_alpha': 0.28067157957490324, 'reg_lambda': 0.0859139708073734, 'max_bin': 232}\n",
      "Best Composite Score: 0.9977\n"
     ]
    }
   ],
   "source": [
    "import optuna\n",
    "\n",
    "study = optuna.create_study(direction='maximize', sampler=optuna.samplers.TPESampler(seed=42))\n",
    "study.optimize(objective, n_trials=50)\n",
    "\n",
    "print(\"Best Hyperparameters:\", study.best_params)\n",
    "print(\"Best Composite Score:\", round(study.best_value, 4))\n"
   ]
  },
  {
   "cell_type": "code",
   "execution_count": 252,
   "id": "d7450783",
   "metadata": {},
   "outputs": [],
   "source": [
    "import lightgbm as lgb\n",
    "import pandas as pd\n",
    "import numpy as np\n",
    "\n",
    "# ✅ Best hyperparameters from Optuna\n",
    "best_params_lgb = {\n",
    "    'n_estimators': 171,\n",
    "    'learning_rate': 0.12792961140536083,\n",
    "    'max_depth': 10,\n",
    "    'num_leaves': 34,\n",
    "    'min_child_samples': 50,\n",
    "    'subsample': 0.9208777758688815,\n",
    "    'subsample_freq': 4,\n",
    "    'colsample_bytree': 0.7677410569512204,\n",
    "    'reg_alpha': 0.28067157957490324,\n",
    "    'reg_lambda': 0.0859139708073734,\n",
    "    'max_bin': 232,\n",
    "    'scale_pos_weight': len(y_train[y_train == 0]) / len(y_train[y_train == 1]),  # Handling class imbalance\n",
    "    'force_col_wise': True,\n",
    "    'verbosity': -1\n",
    "}\n",
    "\n",
    "# 🔁 Train final model with the best parameters\n",
    "final_lgb = lgb.LGBMClassifier(**best_params_lgb, random_state=42)\n",
    "final_lgb.fit(X_train, y_train)\n",
    "\n",
    "# 📊 Predict probabilities on test set\n",
    "test_probs_lgb = final_lgb.predict_proba(test_df)[:, 1]\n",
    "\n",
    "# 🔎 Apply the optimized threshold\n",
    "best_threshold = 0.44286465058062224\n",
    "test_preds = (test_probs_lgb >= best_threshold).astype(int)\n",
    "\n",
    "# 💾 Save predictions in the required format\n",
    "submission = pd.DataFrame({\n",
    "    0: test_probs_lgb,\n",
    "    1: test_preds\n",
    "})\n",
    "submission.to_csv(\"submission.txt\", sep=\" \", header=False, index=False)\n"
   ]
  },
  {
   "cell_type": "code",
   "execution_count": 253,
   "id": "6639bad9",
   "metadata": {},
   "outputs": [],
   "source": [
    "with open(\"submission_lightgbm.txt\", \"w\") as f:\n",
    "    for prob, pred in zip(test_probs_lgb, test_preds):\n",
    "        f.write(f\"{prob} {pred}\\n\")\n"
   ]
  },
  {
   "cell_type": "markdown",
   "id": "88b2456f",
   "metadata": {},
   "source": [
    "### XGB"
   ]
  },
  {
   "cell_type": "code",
   "execution_count": null,
   "id": "460df03d",
   "metadata": {},
   "outputs": [],
   "source": [
    "import xgboost as xgb\n",
    "\n",
    "def objective(trial):\n",
    "    scale_pos_weight = len(y_train[y_train == 0]) / len(y_train[y_train == 1])\n",
    "    \n",
    "    # Tune threshold as part of objective\n",
    "    threshold = trial.suggest_float(\"threshold\", 0.05, 0.5)\n",
    "\n",
    "    params = {\n",
    "        'n_estimators': trial.suggest_int('n_estimators', 100, 300),\n",
    "        'learning_rate': trial.suggest_loguniform('learning_rate', 0.001, 0.2),\n",
    "        'max_depth': trial.suggest_int('max_depth', 5, 15),\n",
    "        'min_child_weight': trial.suggest_int('min_child_weight', 1, 10),\n",
    "        'gamma': trial.suggest_float('gamma', 0.0, 5.0),\n",
    "        'subsample': trial.suggest_float('subsample', 0.6, 1.0),\n",
    "        'colsample_bytree': trial.suggest_float('colsample_bytree', 0.6, 1.0),\n",
    "        'reg_alpha': trial.suggest_float('reg_alpha', 0.0, 1.0),\n",
    "        'reg_lambda': trial.suggest_float('reg_lambda', 0.0, 1.0),\n",
    "        'scale_pos_weight': scale_pos_weight,\n",
    "        'objective': 'binary:logistic',\n",
    "        'eval_metric': 'logloss',\n",
    "        'use_label_encoder': False,\n",
    "        'verbosity': 0\n",
    "    }\n",
    "\n",
    "    kf = StratifiedKFold(n_splits=5, shuffle=True, random_state=42)\n",
    "    \n",
    "    auc_scores = [] \n",
    "    balanced_accuracies = []\n",
    "    fraud_capture_rates = []\n",
    "    scores = []\n",
    "\n",
    "    for train_idx, val_idx in kf.split(X_train, y_train):\n",
    "        X_fold_train, X_fold_val = X_train.iloc[train_idx], X_train.iloc[val_idx]\n",
    "        y_fold_train, y_fold_val = y_train.iloc[train_idx], y_train.iloc[val_idx]\n",
    "\n",
    "        model = xgb.XGBClassifier(**params)\n",
    "        model.fit(X_fold_train, y_fold_train)\n",
    "\n",
    "        y_prob = model.predict_proba(X_fold_val)[:, 1]\n",
    "        y_pred = (y_prob >= threshold).astype(int)\n",
    "\n",
    "        auc_score = roc_auc_score(y_fold_val, y_prob)\n",
    "        balanced_acc = calculate_balanced_accuracy(y_fold_val, y_pred)\n",
    "        fraud_capture = calculate_fraud_capture_rate(y_fold_val, y_prob, N=485)\n",
    "        score = calculate_composite_score(y_fold_val, y_pred, y_prob, N=485)\n",
    "\n",
    "        auc_scores.append(auc_score)\n",
    "        balanced_accuracies.append(balanced_acc)    \n",
    "        fraud_capture_rates.append(fraud_capture)\n",
    "        scores.append(score)\n",
    "\n",
    "    print(f\"AUC: {np.mean(auc_scores)}, Balanced Accuracy: {np.mean(balanced_accuracies)}, Fraud Capture Rate: {np.mean(fraud_capture_rates)}, Composite Score: {np.mean(scores)}\")\n",
    "\n",
    "    return np.mean(scores)\n"
   ]
  },
  {
   "cell_type": "code",
   "execution_count": null,
   "id": "ad2919bb",
   "metadata": {},
   "outputs": [
    {
     "name": "stderr",
     "output_type": "stream",
     "text": [
      "[I 2025-06-16 04:37:49,424] A new study created in memory with name: no-name-0304bfa1-33db-4425-ba5b-4d41c55aadac\n",
      "C:\\Users\\emanu\\AppData\\Local\\Temp\\ipykernel_23904\\1909391582.py:11: FutureWarning: suggest_loguniform has been deprecated in v3.0.0. This feature will be removed in v6.0.0. See https://github.com/optuna/optuna/releases/tag/v3.0.0. Use suggest_float(..., log=True) instead.\n",
      "  'learning_rate': trial.suggest_loguniform('learning_rate', 0.001, 0.2),\n",
      "[I 2025-06-16 04:37:52,087] Trial 0 finished with value: 0.9972811542537358 and parameters: {'threshold': 0.21854305348131314, 'n_estimators': 291, 'learning_rate': 0.0483437145318464, 'max_depth': 11, 'min_child_weight': 2, 'gamma': 0.7799726016810132, 'subsample': 0.6232334448672797, 'colsample_bytree': 0.9464704583099741, 'reg_alpha': 0.6011150117432088, 'reg_lambda': 0.7080725777960455}. Best is trial 0 with value: 0.9972811542537358.\n",
      "C:\\Users\\emanu\\AppData\\Local\\Temp\\ipykernel_23904\\1909391582.py:11: FutureWarning: suggest_loguniform has been deprecated in v3.0.0. This feature will be removed in v6.0.0. See https://github.com/optuna/optuna/releases/tag/v3.0.0. Use suggest_float(..., log=True) instead.\n",
      "  'learning_rate': trial.suggest_loguniform('learning_rate', 0.001, 0.2),\n",
      "[I 2025-06-16 04:37:54,143] Trial 1 finished with value: 0.9971633408035252 and parameters: {'threshold': 0.0592630224331111, 'n_estimators': 294, 'learning_rate': 0.0823143373099555, 'max_depth': 7, 'min_child_weight': 2, 'gamma': 0.9170225492671691, 'subsample': 0.7216968971838151, 'colsample_bytree': 0.8099025726528951, 'reg_alpha': 0.43194501864211576, 'reg_lambda': 0.2912291401980419}. Best is trial 0 with value: 0.9972811542537358.\n",
      "C:\\Users\\emanu\\AppData\\Local\\Temp\\ipykernel_23904\\1909391582.py:11: FutureWarning: suggest_loguniform has been deprecated in v3.0.0. This feature will be removed in v6.0.0. See https://github.com/optuna/optuna/releases/tag/v3.0.0. Use suggest_float(..., log=True) instead.\n",
      "  'learning_rate': trial.suggest_loguniform('learning_rate', 0.001, 0.2),\n",
      "[I 2025-06-16 04:37:55,878] Trial 2 finished with value: 0.9881007577570398 and parameters: {'threshold': 0.3253338026250708, 'n_estimators': 128, 'learning_rate': 0.0047014692435609715, 'max_depth': 9, 'min_child_weight': 5, 'gamma': 3.925879806965068, 'subsample': 0.6798695128633439, 'colsample_bytree': 0.8056937753654446, 'reg_alpha': 0.5924145688620425, 'reg_lambda': 0.046450412719997725}. Best is trial 0 with value: 0.9972811542537358.\n",
      "C:\\Users\\emanu\\AppData\\Local\\Temp\\ipykernel_23904\\1909391582.py:11: FutureWarning: suggest_loguniform has been deprecated in v3.0.0. This feature will be removed in v6.0.0. See https://github.com/optuna/optuna/releases/tag/v3.0.0. Use suggest_float(..., log=True) instead.\n",
      "  'learning_rate': trial.suggest_loguniform('learning_rate', 0.001, 0.2),\n",
      "[I 2025-06-16 04:37:58,290] Trial 3 finished with value: 0.8314040363229406 and parameters: {'threshold': 0.32339518335564726, 'n_estimators': 134, 'learning_rate': 0.001411515549344833, 'max_depth': 15, 'min_child_weight': 10, 'gamma': 4.041986740582305, 'subsample': 0.7218455076693483, 'colsample_bytree': 0.6390688456025535, 'reg_alpha': 0.6842330265121569, 'reg_lambda': 0.4401524937396013}. Best is trial 0 with value: 0.9972811542537358.\n",
      "C:\\Users\\emanu\\AppData\\Local\\Temp\\ipykernel_23904\\1909391582.py:11: FutureWarning: suggest_loguniform has been deprecated in v3.0.0. This feature will be removed in v6.0.0. See https://github.com/optuna/optuna/releases/tag/v3.0.0. Use suggest_float(..., log=True) instead.\n",
      "  'learning_rate': trial.suggest_loguniform('learning_rate', 0.001, 0.2),\n",
      "[I 2025-06-16 04:38:01,414] Trial 4 finished with value: 0.8314992429908381 and parameters: {'threshold': 0.10491720568015048, 'n_estimators': 199, 'learning_rate': 0.0011998556988857205, 'max_depth': 15, 'min_child_weight': 3, 'gamma': 3.31261142176991, 'subsample': 0.7246844304357644, 'colsample_bytree': 0.8080272084711243, 'reg_alpha': 0.5467102793432796, 'reg_lambda': 0.18485445552552704}. Best is trial 0 with value: 0.9972811542537358.\n",
      "C:\\Users\\emanu\\AppData\\Local\\Temp\\ipykernel_23904\\1909391582.py:11: FutureWarning: suggest_loguniform has been deprecated in v3.0.0. This feature will be removed in v6.0.0. See https://github.com/optuna/optuna/releases/tag/v3.0.0. Use suggest_float(..., log=True) instead.\n",
      "  'learning_rate': trial.suggest_loguniform('learning_rate', 0.001, 0.2),\n",
      "[I 2025-06-16 04:38:03,288] Trial 5 finished with value: 0.9973928763272907 and parameters: {'threshold': 0.48631308249405136, 'n_estimators': 255, 'learning_rate': 0.1451494001648588, 'max_depth': 14, 'min_child_weight': 6, 'gamma': 4.609371175115584, 'subsample': 0.6353970008207678, 'colsample_bytree': 0.6783931449676581, 'reg_alpha': 0.045227288910538066, 'reg_lambda': 0.32533033076326434}. Best is trial 5 with value: 0.9973928763272907.\n",
      "C:\\Users\\emanu\\AppData\\Local\\Temp\\ipykernel_23904\\1909391582.py:11: FutureWarning: suggest_loguniform has been deprecated in v3.0.0. This feature will be removed in v6.0.0. See https://github.com/optuna/optuna/releases/tag/v3.0.0. Use suggest_float(..., log=True) instead.\n",
      "  'learning_rate': trial.suggest_loguniform('learning_rate', 0.001, 0.2),\n",
      "[I 2025-06-16 04:38:04,677] Trial 6 finished with value: 0.9972568487853849 and parameters: {'threshold': 0.2249047803602669, 'n_estimators': 154, 'learning_rate': 0.08071418522169696, 'max_depth': 8, 'min_child_weight': 3, 'gamma': 2.7134804157912424, 'subsample': 0.6563696899899051, 'colsample_bytree': 0.9208787923016158, 'reg_alpha': 0.07455064367977082, 'reg_lambda': 0.9868869366005173}. Best is trial 5 with value: 0.9973928763272907.\n",
      "C:\\Users\\emanu\\AppData\\Local\\Temp\\ipykernel_23904\\1909391582.py:11: FutureWarning: suggest_loguniform has been deprecated in v3.0.0. This feature will be removed in v6.0.0. See https://github.com/optuna/optuna/releases/tag/v3.0.0. Use suggest_float(..., log=True) instead.\n",
      "  'learning_rate': trial.suggest_loguniform('learning_rate', 0.001, 0.2),\n",
      "[I 2025-06-16 04:38:07,202] Trial 7 finished with value: 0.8315155098906268 and parameters: {'threshold': 0.39751014618349584, 'n_estimators': 139, 'learning_rate': 0.0010296901472345186, 'max_depth': 13, 'min_child_weight': 8, 'gamma': 3.6450358402049368, 'subsample': 0.9085081386743783, 'colsample_bytree': 0.6296178606936361, 'reg_alpha': 0.3584657285442726, 'reg_lambda': 0.11586905952512971}. Best is trial 5 with value: 0.9973928763272907.\n",
      "C:\\Users\\emanu\\AppData\\Local\\Temp\\ipykernel_23904\\1909391582.py:11: FutureWarning: suggest_loguniform has been deprecated in v3.0.0. This feature will be removed in v6.0.0. See https://github.com/optuna/optuna/releases/tag/v3.0.0. Use suggest_float(..., log=True) instead.\n",
      "  'learning_rate': trial.suggest_loguniform('learning_rate', 0.001, 0.2),\n",
      "[I 2025-06-16 04:38:09,323] Trial 8 finished with value: 0.9973376003759256 and parameters: {'threshold': 0.4383965416440171, 'n_estimators': 225, 'learning_rate': 0.005773062784917182, 'max_depth': 5, 'min_child_weight': 4, 'gamma': 1.6259166101337352, 'subsample': 0.8918424713352255, 'colsample_bytree': 0.8550229885420852, 'reg_alpha': 0.8872127425763265, 'reg_lambda': 0.4722149251619493}. Best is trial 5 with value: 0.9973928763272907.\n",
      "C:\\Users\\emanu\\AppData\\Local\\Temp\\ipykernel_23904\\1909391582.py:11: FutureWarning: suggest_loguniform has been deprecated in v3.0.0. This feature will be removed in v6.0.0. See https://github.com/optuna/optuna/releases/tag/v3.0.0. Use suggest_float(..., log=True) instead.\n",
      "  'learning_rate': trial.suggest_loguniform('learning_rate', 0.001, 0.2),\n",
      "[I 2025-06-16 04:38:11,643] Trial 9 finished with value: 0.9971848875248522 and parameters: {'threshold': 0.10381741067223577, 'n_estimators': 243, 'learning_rate': 0.056310478413508225, 'max_depth': 11, 'min_child_weight': 8, 'gamma': 2.4689779818219537, 'subsample': 0.8090931317527976, 'colsample_bytree': 0.7710164073434198, 'reg_alpha': 0.02541912674409519, 'reg_lambda': 0.10789142699330445}. Best is trial 5 with value: 0.9973928763272907.\n",
      "C:\\Users\\emanu\\AppData\\Local\\Temp\\ipykernel_23904\\1909391582.py:11: FutureWarning: suggest_loguniform has been deprecated in v3.0.0. This feature will be removed in v6.0.0. See https://github.com/optuna/optuna/releases/tag/v3.0.0. Use suggest_float(..., log=True) instead.\n",
      "  'learning_rate': trial.suggest_loguniform('learning_rate', 0.001, 0.2),\n",
      "[I 2025-06-16 04:38:13,525] Trial 10 finished with value: 0.9971928746135795 and parameters: {'threshold': 0.49077311170599114, 'n_estimators': 253, 'learning_rate': 0.17018997474271183, 'max_depth': 13, 'min_child_weight': 7, 'gamma': 4.53832397641259, 'subsample': 0.983908298378168, 'colsample_bytree': 0.7140319566048057, 'reg_alpha': 0.21246987241999954, 'reg_lambda': 0.7032585954613219}. Best is trial 5 with value: 0.9973928763272907.\n",
      "C:\\Users\\emanu\\AppData\\Local\\Temp\\ipykernel_23904\\1909391582.py:11: FutureWarning: suggest_loguniform has been deprecated in v3.0.0. This feature will be removed in v6.0.0. See https://github.com/optuna/optuna/releases/tag/v3.0.0. Use suggest_float(..., log=True) instead.\n",
      "  'learning_rate': trial.suggest_loguniform('learning_rate', 0.001, 0.2),\n",
      "[I 2025-06-16 04:38:15,504] Trial 11 finished with value: 0.9972830085687889 and parameters: {'threshold': 0.49644351176005236, 'n_estimators': 212, 'learning_rate': 0.011584272411665597, 'max_depth': 5, 'min_child_weight': 5, 'gamma': 1.8107365416879633, 'subsample': 0.8428737096132902, 'colsample_bytree': 0.8846629998692523, 'reg_alpha': 0.9378362838951788, 'reg_lambda': 0.4129474202517821}. Best is trial 5 with value: 0.9973928763272907.\n",
      "C:\\Users\\emanu\\AppData\\Local\\Temp\\ipykernel_23904\\1909391582.py:11: FutureWarning: suggest_loguniform has been deprecated in v3.0.0. This feature will be removed in v6.0.0. See https://github.com/optuna/optuna/releases/tag/v3.0.0. Use suggest_float(..., log=True) instead.\n",
      "  'learning_rate': trial.suggest_loguniform('learning_rate', 0.001, 0.2),\n",
      "[I 2025-06-16 04:38:17,450] Trial 12 finished with value: 0.9974261582939384 and parameters: {'threshold': 0.4264138541414674, 'n_estimators': 238, 'learning_rate': 0.011981322764908235, 'max_depth': 5, 'min_child_weight': 6, 'gamma': 0.16792942467236038, 'subsample': 0.8890859292696605, 'colsample_bytree': 0.9984066126989742, 'reg_alpha': 0.9826234636135593, 'reg_lambda': 0.6608557252922869}. Best is trial 12 with value: 0.9974261582939384.\n",
      "C:\\Users\\emanu\\AppData\\Local\\Temp\\ipykernel_23904\\1909391582.py:11: FutureWarning: suggest_loguniform has been deprecated in v3.0.0. This feature will be removed in v6.0.0. See https://github.com/optuna/optuna/releases/tag/v3.0.0. Use suggest_float(..., log=True) instead.\n",
      "  'learning_rate': trial.suggest_loguniform('learning_rate', 0.001, 0.2),\n",
      "[I 2025-06-16 04:38:19,309] Trial 13 finished with value: 0.9970843057511504 and parameters: {'threshold': 0.39841160403514586, 'n_estimators': 183, 'learning_rate': 0.021979771618583426, 'max_depth': 7, 'min_child_weight': 7, 'gamma': 0.17225949332503399, 'subsample': 0.9850466533766089, 'colsample_bytree': 0.986135178426182, 'reg_alpha': 0.7829968946941196, 'reg_lambda': 0.6656088059845666}. Best is trial 12 with value: 0.9974261582939384.\n",
      "C:\\Users\\emanu\\AppData\\Local\\Temp\\ipykernel_23904\\1909391582.py:11: FutureWarning: suggest_loguniform has been deprecated in v3.0.0. This feature will be removed in v6.0.0. See https://github.com/optuna/optuna/releases/tag/v3.0.0. Use suggest_float(..., log=True) instead.\n",
      "  'learning_rate': trial.suggest_loguniform('learning_rate', 0.001, 0.2),\n",
      "[I 2025-06-16 04:38:22,557] Trial 14 finished with value: 0.9971559508642096 and parameters: {'threshold': 0.4316898317142692, 'n_estimators': 264, 'learning_rate': 0.02000729075906464, 'max_depth': 13, 'min_child_weight': 6, 'gamma': 4.930441179102895, 'subsample': 0.9146511487079994, 'colsample_bytree': 0.7115657506095017, 'reg_alpha': 0.25660765213716574, 'reg_lambda': 0.8828301391506471}. Best is trial 12 with value: 0.9974261582939384.\n",
      "C:\\Users\\emanu\\AppData\\Local\\Temp\\ipykernel_23904\\1909391582.py:11: FutureWarning: suggest_loguniform has been deprecated in v3.0.0. This feature will be removed in v6.0.0. See https://github.com/optuna/optuna/releases/tag/v3.0.0. Use suggest_float(..., log=True) instead.\n",
      "  'learning_rate': trial.suggest_loguniform('learning_rate', 0.001, 0.2),\n",
      "[I 2025-06-16 04:38:24,641] Trial 15 finished with value: 0.9971827895547911 and parameters: {'threshold': 0.332996691174336, 'n_estimators': 273, 'learning_rate': 0.19862218103727294, 'max_depth': 11, 'min_child_weight': 10, 'gamma': 0.10456783241701917, 'subsample': 0.7838685126972805, 'colsample_bytree': 0.7058187597339671, 'reg_alpha': 0.766396335615646, 'reg_lambda': 0.5878577165021467}. Best is trial 12 with value: 0.9974261582939384.\n",
      "C:\\Users\\emanu\\AppData\\Local\\Temp\\ipykernel_23904\\1909391582.py:11: FutureWarning: suggest_loguniform has been deprecated in v3.0.0. This feature will be removed in v6.0.0. See https://github.com/optuna/optuna/releases/tag/v3.0.0. Use suggest_float(..., log=True) instead.\n",
      "  'learning_rate': trial.suggest_loguniform('learning_rate', 0.001, 0.2),\n",
      "[I 2025-06-16 04:38:27,290] Trial 16 finished with value: 0.997119055090914 and parameters: {'threshold': 0.4500077731584373, 'n_estimators': 227, 'learning_rate': 0.009041532700378246, 'max_depth': 9, 'min_child_weight': 6, 'gamma': 2.9834368544532364, 'subsample': 0.851971649576608, 'colsample_bytree': 0.7441060409158601, 'reg_alpha': 0.9983168826791481, 'reg_lambda': 0.2882674112651703}. Best is trial 12 with value: 0.9974261582939384.\n",
      "C:\\Users\\emanu\\AppData\\Local\\Temp\\ipykernel_23904\\1909391582.py:11: FutureWarning: suggest_loguniform has been deprecated in v3.0.0. This feature will be removed in v6.0.0. See https://github.com/optuna/optuna/releases/tag/v3.0.0. Use suggest_float(..., log=True) instead.\n",
      "  'learning_rate': trial.suggest_loguniform('learning_rate', 0.001, 0.2),\n",
      "[I 2025-06-16 04:38:29,949] Trial 17 finished with value: 0.9972481031828805 and parameters: {'threshold': 0.3821234119468576, 'n_estimators': 242, 'learning_rate': 0.002956461619341584, 'max_depth': 6, 'min_child_weight': 8, 'gamma': 1.91571470173852, 'subsample': 0.6072358215492547, 'colsample_bytree': 0.6631805200240224, 'reg_alpha': 0.20716578861419754, 'reg_lambda': 0.820530440425295}. Best is trial 12 with value: 0.9974261582939384.\n",
      "C:\\Users\\emanu\\AppData\\Local\\Temp\\ipykernel_23904\\1909391582.py:11: FutureWarning: suggest_loguniform has been deprecated in v3.0.0. This feature will be removed in v6.0.0. See https://github.com/optuna/optuna/releases/tag/v3.0.0. Use suggest_float(..., log=True) instead.\n",
      "  'learning_rate': trial.suggest_loguniform('learning_rate', 0.001, 0.2),\n",
      "[I 2025-06-16 04:38:32,247] Trial 18 finished with value: 0.9971159600424324 and parameters: {'threshold': 0.25591921424120406, 'n_estimators': 176, 'learning_rate': 0.026061475243934797, 'max_depth': 14, 'min_child_weight': 4, 'gamma': 1.0353734563284422, 'subsample': 0.7785288033800145, 'colsample_bytree': 0.8530521571049274, 'reg_alpha': 0.4181540822820742, 'reg_lambda': 0.5761361981802665}. Best is trial 12 with value: 0.9974261582939384.\n",
      "C:\\Users\\emanu\\AppData\\Local\\Temp\\ipykernel_23904\\1909391582.py:11: FutureWarning: suggest_loguniform has been deprecated in v3.0.0. This feature will be removed in v6.0.0. See https://github.com/optuna/optuna/releases/tag/v3.0.0. Use suggest_float(..., log=True) instead.\n",
      "  'learning_rate': trial.suggest_loguniform('learning_rate', 0.001, 0.2),\n",
      "[I 2025-06-16 04:38:35,350] Trial 19 finished with value: 0.9972234444672731 and parameters: {'threshold': 0.46652603483801597, 'n_estimators': 272, 'learning_rate': 0.028538851210848114, 'max_depth': 10, 'min_child_weight': 1, 'gamma': 2.2339244252578654, 'subsample': 0.9464322236819168, 'colsample_bytree': 0.6046483846510212, 'reg_alpha': 0.11708235317519233, 'reg_lambda': 0.3362461974449213}. Best is trial 12 with value: 0.9974261582939384.\n",
      "C:\\Users\\emanu\\AppData\\Local\\Temp\\ipykernel_23904\\1909391582.py:11: FutureWarning: suggest_loguniform has been deprecated in v3.0.0. This feature will be removed in v6.0.0. See https://github.com/optuna/optuna/releases/tag/v3.0.0. Use suggest_float(..., log=True) instead.\n",
      "  'learning_rate': trial.suggest_loguniform('learning_rate', 0.001, 0.2),\n",
      "[I 2025-06-16 04:38:37,372] Trial 20 finished with value: 0.9966003167299551 and parameters: {'threshold': 0.35807517105966585, 'n_estimators': 194, 'learning_rate': 0.0026628515238956434, 'max_depth': 12, 'min_child_weight': 9, 'gamma': 1.324150444423219, 'subsample': 0.8482619347318757, 'colsample_bytree': 0.9514508026332132, 'reg_alpha': 0.3067663162951829, 'reg_lambda': 0.5409320988571}. Best is trial 12 with value: 0.9974261582939384.\n",
      "C:\\Users\\emanu\\AppData\\Local\\Temp\\ipykernel_23904\\1909391582.py:11: FutureWarning: suggest_loguniform has been deprecated in v3.0.0. This feature will be removed in v6.0.0. See https://github.com/optuna/optuna/releases/tag/v3.0.0. Use suggest_float(..., log=True) instead.\n",
      "  'learning_rate': trial.suggest_loguniform('learning_rate', 0.001, 0.2),\n",
      "[I 2025-06-16 04:38:39,508] Trial 21 finished with value: 0.9972963705161731 and parameters: {'threshold': 0.43042843933489183, 'n_estimators': 227, 'learning_rate': 0.006695992745333426, 'max_depth': 5, 'min_child_weight': 4, 'gamma': 0.5168799786147098, 'subsample': 0.9008904657540873, 'colsample_bytree': 0.859687919876421, 'reg_alpha': 0.878801532472808, 'reg_lambda': 0.45143911801246}. Best is trial 12 with value: 0.9974261582939384.\n",
      "C:\\Users\\emanu\\AppData\\Local\\Temp\\ipykernel_23904\\1909391582.py:11: FutureWarning: suggest_loguniform has been deprecated in v3.0.0. This feature will be removed in v6.0.0. See https://github.com/optuna/optuna/releases/tag/v3.0.0. Use suggest_float(..., log=True) instead.\n",
      "  'learning_rate': trial.suggest_loguniform('learning_rate', 0.001, 0.2),\n",
      "[I 2025-06-16 04:38:41,378] Trial 22 finished with value: 0.9967471266617786 and parameters: {'threshold': 0.4996820646876977, 'n_estimators': 218, 'learning_rate': 0.005442999935661182, 'max_depth': 6, 'min_child_weight': 4, 'gamma': 1.3640525515213533, 'subsample': 0.8751717990188722, 'colsample_bytree': 0.9997653976350742, 'reg_alpha': 0.8622862902365556, 'reg_lambda': 0.37155680242688655}. Best is trial 12 with value: 0.9974261582939384.\n",
      "C:\\Users\\emanu\\AppData\\Local\\Temp\\ipykernel_23904\\1909391582.py:11: FutureWarning: suggest_loguniform has been deprecated in v3.0.0. This feature will be removed in v6.0.0. See https://github.com/optuna/optuna/releases/tag/v3.0.0. Use suggest_float(..., log=True) instead.\n",
      "  'learning_rate': trial.suggest_loguniform('learning_rate', 0.001, 0.2),\n",
      "[I 2025-06-16 04:38:42,721] Trial 23 finished with value: 0.9972524914874494 and parameters: {'threshold': 0.42572490733156554, 'n_estimators': 106, 'learning_rate': 0.014994769771565563, 'max_depth': 6, 'min_child_weight': 6, 'gamma': 1.844448540569184, 'subsample': 0.8147820745147942, 'colsample_bytree': 0.8998212205517592, 'reg_alpha': 0.7209088879920665, 'reg_lambda': 0.22298007608886034}. Best is trial 12 with value: 0.9974261582939384.\n",
      "C:\\Users\\emanu\\AppData\\Local\\Temp\\ipykernel_23904\\1909391582.py:11: FutureWarning: suggest_loguniform has been deprecated in v3.0.0. This feature will be removed in v6.0.0. See https://github.com/optuna/optuna/releases/tag/v3.0.0. Use suggest_float(..., log=True) instead.\n",
      "  'learning_rate': trial.suggest_loguniform('learning_rate', 0.001, 0.2),\n",
      "[I 2025-06-16 04:38:44,850] Trial 24 finished with value: 0.9875689897772311 and parameters: {'threshold': 0.29520110271466793, 'n_estimators': 245, 'learning_rate': 0.002965542915541213, 'max_depth': 5, 'min_child_weight': 5, 'gamma': 0.4810255023406015, 'subsample': 0.931373562328172, 'colsample_bytree': 0.8450516139077525, 'reg_alpha': 0.8539919306399206, 'reg_lambda': 0.5013835996016377}. Best is trial 12 with value: 0.9974261582939384.\n",
      "C:\\Users\\emanu\\AppData\\Local\\Temp\\ipykernel_23904\\1909391582.py:11: FutureWarning: suggest_loguniform has been deprecated in v3.0.0. This feature will be removed in v6.0.0. See https://github.com/optuna/optuna/releases/tag/v3.0.0. Use suggest_float(..., log=True) instead.\n",
      "  'learning_rate': trial.suggest_loguniform('learning_rate', 0.001, 0.2),\n",
      "[I 2025-06-16 04:38:47,246] Trial 25 finished with value: 0.9971744782235097 and parameters: {'threshold': 0.46119745111800636, 'n_estimators': 228, 'learning_rate': 0.009172408587219438, 'max_depth': 8, 'min_child_weight': 7, 'gamma': 1.4429785383995923, 'subsample': 0.7534278556438567, 'colsample_bytree': 0.7620424569005637, 'reg_alpha': 0.9736870103951462, 'reg_lambda': 0.6386470202230623}. Best is trial 12 with value: 0.9974261582939384.\n",
      "C:\\Users\\emanu\\AppData\\Local\\Temp\\ipykernel_23904\\1909391582.py:11: FutureWarning: suggest_loguniform has been deprecated in v3.0.0. This feature will be removed in v6.0.0. See https://github.com/optuna/optuna/releases/tag/v3.0.0. Use suggest_float(..., log=True) instead.\n",
      "  'learning_rate': trial.suggest_loguniform('learning_rate', 0.001, 0.2),\n",
      "[I 2025-06-16 04:38:49,332] Trial 26 finished with value: 0.9970824146144004 and parameters: {'threshold': 0.3814835111002097, 'n_estimators': 259, 'learning_rate': 0.0411373226662117, 'max_depth': 7, 'min_child_weight': 3, 'gamma': 3.107827887545505, 'subsample': 0.8733750356241503, 'colsample_bytree': 0.6805931189809117, 'reg_alpha': 0.6598765812281849, 'reg_lambda': 0.7871225587874597}. Best is trial 12 with value: 0.9974261582939384.\n",
      "C:\\Users\\emanu\\AppData\\Local\\Temp\\ipykernel_23904\\1909391582.py:11: FutureWarning: suggest_loguniform has been deprecated in v3.0.0. This feature will be removed in v6.0.0. See https://github.com/optuna/optuna/releases/tag/v3.0.0. Use suggest_float(..., log=True) instead.\n",
      "  'learning_rate': trial.suggest_loguniform('learning_rate', 0.001, 0.2),\n",
      "[I 2025-06-16 04:38:50,920] Trial 27 finished with value: 0.9972061923921807 and parameters: {'threshold': 0.41417969319273573, 'n_estimators': 209, 'learning_rate': 0.12136116158326161, 'max_depth': 8, 'min_child_weight': 5, 'gamma': 4.580044163530715, 'subsample': 0.9579597760237991, 'colsample_bytree': 0.949817939511723, 'reg_alpha': 0.9121401931691071, 'reg_lambda': 0.4571849177918847}. Best is trial 12 with value: 0.9974261582939384.\n",
      "C:\\Users\\emanu\\AppData\\Local\\Temp\\ipykernel_23904\\1909391582.py:11: FutureWarning: suggest_loguniform has been deprecated in v3.0.0. This feature will be removed in v6.0.0. See https://github.com/optuna/optuna/releases/tag/v3.0.0. Use suggest_float(..., log=True) instead.\n",
      "  'learning_rate': trial.suggest_loguniform('learning_rate', 0.001, 0.2),\n",
      "[I 2025-06-16 04:38:53,435] Trial 28 finished with value: 0.99716292658073 and parameters: {'threshold': 0.4636795940007066, 'n_estimators': 276, 'learning_rate': 0.014831462372824353, 'max_depth': 6, 'min_child_weight': 6, 'gamma': 2.266174048069962, 'subsample': 0.6768270751307732, 'colsample_bytree': 0.9089313443667885, 'reg_alpha': 0.4755076222656118, 'reg_lambda': 0.5249160792752223}. Best is trial 12 with value: 0.9974261582939384.\n",
      "C:\\Users\\emanu\\AppData\\Local\\Temp\\ipykernel_23904\\1909391582.py:11: FutureWarning: suggest_loguniform has been deprecated in v3.0.0. This feature will be removed in v6.0.0. See https://github.com/optuna/optuna/releases/tag/v3.0.0. Use suggest_float(..., log=True) instead.\n",
      "  'learning_rate': trial.suggest_loguniform('learning_rate', 0.001, 0.2),\n",
      "[I 2025-06-16 04:38:55,783] Trial 29 finished with value: 0.9974072841281394 and parameters: {'threshold': 0.3658372080722335, 'n_estimators': 280, 'learning_rate': 0.03844544422497808, 'max_depth': 10, 'min_child_weight': 4, 'gamma': 0.5468004432422067, 'subsample': 0.6436051488044066, 'colsample_bytree': 0.9810841124549151, 'reg_alpha': 0.804099552422811, 'reg_lambda': 0.7576439477131134}. Best is trial 12 with value: 0.9974261582939384.\n",
      "C:\\Users\\emanu\\AppData\\Local\\Temp\\ipykernel_23904\\1909391582.py:11: FutureWarning: suggest_loguniform has been deprecated in v3.0.0. This feature will be removed in v6.0.0. See https://github.com/optuna/optuna/releases/tag/v3.0.0. Use suggest_float(..., log=True) instead.\n",
      "  'learning_rate': trial.suggest_loguniform('learning_rate', 0.001, 0.2),\n",
      "[I 2025-06-16 04:38:58,113] Trial 30 finished with value: 0.9973147389494599 and parameters: {'threshold': 0.35616041926462827, 'n_estimators': 288, 'learning_rate': 0.047440397138437645, 'max_depth': 10, 'min_child_weight': 2, 'gamma': 0.5861634632458455, 'subsample': 0.6317213700011304, 'colsample_bytree': 0.974129671391089, 'reg_alpha': 0.7697956925765923, 'reg_lambda': 0.7672909009739456}. Best is trial 12 with value: 0.9974261582939384.\n",
      "C:\\Users\\emanu\\AppData\\Local\\Temp\\ipykernel_23904\\1909391582.py:11: FutureWarning: suggest_loguniform has been deprecated in v3.0.0. This feature will be removed in v6.0.0. See https://github.com/optuna/optuna/releases/tag/v3.0.0. Use suggest_float(..., log=True) instead.\n",
      "  'learning_rate': trial.suggest_loguniform('learning_rate', 0.001, 0.2),\n",
      "[I 2025-06-16 04:39:00,578] Trial 31 finished with value: 0.9974569068851171 and parameters: {'threshold': 0.3595320880199634, 'n_estimators': 286, 'learning_rate': 0.03441730150512816, 'max_depth': 12, 'min_child_weight': 4, 'gamma': 0.06655413271247834, 'subsample': 0.6364784353029371, 'colsample_bytree': 0.960836926077814, 'reg_alpha': 0.8384948295032638, 'reg_lambda': 0.629887207892041}. Best is trial 31 with value: 0.9974569068851171.\n",
      "C:\\Users\\emanu\\AppData\\Local\\Temp\\ipykernel_23904\\1909391582.py:11: FutureWarning: suggest_loguniform has been deprecated in v3.0.0. This feature will be removed in v6.0.0. See https://github.com/optuna/optuna/releases/tag/v3.0.0. Use suggest_float(..., log=True) instead.\n",
      "  'learning_rate': trial.suggest_loguniform('learning_rate', 0.001, 0.2),\n",
      "[I 2025-06-16 04:39:03,365] Trial 32 finished with value: 0.9973979759295505 and parameters: {'threshold': 0.26546489963350817, 'n_estimators': 299, 'learning_rate': 0.035570611719167713, 'max_depth': 12, 'min_child_weight': 3, 'gamma': 0.9453721007890586, 'subsample': 0.6345584744386591, 'colsample_bytree': 0.9650115040235181, 'reg_alpha': 0.8147612761517535, 'reg_lambda': 0.8792937553285858}. Best is trial 31 with value: 0.9974569068851171.\n",
      "C:\\Users\\emanu\\AppData\\Local\\Temp\\ipykernel_23904\\1909391582.py:11: FutureWarning: suggest_loguniform has been deprecated in v3.0.0. This feature will be removed in v6.0.0. See https://github.com/optuna/optuna/releases/tag/v3.0.0. Use suggest_float(..., log=True) instead.\n",
      "  'learning_rate': trial.suggest_loguniform('learning_rate', 0.001, 0.2),\n",
      "[I 2025-06-16 04:39:05,933] Trial 33 finished with value: 0.9973400872330724 and parameters: {'threshold': 0.2716436408764877, 'n_estimators': 295, 'learning_rate': 0.038045262413874195, 'max_depth': 11, 'min_child_weight': 3, 'gamma': 0.8333751401627933, 'subsample': 0.6829638862758409, 'colsample_bytree': 0.9638357469878396, 'reg_alpha': 0.8032388905085158, 'reg_lambda': 0.8859017649241585}. Best is trial 31 with value: 0.9974569068851171.\n",
      "C:\\Users\\emanu\\AppData\\Local\\Temp\\ipykernel_23904\\1909391582.py:11: FutureWarning: suggest_loguniform has been deprecated in v3.0.0. This feature will be removed in v6.0.0. See https://github.com/optuna/optuna/releases/tag/v3.0.0. Use suggest_float(..., log=True) instead.\n",
      "  'learning_rate': trial.suggest_loguniform('learning_rate', 0.001, 0.2),\n",
      "[I 2025-06-16 04:39:08,493] Trial 34 finished with value: 0.997300658429368 and parameters: {'threshold': 0.30024501171559453, 'n_estimators': 299, 'learning_rate': 0.0676095787969173, 'max_depth': 12, 'min_child_weight': 1, 'gamma': 0.00698059858547373, 'subsample': 0.601677242235165, 'colsample_bytree': 0.9392374465665211, 'reg_alpha': 0.6496225061663006, 'reg_lambda': 0.9676620860430993}. Best is trial 31 with value: 0.9974569068851171.\n",
      "C:\\Users\\emanu\\AppData\\Local\\Temp\\ipykernel_23904\\1909391582.py:11: FutureWarning: suggest_loguniform has been deprecated in v3.0.0. This feature will be removed in v6.0.0. See https://github.com/optuna/optuna/releases/tag/v3.0.0. Use suggest_float(..., log=True) instead.\n",
      "  'learning_rate': trial.suggest_loguniform('learning_rate', 0.001, 0.2),\n",
      "[I 2025-06-16 04:39:11,358] Trial 35 finished with value: 0.997180930455851 and parameters: {'threshold': 0.1921513252569555, 'n_estimators': 281, 'learning_rate': 0.03014868752222284, 'max_depth': 12, 'min_child_weight': 2, 'gamma': 1.0255017359406324, 'subsample': 0.7059753993778636, 'colsample_bytree': 0.9278989497729722, 'reg_alpha': 0.5985469491357367, 'reg_lambda': 0.7313809438657284}. Best is trial 31 with value: 0.9974569068851171.\n",
      "C:\\Users\\emanu\\AppData\\Local\\Temp\\ipykernel_23904\\1909391582.py:11: FutureWarning: suggest_loguniform has been deprecated in v3.0.0. This feature will be removed in v6.0.0. See https://github.com/optuna/optuna/releases/tag/v3.0.0. Use suggest_float(..., log=True) instead.\n",
      "  'learning_rate': trial.suggest_loguniform('learning_rate', 0.001, 0.2),\n",
      "[I 2025-06-16 04:39:13,651] Trial 36 finished with value: 0.9973452823281637 and parameters: {'threshold': 0.2031149366756389, 'n_estimators': 288, 'learning_rate': 0.10096600034921085, 'max_depth': 9, 'min_child_weight': 4, 'gamma': 0.36707019899709403, 'subsample': 0.6533754073018077, 'colsample_bytree': 0.9951590461414237, 'reg_alpha': 0.8296864978774159, 'reg_lambda': 0.8673575121757321}. Best is trial 31 with value: 0.9974569068851171.\n",
      "C:\\Users\\emanu\\AppData\\Local\\Temp\\ipykernel_23904\\1909391582.py:11: FutureWarning: suggest_loguniform has been deprecated in v3.0.0. This feature will be removed in v6.0.0. See https://github.com/optuna/optuna/releases/tag/v3.0.0. Use suggest_float(..., log=True) instead.\n",
      "  'learning_rate': trial.suggest_loguniform('learning_rate', 0.001, 0.2),\n",
      "[I 2025-06-16 04:39:16,291] Trial 37 finished with value: 0.9971868056785691 and parameters: {'threshold': 0.24050359003286492, 'n_estimators': 300, 'learning_rate': 0.018065679642097134, 'max_depth': 10, 'min_child_weight': 3, 'gamma': 0.7786100565158645, 'subsample': 0.652162240908404, 'colsample_bytree': 0.9673821057863604, 'reg_alpha': 0.7257445116590928, 'reg_lambda': 0.6416953593795306}. Best is trial 31 with value: 0.9974569068851171.\n",
      "C:\\Users\\emanu\\AppData\\Local\\Temp\\ipykernel_23904\\1909391582.py:11: FutureWarning: suggest_loguniform has been deprecated in v3.0.0. This feature will be removed in v6.0.0. See https://github.com/optuna/optuna/releases/tag/v3.0.0. Use suggest_float(..., log=True) instead.\n",
      "  'learning_rate': trial.suggest_loguniform('learning_rate', 0.001, 0.2),\n",
      "[I 2025-06-16 04:39:18,794] Trial 38 finished with value: 0.9972640116318485 and parameters: {'threshold': 0.16620123523354724, 'n_estimators': 268, 'learning_rate': 0.03573570035699755, 'max_depth': 12, 'min_child_weight': 5, 'gamma': 0.27657544834512693, 'subsample': 0.7429334333926475, 'colsample_bytree': 0.8853009070580288, 'reg_alpha': 0.9369160078313321, 'reg_lambda': 0.9433975936360719}. Best is trial 31 with value: 0.9974569068851171.\n",
      "C:\\Users\\emanu\\AppData\\Local\\Temp\\ipykernel_23904\\1909391582.py:11: FutureWarning: suggest_loguniform has been deprecated in v3.0.0. This feature will be removed in v6.0.0. See https://github.com/optuna/optuna/releases/tag/v3.0.0. Use suggest_float(..., log=True) instead.\n",
      "  'learning_rate': trial.suggest_loguniform('learning_rate', 0.001, 0.2),\n",
      "[I 2025-06-16 04:39:21,064] Trial 39 finished with value: 0.997264532675128 and parameters: {'threshold': 0.31387579927113435, 'n_estimators': 283, 'learning_rate': 0.06910545449833264, 'max_depth': 14, 'min_child_weight': 2, 'gamma': 0.6904823655707468, 'subsample': 0.6985864331955098, 'colsample_bytree': 0.9729420380437861, 'reg_alpha': 0.5270732544012691, 'reg_lambda': 0.8217597158001456}. Best is trial 31 with value: 0.9974569068851171.\n",
      "C:\\Users\\emanu\\AppData\\Local\\Temp\\ipykernel_23904\\1909391582.py:11: FutureWarning: suggest_loguniform has been deprecated in v3.0.0. This feature will be removed in v6.0.0. See https://github.com/optuna/optuna/releases/tag/v3.0.0. Use suggest_float(..., log=True) instead.\n",
      "  'learning_rate': trial.suggest_loguniform('learning_rate', 0.001, 0.2),\n",
      "[I 2025-06-16 04:39:23,459] Trial 40 finished with value: 0.99726809717895 and parameters: {'threshold': 0.3518125960941827, 'n_estimators': 251, 'learning_rate': 0.05793958467470155, 'max_depth': 15, 'min_child_weight': 4, 'gamma': 1.0852913012821936, 'subsample': 0.6229477911849375, 'colsample_bytree': 0.9356655540390024, 'reg_alpha': 0.6978565534935226, 'reg_lambda': 0.7065385930005311}. Best is trial 31 with value: 0.9974569068851171.\n",
      "C:\\Users\\emanu\\AppData\\Local\\Temp\\ipykernel_23904\\1909391582.py:11: FutureWarning: suggest_loguniform has been deprecated in v3.0.0. This feature will be removed in v6.0.0. See https://github.com/optuna/optuna/releases/tag/v3.0.0. Use suggest_float(..., log=True) instead.\n",
      "  'learning_rate': trial.suggest_loguniform('learning_rate', 0.001, 0.2),\n",
      "[I 2025-06-16 04:39:25,199] Trial 41 finished with value: 0.9972109516596384 and parameters: {'threshold': 0.3793989710021389, 'n_estimators': 260, 'learning_rate': 0.1429281675248079, 'max_depth': 14, 'min_child_weight': 5, 'gamma': 3.7972406369278637, 'subsample': 0.6323576595531992, 'colsample_bytree': 0.9816948975572631, 'reg_alpha': 0.9545819165489795, 'reg_lambda': 0.5923892281065799}. Best is trial 31 with value: 0.9974569068851171.\n",
      "C:\\Users\\emanu\\AppData\\Local\\Temp\\ipykernel_23904\\1909391582.py:11: FutureWarning: suggest_loguniform has been deprecated in v3.0.0. This feature will be removed in v6.0.0. See https://github.com/optuna/optuna/releases/tag/v3.0.0. Use suggest_float(..., log=True) instead.\n",
      "  'learning_rate': trial.suggest_loguniform('learning_rate', 0.001, 0.2),\n",
      "[I 2025-06-16 04:39:27,002] Trial 42 finished with value: 0.9974051474658502 and parameters: {'threshold': 0.33962773455283046, 'n_estimators': 236, 'learning_rate': 0.09929233571664905, 'max_depth': 13, 'min_child_weight': 7, 'gamma': 0.39476679363783845, 'subsample': 0.6590069184192955, 'colsample_bytree': 0.9514179833196899, 'reg_alpha': 0.9115199140292203, 'reg_lambda': 0.7385315864463181}. Best is trial 31 with value: 0.9974569068851171.\n",
      "C:\\Users\\emanu\\AppData\\Local\\Temp\\ipykernel_23904\\1909391582.py:11: FutureWarning: suggest_loguniform has been deprecated in v3.0.0. This feature will be removed in v6.0.0. See https://github.com/optuna/optuna/releases/tag/v3.0.0. Use suggest_float(..., log=True) instead.\n",
      "  'learning_rate': trial.suggest_loguniform('learning_rate', 0.001, 0.2),\n",
      "[I 2025-06-16 04:39:29,254] Trial 43 finished with value: 0.9974141924643982 and parameters: {'threshold': 0.3398162225123135, 'n_estimators': 289, 'learning_rate': 0.10074029932260747, 'max_depth': 13, 'min_child_weight': 7, 'gamma': 0.3340943622264652, 'subsample': 0.6662273100238592, 'colsample_bytree': 0.9093818746229164, 'reg_alpha': 0.9992567807358373, 'reg_lambda': 0.7503870961102905}. Best is trial 31 with value: 0.9974569068851171.\n",
      "C:\\Users\\emanu\\AppData\\Local\\Temp\\ipykernel_23904\\1909391582.py:11: FutureWarning: suggest_loguniform has been deprecated in v3.0.0. This feature will be removed in v6.0.0. See https://github.com/optuna/optuna/releases/tag/v3.0.0. Use suggest_float(..., log=True) instead.\n",
      "  'learning_rate': trial.suggest_loguniform('learning_rate', 0.001, 0.2),\n",
      "[I 2025-06-16 04:39:31,070] Trial 44 finished with value: 0.9974020179168196 and parameters: {'threshold': 0.33580072977730785, 'n_estimators': 242, 'learning_rate': 0.08902360727955594, 'max_depth': 13, 'min_child_weight': 7, 'gamma': 0.27364693386612227, 'subsample': 0.6696745888890105, 'colsample_bytree': 0.9165593730117346, 'reg_alpha': 0.9045448070019759, 'reg_lambda': 0.761548704825153}. Best is trial 31 with value: 0.9974569068851171.\n",
      "C:\\Users\\emanu\\AppData\\Local\\Temp\\ipykernel_23904\\1909391582.py:11: FutureWarning: suggest_loguniform has been deprecated in v3.0.0. This feature will be removed in v6.0.0. See https://github.com/optuna/optuna/releases/tag/v3.0.0. Use suggest_float(..., log=True) instead.\n",
      "  'learning_rate': trial.suggest_loguniform('learning_rate', 0.001, 0.2),\n",
      "[I 2025-06-16 04:39:33,305] Trial 45 finished with value: 0.9974568772521721 and parameters: {'threshold': 0.29660384471455725, 'n_estimators': 282, 'learning_rate': 0.08182294213052291, 'max_depth': 13, 'min_child_weight': 8, 'gamma': 0.4027082274957925, 'subsample': 0.6940987411366482, 'colsample_bytree': 0.8239419943901289, 'reg_alpha': 0.9911616019641584, 'reg_lambda': 0.6740505403107011}. Best is trial 31 with value: 0.9974569068851171.\n",
      "C:\\Users\\emanu\\AppData\\Local\\Temp\\ipykernel_23904\\1909391582.py:11: FutureWarning: suggest_loguniform has been deprecated in v3.0.0. This feature will be removed in v6.0.0. See https://github.com/optuna/optuna/releases/tag/v3.0.0. Use suggest_float(..., log=True) instead.\n",
      "  'learning_rate': trial.suggest_loguniform('learning_rate', 0.001, 0.2),\n",
      "[I 2025-06-16 04:39:35,737] Trial 46 finished with value: 0.9973511268725648 and parameters: {'threshold': 0.29741438852326196, 'n_estimators': 281, 'learning_rate': 0.05311162369218457, 'max_depth': 11, 'min_child_weight': 8, 'gamma': 0.08516460469010009, 'subsample': 0.703814142070341, 'colsample_bytree': 0.8387983097621374, 'reg_alpha': 0.9948028514564623, 'reg_lambda': 0.6731032305673867}. Best is trial 31 with value: 0.9974569068851171.\n",
      "C:\\Users\\emanu\\AppData\\Local\\Temp\\ipykernel_23904\\1909391582.py:11: FutureWarning: suggest_loguniform has been deprecated in v3.0.0. This feature will be removed in v6.0.0. See https://github.com/optuna/optuna/releases/tag/v3.0.0. Use suggest_float(..., log=True) instead.\n",
      "  'learning_rate': trial.suggest_loguniform('learning_rate', 0.001, 0.2),\n",
      "[I 2025-06-16 04:39:37,923] Trial 47 finished with value: 0.9973521227279877 and parameters: {'threshold': 0.31859772837255335, 'n_estimators': 266, 'learning_rate': 0.07515084396240573, 'max_depth': 13, 'min_child_weight': 9, 'gamma': 0.6179474711662596, 'subsample': 0.7337379368806356, 'colsample_bytree': 0.8228304535437934, 'reg_alpha': 0.9536519425822638, 'reg_lambda': 0.622200069244081}. Best is trial 31 with value: 0.9974569068851171.\n",
      "C:\\Users\\emanu\\AppData\\Local\\Temp\\ipykernel_23904\\1909391582.py:11: FutureWarning: suggest_loguniform has been deprecated in v3.0.0. This feature will be removed in v6.0.0. See https://github.com/optuna/optuna/releases/tag/v3.0.0. Use suggest_float(..., log=True) instead.\n",
      "  'learning_rate': trial.suggest_loguniform('learning_rate', 0.001, 0.2),\n",
      "[I 2025-06-16 04:39:40,101] Trial 48 finished with value: 0.9974328049865662 and parameters: {'threshold': 0.4084069715297086, 'n_estimators': 290, 'learning_rate': 0.11903993200063932, 'max_depth': 14, 'min_child_weight': 8, 'gamma': 1.2251770033980725, 'subsample': 0.6914966381248712, 'colsample_bytree': 0.7864563920891833, 'reg_alpha': 0.9986554536665007, 'reg_lambda': 0.687305700054682}. Best is trial 31 with value: 0.9974569068851171.\n",
      "C:\\Users\\emanu\\AppData\\Local\\Temp\\ipykernel_23904\\1909391582.py:11: FutureWarning: suggest_loguniform has been deprecated in v3.0.0. This feature will be removed in v6.0.0. See https://github.com/optuna/optuna/releases/tag/v3.0.0. Use suggest_float(..., log=True) instead.\n",
      "  'learning_rate': trial.suggest_loguniform('learning_rate', 0.001, 0.2),\n",
      "[I 2025-06-16 04:39:42,374] Trial 49 finished with value: 0.9973043978291518 and parameters: {'threshold': 0.4021674571063636, 'n_estimators': 291, 'learning_rate': 0.13063597347433162, 'max_depth': 14, 'min_child_weight': 9, 'gamma': 0.01457890924524402, 'subsample': 0.7646949393948328, 'colsample_bytree': 0.7874048921912172, 'reg_alpha': 0.996993953453751, 'reg_lambda': 0.6855783446875972}. Best is trial 31 with value: 0.9974569068851171.\n"
     ]
    },
    {
     "name": "stdout",
     "output_type": "stream",
     "text": [
      "✅ Best XGBoost Parameters: {'threshold': 0.3595320880199634, 'n_estimators': 286, 'learning_rate': 0.03441730150512816, 'max_depth': 12, 'min_child_weight': 4, 'gamma': 0.06655413271247834, 'subsample': 0.6364784353029371, 'colsample_bytree': 0.960836926077814, 'reg_alpha': 0.8384948295032638, 'reg_lambda': 0.629887207892041}\n",
      "🎯 Best Composite Score: 0.9975\n"
     ]
    }
   ],
   "source": [
    "import optuna\n",
    "\n",
    "study = optuna.create_study(direction='maximize', sampler=optuna.samplers.TPESampler(seed=42))\n",
    "study.optimize(objective, n_trials=50)\n",
    "\n",
    "print(\"✅ Best XGBoost Parameters:\", study.best_params)\n",
    "print(\"🎯 Best Composite Score:\", round(study.best_value, 4))\n"
   ]
  },
  {
   "cell_type": "code",
   "execution_count": 254,
   "id": "992d4979",
   "metadata": {},
   "outputs": [],
   "source": [
    "import xgboost as xgb\n",
    "import pandas as pd\n",
    "import numpy as np\n",
    "\n",
    "# ✅ Best XGBoost hyperparameters from Optuna\n",
    "best_params_xgb = {\n",
    "    'n_estimators': 286,\n",
    "    'learning_rate': 0.03441730150512816,\n",
    "    'max_depth': 12,\n",
    "    'min_child_weight': 4,\n",
    "    'gamma': 0.06655413271247834,\n",
    "    'subsample': 0.6364784353029371,\n",
    "    'colsample_bytree': 0.960836926077814,\n",
    "    'reg_alpha': 0.8384948295032638,\n",
    "    'reg_lambda': 0.629887207892041,\n",
    "    'scale_pos_weight': len(y_train[y_train == 0]) / len(y_train[y_train == 1]),  # Handling class imbalance\n",
    "    'objective': 'binary:logistic',\n",
    "    'eval_metric': 'logloss',\n",
    "    'use_label_encoder': False,\n",
    "    'verbosity': 0\n",
    "}\n",
    "\n",
    "# 🔁 Train the final XGBoost model on the full training set\n",
    "final_xgb = xgb.XGBClassifier(**best_params_xgb, random_state=42)\n",
    "final_xgb.fit(X_train, y_train)\n",
    "\n",
    "# 📊 Predict probabilities on test set\n",
    "test_probs_xgb = final_xgb.predict_proba(test_df)[:, 1]\n",
    "\n",
    "# 🔎 Apply optimized classification threshold\n",
    "best_threshold = 0.3595320880199634\n",
    "test_preds = (test_probs_xgb >= best_threshold).astype(int)\n",
    "\n",
    "# 💾 Save predictions to submission file\n",
    "submission = pd.DataFrame({\n",
    "    0: test_probs_xgb,\n",
    "    1: test_preds\n",
    "})\n",
    "submission.to_csv(\"submission.txt\", sep=\" \", header=False, index=False)\n",
    "\n"
   ]
  },
  {
   "cell_type": "code",
   "execution_count": 255,
   "id": "90602524",
   "metadata": {},
   "outputs": [],
   "source": [
    "with open(\"submission_xgb.txt\", \"w\") as f:\n",
    "    for prob, pred in zip(test_probs_xgb, test_preds):\n",
    "        f.write(f\"{prob} {pred}\\n\")\n"
   ]
  },
  {
   "cell_type": "code",
   "execution_count": 256,
   "id": "3ce80a3c",
   "metadata": {},
   "outputs": [],
   "source": [
    "# Simple average ensemble\n",
    "blended_probs = 0.4 * test_probs_lgb + 0.6 * test_probs_xgb"
   ]
  },
  {
   "cell_type": "code",
   "execution_count": 257,
   "id": "366dd139",
   "metadata": {},
   "outputs": [],
   "source": [
    "with open(\"submission_ens.txt\", \"w\") as f:\n",
    "    for prob, pred in zip(blended_probs, test_preds):\n",
    "        f.write(f\"{prob} {pred}\\n\")\n"
   ]
  },
  {
   "cell_type": "code",
   "execution_count": 261,
   "id": "40420ea8",
   "metadata": {},
   "outputs": [
    {
     "name": "stdout",
     "output_type": "stream",
     "text": [
      "Indices where LGBM and XGBoost predictions mismatch: [11286 14461 15892 16898 17488]\n"
     ]
    }
   ],
   "source": [
    "# check if 0 and 1 in lgb and xgb predictions match\n",
    "lgb_preds = (test_probs_lgb >= best_threshold).astype(int)\n",
    "xgb_preds = (test_probs_xgb >= best_threshold).astype(int)\n",
    "# show when they don't match\n",
    "mismatch_indices = np.where(lgb_preds != xgb_preds)[0]\n",
    "print(\"Indices where LGBM and XGBoost predictions mismatch:\", mismatch_indices)"
   ]
  }
 ],
 "metadata": {
  "kernelspec": {
   "display_name": ".venv",
   "language": "python",
   "name": "python3"
  },
  "language_info": {
   "codemirror_mode": {
    "name": "ipython",
    "version": 3
   },
   "file_extension": ".py",
   "mimetype": "text/x-python",
   "name": "python",
   "nbconvert_exporter": "python",
   "pygments_lexer": "ipython3",
   "version": "3.11.9"
  }
 },
 "nbformat": 4,
 "nbformat_minor": 5
}
