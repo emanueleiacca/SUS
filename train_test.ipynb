{
 "cells": [
  {
   "cell_type": "code",
   "execution_count": 1,
   "id": "a5728a0a",
   "metadata": {},
   "outputs": [],
   "source": [
    "import pandas as pd\n",
    "pd.set_option('display.float_format', lambda x: '%.4f' % x)\n",
    "import matplotlib.pyplot as plt\n",
    "import seaborn as sns"
   ]
  },
  {
   "cell_type": "code",
   "execution_count": 2,
   "id": "1ff38e87",
   "metadata": {},
   "outputs": [],
   "source": [
    "train_df = pd.read_csv(\"Dataset/train.csv\", sep=\" \", engine='python')\n",
    "test_df = pd.read_csv(\"Dataset/test.csv\", sep=\" \", engine='python')"
   ]
  },
  {
   "cell_type": "code",
   "execution_count": null,
   "id": "901104ea",
   "metadata": {},
   "outputs": [
    {
     "name": "stdout",
     "output_type": "stream",
     "text": [
      "🧾 Total train IDs: 18844\n",
      "🧾 Total test IDs: 15183\n",
      "✅ Shared IDs (train ∩ test): 13927\n",
      "🆕 New test IDs (not in train): 1256\n"
     ]
    }
   ],
   "source": [
    "test_df.columns = train_df.columns.drop('Is Laundering')  # use same column names except label\n",
    "\n",
    "# Unique From and To IDs\n",
    "from_train = set(train_df['From Account'])\n",
    "to_train = set(train_df['To Account'])\n",
    "all_train_ids = from_train.union(to_train)\n",
    "\n",
    "from_test = set(test_df['From Account'])\n",
    "to_test = set(test_df['To Account'])\n",
    "all_test_ids = from_test.union(to_test)\n",
    "\n",
    "# Shared vs New\n",
    "shared_ids = all_train_ids.intersection(all_test_ids)\n",
    "new_test_ids = all_test_ids - all_train_ids\n",
    "\n",
    "print(f\"Total train IDs: {len(all_train_ids)}\")\n",
    "print(f\"Total test IDs: {len(all_test_ids)}\")\n",
    "print(f\"Shared IDs (train ∩ test): {len(shared_ids)}\")\n",
    "print(f\"New test IDs (not in train): {len(new_test_ids)}\")"
   ]
  },
  {
   "cell_type": "code",
   "execution_count": null,
   "id": "c7354822",
   "metadata": {},
   "outputs": [
    {
     "name": "stdout",
     "output_type": "stream",
     "text": [
      "Number of unique nodes (from + to): 18844\n"
     ]
    }
   ],
   "source": [
    "unique_nodes = pd.unique(pd.concat([train_df[\"From Account\"], train_df[\"\"]]))\n",
    "num_unique_nodes = len(unique_nodes)\n",
    "\n",
    "print(\"Number of unique nodes (from + to):\", num_unique_nodes)\n"
   ]
  },
  {
   "cell_type": "code",
   "execution_count": 8,
   "id": "c5d58d74",
   "metadata": {},
   "outputs": [
    {
     "name": "stdout",
     "output_type": "stream",
     "text": [
      "Number of unique edges (From+To combinations): 54752\n"
     ]
    }
   ],
   "source": [
    "# Create the unique key as From_Account + To_Account\n",
    "train_df[\"edge_key\"] = train_df[\"From Account\"].astype(str) + train_df[\"To Account\"].astype(str)\n",
    "\n",
    "# Count unique edge keys\n",
    "num_unique_keys = train_df[\"edge_key\"].nunique()\n",
    "\n",
    "print(\"Number of unique edges (From+To combinations):\", num_unique_keys)\n"
   ]
  }
 ],
 "metadata": {
  "kernelspec": {
   "display_name": ".venv",
   "language": "python",
   "name": "python3"
  },
  "language_info": {
   "codemirror_mode": {
    "name": "ipython",
    "version": 3
   },
   "file_extension": ".py",
   "mimetype": "text/x-python",
   "name": "python",
   "nbconvert_exporter": "python",
   "pygments_lexer": "ipython3",
   "version": "3.11.9"
  }
 },
 "nbformat": 4,
 "nbformat_minor": 5
}
